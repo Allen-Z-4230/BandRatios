{
 "cells": [
  {
   "cell_type": "markdown",
   "metadata": {},
   "source": [
    "This notebook is intented to create and explore different ratio calulations. Resulting processes/functions will be copied to ./dat/"
   ]
  },
  {
   "cell_type": "code",
   "execution_count": 1,
   "metadata": {},
   "outputs": [],
   "source": [
    "# Set matplotlib for plotting in the notebook\n",
    "%matplotlib inline\n",
    "import matplotlib.pyplot as plt\n",
    "\n",
    "from fooof import FOOOF\n",
    "from fooof import FOOOFGroup\n",
    "import numpy as np\n",
    "from utils.ratios import *\n",
    "\n",
    "from fooof.utils import trim_spectrum\n",
    "# Import some utilities for synthesizing some test data\n",
    "from fooof.synth import gen_group_power_spectra, param_sampler, gen_power_spectrum"
   ]
  },
  {
   "cell_type": "markdown",
   "metadata": {},
   "source": [
    "## Simulate Power Spectra"
   ]
  },
  {
   "cell_type": "code",
   "execution_count": 2,
   "metadata": {},
   "outputs": [],
   "source": [
    "#Creates a single adhd simulated spectrum\n",
    "# Alpha peaks on lower park of band to potentially bleed over to theta band\n",
    "\n",
    "def gen_treatment_sample():\n",
    "    sample = []\n",
    "    \n",
    "    sample.append(np.random.uniform(4, 7)) #Theta freq\n",
    "    sample.append(np.random.uniform(.35,.75)) #Theta Amp\n",
    "    sample.append(np.random.uniform(.25,1.05))#Theta SD\n",
    "    \n",
    "    sample.append(np.random.uniform(8, 10)) #slow Alpha freq\n",
    "    sample.append(np.random.uniform(.25,.55)) #Alpha Amp\n",
    "    sample.append(np.random.uniform(.25,1.05))#Alpha SD\n",
    "    \n",
    "    sample.append(np.random.uniform(18, 25)) #Beta freq\n",
    "    sample.append(np.random.uniform(.4,.75)) #Beta Amp\n",
    "    sample.append(np.random.uniform(.25,1.05))#Beta SD\n",
    "    \n",
    "    \n",
    "    return sample"
   ]
  },
  {
   "cell_type": "code",
   "execution_count": 3,
   "metadata": {},
   "outputs": [],
   "source": [
    "#Creats a single control simulated spectrum (Theta, slow peak alpha, beta)\n",
    "def gen_control_sample():\n",
    "    sample = []\n",
    "    \n",
    "    sample.append(np.random.uniform(4, 7)) #Theta freq\n",
    "    sample.append(np.random.uniform(.35,.75)) #Theta Amp\n",
    "    sample.append(np.random.uniform(.25,1.05))#Theta SD\n",
    "    \n",
    "    sample.append(np.random.uniform(8, 12)) #slow alpha freq\n",
    "    sample.append(np.random.uniform(.25,.55)) #Alpha Amp\n",
    "    sample.append(np.random.uniform(.25,1.05))#Alpha SD\n",
    "    \n",
    "    sample.append(np.random.uniform(18, 25)) #Beta freq\n",
    "    sample.append(np.random.uniform(.4,.75)) #Beta Amp\n",
    "    sample.append(np.random.uniform(.25,1.05))#Beta SD\n",
    "    \n",
    "    \n",
    "    return sample"
   ]
  },
  {
   "cell_type": "code",
   "execution_count": 4,
   "metadata": {},
   "outputs": [],
   "source": [
    "#Gen group of ADHD PSDs (slow alpha peak freq) + control PSD\n",
    "bg = [0,1]\n",
    "\n",
    "#100 trails for each adhd and control sim\n",
    "treatmentFreq, treatmentPower, _ = gen_group_power_spectra(100, [1,50], bg,gen_treatment_sample(), nlvs=np.random.uniform(.005,.02)) \n",
    "contFreq, contPower, _ = gen_group_power_spectra(100, [1,50], bg, gen_control_sample(), nlvs=np.random.uniform(.005,.02))\n",
    "\n",
    "treatment = FOOOFGroup(peak_width_limits=[1,8], min_peak_amplitude=0.05, max_n_peaks=3)\n",
    "control = FOOOFGroup(peak_width_limits=[1,8], min_peak_amplitude=0.05, max_n_peaks=3)"
   ]
  },
  {
   "cell_type": "code",
   "execution_count": 5,
   "metadata": {},
   "outputs": [],
   "source": [
    "treatment.fit(treatmentFreq,treatmentPower)\n",
    "control.fit(contFreq,contPower)"
   ]
  },
  {
   "cell_type": "code",
   "execution_count": 6,
   "metadata": {
    "scrolled": true
   },
   "outputs": [],
   "source": [
    "#Gather peak info for both PSDs\n",
    "treatment_peaks = treatment.get_all_data('peak_params')\n",
    "control_peaks = control.get_all_data('peak_params')"
   ]
  },
  {
   "cell_type": "markdown",
   "metadata": {},
   "source": [
    "## Calculate theta/beta ratios \n",
    "#### difference in power of central frequency of high and low frequency peak only"
   ]
  },
  {
   "cell_type": "code",
   "execution_count": 7,
   "metadata": {},
   "outputs": [],
   "source": [
    "# treatment (Slow alpha peak)\n",
    "treatmentRatioList = []\n",
    "for i in range(len(treatment_peaks)-2):\n",
    "    treatmentRatioList.append(treatment_peaks[i][1]/treatment_peaks[i+2][1])\n",
    "    i+=2"
   ]
  },
  {
   "cell_type": "code",
   "execution_count": 8,
   "metadata": {},
   "outputs": [
    {
     "data": {
      "text/plain": [
       "1.5634799649328617"
      ]
     },
     "execution_count": 8,
     "metadata": {},
     "output_type": "execute_result"
    }
   ],
   "source": [
    "#Sanity Check\n",
    "treatmentRatioList[0]"
   ]
  },
  {
   "cell_type": "code",
   "execution_count": 9,
   "metadata": {},
   "outputs": [],
   "source": [
    "# control\n",
    "controlRatioList = []\n",
    "for i in range(len(control_peaks)-2):\n",
    "    controlRatioList.append(control_peaks[i][1]/control_peaks[i+2][1])\n",
    "    i+=2"
   ]
  },
  {
   "cell_type": "code",
   "execution_count": 10,
   "metadata": {},
   "outputs": [
    {
     "data": {
      "text/plain": [
       "0.645386665969139"
      ]
     },
     "execution_count": 10,
     "metadata": {},
     "output_type": "execute_result"
    }
   ],
   "source": [
    "#Sanity Check\n",
    "controlRatioList[0]"
   ]
  },
  {
   "cell_type": "code",
   "execution_count": 11,
   "metadata": {},
   "outputs": [
    {
     "data": {
      "text/plain": [
       "0.012782942241229556"
      ]
     },
     "execution_count": 11,
     "metadata": {},
     "output_type": "execute_result"
    }
   ],
   "source": [
    "#Difference in mean ratios of treatment sim and control sim\n",
    "abs(np.mean(treatmentRatioList)-np.mean(controlRatioList))"
   ]
  },
  {
   "cell_type": "markdown",
   "metadata": {},
   "source": [
    "### Difference in - average low band power / average high band power (bands set)"
   ]
  },
  {
   "cell_type": "code",
   "execution_count": 12,
   "metadata": {},
   "outputs": [
    {
     "name": "stdout",
     "output_type": "stream",
     "text": [
      "treatment ratio:  7.41986245923321\n",
      "control ratio:  4.529306734093322\n"
     ]
    }
   ],
   "source": [
    "treatment_ratio = calc_theta_beta_ratio(treatmentFreq,treatmentPower)\n",
    "control_ratio = calc_theta_beta_ratio(contFreq,contPower)\n",
    "print(\"treatment ratio: \",treatment_ratio)\n",
    "print(\"control ratio: \", control_ratio)"
   ]
  },
  {
   "cell_type": "code",
   "execution_count": 13,
   "metadata": {},
   "outputs": [
    {
     "data": {
      "text/plain": [
       "2.8905557251398877"
      ]
     },
     "execution_count": 13,
     "metadata": {},
     "output_type": "execute_result"
    }
   ],
   "source": [
    "treatment_ratio - control_ratio"
   ]
  },
  {
   "cell_type": "markdown",
   "metadata": {},
   "source": [
    "### Difference in - sum(powers in band)/bandwidth ratio"
   ]
  },
  {
   "cell_type": "code",
   "execution_count": 14,
   "metadata": {},
   "outputs": [],
   "source": [
    "def calc_band_ratio_sum(freqs, psd, low_band_range, high_band_range):\n",
    "    \n",
    "    # Extract frequencies within each specified band\n",
    "    _, low_band_powers = trim_spectrum(freqs, psd, low_band_range)\n",
    "    _, high_band_powers = trim_spectrum(freqs, psd, high_band_range)\n",
    "   \n",
    "    # Divides each sum of each power spectrum by bandwidth.\n",
    "    low_sum = sum(low_band_powers) / len(low_band_range) \n",
    "    high_sum = sum(high_band_powers) / len(low_band_range)\n",
    "    \n",
    "    # Average divided sums and find ratio\n",
    "    return np.mean(low_sum)/np.mean(high_sum)\n",
    "    "
   ]
  },
  {
   "cell_type": "code",
   "execution_count": 15,
   "metadata": {},
   "outputs": [
    {
     "data": {
      "text/plain": [
       "6.078205309211364"
      ]
     },
     "execution_count": 15,
     "metadata": {},
     "output_type": "execute_result"
    }
   ],
   "source": [
    "calc_band_ratio_sum(treatmentFreq,treatmentPower,[4,8],[15,30])\n"
   ]
  },
  {
   "cell_type": "code",
   "execution_count": 19,
   "metadata": {},
   "outputs": [],
   "source": [
    "treatment?"
   ]
  },
  {
   "cell_type": "code",
   "execution_count": 33,
   "metadata": {},
   "outputs": [
    {
     "data": {
      "text/plain": [
       "array([[ 1.18668239e-02, -1.92804379e-01, -2.94855073e-01, ...,\n",
       "        -1.67540823e+00, -1.68813444e+00, -1.70021281e+00],\n",
       "       [ 2.78225947e-03, -1.73782530e-01, -3.11306558e-01, ...,\n",
       "        -1.68598146e+00, -1.69649197e+00, -1.70474704e+00],\n",
       "       [-1.77019066e-03, -1.74333976e-01, -2.85147135e-01, ...,\n",
       "        -1.68678979e+00, -1.68997816e+00, -1.66527332e+00],\n",
       "       ...,\n",
       "       [ 4.10910998e-04, -1.80590796e-01, -2.87863762e-01, ...,\n",
       "        -1.68988648e+00, -1.69780078e+00, -1.69523747e+00],\n",
       "       [-3.42326951e-03, -1.76366884e-01, -3.05790656e-01, ...,\n",
       "        -1.69816112e+00, -1.70775548e+00, -1.71037705e+00],\n",
       "       [ 9.45671672e-03, -1.80745467e-01, -3.11506466e-01, ...,\n",
       "        -1.67652821e+00, -1.69917847e+00, -1.67789527e+00]])"
      ]
     },
     "execution_count": 33,
     "metadata": {},
     "output_type": "execute_result"
    }
   ],
   "source": [
    "treatment.power_spectra"
   ]
  },
  {
   "cell_type": "code",
   "execution_count": 34,
   "metadata": {},
   "outputs": [],
   "source": [
    "def calc_group_band_ratio(fg,low_band_range, high_band_range):\n",
    "    \"\"\"Calculate average power in band ratio \n",
    "\n",
    "    ----------\n",
    "    fg : fooof group object used to find ratio\n",
    "    low_band_range : list of [float, float]\n",
    "        Band definition for the lower band.\n",
    "    high_band_range : list of [float, float]\n",
    "        Band definition for the upper band.\n",
    "\n",
    "    Outputs\n",
    "    -------\n",
    "    ratios : list of floats\n",
    "        Oscillation power ratios.\n",
    "    \"\"\"\n",
    "    size = len(fg.get_results())\n",
    "    res = []\n",
    "    for i in range(size):\n",
    "        res.append(calc_band_ratio(fg.freqs,fg.power_spectra[i], low_band_range, high_band_range))\n",
    "    return res\n",
    "\n",
    "def calc_group_cf_power_ratio(fg, low_band_range, high_band_range):\n",
    "    \"\"\"Calculate band ratio by finding the power of high and low central frequency\n",
    "\n",
    "    ----------\n",
    "    fg : fooof group object used to find ratio\n",
    "    low_band_range : list of [float, float]\n",
    "        Band definition for the lower band.\n",
    "    high_band_range : list of [float, float]\n",
    "        Band definition for the upper band.\n",
    "\n",
    "    Outputs\n",
    "    -------\n",
    "    ratios : floats\n",
    "        Oscillation power ratio.\n",
    "    \"\"\"\n",
    "    size = len(fg.get_results())\n",
    "    res = []\n",
    "    for i in range(size):\n",
    "        res.append(calc_cf_power_ratio(fg.get_fooof(i), low_band_range, high_band_range))\n",
    "    return res\n",
    "def calc_group_density_ratio(fg, low_band_range, high_band_range):\n",
    "    \"\"\"Calculate band ratio by summing power power in bands and dividing by bandwidth\n",
    "\n",
    "    ----------\n",
    "    fg : fooof object used to find ratio\n",
    "    low_band_range : list of [float, float]\n",
    "        Band definition for the lower band.\n",
    "    high_band_range : list of [float, float]\n",
    "        Band definition for the upper band.\n",
    "\n",
    "    Outputs\n",
    "    -------\n",
    "    ratios : floats\n",
    "        Oscillation power ratio.\n",
    "    \"\"\"\n",
    "    size = len(fg.get_results())\n",
    "    res = []\n",
    "    for i in range(size):\n",
    "        res.append(calc_density_ratio(fg.freqs,fg.power_spectra[i], low_band_range, high_band_range))\n",
    "    return res"
   ]
  },
  {
   "cell_type": "code",
   "execution_count": 37,
   "metadata": {},
   "outputs": [
    {
     "data": {
      "text/plain": [
       "[0.09710265867839495,\n",
       " 0.0971835805430876,\n",
       " 0.09818214102122791,\n",
       " 0.09758830914464968,\n",
       " 0.09685531095421576,\n",
       " 0.09703499273110072,\n",
       " 0.09648615972620006,\n",
       " 0.09736090312125935,\n",
       " 0.09679579558653365,\n",
       " 0.09737150182924464,\n",
       " 0.09912909358242811,\n",
       " 0.09665327215876127,\n",
       " 0.09551610863416056,\n",
       " 0.0969058048200659,\n",
       " 0.09652846397895164,\n",
       " 0.09775790770992052,\n",
       " 0.0971428158044019,\n",
       " 0.09745366934760862,\n",
       " 0.09724864477705401,\n",
       " 0.0971838649943476,\n",
       " 0.09778689783083863,\n",
       " 0.0969596810567379,\n",
       " 0.09808100508651228,\n",
       " 0.0972999413771641,\n",
       " 0.09715496567396201,\n",
       " 0.0968008096408031,\n",
       " 0.09683201953989978,\n",
       " 0.09751517758884554,\n",
       " 0.09858235304602338,\n",
       " 0.09709138591794439,\n",
       " 0.09649006753045172,\n",
       " 0.09794180058175786,\n",
       " 0.09714568685540298,\n",
       " 0.09653451891600907,\n",
       " 0.09701032910720629,\n",
       " 0.09647073351180621,\n",
       " 0.09697071257429042,\n",
       " 0.0967985561038022,\n",
       " 0.09742532474538508,\n",
       " 0.09703484788621737,\n",
       " 0.09702166443337489,\n",
       " 0.09738762770356885,\n",
       " 0.09604638209282426,\n",
       " 0.0986771762916046,\n",
       " 0.09740795334067451,\n",
       " 0.09719137761163979,\n",
       " 0.09749795089960746,\n",
       " 0.09732220455362525,\n",
       " 0.09683566926384919,\n",
       " 0.09749942037765932,\n",
       " 0.09594349478841795,\n",
       " 0.09709058021806033,\n",
       " 0.09698316660137528,\n",
       " 0.09649210233330503,\n",
       " 0.09739294258558473,\n",
       " 0.09634071630184753,\n",
       " 0.09853260744384576,\n",
       " 0.0974096741609691,\n",
       " 0.09572217346081445,\n",
       " 0.09591397670799297,\n",
       " 0.09747003762402802,\n",
       " 0.09582941017724199,\n",
       " 0.09752443956708362,\n",
       " 0.09658441306115075,\n",
       " 0.09685141402081328,\n",
       " 0.09681208338588014,\n",
       " 0.09610108178965916,\n",
       " 0.09666247123580982,\n",
       " 0.09647736027805881,\n",
       " 0.09748129525262546,\n",
       " 0.09531930712000576,\n",
       " 0.09821652454564145,\n",
       " 0.09788419400681343,\n",
       " 0.0972175589404797,\n",
       " 0.09685145974657103,\n",
       " 0.09664598991880453,\n",
       " 0.09696802987622849,\n",
       " 0.09681589175963984,\n",
       " 0.09675759804945179,\n",
       " 0.0968646991985762,\n",
       " 0.09791925655471433,\n",
       " 0.0981074072298196,\n",
       " 0.0970325619828657,\n",
       " 0.09783846985730686,\n",
       " 0.09697893875286516,\n",
       " 0.09748972133762601,\n",
       " 0.09763997504925526,\n",
       " 0.09645477085782458,\n",
       " 0.09653535357572672,\n",
       " 0.09707516309484396,\n",
       " 0.09713718643049676,\n",
       " 0.09840749691379866,\n",
       " 0.09696601501788114,\n",
       " 0.09686035172688212,\n",
       " 0.09661078489950291,\n",
       " 0.09752963278967124,\n",
       " 0.09827203576400771,\n",
       " 0.09656591663043827,\n",
       " 0.09737729752867148,\n",
       " 0.0968230563972797]"
      ]
     },
     "execution_count": 37,
     "metadata": {},
     "output_type": "execute_result"
    }
   ],
   "source": [
    "calc_group_density_ratio(treatment,[4,8],[15,30])"
   ]
  },
  {
   "cell_type": "code",
   "execution_count": null,
   "metadata": {},
   "outputs": [],
   "source": []
  }
 ],
 "metadata": {
  "kernelspec": {
   "display_name": "Python 3",
   "language": "python",
   "name": "python3"
  },
  "language_info": {
   "codemirror_mode": {
    "name": "ipython",
    "version": 3
   },
   "file_extension": ".py",
   "mimetype": "text/x-python",
   "name": "python",
   "nbconvert_exporter": "python",
   "pygments_lexer": "ipython3",
   "version": "3.6.5"
  }
 },
 "nbformat": 4,
 "nbformat_minor": 2
}
