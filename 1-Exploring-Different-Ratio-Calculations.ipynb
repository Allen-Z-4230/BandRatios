{
 "cells": [
  {
   "cell_type": "markdown",
   "metadata": {},
   "source": [
    "This notebook is intented to create and explore different ratio calulations. Resulting processes/functions will be copied to ./dat/"
   ]
  },
  {
   "cell_type": "code",
   "execution_count": 8,
   "metadata": {},
   "outputs": [],
   "source": [
    "# Set matplotlib for plotting in the notebook\n",
    "%matplotlib inline\n",
    "import matplotlib.pyplot as plt\n",
    "\n",
    "from fooof import FOOOF\n",
    "from fooof import FOOOFGroup\n",
    "import numpy as np\n",
    "from utils.ratios import *\n",
    "from fooof.utils import trim_spectrum\n",
    "# Import some utilities for synthesizing some test data\n",
    "from fooof.synth import gen_group_power_spectra, param_sampler, gen_power_spectrum"
   ]
  },
  {
   "cell_type": "markdown",
   "metadata": {},
   "source": [
    "## Simulate Power Spectra"
   ]
  },
  {
   "cell_type": "code",
   "execution_count": 9,
   "metadata": {},
   "outputs": [],
   "source": [
    "#Creates a single adhd simulated spectrum\n",
    "# Alpha peaks on lower park of band to potentially bleed over to theta band\n",
    "\n",
    "def gen_treatment_sample():\n",
    "    sample = []\n",
    "    \n",
    "    sample.append(np.random.uniform(4, 7)) #Theta freq\n",
    "    sample.append(np.random.uniform(.35,.75)) #Theta Amp\n",
    "    sample.append(np.random.uniform(.25,1.05))#Theta SD\n",
    "    \n",
    "    sample.append(np.random.uniform(8, 10)) #slow Alpha freq\n",
    "    sample.append(np.random.uniform(.25,.55)) #Alpha Amp\n",
    "    sample.append(np.random.uniform(.25,1.05))#Alpha SD\n",
    "    \n",
    "    sample.append(np.random.uniform(18, 25)) #Beta freq\n",
    "    sample.append(np.random.uniform(.4,.75)) #Beta Amp\n",
    "    sample.append(np.random.uniform(.25,1.05))#Beta SD\n",
    "    \n",
    "    \n",
    "    return sample"
   ]
  },
  {
   "cell_type": "code",
   "execution_count": 10,
   "metadata": {},
   "outputs": [],
   "source": [
    "#Creats a single control simulated spectrum (Theta, slow peak alpha, beta)\n",
    "def gen_control_sample():\n",
    "    sample = []\n",
    "    \n",
    "    sample.append(np.random.uniform(4, 7)) #Theta freq\n",
    "    sample.append(np.random.uniform(.35,.75)) #Theta Amp\n",
    "    sample.append(np.random.uniform(.25,1.05))#Theta SD\n",
    "    \n",
    "    sample.append(np.random.uniform(8, 12)) #slow alpha freq\n",
    "    sample.append(np.random.uniform(.25,.55)) #Alpha Amp\n",
    "    sample.append(np.random.uniform(.25,1.05))#Alpha SD\n",
    "    \n",
    "    sample.append(np.random.uniform(18, 25)) #Beta freq\n",
    "    sample.append(np.random.uniform(.4,.75)) #Beta Amp\n",
    "    sample.append(np.random.uniform(.25,1.05))#Beta SD\n",
    "    \n",
    "    \n",
    "    return sample"
   ]
  },
  {
   "cell_type": "code",
   "execution_count": 11,
   "metadata": {},
   "outputs": [],
   "source": [
    "#Gen group of ADHD PSDs (slow alpha peak freq) + control PSD\n",
    "bg = [0,1]\n",
    "\n",
    "#100 trails for each adhd and control sim\n",
    "treatmentFreq, treatmentPower, _ = gen_group_power_spectra(100, [1,50], bg,gen_treatment_sample(), nlvs=np.random.uniform(.005,.02)) \n",
    "contFreq, contPower, _ = gen_group_power_spectra(100, [1,50], bg, gen_control_sample(), nlvs=np.random.uniform(.005,.02))\n",
    "\n",
    "treatment = FOOOFGroup(peak_width_limits=[1,8], min_peak_amplitude=0.05, max_n_peaks=3)\n",
    "control = FOOOFGroup(peak_width_limits=[1,8], min_peak_amplitude=0.05, max_n_peaks=3)"
   ]
  },
  {
   "cell_type": "code",
   "execution_count": 12,
   "metadata": {},
   "outputs": [],
   "source": [
    "treatment.fit(treatmentFreq,treatmentPower)\n",
    "control.fit(contFreq,contPower)"
   ]
  },
  {
   "cell_type": "code",
   "execution_count": 13,
   "metadata": {
    "scrolled": true
   },
   "outputs": [],
   "source": [
    "#Gather peak info for both PSDs\n",
    "treatment_peaks = treatment.get_all_data('peak_params')\n",
    "control_peaks = control.get_all_data('peak_params')"
   ]
  },
  {
   "cell_type": "markdown",
   "metadata": {},
   "source": [
    "## Calculate theta/beta ratios \n",
    "#### difference in power of central frequency of high and low frequency peak only"
   ]
  },
  {
   "cell_type": "code",
   "execution_count": 7,
   "metadata": {},
   "outputs": [],
   "source": [
    "# treatment (Slow alpha peak)\n",
    "treatmentRatioList = []\n",
    "for i in range(len(treatment_peaks)-2):\n",
    "    treatmentRatioList.append(treatment_peaks[i][1]/treatment_peaks[i+2][1])\n",
    "    i+=2"
   ]
  },
  {
   "cell_type": "code",
   "execution_count": 15,
   "metadata": {},
   "outputs": [
    {
     "data": {
      "text/plain": [
       "0.9695096373745006"
      ]
     },
     "execution_count": 15,
     "metadata": {},
     "output_type": "execute_result"
    }
   ],
   "source": [
    "#Sanity Check\n",
    "treatmentRatioList[0]"
   ]
  },
  {
   "cell_type": "code",
   "execution_count": 16,
   "metadata": {},
   "outputs": [],
   "source": [
    "# control\n",
    "controlRatioList = []\n",
    "for i in range(len(control_peaks)-2):\n",
    "    controlRatioList.append(control_peaks[i][1]/control_peaks[i+2][1])\n",
    "    i+=2"
   ]
  },
  {
   "cell_type": "code",
   "execution_count": 17,
   "metadata": {},
   "outputs": [
    {
     "data": {
      "text/plain": [
       "0.6144016229112761"
      ]
     },
     "execution_count": 17,
     "metadata": {},
     "output_type": "execute_result"
    }
   ],
   "source": [
    "#Sanity Check\n",
    "controlRatioList[0]"
   ]
  },
  {
   "cell_type": "code",
   "execution_count": 12,
   "metadata": {},
   "outputs": [
    {
     "data": {
      "text/plain": [
       "0.00568426914238751"
      ]
     },
     "execution_count": 12,
     "metadata": {},
     "output_type": "execute_result"
    }
   ],
   "source": [
    "#Difference in mean ratios of treatment sim and control sim\n",
    "abs(np.mean(treatmentRatioList)-np.mean(controlRatioList))"
   ]
  },
  {
   "cell_type": "markdown",
   "metadata": {},
   "source": [
    "### Difference in - average low band power / average high band power (bands set)"
   ]
  },
  {
   "cell_type": "code",
   "execution_count": 20,
   "metadata": {},
   "outputs": [
    {
     "name": "stdout",
     "output_type": "stream",
     "text": [
      "treatment ratio:  6.58077589748655\n",
      "control ratio:  4.4580031201437045\n"
     ]
    }
   ],
   "source": [
    "treatment_ratio = calc_theta_beta_ratio(treatmentFreq,treatmentPower)\n",
    "control_ratio = calc_theta_beta_ratio(contFreq,contPower)\n",
    "print(\"treatment ratio: \",treatment_ratio)\n",
    "print(\"control ratio: \", control_ratio)"
   ]
  },
  {
   "cell_type": "code",
   "execution_count": 19,
   "metadata": {},
   "outputs": [
    {
     "data": {
      "text/plain": [
       "2.1227727773428455"
      ]
     },
     "execution_count": 19,
     "metadata": {},
     "output_type": "execute_result"
    }
   ],
   "source": [
    "treatment_ratio - control_ratio"
   ]
  },
  {
   "cell_type": "markdown",
   "metadata": {},
   "source": [
    "### Difference in - sum(powers in band)/bandwidth ratio"
   ]
  },
  {
   "cell_type": "code",
   "execution_count": 66,
   "metadata": {},
   "outputs": [],
   "source": [
    "def calc_band_ratio_sum(freqs, psd, low_band_range, high_band_range):\n",
    "    \n",
    "    # Extract frequencies within each specified band\n",
    "    _, low_band_powers = trim_spectrum(freqs, psd, low_band_range)\n",
    "    _, high_band_powers = trim_spectrum(freqs, psd, high_band_range)\n",
    "   \n",
    "    # Divides each sum of each power spectrum by bandwidth.\n",
    "    low_sum = sum(low_band_powers) / len(low_band_range) \n",
    "    high_sum = sum(high_band_powers) / len(low_band_range)\n",
    "    \n",
    "    # Average divided sums and find ratio\n",
    "    return np.mean(low_sum)/np.mean(high_sum)\n",
    "    "
   ]
  },
  {
   "cell_type": "code",
   "execution_count": 67,
   "metadata": {},
   "outputs": [
    {
     "data": {
      "text/plain": [
       "6.580775897486551"
      ]
     },
     "execution_count": 67,
     "metadata": {},
     "output_type": "execute_result"
    }
   ],
   "source": [
    "calc_band_ratio_sum(treatmentFreq,treatmentPower,[4,8],[15,30])\n"
   ]
  }
 ],
 "metadata": {
  "kernelspec": {
   "display_name": "Python 3",
   "language": "python",
   "name": "python3"
  },
  "language_info": {
   "codemirror_mode": {
    "name": "ipython",
    "version": 3
   },
   "file_extension": ".py",
   "mimetype": "text/x-python",
   "name": "python",
   "nbconvert_exporter": "python",
   "pygments_lexer": "ipython3",
   "version": "3.6.5"
  }
 },
 "nbformat": 4,
 "nbformat_minor": 2
}
