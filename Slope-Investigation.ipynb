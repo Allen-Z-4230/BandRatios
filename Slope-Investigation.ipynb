{
 "cells": [
  {
   "cell_type": "markdown",
   "metadata": {},
   "source": [
    "## Purpose\n",
    "\n",
    "This notebook will use simulation to answer the question \"How does slope affect ratio measures?\""
   ]
  },
  {
   "cell_type": "code",
   "execution_count": 189,
   "metadata": {},
   "outputs": [],
   "source": [
    "# Set matplotlib for plotting in the notebook\n",
    "%matplotlib inline\n",
    "import matplotlib.pyplot as plt\n",
    "import pandas as pd\n",
    "\n",
    "from fooof import FOOOF\n",
    "from fooof import FOOOFGroup\n",
    "from fooof.analysis import *\n",
    "import numpy as np\n",
    "from utils.ratios import *\n",
    "from fooof.utils import trim_spectrum\n",
    "# Import some utilities for synthesizing some test data\n",
    "from fooof.synth import gen_group_power_spectra, param_sampler, gen_power_spectrum\n",
    "slopes = [] # global scope - will be reset during each function call to not make things messy"
   ]
  },
  {
   "cell_type": "code",
   "execution_count": 190,
   "metadata": {},
   "outputs": [],
   "source": [
    "# Creates a single simulated spectrum (Theta, alpha, beta)\n",
    "def gen_sample():\n",
    "    sample = []\n",
    "    \n",
    "    sample.append(np.random.uniform(4, 7)) #Theta freq\n",
    "    sample.append(np.random.uniform(.35,.75)) #Theta Amp\n",
    "    sample.append(np.random.uniform(.25,1.05))#Theta SD\n",
    "    \n",
    "    sample.append(np.random.uniform(8, 12)) #slow alpha freq\n",
    "    sample.append(np.random.uniform(.25,.55)) #Alpha Amp\n",
    "    sample.append(np.random.uniform(.25,1.05))#Alpha SD\n",
    "    \n",
    "    sample.append(np.random.uniform(18, 25)) #Beta freq\n",
    "    sample.append(np.random.uniform(.4,.75)) #Beta Amp\n",
    "    sample.append(np.random.uniform(.25,1.05))#Beta SD\n",
    "    \n",
    "    return sample"
   ]
  },
  {
   "cell_type": "code",
   "execution_count": 191,
   "metadata": {},
   "outputs": [],
   "source": [
    "# Creates a single control simulated spectrum with no oscillations\n",
    "# ~NOTE FOR TOM~ So I can't use [0,0,0] because fooof gives me a divide by 0 error - is this a good way to get a null sample?\n",
    "def gen_null_sample():\n",
    "    \n",
    "    return [.0000001,.0000001,.0000001]"
   ]
  },
  {
   "cell_type": "markdown",
   "metadata": {},
   "source": [
    "The procedure is to make simulated data with and without oscillations, save that data, and analyze it.\n",
    "\n",
    "The following functions generate group power spectra for cases with and without oscillations. 100 simulations are created for each slope value from .25 to end_slope"
   ]
  },
  {
   "cell_type": "code",
   "execution_count": 192,
   "metadata": {},
   "outputs": [],
   "source": [
    "#This function will gather ratio data from slope 0 to slope (argument)\n",
    "def sim_slope_data(end_slope):\n",
    "    slopes = [] #keeps track of slope - initialized in cell 1\n",
    "    res = []\n",
    "    i=1\n",
    "    while(i*.25 < end_slope):\n",
    "        slopes.append(i*.25)\n",
    "        bg = [0,i*.25]\n",
    "        \n",
    "        #100 trails for each treatment and control sim\n",
    "        freq, power, _ = gen_group_power_spectra(100, [1,50], bg,gen_sample(), nlvs=np.random.uniform(.005,.02))\n",
    "        fg = FOOOFGroup(peak_width_limits=[1,8], min_peak_amplitude=0.05, max_n_peaks=3)\n",
    "        fg.fit(freq, power)\n",
    "        \n",
    "        res.append(get_group_ratios(fg,[4,8],[15,30]))\n",
    "        i+=1\n",
    "    return res"
   ]
  },
  {
   "cell_type": "code",
   "execution_count": 193,
   "metadata": {},
   "outputs": [],
   "source": [
    "# This function will generate ratio data for psd's with no oscillation.\n",
    "def sim_null_data(end_slope):\n",
    "    res = []\n",
    "    i=1\n",
    "    while(i*.25 < end_slope):\n",
    "    \n",
    "        bg = [0,i*.25]\n",
    "        \n",
    "        #100 trails for each treatment and control sim\n",
    "        freq, power, _ = gen_group_power_spectra(100, [1,50], bg,gen_null_sample(), nlvs=np.random.uniform(.005,.02)) \n",
    "\n",
    "        fg = FOOOFGroup(peak_width_limits=[1,8], min_peak_amplitude=0.05, max_n_peaks=3)\n",
    "        \n",
    "        fg.fit(freq, power)\n",
    "        \n",
    "        res.append(get_group_ratios(fg,[4,8],[15,30]))\n",
    "        i+=1\n",
    "    return res\n",
    "    "
   ]
  },
  {
   "cell_type": "code",
   "execution_count": 213,
   "metadata": {},
   "outputs": [],
   "source": [
    "sims_data = sim_slope_data(3)\n",
    "nulls_data = sim_null_data(3)\n",
    "\n",
    "np.save('./dat/slope_data',sims_data)\n",
    "np.save('./dat/slope_data_no_osccilation',nulls_data)"
   ]
  },
  {
   "cell_type": "code",
   "execution_count": 214,
   "metadata": {},
   "outputs": [],
   "source": [
    "def average_of_sims(data):\n",
    "    res = []\n",
    "    \n",
    "    for i in range(len(data)):\n",
    "        method = []\n",
    "        for j in range(len(data[i])):\n",
    "            method.append(np.mean(data[i][j]))\n",
    "        res.append(method)\n",
    "\n",
    "    return res"
   ]
  },
  {
   "cell_type": "code",
   "execution_count": 215,
   "metadata": {},
   "outputs": [],
   "source": [
    "sim = average_of_sims(sim_data)\n",
    "null = average_of_sims(null_data)"
   ]
  },
  {
   "cell_type": "markdown",
   "metadata": {},
   "source": [
    "## Using Pandas"
   ]
  },
  {
   "cell_type": "code",
   "execution_count": 216,
   "metadata": {
    "scrolled": true
   },
   "outputs": [],
   "source": [
    "df_sim = pd.DataFrame(sim,columns=[\"average_power\",\"central_frequency\", \"power_density\" ])\n",
    "df_null = pd.DataFrame(null,columns=[\"average_power\",\"central_frequency\", \"power_density\" ])"
   ]
  },
  {
   "cell_type": "code",
   "execution_count": 200,
   "metadata": {},
   "outputs": [
    {
     "data": {
      "text/html": [
       "<div>\n",
       "<style scoped>\n",
       "    .dataframe tbody tr th:only-of-type {\n",
       "        vertical-align: middle;\n",
       "    }\n",
       "\n",
       "    .dataframe tbody tr th {\n",
       "        vertical-align: top;\n",
       "    }\n",
       "\n",
       "    .dataframe thead th {\n",
       "        text-align: right;\n",
       "    }\n",
       "</style>\n",
       "<table border=\"1\" class=\"dataframe\">\n",
       "  <thead>\n",
       "    <tr style=\"text-align: right;\">\n",
       "      <th></th>\n",
       "      <th>average_power</th>\n",
       "      <th>central_frequency</th>\n",
       "      <th>power_density</th>\n",
       "    </tr>\n",
       "  </thead>\n",
       "  <tbody>\n",
       "    <tr>\n",
       "      <th>0</th>\n",
       "      <td>-0.638081</td>\n",
       "      <td>1.373130</td>\n",
       "      <td>-0.185249</td>\n",
       "    </tr>\n",
       "    <tr>\n",
       "      <th>1</th>\n",
       "      <td>0.060927</td>\n",
       "      <td>0.919640</td>\n",
       "      <td>0.017688</td>\n",
       "    </tr>\n",
       "    <tr>\n",
       "      <th>2</th>\n",
       "      <td>0.530553</td>\n",
       "      <td>0.557963</td>\n",
       "      <td>0.154032</td>\n",
       "    </tr>\n",
       "    <tr>\n",
       "      <th>3</th>\n",
       "      <td>0.534662</td>\n",
       "      <td>0.642793</td>\n",
       "      <td>0.155225</td>\n",
       "    </tr>\n",
       "    <tr>\n",
       "      <th>4</th>\n",
       "      <td>0.439357</td>\n",
       "      <td>1.564072</td>\n",
       "      <td>0.127555</td>\n",
       "    </tr>\n",
       "    <tr>\n",
       "      <th>5</th>\n",
       "      <td>0.474496</td>\n",
       "      <td>1.471040</td>\n",
       "      <td>0.137757</td>\n",
       "    </tr>\n",
       "    <tr>\n",
       "      <th>6</th>\n",
       "      <td>0.517454</td>\n",
       "      <td>0.859973</td>\n",
       "      <td>0.150229</td>\n",
       "    </tr>\n",
       "    <tr>\n",
       "      <th>7</th>\n",
       "      <td>0.537551</td>\n",
       "      <td>0.792237</td>\n",
       "      <td>0.156063</td>\n",
       "    </tr>\n",
       "    <tr>\n",
       "      <th>8</th>\n",
       "      <td>0.520955</td>\n",
       "      <td>1.562591</td>\n",
       "      <td>0.151245</td>\n",
       "    </tr>\n",
       "    <tr>\n",
       "      <th>9</th>\n",
       "      <td>0.530711</td>\n",
       "      <td>1.088086</td>\n",
       "      <td>0.154077</td>\n",
       "    </tr>\n",
       "    <tr>\n",
       "      <th>10</th>\n",
       "      <td>0.503131</td>\n",
       "      <td>1.531818</td>\n",
       "      <td>0.146070</td>\n",
       "    </tr>\n",
       "  </tbody>\n",
       "</table>\n",
       "</div>"
      ],
      "text/plain": [
       "    average_power  central_frequency  power_density\n",
       "0       -0.638081           1.373130      -0.185249\n",
       "1        0.060927           0.919640       0.017688\n",
       "2        0.530553           0.557963       0.154032\n",
       "3        0.534662           0.642793       0.155225\n",
       "4        0.439357           1.564072       0.127555\n",
       "5        0.474496           1.471040       0.137757\n",
       "6        0.517454           0.859973       0.150229\n",
       "7        0.537551           0.792237       0.156063\n",
       "8        0.520955           1.562591       0.151245\n",
       "9        0.530711           1.088086       0.154077\n",
       "10       0.503131           1.531818       0.146070"
      ]
     },
     "execution_count": 200,
     "metadata": {},
     "output_type": "execute_result"
    }
   ],
   "source": [
    "df_sim"
   ]
  },
  {
   "cell_type": "code",
   "execution_count": 201,
   "metadata": {},
   "outputs": [
    {
     "data": {
      "text/html": [
       "<div>\n",
       "<style scoped>\n",
       "    .dataframe tbody tr th:only-of-type {\n",
       "        vertical-align: middle;\n",
       "    }\n",
       "\n",
       "    .dataframe tbody tr th {\n",
       "        vertical-align: top;\n",
       "    }\n",
       "\n",
       "    .dataframe thead th {\n",
       "        text-align: right;\n",
       "    }\n",
       "</style>\n",
       "<table border=\"1\" class=\"dataframe\">\n",
       "  <thead>\n",
       "    <tr style=\"text-align: right;\">\n",
       "      <th></th>\n",
       "      <th>average_power</th>\n",
       "      <th>central_frequency</th>\n",
       "      <th>power_density</th>\n",
       "    </tr>\n",
       "  </thead>\n",
       "  <tbody>\n",
       "    <tr>\n",
       "      <th>0</th>\n",
       "      <td>0.571647</td>\n",
       "      <td>NaN</td>\n",
       "      <td>0.165962</td>\n",
       "    </tr>\n",
       "    <tr>\n",
       "      <th>1</th>\n",
       "      <td>0.571769</td>\n",
       "      <td>NaN</td>\n",
       "      <td>0.165997</td>\n",
       "    </tr>\n",
       "    <tr>\n",
       "      <th>2</th>\n",
       "      <td>0.571797</td>\n",
       "      <td>NaN</td>\n",
       "      <td>0.166006</td>\n",
       "    </tr>\n",
       "    <tr>\n",
       "      <th>3</th>\n",
       "      <td>0.570980</td>\n",
       "      <td>NaN</td>\n",
       "      <td>0.165768</td>\n",
       "    </tr>\n",
       "    <tr>\n",
       "      <th>4</th>\n",
       "      <td>0.571179</td>\n",
       "      <td>NaN</td>\n",
       "      <td>0.165826</td>\n",
       "    </tr>\n",
       "    <tr>\n",
       "      <th>5</th>\n",
       "      <td>0.571797</td>\n",
       "      <td>NaN</td>\n",
       "      <td>0.166006</td>\n",
       "    </tr>\n",
       "    <tr>\n",
       "      <th>6</th>\n",
       "      <td>0.571456</td>\n",
       "      <td>NaN</td>\n",
       "      <td>0.165907</td>\n",
       "    </tr>\n",
       "    <tr>\n",
       "      <th>7</th>\n",
       "      <td>0.571717</td>\n",
       "      <td>NaN</td>\n",
       "      <td>0.165982</td>\n",
       "    </tr>\n",
       "    <tr>\n",
       "      <th>8</th>\n",
       "      <td>0.571554</td>\n",
       "      <td>NaN</td>\n",
       "      <td>0.165935</td>\n",
       "    </tr>\n",
       "    <tr>\n",
       "      <th>9</th>\n",
       "      <td>0.571494</td>\n",
       "      <td>NaN</td>\n",
       "      <td>0.165918</td>\n",
       "    </tr>\n",
       "    <tr>\n",
       "      <th>10</th>\n",
       "      <td>0.571470</td>\n",
       "      <td>NaN</td>\n",
       "      <td>0.165911</td>\n",
       "    </tr>\n",
       "  </tbody>\n",
       "</table>\n",
       "</div>"
      ],
      "text/plain": [
       "    average_power  central_frequency  power_density\n",
       "0        0.571647                NaN       0.165962\n",
       "1        0.571769                NaN       0.165997\n",
       "2        0.571797                NaN       0.166006\n",
       "3        0.570980                NaN       0.165768\n",
       "4        0.571179                NaN       0.165826\n",
       "5        0.571797                NaN       0.166006\n",
       "6        0.571456                NaN       0.165907\n",
       "7        0.571717                NaN       0.165982\n",
       "8        0.571554                NaN       0.165935\n",
       "9        0.571494                NaN       0.165918\n",
       "10       0.571470                NaN       0.165911"
      ]
     },
     "execution_count": 201,
     "metadata": {},
     "output_type": "execute_result"
    }
   ],
   "source": [
    "df_null"
   ]
  },
  {
   "cell_type": "code",
   "execution_count": 202,
   "metadata": {},
   "outputs": [],
   "source": [
    "# Acquires the values for each column in DataFrames\n",
    "average_power_sim = df_sim.average_power.values\n",
    "central_frequency_sim = df_sim.central_frequency.values\n",
    "power_density_sim = df_sim.power_density.values\n",
    "\n",
    "average_power_null = df_null.average_power.values\n",
    "central_frequency_null = df_null.central_frequency.values\n",
    "power_density_null = df_null.power_density.values"
   ]
  },
  {
   "cell_type": "code",
   "execution_count": 203,
   "metadata": {},
   "outputs": [
    {
     "data": {
      "text/plain": [
       "[<matplotlib.lines.Line2D at 0x12ce96b2908>]"
      ]
     },
     "execution_count": 203,
     "metadata": {},
     "output_type": "execute_result"
    },
    {
     "data": {
      "image/png": "[encoded data removed]",
      "text/plain": [
       "<Figure size 432x288 with 1 Axes>"
      ]
     },
     "metadata": {},
     "output_type": "display_data"
    }
   ],
   "source": [
    "plt.plot(average_power_sim)"
   ]
  },
  {
   "cell_type": "code",
   "execution_count": 204,
   "metadata": {},
   "outputs": [
    {
     "data": {
      "text/plain": [
       "[<matplotlib.lines.Line2D at 0x12ce9715160>]"
      ]
     },
     "execution_count": 204,
     "metadata": {},
     "output_type": "execute_result"
    },
    {
     "data": {
      "image/png": "[encoded data removed]",
      "text/plain": [
       "<Figure size 432x288 with 1 Axes>"
      ]
     },
     "metadata": {},
     "output_type": "display_data"
    }
   ],
   "source": [
    "plt.plot(average_power_null)"
   ]
  },
  {
   "cell_type": "markdown",
   "metadata": {},
   "source": [
    "We cannot use the central frequency method because it uses peak information to find central frequency but we dont have peaks because we do not induce \"oscillations\" in the syth"
   ]
  },
  {
   "cell_type": "code",
   "execution_count": 205,
   "metadata": {},
   "outputs": [
    {
     "data": {
      "text/plain": [
       "[<matplotlib.lines.Line2D at 0x12ce9770940>]"
      ]
     },
     "execution_count": 205,
     "metadata": {},
     "output_type": "execute_result"
    },
    {
     "data": {
      "image/png": "[encoded data removed]",
      "text/plain": [
       "<Figure size 432x288 with 1 Axes>"
      ]
     },
     "metadata": {},
     "output_type": "display_data"
    }
   ],
   "source": [
    "plt.plot(power_density_sim)"
   ]
  },
  {
   "cell_type": "code",
   "execution_count": 206,
   "metadata": {},
   "outputs": [
    {
     "data": {
      "text/plain": [
       "[<matplotlib.lines.Line2D at 0x12ce9899c88>]"
      ]
     },
     "execution_count": 206,
     "metadata": {},
     "output_type": "execute_result"
    },
    {
     "data": {
      "image/png": "[encoded data removed]",
      "text/plain": [
       "<Figure size 432x288 with 1 Axes>"
      ]
     },
     "metadata": {},
     "output_type": "display_data"
    }
   ],
   "source": [
    "plt.plot(power_density_null)"
   ]
  },
  {
   "cell_type": "code",
   "execution_count": 210,
   "metadata": {},
   "outputs": [
    {
     "data": {
      "text/plain": [
       "<matplotlib.collections.PathCollection at 0x12ce9942f60>"
      ]
     },
     "execution_count": 210,
     "metadata": {},
     "output_type": "execute_result"
    },
    {
     "data": {
      "image/png": "[encoded data removed]",
      "text/plain": [
       "<Figure size 432x288 with 1 Axes>"
      ]
     },
     "metadata": {},
     "output_type": "display_data"
    }
   ],
   "source": [
    "plt.scatter(slopes,average_power_sim)"
   ]
  },
  {
   "cell_type": "code",
   "execution_count": 211,
   "metadata": {},
   "outputs": [
    {
     "data": {
      "text/plain": [
       "<matplotlib.collections.PathCollection at 0x12ce999a978>"
      ]
     },
     "execution_count": 211,
     "metadata": {},
     "output_type": "execute_result"
    },
    {
     "data": {
      "image/png": "[encoded data removed]",
      "text/plain": [
       "<Figure size 432x288 with 1 Axes>"
      ]
     },
     "metadata": {},
     "output_type": "display_data"
    }
   ],
   "source": [
    "plt.scatter(slopes,power_density_sim)"
   ]
  }
 ],
 "metadata": {
  "kernelspec": {
   "display_name": "Python 3",
   "language": "python",
   "name": "python3"
  },
  "language_info": {
   "codemirror_mode": {
    "name": "ipython",
    "version": 3
   },
   "file_extension": ".py",
   "mimetype": "text/x-python",
   "name": "python",
   "nbconvert_exporter": "python",
   "pygments_lexer": "ipython3",
   "version": "3.6.5"
  }
 },
 "nbformat": 4,
 "nbformat_minor": 2
}
