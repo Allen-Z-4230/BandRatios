{
 "cells": [
  {
   "cell_type": "markdown",
   "metadata": {},
   "source": [
    "## Purpose"
   ]
  },
  {
   "cell_type": "markdown",
   "metadata": {},
   "source": [
    "This notebook will run simlations and save the output into a file in ./dat/ "
   ]
  },
  {
   "cell_type": "code",
   "execution_count": 17,
   "metadata": {},
   "outputs": [],
   "source": [
    "# Set matplotlib for plotting in the notebook\n",
    "%matplotlib inline\n",
    "import matplotlib.pyplot as plt\n",
    "\n",
    "from fooof import FOOOF\n",
    "from fooof import FOOOFGroup\n",
    "from fooof.analysis import *\n",
    "import numpy as np\n",
    "from utils.ratios import *\n",
    "from fooof.utils import trim_spectrum\n",
    "# Import some utilities for synthesizing some test data\n",
    "from fooof.synth import gen_group_power_spectra, param_sampler, gen_power_spectrum"
   ]
  },
  {
   "cell_type": "markdown",
   "metadata": {},
   "source": [
    "The next cell define a single simulated spectrum"
   ]
  },
  {
   "cell_type": "code",
   "execution_count": 18,
   "metadata": {},
   "outputs": [],
   "source": [
    "#Creats a single control simulated spectrum (Theta, peak alpha, beta)\n",
    "def gen_sample():\n",
    "    sample = []\n",
    "    \n",
    "    sample.append(np.random.uniform(4, 7)) #Theta freq\n",
    "    sample.append(np.random.uniform(.35,.75)) #Theta Amp\n",
    "    sample.append(np.random.uniform(.25,1.05))#Theta SD\n",
    "    \n",
    "    sample.append(np.random.uniform(8, 12)) #slow alpha freq\n",
    "    sample.append(np.random.uniform(.25,.55)) #Alpha Amp\n",
    "    sample.append(np.random.uniform(.25,1.05))#Alpha SD\n",
    "    \n",
    "    sample.append(np.random.uniform(18, 25)) #Beta freq\n",
    "    sample.append(np.random.uniform(.4,.75)) #Beta Amp\n",
    "    sample.append(np.random.uniform(.25,1.05))#Beta SD\n",
    "    \n",
    "    \n",
    "    return sample"
   ]
  },
  {
   "cell_type": "markdown",
   "metadata": {},
   "source": [
    "We will create a function that will take an input and generate ratios from PSD with slope 0 to the provided argument in integer increments. We will use numpy save and numpy load to save the results into a .nyp file."
   ]
  },
  {
   "cell_type": "code",
   "execution_count": 19,
   "metadata": {},
   "outputs": [],
   "source": [
    "#This function will gather ratio data from slope 0 to slope (argument)\n",
    "# Offset is assumed 0\n",
    "def sim_vary_slope(slope):\n",
    "    \n",
    "    res = []\n",
    "    \n",
    "    for i in range(slope):\n",
    "        bg = [0,i]\n",
    "        \n",
    "        #100 trails for each treatment and control sim\n",
    "        freq, power, _ = gen_group_power_spectra(100, [1,50], bg,gen_sample(), nlvs=np.random.uniform(.005,.02)) \n",
    "\n",
    "        fg = FOOOFGroup(peak_width_limits=[1,8], min_peak_amplitude=0.05, max_n_peaks=3)\n",
    "        \n",
    "        fg.fit(freq, power)\n",
    "        \n",
    "        res.append(get_group_ratios(fg,[4,8],[15,30]))\n",
    "    np.save('./dat/slope_data',res)\n",
    "    "
   ]
  },
  {
   "cell_type": "code",
   "execution_count": 20,
   "metadata": {},
   "outputs": [],
   "source": [
    "sim_vary_slope(5)"
   ]
  },
  {
   "cell_type": "markdown",
   "metadata": {},
   "source": [
    "We should now have the data from the simulation saved into ./dat directory. The next cell opens that newly created data."
   ]
  },
  {
   "cell_type": "code",
   "execution_count": 21,
   "metadata": {},
   "outputs": [
    {
     "data": {
      "text/plain": [
       "array([[[6.41363876, 5.61739525, 6.1280555 , ..., 6.86010962,\n",
       "         6.34926415, 6.41545354],\n",
       "        [1.45071479, 1.44470621, 1.37379815, ..., 1.46874173,\n",
       "         1.54792766, 1.66656592],\n",
       "        [1.86202416, 1.63085669, 1.77911289, ..., 1.99164473,\n",
       "         1.84333475, 1.86255103]],\n",
       "\n",
       "       [[0.49016446, 0.48729106, 0.49006249, ..., 0.48428605,\n",
       "         0.49311383, 0.48790313],\n",
       "        [0.77881937, 0.71183976, 0.73860357, ..., 0.80660225,\n",
       "         0.75542873, 0.75884989],\n",
       "        [0.14230581, 0.1414716 , 0.14227621, ..., 0.14059917,\n",
       "         0.14316208, 0.1416493 ]],\n",
       "\n",
       "       [[0.55256456, 0.5536012 , 0.55822303, ..., 0.55306076,\n",
       "         0.55560886, 0.55012843],\n",
       "        [0.56329695, 0.61227694, 0.54292493, ..., 0.5970206 ,\n",
       "         0.56209285, 0.62426793],\n",
       "        [0.16042197, 0.16072293, 0.16206475, ..., 0.16056603,\n",
       "         0.1613058 , 0.15971471]],\n",
       "\n",
       "       [[0.54628671, 0.54835523, 0.54795905, ..., 0.5450997 ,\n",
       "         0.54802992, 0.54825532],\n",
       "        [0.91301605, 0.88128494, 0.89586761, ..., 0.86258812,\n",
       "         0.86560463, 0.88995577],\n",
       "        [0.15859937, 0.15919991, 0.15908489, ..., 0.15825475,\n",
       "         0.15910546, 0.1591709 ]],\n",
       "\n",
       "       [[0.54749767, 0.54672819, 0.54780982, ..., 0.54729163,\n",
       "         0.54708559, 0.54716894],\n",
       "        [1.10083738, 1.13717787, 1.1307254 , ..., 1.08832785,\n",
       "         1.10161949, 1.09239906],\n",
       "        [0.15895094, 0.15872754, 0.15904156, ..., 0.15889112,\n",
       "         0.1588313 , 0.1588555 ]]])"
      ]
     },
     "execution_count": 21,
     "metadata": {},
     "output_type": "execute_result"
    }
   ],
   "source": [
    "np.load('./dat/slope_data.npy')"
   ]
  },
  {
   "cell_type": "markdown",
   "metadata": {},
   "source": [
    "np.save() should have saved our 3d-array into './dat/slope_data.npy'\n",
    "\n",
    "The outter most level will be the simulations we ran, 5 in this case. One level deeper is different ratio calculations - we have 3. Lastly, the lowest level in the 3D array are the individual trials which we set to 100."
   ]
  },
  {
   "cell_type": "code",
   "execution_count": null,
   "metadata": {},
   "outputs": [],
   "source": []
  }
 ],
 "metadata": {
  "kernelspec": {
   "display_name": "Python 3",
   "language": "python",
   "name": "python3"
  },
  "language_info": {
   "codemirror_mode": {
    "name": "ipython",
    "version": 3
   },
   "file_extension": ".py",
   "mimetype": "text/x-python",
   "name": "python",
   "nbconvert_exporter": "python",
   "pygments_lexer": "ipython3",
   "version": "3.6.5"
  }
 },
 "nbformat": 4,
 "nbformat_minor": 2
}
