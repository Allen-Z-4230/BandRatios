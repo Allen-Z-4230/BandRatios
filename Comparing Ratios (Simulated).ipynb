{
 "cells": [
  {
   "cell_type": "code",
   "execution_count": 121,
   "metadata": {},
   "outputs": [],
   "source": [
    "# Set matplotlib for plotting in the notebook\n",
    "%matplotlib inline\n",
    "import matplotlib.pyplot as plt\n",
    "\n",
    "from fooof import FOOOF\n",
    "from fooof import FOOOFGroup\n",
    "import numpy as np\n",
    "\n",
    "# Import some utilities for synthesizing some test data\n",
    "from fooof.synth import gen_group_power_spectra, param_sampler, gen_power_spectrum"
   ]
  },
  {
   "cell_type": "code",
   "execution_count": 116,
   "metadata": {},
   "outputs": [],
   "source": [
    "#fAlpha = FOOOF()\n",
    "#fThetaBetea = FOOOF()\n",
    "\n",
    "#Generate Power Spectra\n",
    "#freqAlpha, powerAlpha = gen_power_spectrum ([0,50],[0,1], [10,1,1], nlv=.05)\n",
    "#freqThetaBeta, powerThetaBeta = gen_power_spectrum([0,50],[0,1],[4, 1, 1, 25, 1, 1],nlv=.05)\n",
    "\n",
    "#fAlpha.add_data(freqAlpha,powerAlpha)\n",
    "#fThetaBetea.add_data(freqThetaBeta,powerThetaBeta)\n",
    "\n",
    "#Plot power spectra\n",
    "#fAlpha.plot()\n",
    "#fThetaBetea.plot()\n"
   ]
  },
  {
   "cell_type": "code",
   "execution_count": 117,
   "metadata": {},
   "outputs": [],
   "source": [
    "#fAlpha.fit()\n",
    "#fThetaBetea.fit()"
   ]
  },
  {
   "cell_type": "code",
   "execution_count": 118,
   "metadata": {},
   "outputs": [],
   "source": [
    "#fAlpha.plot()\n",
    "#fThetaBetea.plot()"
   ]
  },
  {
   "cell_type": "code",
   "execution_count": 57,
   "metadata": {},
   "outputs": [],
   "source": [
    "#tPower = fThetaBetea.peak_params_[0][1]\n",
    "#bPower = fThetaBetea.peak_params_[1][1]"
   ]
  },
  {
   "cell_type": "code",
   "execution_count": 119,
   "metadata": {},
   "outputs": [],
   "source": [
    "#print(\"Theta Power: \" + str(tPower))\n",
    "#print(\"Beta Power: \" + str(bPower))\n"
   ]
  },
  {
   "cell_type": "code",
   "execution_count": 120,
   "metadata": {},
   "outputs": [],
   "source": [
    "#print(\"Theta/Beta Ratio: \" +str(tPower/bPower))"
   ]
  },
  {
   "cell_type": "markdown",
   "metadata": {},
   "source": [
    "## Streamline simulations"
   ]
  },
  {
   "cell_type": "code",
   "execution_count": 60,
   "metadata": {},
   "outputs": [],
   "source": [
    "#gen_group_power_spectra?"
   ]
  },
  {
   "cell_type": "code",
   "execution_count": 122,
   "metadata": {},
   "outputs": [],
   "source": [
    "#Creates a single adhd simulated spectrum\n",
    "# Alpha peaks on lower park of band to potentially bleed over to theta band\n",
    "\n",
    "def gen_adhd_sample():\n",
    "    sample = []\n",
    "    \n",
    "    sample.append(np.random.uniform(4, 7)) #Theta freq\n",
    "    sample.append(np.random.uniform(.35,.75)) #Theta Amp\n",
    "    sample.append(np.random.uniform(.25,1.05))#Theta SD\n",
    "    \n",
    "    sample.append(np.random.uniform(8, 10)) #slow Alpha freq\n",
    "    sample.append(np.random.uniform(.25,.55)) #Alpha Amp\n",
    "    sample.append(np.random.uniform(.25,1.05))#Alpha SD\n",
    "    \n",
    "    sample.append(np.random.uniform(18, 25)) #Beta freq\n",
    "    sample.append(np.random.uniform(.4,.75)) #Beta Amp\n",
    "    sample.append(np.random.uniform(.25,1.05))#Beta SD\n",
    "    \n",
    "    \n",
    "    return sample"
   ]
  },
  {
   "cell_type": "code",
   "execution_count": 123,
   "metadata": {},
   "outputs": [],
   "source": [
    "#Creatsa single control simulated spectrum (Theta, slow peak alpha, beta)\n",
    "def gen_control_sample():\n",
    "    sample = []\n",
    "    \n",
    "    sample.append(np.random.uniform(4, 7)) #Theta freq\n",
    "    sample.append(np.random.uniform(.35,.75)) #Theta Amp\n",
    "    sample.append(np.random.uniform(.25,1.05))#Theta SD\n",
    "    \n",
    "    sample.append(np.random.uniform(8, 12)) #slow alpha freq\n",
    "    sample.append(np.random.uniform(.25,.55)) #Alpha Amp\n",
    "    sample.append(np.random.uniform(.25,1.05))#Alpha SD\n",
    "    \n",
    "    sample.append(np.random.uniform(18, 25)) #Beta freq\n",
    "    sample.append(np.random.uniform(.4,.75)) #Beta Amp\n",
    "    sample.append(np.random.uniform(.25,1.05))#Beta SD\n",
    "    \n",
    "    \n",
    "    return sample"
   ]
  },
  {
   "cell_type": "code",
   "execution_count": 126,
   "metadata": {},
   "outputs": [],
   "source": [
    "#Gen group of ADHD PSDs (slow alpha peak freq) + control PSD\n",
    "bg = param_sampler([[0,2],[0,1]])\n",
    "\n",
    "#100 trails for each adhd and control sim\n",
    "adhdFreq, adhdPower, syn_params_adhd = gen_group_power_spectra(100, [1,50], bg,gen_adhd_sample(), nlvs=np.random.uniform(.005,.02)) \n",
    "contFreq, contPower, syn_params_control = gen_group_power_spectra(100, [1,50], bg, gen_control_sample(), nlvs=np.random.uniform(.005,.02))\n",
    "\n",
    "adhd = FOOOFGroup(peak_width_limits=[1,8], min_peak_amplitude=0.05, max_n_peaks=3)\n",
    "control = FOOOFGroup(peak_width_limits=[1,8], min_peak_amplitude=0.05, max_n_peaks=3)"
   ]
  },
  {
   "cell_type": "code",
   "execution_count": 127,
   "metadata": {},
   "outputs": [],
   "source": [
    "adhd.fit(adhdFreq,adhdPower)\n",
    "control.fit(contFreq,contPower)"
   ]
  },
  {
   "cell_type": "code",
   "execution_count": 128,
   "metadata": {
    "scrolled": true
   },
   "outputs": [],
   "source": [
    "#Gather peak info for both PSDs\n",
    "adhd_peaks = adhd.get_all_data('peak_params')\n",
    "control_peaks = control.get_all_data('peak_params')"
   ]
  },
  {
   "cell_type": "markdown",
   "metadata": {},
   "source": [
    "## Calculate theta/beta ratios"
   ]
  },
  {
   "cell_type": "code",
   "execution_count": 129,
   "metadata": {},
   "outputs": [],
   "source": [
    "# Adhd (Slow alpha prek)\n",
    "adhdRatioList = []\n",
    "for i in range(len(adhd_peaks)-2):\n",
    "    tbRatioList.append(adhd_peaks[i][1]/adhd_peaks[i+2][1])\n",
    "    i+=2"
   ]
  },
  {
   "cell_type": "code",
   "execution_count": 130,
   "metadata": {},
   "outputs": [
    {
     "data": {
      "text/plain": [
       "0.9816036665807988"
      ]
     },
     "execution_count": 130,
     "metadata": {},
     "output_type": "execute_result"
    }
   ],
   "source": [
    "#Sanity Check\n",
    "tbRatioList[0]"
   ]
  },
  {
   "cell_type": "code",
   "execution_count": 131,
   "metadata": {},
   "outputs": [],
   "source": [
    "# control\n",
    "controlRatioList = []\n",
    "for i in range(len(control_peaks)-2):\n",
    "    controlRatioList.append(control_peaks[i][1]/control_peaks[i+2][1])\n",
    "    i+=2\n"
   ]
  },
  {
   "cell_type": "code",
   "execution_count": 132,
   "metadata": {},
   "outputs": [
    {
     "data": {
      "text/plain": [
       "1.507328816603785"
      ]
     },
     "execution_count": 132,
     "metadata": {},
     "output_type": "execute_result"
    }
   ],
   "source": [
    "#Sanity Check\n",
    "controlRatioList[0]"
   ]
  },
  {
   "cell_type": "code",
   "execution_count": 133,
   "metadata": {},
   "outputs": [
    {
     "data": {
      "text/plain": [
       "0.011564416086740525"
      ]
     },
     "execution_count": 133,
     "metadata": {},
     "output_type": "execute_result"
    }
   ],
   "source": [
    "#Difference in mean ratios of adhd sim and control sim\n",
    "abs(np.mean(tbRatioList)-np.mean(controlRatioList))"
   ]
  },
  {
   "cell_type": "markdown",
   "metadata": {},
   "source": [
    "I plan to:\n",
    "- fiddle with the values in the gen_*_sample functions in this note book\n",
    "- get a better idea of how noise and randomness affect the difference in the ratios \n"
   ]
  },
  {
   "cell_type": "code",
   "execution_count": null,
   "metadata": {},
   "outputs": [],
   "source": []
  }
 ],
 "metadata": {
  "kernelspec": {
   "display_name": "Python 3",
   "language": "python",
   "name": "python3"
  },
  "language_info": {
   "codemirror_mode": {
    "name": "ipython",
    "version": 3
   },
   "file_extension": ".py",
   "mimetype": "text/x-python",
   "name": "python",
   "nbconvert_exporter": "python",
   "pygments_lexer": "ipython3",
   "version": "3.6.5"
  }
 },
 "nbformat": 4,
 "nbformat_minor": 2
}
