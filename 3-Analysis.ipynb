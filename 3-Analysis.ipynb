{
 "cells": [
  {
   "cell_type": "markdown",
   "metadata": {},
   "source": [
    "## Purpose\n",
    "\n",
    "This notebook will go over loading in a saved .npy file and analyzing it. In this example we will find the mean of each calculated ratio as slope changes from 0 to 5."
   ]
  },
  {
   "cell_type": "code",
   "execution_count": 1,
   "metadata": {},
   "outputs": [],
   "source": [
    "# Set matplotlib for plotting in the notebook\n",
    "%matplotlib inline\n",
    "import matplotlib.pyplot as plt\n",
    "import pandas as pd\n",
    "import numpy as np\n",
    "\n",
    "from fooof import FOOOF, FOOOFGroup\n",
    "from fooof.analysis import *\n",
    "from fooof.utils import trim_spectrum\n",
    "from fooof.synth import gen_group_power_spectra, param_sampler, gen_power_spectrum\n",
    "\n",
    "from utils.ratios import *"
   ]
  },
  {
   "cell_type": "code",
   "execution_count": 2,
   "metadata": {},
   "outputs": [],
   "source": [
    "data = np.load('./dat/slope_data.npy')"
   ]
  },
  {
   "cell_type": "markdown",
   "metadata": {},
   "source": [
    "This function finds the average value from all 100 trials we did for each calculation for each simulation."
   ]
  },
  {
   "cell_type": "code",
   "execution_count": 3,
   "metadata": {},
   "outputs": [],
   "source": [
    "results = average_of_sims(data)"
   ]
  },
  {
   "cell_type": "markdown",
   "metadata": {},
   "source": [
    "We now have a 2D array that we will place into a pandas DataFrame. A dataframe is a table or matrix data structure which has rows and columns and orgainizes data by labels. In the next cell we create a matrix where columns represent method of ratio calculation and rows are the different generated slopes."
   ]
  },
  {
   "cell_type": "code",
   "execution_count": 4,
   "metadata": {},
   "outputs": [
    {
     "data": {
      "text/html": [
       "<div>\n",
       "<style scoped>\n",
       "    .dataframe tbody tr th:only-of-type {\n",
       "        vertical-align: middle;\n",
       "    }\n",
       "\n",
       "    .dataframe tbody tr th {\n",
       "        vertical-align: top;\n",
       "    }\n",
       "\n",
       "    .dataframe thead th {\n",
       "        text-align: right;\n",
       "    }\n",
       "</style>\n",
       "<table border=\"1\" class=\"dataframe\">\n",
       "  <thead>\n",
       "    <tr style=\"text-align: right;\">\n",
       "      <th></th>\n",
       "      <th>average_power</th>\n",
       "      <th>central_frequency</th>\n",
       "      <th>power_density</th>\n",
       "    </tr>\n",
       "  </thead>\n",
       "  <tbody>\n",
       "    <tr>\n",
       "      <th>0</th>\n",
       "      <td>0.047880</td>\n",
       "      <td>0.703416</td>\n",
       "      <td>0.013901</td>\n",
       "    </tr>\n",
       "    <tr>\n",
       "      <th>1</th>\n",
       "      <td>0.509418</td>\n",
       "      <td>0.453902</td>\n",
       "      <td>0.147895</td>\n",
       "    </tr>\n",
       "    <tr>\n",
       "      <th>2</th>\n",
       "      <td>0.345216</td>\n",
       "      <td>1.324227</td>\n",
       "      <td>0.100224</td>\n",
       "    </tr>\n",
       "    <tr>\n",
       "      <th>3</th>\n",
       "      <td>0.311558</td>\n",
       "      <td>1.658371</td>\n",
       "      <td>0.090452</td>\n",
       "    </tr>\n",
       "    <tr>\n",
       "      <th>4</th>\n",
       "      <td>0.428091</td>\n",
       "      <td>1.157847</td>\n",
       "      <td>0.124284</td>\n",
       "    </tr>\n",
       "    <tr>\n",
       "      <th>5</th>\n",
       "      <td>0.431463</td>\n",
       "      <td>0.994731</td>\n",
       "      <td>0.125263</td>\n",
       "    </tr>\n",
       "    <tr>\n",
       "      <th>6</th>\n",
       "      <td>0.474184</td>\n",
       "      <td>0.741490</td>\n",
       "      <td>0.137666</td>\n",
       "    </tr>\n",
       "    <tr>\n",
       "      <th>7</th>\n",
       "      <td>0.464959</td>\n",
       "      <td>1.432211</td>\n",
       "      <td>0.134988</td>\n",
       "    </tr>\n",
       "    <tr>\n",
       "      <th>8</th>\n",
       "      <td>0.485678</td>\n",
       "      <td>1.510806</td>\n",
       "      <td>0.141003</td>\n",
       "    </tr>\n",
       "    <tr>\n",
       "      <th>9</th>\n",
       "      <td>0.491318</td>\n",
       "      <td>1.033752</td>\n",
       "      <td>0.142641</td>\n",
       "    </tr>\n",
       "    <tr>\n",
       "      <th>10</th>\n",
       "      <td>0.550964</td>\n",
       "      <td>0.578300</td>\n",
       "      <td>0.159957</td>\n",
       "    </tr>\n",
       "    <tr>\n",
       "      <th>11</th>\n",
       "      <td>0.495206</td>\n",
       "      <td>1.259009</td>\n",
       "      <td>0.143770</td>\n",
       "    </tr>\n",
       "    <tr>\n",
       "      <th>12</th>\n",
       "      <td>0.498716</td>\n",
       "      <td>1.121905</td>\n",
       "      <td>0.144788</td>\n",
       "    </tr>\n",
       "    <tr>\n",
       "      <th>13</th>\n",
       "      <td>0.536072</td>\n",
       "      <td>0.710852</td>\n",
       "      <td>0.155634</td>\n",
       "    </tr>\n",
       "    <tr>\n",
       "      <th>14</th>\n",
       "      <td>0.545509</td>\n",
       "      <td>0.815568</td>\n",
       "      <td>0.158374</td>\n",
       "    </tr>\n",
       "    <tr>\n",
       "      <th>15</th>\n",
       "      <td>0.562495</td>\n",
       "      <td>0.662460</td>\n",
       "      <td>0.163305</td>\n",
       "    </tr>\n",
       "    <tr>\n",
       "      <th>16</th>\n",
       "      <td>0.555716</td>\n",
       "      <td>1.007187</td>\n",
       "      <td>0.161337</td>\n",
       "    </tr>\n",
       "    <tr>\n",
       "      <th>17</th>\n",
       "      <td>0.529550</td>\n",
       "      <td>1.077699</td>\n",
       "      <td>0.153740</td>\n",
       "    </tr>\n",
       "    <tr>\n",
       "      <th>18</th>\n",
       "      <td>0.549722</td>\n",
       "      <td>0.818957</td>\n",
       "      <td>0.159597</td>\n",
       "    </tr>\n",
       "  </tbody>\n",
       "</table>\n",
       "</div>"
      ],
      "text/plain": [
       "    average_power  central_frequency  power_density\n",
       "0        0.047880           0.703416       0.013901\n",
       "1        0.509418           0.453902       0.147895\n",
       "2        0.345216           1.324227       0.100224\n",
       "3        0.311558           1.658371       0.090452\n",
       "4        0.428091           1.157847       0.124284\n",
       "5        0.431463           0.994731       0.125263\n",
       "6        0.474184           0.741490       0.137666\n",
       "7        0.464959           1.432211       0.134988\n",
       "8        0.485678           1.510806       0.141003\n",
       "9        0.491318           1.033752       0.142641\n",
       "10       0.550964           0.578300       0.159957\n",
       "11       0.495206           1.259009       0.143770\n",
       "12       0.498716           1.121905       0.144788\n",
       "13       0.536072           0.710852       0.155634\n",
       "14       0.545509           0.815568       0.158374\n",
       "15       0.562495           0.662460       0.163305\n",
       "16       0.555716           1.007187       0.161337\n",
       "17       0.529550           1.077699       0.153740\n",
       "18       0.549722           0.818957       0.159597"
      ]
     },
     "execution_count": 4,
     "metadata": {},
     "output_type": "execute_result"
    }
   ],
   "source": [
    "df = pd.DataFrame(results,columns=[\"average_power\",\"central_frequency\", \"power_density\" ])\n",
    "df"
   ]
  },
  {
   "cell_type": "markdown",
   "metadata": {},
   "source": [
    "We will select each column as follows and use .values to get our column in numpy array format."
   ]
  },
  {
   "cell_type": "code",
   "execution_count": 5,
   "metadata": {},
   "outputs": [],
   "source": [
    "average_power = df.average_power.values\n",
    "central_frequency = df.central_frequency.values\n",
    "power_density = df.power_density.values"
   ]
  },
  {
   "cell_type": "code",
   "execution_count": 6,
   "metadata": {},
   "outputs": [
    {
     "data": {
      "text/plain": [
       "[<matplotlib.lines.Line2D at 0x193cd618898>]"
      ]
     },
     "execution_count": 6,
     "metadata": {},
     "output_type": "execute_result"
    },
    {
     "data": {
      "image/png": "[encoded data removed]",
      "text/plain": [
       "<Figure size 432x288 with 1 Axes>"
      ]
     },
     "metadata": {},
     "output_type": "display_data"
    }
   ],
   "source": [
    "plt.plot(average_power)"
   ]
  },
  {
   "cell_type": "code",
   "execution_count": 7,
   "metadata": {},
   "outputs": [
    {
     "data": {
      "text/plain": [
       "[<matplotlib.lines.Line2D at 0x193cd6a9ef0>]"
      ]
     },
     "execution_count": 7,
     "metadata": {},
     "output_type": "execute_result"
    },
    {
     "data": {
      "image/png": "[encoded data removed]",
      "text/plain": [
       "<Figure size 432x288 with 1 Axes>"
      ]
     },
     "metadata": {},
     "output_type": "display_data"
    }
   ],
   "source": [
    "plt.plot(central_frequency)"
   ]
  },
  {
   "cell_type": "code",
   "execution_count": 8,
   "metadata": {},
   "outputs": [
    {
     "data": {
      "text/plain": [
       "[<matplotlib.lines.Line2D at 0x193cd925b38>]"
      ]
     },
     "execution_count": 8,
     "metadata": {},
     "output_type": "execute_result"
    },
    {
     "data": {
      "image/png": "[encoded data removed]",
      "text/plain": [
       "<Figure size 432x288 with 1 Axes>"
      ]
     },
     "metadata": {},
     "output_type": "display_data"
    }
   ],
   "source": [
    "plt.plot(power_density)"
   ]
  }
 ],
 "metadata": {
  "kernelspec": {
   "display_name": "Python 3",
   "language": "python",
   "name": "python3"
  },
  "language_info": {
   "codemirror_mode": {
    "name": "ipython",
    "version": 3
   },
   "file_extension": ".py",
   "mimetype": "text/x-python",
   "name": "python",
   "nbconvert_exporter": "python",
   "pygments_lexer": "ipython3",
   "version": "3.6.5"
  }
 },
 "nbformat": 4,
 "nbformat_minor": 2
}
