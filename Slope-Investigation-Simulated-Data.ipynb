{
 "cells": [
  {
   "cell_type": "markdown",
   "metadata": {},
   "source": [
    "## Purpose\n",
    "\n",
    "This notebook will use simulation to answer the question \"How does slope affect ratio measures?\""
   ]
  },
  {
   "cell_type": "code",
   "execution_count": 1,
   "metadata": {},
   "outputs": [],
   "source": [
    "# Set matplotlib for plotting in the notebook\n",
    "%matplotlib inline\n",
    "import matplotlib.pyplot as plt\n",
    "import pandas as pd\n",
    "import numpy as np\n",
    "\n",
    "from fooof import FOOOF, FOOOFGroup\n",
    "from fooof.analysis import *\n",
    "from fooof.utils import trim_spectrum\n",
    "from fooof.synth import gen_group_power_spectra, param_sampler, gen_power_spectrum\n",
    "\n",
    "from utils.ratios import *"
   ]
  },
  {
   "cell_type": "code",
   "execution_count": 2,
   "metadata": {},
   "outputs": [],
   "source": [
    "slopes = np.arange(.25,3,.25) # global scope - will be reset during each function call to not make things messy\n",
    "theta_band = [4,8]\n",
    "beta_band = [15,30]\n",
    "alpha_band = [8,12]"
   ]
  },
  {
   "cell_type": "markdown",
   "metadata": {},
   "source": [
    "The procedure is to make simulated data with and without oscillations, save that data, and analyze it.\n",
    "\n",
    "The following cells generate group power spectra for cases with and without oscillations. 100 simulations are created for each slope value from .25 to 5. The data is then saved to the /dat directory"
   ]
  },
  {
   "cell_type": "code",
   "execution_count": null,
   "metadata": {},
   "outputs": [],
   "source": [
    "theta_beta_data = []\n",
    "i = 1\n",
    "\n",
    "while(i*.25 < 5):\n",
    "    bg = [0,i*.25]\n",
    "        \n",
    "    #100 trails for each treatment and control sim\n",
    "    freq, power, _ = gen_group_power_spectra(100, [1,50], bg, func(), nlvs=np.random.uniform(.005,.02))\n",
    "    fg = FOOOFGroup(peak_width_limits=[1,8], min_peak_amplitude=0.05, max_n_peaks=3)\n",
    "    fg.fit(freq, power)\n",
    "    res.append(get_group_ratios(fg,low_band_range,high_band_range))\n",
    "    i+=1"
   ]
  },
  {
   "cell_type": "markdown",
   "metadata": {},
   "source": [
    "#### Theta/Beta"
   ]
  },
  {
   "cell_type": "code",
   "execution_count": 3,
   "metadata": {},
   "outputs": [
    {
     "ename": "NameError",
     "evalue": "name 'gen_group_power_spectra' is not defined",
     "output_type": "error",
     "traceback": [
      "\u001b[1;31m---------------------------------------------------------------------------\u001b[0m",
      "\u001b[1;31mNameError\u001b[0m                                 Traceback (most recent call last)",
      "\u001b[1;32m<ipython-input-3-5fdf31fcc914>\u001b[0m in \u001b[0;36m<module>\u001b[1;34m()\u001b[0m\n\u001b[1;32m----> 1\u001b[1;33m \u001b[0mtheta_beta_data\u001b[0m \u001b[1;33m=\u001b[0m \u001b[0msim_slope_data\u001b[0m\u001b[1;33m(\u001b[0m\u001b[1;36m5\u001b[0m\u001b[1;33m,\u001b[0m\u001b[0mtheta_band\u001b[0m\u001b[1;33m,\u001b[0m \u001b[0mbeta_band\u001b[0m\u001b[1;33m,\u001b[0m \u001b[0mosc\u001b[0m\u001b[1;33m=\u001b[0m\u001b[1;32mTrue\u001b[0m\u001b[1;33m)\u001b[0m\u001b[1;33m\u001b[0m\u001b[0m\n\u001b[0m\u001b[0;32m      2\u001b[0m \u001b[0mtheta_beta_null\u001b[0m \u001b[1;33m=\u001b[0m \u001b[0msim_null_data\u001b[0m\u001b[1;33m(\u001b[0m\u001b[1;36m5\u001b[0m\u001b[1;33m,\u001b[0m\u001b[0mtheta_band\u001b[0m\u001b[1;33m,\u001b[0m \u001b[0mbeta_band\u001b[0m\u001b[1;33m,\u001b[0m \u001b[0mosc\u001b[0m\u001b[1;33m=\u001b[0m\u001b[1;32mFalse\u001b[0m\u001b[1;33m)\u001b[0m\u001b[1;33m\u001b[0m\u001b[0m\n\u001b[0;32m      3\u001b[0m \u001b[1;33m\u001b[0m\u001b[0m\n\u001b[0;32m      4\u001b[0m \u001b[0mnp\u001b[0m\u001b[1;33m.\u001b[0m\u001b[0msave\u001b[0m\u001b[1;33m(\u001b[0m\u001b[1;34m'./dat/Theta_Beta_Slope'\u001b[0m\u001b[1;33m,\u001b[0m\u001b[0mtheta_beta_data\u001b[0m\u001b[1;33m)\u001b[0m\u001b[1;33m\u001b[0m\u001b[0m\n\u001b[0;32m      5\u001b[0m \u001b[0mnp\u001b[0m\u001b[1;33m.\u001b[0m\u001b[0msave\u001b[0m\u001b[1;33m(\u001b[0m\u001b[1;34m'./dat/Theta_Beta_Null'\u001b[0m\u001b[1;33m,\u001b[0m\u001b[0mtheta_beta_null\u001b[0m\u001b[1;33m)\u001b[0m\u001b[1;33m\u001b[0m\u001b[0m\n",
      "\u001b[1;32m~\\BandRatios\\BandRatios\\utils\\ratios.py\u001b[0m in \u001b[0;36msim_slope_data\u001b[1;34m(end_slope, low_band_range, high_band_range, osc)\u001b[0m\n\u001b[0;32m    306\u001b[0m \u001b[1;33m\u001b[0m\u001b[0m\n\u001b[0;32m    307\u001b[0m         \u001b[1;31m#100 trails for each treatment and control sim\u001b[0m\u001b[1;33m\u001b[0m\u001b[1;33m\u001b[0m\u001b[0m\n\u001b[1;32m--> 308\u001b[1;33m         \u001b[0mfreq\u001b[0m\u001b[1;33m,\u001b[0m \u001b[0mpower\u001b[0m\u001b[1;33m,\u001b[0m \u001b[0m_\u001b[0m \u001b[1;33m=\u001b[0m \u001b[0mgen_group_power_spectra\u001b[0m\u001b[1;33m(\u001b[0m\u001b[1;36m100\u001b[0m\u001b[1;33m,\u001b[0m \u001b[1;33m[\u001b[0m\u001b[1;36m1\u001b[0m\u001b[1;33m,\u001b[0m\u001b[1;36m50\u001b[0m\u001b[1;33m]\u001b[0m\u001b[1;33m,\u001b[0m \u001b[0mbg\u001b[0m\u001b[1;33m,\u001b[0m \u001b[0mfunc\u001b[0m\u001b[1;33m(\u001b[0m\u001b[1;33m)\u001b[0m\u001b[1;33m,\u001b[0m \u001b[0mnlvs\u001b[0m\u001b[1;33m=\u001b[0m\u001b[0mnp\u001b[0m\u001b[1;33m.\u001b[0m\u001b[0mrandom\u001b[0m\u001b[1;33m.\u001b[0m\u001b[0muniform\u001b[0m\u001b[1;33m(\u001b[0m\u001b[1;36m.005\u001b[0m\u001b[1;33m,\u001b[0m\u001b[1;36m.02\u001b[0m\u001b[1;33m)\u001b[0m\u001b[1;33m)\u001b[0m\u001b[1;33m\u001b[0m\u001b[0m\n\u001b[0m\u001b[0;32m    309\u001b[0m         \u001b[0mfg\u001b[0m \u001b[1;33m=\u001b[0m \u001b[0mFOOOFGroup\u001b[0m\u001b[1;33m(\u001b[0m\u001b[0mpeak_width_limits\u001b[0m\u001b[1;33m=\u001b[0m\u001b[1;33m[\u001b[0m\u001b[1;36m1\u001b[0m\u001b[1;33m,\u001b[0m\u001b[1;36m8\u001b[0m\u001b[1;33m]\u001b[0m\u001b[1;33m,\u001b[0m \u001b[0mmin_peak_amplitude\u001b[0m\u001b[1;33m=\u001b[0m\u001b[1;36m0.05\u001b[0m\u001b[1;33m,\u001b[0m \u001b[0mmax_n_peaks\u001b[0m\u001b[1;33m=\u001b[0m\u001b[1;36m3\u001b[0m\u001b[1;33m)\u001b[0m\u001b[1;33m\u001b[0m\u001b[0m\n\u001b[0;32m    310\u001b[0m         \u001b[0mfg\u001b[0m\u001b[1;33m.\u001b[0m\u001b[0mfit\u001b[0m\u001b[1;33m(\u001b[0m\u001b[0mfreq\u001b[0m\u001b[1;33m,\u001b[0m \u001b[0mpower\u001b[0m\u001b[1;33m)\u001b[0m\u001b[1;33m\u001b[0m\u001b[0m\n",
      "\u001b[1;31mNameError\u001b[0m: name 'gen_group_power_spectra' is not defined"
     ]
    }
   ],
   "source": [
    "theta_beta_data = sim_slope_data(5,theta_band, beta_band, osc=True)\n",
    "theta_beta_null = sim_null_data(5,theta_band, beta_band, osc=False)\n",
    "\n",
    "np.save('./dat/Theta_Beta_Slope',theta_beta_data)\n",
    "np.save('./dat/Theta_Beta_Null',theta_beta_null)"
   ]
  },
  {
   "cell_type": "markdown",
   "metadata": {},
   "source": [
    "The same thing is done as above except instead of the calculated ratios being Theta/Beta, Alpha/Beta is calculated."
   ]
  },
  {
   "cell_type": "markdown",
   "metadata": {},
   "source": [
    "#### Alpha/Beta"
   ]
  },
  {
   "cell_type": "code",
   "execution_count": 19,
   "metadata": {},
   "outputs": [],
   "source": [
    "alpha_beta_data = sim_slope_data(3,alpha_band, beta_band, osc=True)\n",
    "alpha_beta_null = sim_null_data(3,alpha_band, beta_band, osc=False)\n",
    "\n",
    "np.save('./dat/Alpha_Beta_Slope',alpha_beta_data)\n",
    "np.save('./dat/Alpha_Beta_Null',alpha_beta_null)"
   ]
  },
  {
   "cell_type": "markdown",
   "metadata": {},
   "source": [
    "theta_beta_data, theta_beta_null, alpha_beta_data, alpha_beta_null are all 3-D arrays in the form of [slope][ratio method][trial], the following cell averages all the trials."
   ]
  },
  {
   "cell_type": "code",
   "execution_count": 20,
   "metadata": {},
   "outputs": [],
   "source": [
    "tb_sim = average_of_sims(theta_beta_data)\n",
    "tb_null = average_of_sims(theta_beta_null)\n",
    "\n",
    "ab_sim = average_of_sims(alpha_beta_data)\n",
    "ab_null = average_of_sims(alpha_beta_null)"
   ]
  },
  {
   "cell_type": "markdown",
   "metadata": {},
   "source": [
    "## Using Pandas\n",
    "\n",
    "We will now create Pandas dataframes to easily extract specific columns to compute statisitics and for visualizations."
   ]
  },
  {
   "cell_type": "code",
   "execution_count": 10,
   "metadata": {
    "scrolled": true
   },
   "outputs": [],
   "source": [
    "# Theta/ Beta ratios\n",
    "df_tb_sim = pd.DataFrame(tb_sim,columns = [\"average_power\",\"central_frequency\", \"power_density\" ])\n",
    "df_tb_null = pd.DataFrame(tb_null,columns = [\"average_power\",\"central_frequency\", \"power_density\" ])"
   ]
  },
  {
   "cell_type": "code",
   "execution_count": null,
   "metadata": {},
   "outputs": [],
   "source": [
    "# Alpha/ Beta ratios\n",
    "df_ab_sim = pd.DataFrame(ab_sim,columns = [\"average_power\",\"central_frequency\", \"power_density\" ])\n",
    "df_ab_null = pd.DataFrame(ab_null,columns = [\"average_power\",\"central_frequency\", \"power_density\" ])"
   ]
  },
  {
   "cell_type": "markdown",
   "metadata": {},
   "source": [
    "The next cells isolate each column from all the tables\n",
    "\n",
    "#### Theta Beta ratio columns"
   ]
  },
  {
   "cell_type": "code",
   "execution_count": 11,
   "metadata": {},
   "outputs": [],
   "source": [
    "# Acquires the values for each column in Theta/Beta DataFrames\n",
    "average_power_tb_sim = df_tb_sim.average_power.values\n",
    "central_frequency_tb_sim = df_tb_sim.central_frequency.values\n",
    "power_density_tb_sim = df_tb_sim.power_density.values\n",
    "\n",
    "# Theta/Beta null ratios\n",
    "average_power_tb_null = df_tb_null.average_power.values\n",
    "central_frequency_tb_null = df_tb_null.central_frequency.values\n",
    "power_density_tb_null = df_tb_null.power_density.values"
   ]
  },
  {
   "cell_type": "code",
   "execution_count": 7,
   "metadata": {},
   "outputs": [
    {
     "ename": "NameError",
     "evalue": "name 'df_ab_sim' is not defined",
     "output_type": "error",
     "traceback": [
      "\u001b[1;31m---------------------------------------------------------------------------\u001b[0m",
      "\u001b[1;31mNameError\u001b[0m                                 Traceback (most recent call last)",
      "\u001b[1;32m<ipython-input-7-6dd5447324cb>\u001b[0m in \u001b[0;36m<module>\u001b[1;34m()\u001b[0m\n\u001b[0;32m      1\u001b[0m \u001b[1;31m# Acquires the values for each column in Alpha/Beta DataFrames\u001b[0m\u001b[1;33m\u001b[0m\u001b[1;33m\u001b[0m\u001b[0m\n\u001b[1;32m----> 2\u001b[1;33m \u001b[0maverage_power_ab_sim\u001b[0m \u001b[1;33m=\u001b[0m \u001b[0mdf_ab_sim\u001b[0m\u001b[1;33m.\u001b[0m\u001b[0maverage_power\u001b[0m\u001b[1;33m.\u001b[0m\u001b[0mvalues\u001b[0m\u001b[1;33m\u001b[0m\u001b[0m\n\u001b[0m\u001b[0;32m      3\u001b[0m \u001b[0mcentral_frequency_ab_sim\u001b[0m \u001b[1;33m=\u001b[0m \u001b[0mdf_ab_sim\u001b[0m\u001b[1;33m.\u001b[0m\u001b[0mcentral_frequency\u001b[0m\u001b[1;33m.\u001b[0m\u001b[0mvalues\u001b[0m\u001b[1;33m\u001b[0m\u001b[0m\n\u001b[0;32m      4\u001b[0m \u001b[0mpower_density_ab_sim\u001b[0m \u001b[1;33m=\u001b[0m \u001b[0mdf_ab_sim\u001b[0m\u001b[1;33m.\u001b[0m\u001b[0mpower_density\u001b[0m\u001b[1;33m.\u001b[0m\u001b[0mvalues\u001b[0m\u001b[1;33m\u001b[0m\u001b[0m\n\u001b[0;32m      5\u001b[0m \u001b[1;33m\u001b[0m\u001b[0m\n",
      "\u001b[1;31mNameError\u001b[0m: name 'df_ab_sim' is not defined"
     ]
    }
   ],
   "source": [
    "# Acquires the values for each column in Alpha/Beta DataFrames\n",
    "average_power_ab_sim = df_ab_sim.average_power.values\n",
    "central_frequency_ab_sim = df_ab_sim.central_frequency.values\n",
    "power_density_ab_sim = df_ab_sim.power_density.values\n",
    "\n",
    "# Alpha/Beta null ratios\n",
    "average_power_ab_null = df_ab_null.average_power.values\n",
    "central_frequency_ab_null = df_ab_null.central_frequency.values\n",
    "power_density_ab_null = df_ab_null.power_density.values"
   ]
  },
  {
   "cell_type": "markdown",
   "metadata": {},
   "source": [
    "We cannot use the central frequency method because it uses peak information to find central frequency but we dont have peaks because we do not induce \"oscillations\" in null sythetic data"
   ]
  },
  {
   "cell_type": "markdown",
   "metadata": {},
   "source": [
    "### Theta/Beta Cannonical method"
   ]
  },
  {
   "cell_type": "code",
   "execution_count": 13,
   "metadata": {},
   "outputs": [
    {
     "data": {
      "text/plain": [
       "[<matplotlib.lines.Line2D at 0x19b0757e470>]"
      ]
     },
     "execution_count": 13,
     "metadata": {},
     "output_type": "execute_result"
    },
    {
     "data": {
      "image/png": "[encoded data removed]",
      "text/plain": [
       "<Figure size 432x288 with 1 Axes>"
      ]
     },
     "metadata": {},
     "output_type": "display_data"
    }
   ],
   "source": [
    "# Theta/Beta cannoical calculation plot\n",
    "plt.plot(average_power_tb_sim)\n",
    "plt.plot(average_power_tb_null) "
   ]
  },
  {
   "cell_type": "markdown",
   "metadata": {},
   "source": [
    "### Theta/Beta Density method"
   ]
  },
  {
   "cell_type": "code",
   "execution_count": 14,
   "metadata": {},
   "outputs": [
    {
     "data": {
      "text/plain": [
       "[<matplotlib.lines.Line2D at 0x19b0807d0b8>]"
      ]
     },
     "execution_count": 14,
     "metadata": {},
     "output_type": "execute_result"
    },
    {
     "data": {
      "image/png": "[encoded data removed]",
      "text/plain": [
       "<Figure size 432x288 with 1 Axes>"
      ]
     },
     "metadata": {},
     "output_type": "display_data"
    }
   ],
   "source": [
    "# Theta/Beta density plot\n",
    "plt.plot(power_density_tb_sim) \n",
    "plt.plot(power_density_tb_null)"
   ]
  },
  {
   "cell_type": "markdown",
   "metadata": {},
   "source": [
    "### Alpha/Beta Cannonical method"
   ]
  },
  {
   "cell_type": "code",
   "execution_count": 15,
   "metadata": {},
   "outputs": [
    {
     "data": {
      "text/plain": [
       "[<matplotlib.lines.Line2D at 0x19b080dcc18>]"
      ]
     },
     "execution_count": 15,
     "metadata": {},
     "output_type": "execute_result"
    },
    {
     "data": {
      "image/png": "[encoded data removed]",
      "text/plain": [
       "<Figure size 432x288 with 1 Axes>"
      ]
     },
     "metadata": {},
     "output_type": "display_data"
    }
   ],
   "source": [
    "plt.plot(average_power_ab_sim)\n",
    "plt.plot(average_power_ab_null) "
   ]
  },
  {
   "cell_type": "markdown",
   "metadata": {},
   "source": [
    "### Alpha/Beta Density method"
   ]
  },
  {
   "cell_type": "code",
   "execution_count": 16,
   "metadata": {},
   "outputs": [
    {
     "data": {
      "text/plain": [
       "[<matplotlib.lines.Line2D at 0x19b0812f0f0>]"
      ]
     },
     "execution_count": 16,
     "metadata": {},
     "output_type": "execute_result"
    },
    {
     "data": {
      "image/png": "[encoded data removed]",
      "text/plain": [
       "<Figure size 432x288 with 1 Axes>"
      ]
     },
     "metadata": {},
     "output_type": "display_data"
    }
   ],
   "source": [
    "plt.plot(power_density_ab_sim)\n",
    "plt.plot(power_density_ab_null) "
   ]
  },
  {
   "cell_type": "code",
   "execution_count": 22,
   "metadata": {},
   "outputs": [
    {
     "data": {
      "text/plain": [
       "<matplotlib.collections.PathCollection at 0x19b092a9198>"
      ]
     },
     "execution_count": 22,
     "metadata": {},
     "output_type": "execute_result"
    },
    {
     "data": {
      "image/png": "[encoded data removed]",
      "text/plain": [
       "<Figure size 432x288 with 1 Axes>"
      ]
     },
     "metadata": {},
     "output_type": "display_data"
    }
   ],
   "source": [
    "plt.scatter(slopes,average_power_tb_sim)"
   ]
  },
  {
   "cell_type": "code",
   "execution_count": 24,
   "metadata": {},
   "outputs": [
    {
     "data": {
      "text/plain": [
       "<matplotlib.collections.PathCollection at 0x19b092e9550>"
      ]
     },
     "execution_count": 24,
     "metadata": {},
     "output_type": "execute_result"
    },
    {
     "data": {
      "image/png": "[encoded data removed]",
      "text/plain": [
       "<Figure size 432x288 with 1 Axes>"
      ]
     },
     "metadata": {},
     "output_type": "display_data"
    }
   ],
   "source": [
    "plt.scatter(slopes,average_power_ab_sim)"
   ]
  }
 ],
 "metadata": {
  "kernelspec": {
   "display_name": "Python 3",
   "language": "python",
   "name": "python3"
  },
  "language_info": {
   "codemirror_mode": {
    "name": "ipython",
    "version": 3
   },
   "file_extension": ".py",
   "mimetype": "text/x-python",
   "name": "python",
   "nbconvert_exporter": "python",
   "pygments_lexer": "ipython3",
   "version": "3.6.5"
  }
 },
 "nbformat": 4,
 "nbformat_minor": 2
}
