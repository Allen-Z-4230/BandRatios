{
 "cells": [
  {
   "cell_type": "markdown",
   "metadata": {},
   "source": [
    "# EEG Analysis\n",
    "\n",
    "In this notebook, we will analyze an EEG dataset, the [MIPDB dataset](http://fcon_1000.projects.nitrc.org/indi/cmi_eeg/) from the [ChildMind Institute](https://childmind.org).\n",
    "\n",
    "Note that the pre-processing of the data as availble in the dataset, doing data cleaning and calculating power spectra, is done via a script that is available in the `scripts` folder. The resultant power spectra from this process are available in the `data` folder. \n",
    "\n",
    "In this analysis, we will process the power spectra, calculating band ratio measures and parameterizing spectral features, and examine their inter-relations."
   ]
  },
  {
   "cell_type": "code",
   "execution_count": 1,
   "metadata": {},
   "outputs": [],
   "source": [
    "%matplotlib inline\n",
    "\n",
    "import csv\n",
    "\n",
    "import pandas as pd\n",
    "\n",
    "import mne\n",
    "\n",
    "import seaborn as sns\n",
    "sns.set_context('talk')"
   ]
  },
  {
   "cell_type": "code",
   "execution_count": 2,
   "metadata": {},
   "outputs": [],
   "source": [
    "# Import custom project code\n",
    "import sys\n",
    "sys.path.append('../bratios')\n",
    "from analysis import param_ratio_corr, nan_corr_spearman, print_aperiodic_correlation\n",
    "from plot import plot_param_ratio_corr, plot_param_ratio_corr_exp\n",
    "from paths import DATA_PATHS as dp"
   ]
  },
  {
   "cell_type": "code",
   "execution_count": 3,
   "metadata": {},
   "outputs": [],
   "source": [
    "# This turns off a deprecation warning that comes up\n",
    "#   It's from MNE about how we access the montage. \n",
    "import warnings\n",
    "warnings.filterwarnings(\"ignore\", category=DeprecationWarning)"
   ]
  },
  {
   "cell_type": "code",
   "execution_count": 4,
   "metadata": {},
   "outputs": [],
   "source": [
    "# Settings\n",
    "SAVE_FIG = False\n",
    "PROCESS_DATA = False   # If False, reload previously processed & saved data\n",
    "SHOW_SUB = False       # Whether to display correlation plots for channel sub-selections\n",
    "SHOW_EXP = False       # Whether to display plots for the aperiodic exponent correlation"
   ]
  },
  {
   "cell_type": "markdown",
   "metadata": {},
   "source": [
    "## Import Data\n",
    "\n",
    "Here we import power spectra and select channel clusters from the EEG montage that was used."
   ]
  },
  {
   "cell_type": "code",
   "execution_count": 5,
   "metadata": {},
   "outputs": [],
   "source": [
    "# Read datafile with dataset information\n",
    "data = pd.read_csv(dp.make_file_path(dp.eeg_meta, 'MIPDB_PublicFile', 'csv'))"
   ]
  },
  {
   "cell_type": "code",
   "execution_count": 6,
   "metadata": {
    "scrolled": true
   },
   "outputs": [],
   "source": [
    "# Read in list of channel names that are kept in reduced 111 montage\n",
    "with open(dp.make_file_path(dp.eeg_meta, 'chans111', 'csv'), 'r') as csv_file:\n",
    "    reader = csv.reader(csv_file)\n",
    "    ch_labels = list(reader)[0]\n",
    "    \n",
    "# Read montage, reduced to 111 channel selection\n",
    "montage = mne.channels.read_montage('GSN-HydroCel-129', ch_names=ch_labels)"
   ]
  },
  {
   "cell_type": "code",
   "execution_count": 7,
   "metadata": {},
   "outputs": [],
   "source": [
    "# Get the list of all channels\n",
    "all_chans = mne.pick_channels(montage.ch_names, [])"
   ]
  },
  {
   "cell_type": "code",
   "execution_count": 8,
   "metadata": {},
   "outputs": [],
   "source": [
    "# Define a channel cluster of interest\n",
    "ch_cluster_frontal = ['E15', 'E18', 'E16', 'E10', 'E11']\n",
    "ch_cluster_central = ['E7','E106', 'E31', 'Cz', 'E80']\n",
    "ch_cluster_parietal = ['E71', 'E76', 'E70', 'E75', 'E83']\n",
    "\n",
    "# Get the indices of the channels of interest\n",
    "ch_inds_frontal = mne.pick_channels(montage.ch_names, ch_cluster_frontal)\n",
    "ch_inds_central = mne.pick_channels(montage.ch_names, ch_cluster_central)\n",
    "ch_inds_parietal = mne.pick_channels(montage.ch_names, ch_cluster_parietal)"
   ]
  },
  {
   "cell_type": "code",
   "execution_count": 9,
   "metadata": {},
   "outputs": [],
   "source": [
    "# Get a list of all channels of interest\n",
    "ch_interest = ch_cluster_frontal + ch_cluster_central + ch_cluster_parietal\n",
    "montage.selection = ch_interest"
   ]
  },
  {
   "cell_type": "markdown",
   "metadata": {},
   "source": [
    "# Correlation between Spectral Parameters and Ratio Measures\n",
    "\n",
    "Below we run our data through a process which returns a dataframe where each row is a specific channel from a subject. \n",
    "\n",
    "Columns include spectral parameters for alpha, beta, and theta oscillations as well as theta/beta ratio, theta/alpha ratio, and alpha/beta ratio."
   ]
  },
  {
   "cell_type": "code",
   "execution_count": 10,
   "metadata": {
    "scrolled": true
   },
   "outputs": [],
   "source": [
    "# Create the dataframe of all the data\n",
    "if PROCESS_DATA:\n",
    "    \n",
    "    # Load and process the data\n",
    "    df = get_all_data(data, all_chans)\n",
    "    \n",
    "    # Save out the contructed dataframe\n",
    "    df.to_csv(dp.make_file_path(dp.eeg_outputs, 'spectral_measures_dataframe', 'csv'))\n",
    "\n",
    "else:\n",
    "    # Reload the dataframe\n",
    "    df = pd.read_csv(dp.make_file_path(dp.eeg_outputs, 'spectral_measures_dataframe', 'csv'))"
   ]
  },
  {
   "cell_type": "markdown",
   "metadata": {},
   "source": [
    "The above process creates a dataframe which each measure calculated and extracted for each subject, each channel."
   ]
  },
  {
   "cell_type": "code",
   "execution_count": 11,
   "metadata": {},
   "outputs": [
    {
     "data": {
      "text/html": [
       "<div>\n",
       "<style scoped>\n",
       "    .dataframe tbody tr th:only-of-type {\n",
       "        vertical-align: middle;\n",
       "    }\n",
       "\n",
       "    .dataframe tbody tr th {\n",
       "        vertical-align: top;\n",
       "    }\n",
       "\n",
       "    .dataframe thead th {\n",
       "        text-align: right;\n",
       "    }\n",
       "</style>\n",
       "<table border=\"1\" class=\"dataframe\">\n",
       "  <thead>\n",
       "    <tr style=\"text-align: right;\">\n",
       "      <th></th>\n",
       "      <th>Unnamed: 0</th>\n",
       "      <th>ABR</th>\n",
       "      <th>Age</th>\n",
       "      <th>Alpha_BW</th>\n",
       "      <th>Alpha_CF</th>\n",
       "      <th>Alpha_PW</th>\n",
       "      <th>Beta_BW</th>\n",
       "      <th>Beta_CF</th>\n",
       "      <th>Beta_PW</th>\n",
       "      <th>Chan_ID</th>\n",
       "      <th>Exp</th>\n",
       "      <th>Off</th>\n",
       "      <th>Subj_ID</th>\n",
       "      <th>TAR</th>\n",
       "      <th>TBR</th>\n",
       "      <th>Theta_BW</th>\n",
       "      <th>Theta_CF</th>\n",
       "      <th>Theta_PW</th>\n",
       "    </tr>\n",
       "  </thead>\n",
       "  <tbody>\n",
       "    <tr>\n",
       "      <th>0</th>\n",
       "      <td>0</td>\n",
       "      <td>7.813890</td>\n",
       "      <td>10.0</td>\n",
       "      <td>2.576703</td>\n",
       "      <td>10.435449</td>\n",
       "      <td>0.632868</td>\n",
       "      <td>1.000000</td>\n",
       "      <td>21.527198</td>\n",
       "      <td>0.400035</td>\n",
       "      <td>0.0</td>\n",
       "      <td>1.861029</td>\n",
       "      <td>1.198543</td>\n",
       "      <td>A00051826</td>\n",
       "      <td>1.910381</td>\n",
       "      <td>14.927507</td>\n",
       "      <td>2.465467</td>\n",
       "      <td>7.168887</td>\n",
       "      <td>0.620085</td>\n",
       "    </tr>\n",
       "    <tr>\n",
       "      <th>1</th>\n",
       "      <td>1</td>\n",
       "      <td>6.434886</td>\n",
       "      <td>10.0</td>\n",
       "      <td>2.486382</td>\n",
       "      <td>10.419302</td>\n",
       "      <td>0.437829</td>\n",
       "      <td>1.000000</td>\n",
       "      <td>21.621280</td>\n",
       "      <td>0.398605</td>\n",
       "      <td>1.0</td>\n",
       "      <td>1.921815</td>\n",
       "      <td>1.667305</td>\n",
       "      <td>A00051826</td>\n",
       "      <td>2.560303</td>\n",
       "      <td>16.475258</td>\n",
       "      <td>2.423633</td>\n",
       "      <td>7.288577</td>\n",
       "      <td>0.636508</td>\n",
       "    </tr>\n",
       "    <tr>\n",
       "      <th>2</th>\n",
       "      <td>2</td>\n",
       "      <td>7.159705</td>\n",
       "      <td>10.0</td>\n",
       "      <td>3.150005</td>\n",
       "      <td>10.162053</td>\n",
       "      <td>0.562540</td>\n",
       "      <td>1.561147</td>\n",
       "      <td>23.902277</td>\n",
       "      <td>0.436887</td>\n",
       "      <td>2.0</td>\n",
       "      <td>1.928513</td>\n",
       "      <td>1.440073</td>\n",
       "      <td>A00051826</td>\n",
       "      <td>2.345069</td>\n",
       "      <td>16.790004</td>\n",
       "      <td>1.000000</td>\n",
       "      <td>7.672382</td>\n",
       "      <td>0.571536</td>\n",
       "    </tr>\n",
       "    <tr>\n",
       "      <th>3</th>\n",
       "      <td>3</td>\n",
       "      <td>7.314351</td>\n",
       "      <td>10.0</td>\n",
       "      <td>3.084685</td>\n",
       "      <td>10.129066</td>\n",
       "      <td>0.540991</td>\n",
       "      <td>1.116479</td>\n",
       "      <td>23.754142</td>\n",
       "      <td>0.321803</td>\n",
       "      <td>3.0</td>\n",
       "      <td>1.994314</td>\n",
       "      <td>1.536313</td>\n",
       "      <td>A00051826</td>\n",
       "      <td>2.292491</td>\n",
       "      <td>16.768082</td>\n",
       "      <td>1.291792</td>\n",
       "      <td>6.405548</td>\n",
       "      <td>0.463999</td>\n",
       "    </tr>\n",
       "    <tr>\n",
       "      <th>4</th>\n",
       "      <td>4</td>\n",
       "      <td>8.363157</td>\n",
       "      <td>10.0</td>\n",
       "      <td>2.832392</td>\n",
       "      <td>10.198237</td>\n",
       "      <td>0.541733</td>\n",
       "      <td>1.000000</td>\n",
       "      <td>23.822393</td>\n",
       "      <td>0.201616</td>\n",
       "      <td>4.0</td>\n",
       "      <td>2.005431</td>\n",
       "      <td>1.579849</td>\n",
       "      <td>A00051826</td>\n",
       "      <td>2.600753</td>\n",
       "      <td>21.750502</td>\n",
       "      <td>1.621394</td>\n",
       "      <td>6.952035</td>\n",
       "      <td>0.554800</td>\n",
       "    </tr>\n",
       "  </tbody>\n",
       "</table>\n",
       "</div>"
      ],
      "text/plain": [
       "   Unnamed: 0       ABR   Age  Alpha_BW   Alpha_CF  Alpha_PW   Beta_BW  \\\n",
       "0           0  7.813890  10.0  2.576703  10.435449  0.632868  1.000000   \n",
       "1           1  6.434886  10.0  2.486382  10.419302  0.437829  1.000000   \n",
       "2           2  7.159705  10.0  3.150005  10.162053  0.562540  1.561147   \n",
       "3           3  7.314351  10.0  3.084685  10.129066  0.540991  1.116479   \n",
       "4           4  8.363157  10.0  2.832392  10.198237  0.541733  1.000000   \n",
       "\n",
       "     Beta_CF   Beta_PW  Chan_ID       Exp       Off    Subj_ID       TAR  \\\n",
       "0  21.527198  0.400035      0.0  1.861029  1.198543  A00051826  1.910381   \n",
       "1  21.621280  0.398605      1.0  1.921815  1.667305  A00051826  2.560303   \n",
       "2  23.902277  0.436887      2.0  1.928513  1.440073  A00051826  2.345069   \n",
       "3  23.754142  0.321803      3.0  1.994314  1.536313  A00051826  2.292491   \n",
       "4  23.822393  0.201616      4.0  2.005431  1.579849  A00051826  2.600753   \n",
       "\n",
       "         TBR  Theta_BW  Theta_CF  Theta_PW  \n",
       "0  14.927507  2.465467  7.168887  0.620085  \n",
       "1  16.475258  2.423633  7.288577  0.636508  \n",
       "2  16.790004  1.000000  7.672382  0.571536  \n",
       "3  16.768082  1.291792  6.405548  0.463999  \n",
       "4  21.750502  1.621394  6.952035  0.554800  "
      ]
     },
     "execution_count": 11,
     "metadata": {},
     "output_type": "execute_result"
    }
   ],
   "source": [
    "# Check out the created dataframe\n",
    "df.head()"
   ]
  },
  {
   "cell_type": "markdown",
   "metadata": {},
   "source": [
    "Now, we can use the function `param_ratio_corr()` to find the correlations between a ratio measure and all spectral parameters.\n",
    "\n",
    "We can now do that, stepping through each ratio measure, and sub-selecting different channel clusters, as we wish. \n",
    "\n",
    "In the subsequent analyses, we will display the correlation matrices for the global results (across all channels). \n",
    "\n",
    "We also calculate and save out figure for each channel cluster, which are saved and available in the `figures` folder."
   ]
  },
  {
   "cell_type": "markdown",
   "metadata": {},
   "source": [
    "## Theta Beta Ratio (TBR)\n",
    "\n",
    "Compare the theta-beta ratio to spectral parameters."
   ]
  },
  {
   "cell_type": "markdown",
   "metadata": {},
   "source": [
    "### Global\n",
    "\n",
    "Calculate the relationship between ratio measure and spectral features, across all channels."
   ]
  },
  {
   "cell_type": "code",
   "execution_count": 12,
   "metadata": {
    "scrolled": true
   },
   "outputs": [],
   "source": [
    "# Calculate the correlation between ratios and spectral features\n",
    "tbr_per, tbr_ap = param_ratio_corr(df, \"TBR\", all_chans, func=nan_corr_spearman)"
   ]
  },
  {
   "cell_type": "code",
   "execution_count": 13,
   "metadata": {},
   "outputs": [
    {
     "name": "stdout",
     "output_type": "stream",
     "text": [
      "The corr of TBR to Exp is 0.73\n",
      "The corr of TBR to Off is 0.67\n",
      "The corr of TBR to Age is -0.61\n"
     ]
    }
   ],
   "source": [
    "# Print out results of correlates between ratio and aperiodic & demographic features\n",
    "print_aperiodic_correlation(\"TBR\", tbr_ap)"
   ]
  },
  {
   "cell_type": "code",
   "execution_count": 14,
   "metadata": {},
   "outputs": [
    {
     "data": {
      "image/png": "[encoded data removed]",
      "text/plain": [
       "<Figure size 432x288 with 2 Axes>"
      ]
     },
     "metadata": {
      "needs_background": "light"
     },
     "output_type": "display_data"
    }
   ],
   "source": [
    "# Plot the correlation matrix of the ratio measure and spectral features\n",
    "plot_param_ratio_corr(tbr_per, save_fig=SAVE_FIG, file_name=\"Global_TBR_corrs\")\n",
    "plot_param_ratio_corr_exp(tbr_ap, show=SHOW_EXP, save_fig=SAVE_FIG, file_name=\"Global_TBR_corrs\")"
   ]
  },
  {
   "cell_type": "markdown",
   "metadata": {},
   "source": [
    "### Channel Sub-Selections\n",
    "\n",
    "The next set of cells calculates the same measures on channel sub-selections.\n",
    "\n",
    "By default, these plots are not displayed, but are availalbe in `figures`."
   ]
  },
  {
   "cell_type": "code",
   "execution_count": 15,
   "metadata": {},
   "outputs": [],
   "source": [
    "# Frontal Channels\n",
    "tbr_per_fr, tbr_ap_fr = param_ratio_corr(df, \"TBR\", ch_inds_frontal, func=nan_corr_spearman)\n",
    "print_aperiodic_correlation(\"TBR\", tbr_ap_fr, show=SHOW_SUB)\n",
    "plot_param_ratio_corr(tbr_per_fr, show=SHOW_SUB, save_fig=SAVE_FIG, file_name=\"Frontal_TBR_corrs\")\n",
    "plot_param_ratio_corr_exp(tbr_ap_fr, show=False, save_fig=SAVE_FIG, file_name=\"Frontal_TBR_corrs\")"
   ]
  },
  {
   "cell_type": "code",
   "execution_count": 16,
   "metadata": {},
   "outputs": [],
   "source": [
    "# Central channels\n",
    "tbr_per_ce, tbr_ap_ce = param_ratio_corr(df, \"TBR\", ch_inds_central, func=nan_corr_spearman)\n",
    "print_aperiodic_correlation(\"TBR\", tbr_ap_ce, show=SHOW_SUB)\n",
    "plot_param_ratio_corr(tbr_per_ce, show=SHOW_SUB, save_fig=SAVE_FIG, file_name=\"Central_TBR_corrs\")\n",
    "plot_param_ratio_corr_exp(tbr_ap_ce, show=False, save_fig=SAVE_FIG, file_name=\"Central_TBR_corrs\")"
   ]
  },
  {
   "cell_type": "code",
   "execution_count": 17,
   "metadata": {},
   "outputs": [],
   "source": [
    "# Parietal channels\n",
    "tbr_per_pa, tbr_ap_pa = param_ratio_corr(df, \"TBR\", ch_inds_parietal, func=nan_corr_spearman)\n",
    "print_aperiodic_correlation(\"TBR\", tbr_ap_pa, show=SHOW_SUB)\n",
    "plot_param_ratio_corr(tbr_per_pa, show=SHOW_SUB, save_fig=SAVE_FIG, file_name=\"Parietal_TBR_corrs\")\n",
    "plot_param_ratio_corr_exp(tbr_ap_pa, show=False, save_fig=SAVE_FIG, file_name=\"Parietal_TBR_corrs\")"
   ]
  },
  {
   "cell_type": "markdown",
   "metadata": {},
   "source": [
    "## TAR: Theta Alpha Ratio\n",
    "\n",
    "Compare the theta-alpha ratio to spectral parameters."
   ]
  },
  {
   "cell_type": "markdown",
   "metadata": {},
   "source": [
    "### Global\n",
    "\n",
    "Calculate the relationship between ratio measure and spectral features, across all channels."
   ]
  },
  {
   "cell_type": "code",
   "execution_count": 18,
   "metadata": {},
   "outputs": [
    {
     "name": "stdout",
     "output_type": "stream",
     "text": [
      "The corr of TAR to Exp is 0.19\n",
      "The corr of TAR to Off is 0.17\n",
      "The corr of TAR to Age is -0.33\n"
     ]
    }
   ],
   "source": [
    "tar_per, tar_ap = param_ratio_corr(df, \"TAR\", all_chans, func=nan_corr_spearman)\n",
    "print_aperiodic_correlation(\"TAR\", tar_ap)"
   ]
  },
  {
   "cell_type": "code",
   "execution_count": 19,
   "metadata": {},
   "outputs": [
    {
     "data": {
      "image/png": "[encoded data removed]",
      "text/plain": [
       "<Figure size 432x288 with 2 Axes>"
      ]
     },
     "metadata": {
      "needs_background": "light"
     },
     "output_type": "display_data"
    }
   ],
   "source": [
    "plot_param_ratio_corr(tar_per, save_fig=SAVE_FIG, file_name=\"Global_TAR_corrs\")\n",
    "plot_param_ratio_corr_exp(tar_ap, show=SHOW_EXP, save_fig=SAVE_FIG, file_name=\"Global_TAR_corrs\")"
   ]
  },
  {
   "cell_type": "markdown",
   "metadata": {},
   "source": [
    "### Channel Sub-Selections\n",
    "\n",
    "The next set of cells calculates the same measures on channel sub-selections.\n",
    "\n",
    "By default, these plots are not displayed, but are availalbe in `figures`."
   ]
  },
  {
   "cell_type": "code",
   "execution_count": 20,
   "metadata": {},
   "outputs": [],
   "source": [
    "# Frontal Channels\n",
    "tar_per_fr, tar_ap_fr = param_ratio_corr(df, \"TAR\", ch_inds_frontal, func=nan_corr_spearman)\n",
    "print_aperiodic_correlation(\"TAR\", tar_ap_fr, show=SHOW_SUB)\n",
    "plot_param_ratio_corr(tar_per_fr, show=SHOW_SUB, save_fig=SAVE_FIG, file_name=\"Frontal_TAR_corrs\")\n",
    "plot_param_ratio_corr_exp(tar_ap_fr, show=False, save_fig=SAVE_FIG, file_name=\"Frontal_TAR_corrs\")"
   ]
  },
  {
   "cell_type": "code",
   "execution_count": 21,
   "metadata": {},
   "outputs": [],
   "source": [
    "# Central Channels\n",
    "tar_per_ce, tar_ap_ce = param_ratio_corr(df, \"TAR\", ch_inds_central, func=nan_corr_spearman)\n",
    "print_aperiodic_correlation(\"TAR\", tar_ap_ce, show=SHOW_SUB)\n",
    "plot_param_ratio_corr(tar_per_ce, show=SHOW_SUB, save_fig=SAVE_FIG, file_name=\"Central_TAR_corrs\")\n",
    "plot_param_ratio_corr_exp(tar_ap_ce, show=False, save_fig=SAVE_FIG, file_name=\"Central_TAR_corrs\")"
   ]
  },
  {
   "cell_type": "code",
   "execution_count": 22,
   "metadata": {},
   "outputs": [],
   "source": [
    "# Parietal Channels\n",
    "tar_per_pa, tar_ap_pa = param_ratio_corr(df, \"TAR\", ch_inds_parietal, func=nan_corr_spearman)\n",
    "print_aperiodic_correlation(\"TAR\", tar_ap_pa, show=SHOW_SUB)\n",
    "plot_param_ratio_corr(tar_per_pa, show=SHOW_SUB, save_fig=SAVE_FIG, file_name=\"Parietal_TAR_corrs\")\n",
    "plot_param_ratio_corr_exp(tar_ap_pa, show=False, save_fig=SAVE_FIG, file_name=\"Parietal_TAR_corrs\")"
   ]
  },
  {
   "cell_type": "markdown",
   "metadata": {},
   "source": [
    "## Alpha Beta Ratio (ABR)\n",
    "\n",
    "Compare the theta-alpha ratio to spectral parameters."
   ]
  },
  {
   "cell_type": "markdown",
   "metadata": {},
   "source": [
    "### Global\n",
    "\n",
    "Calculate the relationship between ratio measure and spectral features, across all channels."
   ]
  },
  {
   "cell_type": "code",
   "execution_count": 23,
   "metadata": {},
   "outputs": [
    {
     "name": "stdout",
     "output_type": "stream",
     "text": [
      "The corr of ABR to Exp is 0.33\n",
      "The corr of ABR to Off is 0.31\n",
      "The corr of ABR to Age is -0.09\n"
     ]
    }
   ],
   "source": [
    "abr_per, abr_ap = param_ratio_corr(df, \"ABR\", all_chans, func=nan_corr_spearman)\n",
    "print_aperiodic_correlation(\"ABR\", abr_ap)"
   ]
  },
  {
   "cell_type": "code",
   "execution_count": 24,
   "metadata": {},
   "outputs": [
    {
     "data": {
      "image/png": "[encoded data removed]",
      "text/plain": [
       "<Figure size 432x288 with 2 Axes>"
      ]
     },
     "metadata": {
      "needs_background": "light"
     },
     "output_type": "display_data"
    }
   ],
   "source": [
    "plot_param_ratio_corr(abr_per, save_fig=SAVE_FIG, file_name=\"Global_ABR_corrs\")\n",
    "plot_param_ratio_corr_exp(abr_ap, show=SHOW_EXP, save_fig=SAVE_FIG, file_name=\"Global_ABR_corrs\")"
   ]
  },
  {
   "cell_type": "markdown",
   "metadata": {},
   "source": [
    "### Channel Sub-Selections\n",
    "\n",
    "The next set of cells calculates the same measures on channel sub-selections.\n",
    "\n",
    "By default, these plots are not displayed, but are availalbe in `figures`."
   ]
  },
  {
   "cell_type": "code",
   "execution_count": 25,
   "metadata": {},
   "outputs": [],
   "source": [
    "# Frontal Channels\n",
    "abr_per_fr, abr_ap_fr = param_ratio_corr(df, \"ABR\", ch_inds_frontal, func=nan_corr_spearman)\n",
    "print_aperiodic_correlation(\"ABR\", abr_ap_fr, show=SHOW_SUB)\n",
    "plot_param_ratio_corr(abr_per_fr, show=SHOW_SUB, save_fig=SAVE_FIG, file_name=\"Frontal_ABR_corrs\")\n",
    "plot_param_ratio_corr_exp(abr_ap_fr, show=False, save_fig=SAVE_FIG, file_name=\"Frontal_ABR_corrs\")"
   ]
  },
  {
   "cell_type": "code",
   "execution_count": 26,
   "metadata": {},
   "outputs": [],
   "source": [
    "# Central Channels\n",
    "abr_per_ce, abr_ap_ce = param_ratio_corr(df, \"ABR\", ch_inds_central, func=nan_corr_spearman)\n",
    "print_aperiodic_correlation(\"ABR\", abr_ap_ce, show=SHOW_SUB)\n",
    "plot_param_ratio_corr(abr_per_ce, show=SHOW_SUB, save_fig=SAVE_FIG, file_name=\"Central_ABR_corrs\")\n",
    "plot_param_ratio_corr_exp(abr_ap_ce, show=False, save_fig=SAVE_FIG, file_name=\"Central_ABR_corrs\")"
   ]
  },
  {
   "cell_type": "code",
   "execution_count": 27,
   "metadata": {},
   "outputs": [],
   "source": [
    "# Parietal Channels\n",
    "abr_per_pa, abr_ap_pa = param_ratio_corr(df, \"ABR\", ch_inds_parietal, func=nan_corr_spearman)\n",
    "print_aperiodic_correlation(\"ABR\", abr_ap_pa, show=SHOW_SUB)\n",
    "plot_param_ratio_corr(abr_per_pa, show=SHOW_SUB, save_fig=SAVE_FIG, file_name=\"Parietal_ABR_corrs\")\n",
    "plot_param_ratio_corr_exp(abr_ap_pa, show=False, save_fig=SAVE_FIG, file_name=\"Parietal_ABR_corrs\")"
   ]
  }
 ],
 "metadata": {
  "kernelspec": {
   "display_name": "Python 3",
   "language": "python",
   "name": "python3"
  },
  "language_info": {
   "codemirror_mode": {
    "name": "ipython",
    "version": 3
   },
   "file_extension": ".py",
   "mimetype": "text/x-python",
   "name": "python",
   "nbconvert_exporter": "python",
   "pygments_lexer": "ipython3",
   "version": "3.7.3"
  }
 },
 "nbformat": 4,
 "nbformat_minor": 2
}
