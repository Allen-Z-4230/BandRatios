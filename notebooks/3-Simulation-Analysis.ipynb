{
 "cells": [
  {
   "cell_type": "markdown",
   "metadata": {},
   "source": [
    "## Simulation Analysis\n",
    "\n",
    "This notebook will go over analyzing simulated data gathered from 2-Simulation-Generation."
   ]
  },
  {
   "cell_type": "code",
   "execution_count": 1,
   "metadata": {},
   "outputs": [],
   "source": [
    "# Set matplotlib for plotting in the notebook\n",
    "%matplotlib inline\n",
    "import matplotlib.pyplot as plt\n",
    "import pandas as pd\n",
    "import numpy as np\n",
    "import seaborn as sb\n",
    "\n",
    "from fooof import FOOOF, FOOOFGroup\n",
    "from fooof.analysis import *\n",
    "from fooof.synth import *\n",
    "\n",
    "from ratios import *\n",
    "from settings import *"
   ]
  },
  {
   "cell_type": "markdown",
   "metadata": {},
   "source": [
    "## Analyze results from Amplitude-varied simulations"
   ]
  },
  {
   "cell_type": "code",
   "execution_count": 2,
   "metadata": {},
   "outputs": [],
   "source": [
    "# Load data\n",
    "amp_dat = np.load(\"../dat/AMP_DEMO.npy\")"
   ]
  },
  {
   "cell_type": "code",
   "execution_count": 3,
   "metadata": {},
   "outputs": [],
   "source": [
    "amp_syns = []\n",
    "\n",
    "for val in amp_dat[2]:\n",
    "    amp_syns.append(val.gaussian_params[0][1])"
   ]
  },
  {
   "cell_type": "code",
   "execution_count": 4,
   "metadata": {},
   "outputs": [],
   "source": [
    "# Calculate band ratios\n",
    "amp_ratios = []\n",
    "\n",
    "for amp in amp_dat[1]:\n",
    "    amp_ratios.append(calc_band_ratio(amp_dat[0], amp, THETA_BAND, BETA_BAND))"
   ]
  },
  {
   "cell_type": "code",
   "execution_count": 5,
   "metadata": {},
   "outputs": [
    {
     "data": {
      "text/plain": [
       "[<matplotlib.lines.Line2D at 0x26b394def28>]"
      ]
     },
     "execution_count": 5,
     "metadata": {},
     "output_type": "execute_result"
    },
    {
     "data": {
      "image/png": "[encoded data removed]",
      "text/plain": [
       "<Figure size 432x288 with 1 Axes>"
      ]
     },
     "metadata": {},
     "output_type": "display_data"
    }
   ],
   "source": [
    "# Create DataFrame\n",
    "amp_cols = np.array([amp_ratios, amp_syns]).T.tolist()\n",
    "\n",
    "df_amp = pd.DataFrame(amp_cols, columns=[\"Band Ratio\", \"Amplitude\"])\n",
    "\n",
    "plt.xlabel(\"Amplitude\")\n",
    "plt.ylabel(\"Band Ratio\")\n",
    "\n",
    "# Fill in axes\n",
    "plt.plot(df_amp.Amplitude, df_amp[\"Band Ratio\"], color='r')"
   ]
  },
  {
   "cell_type": "markdown",
   "metadata": {},
   "source": [
    "Recall that we varied the amplitude of the higher band. Here we see that as amplitude increases, the band ratio value decreases. This is consistent with expectation since band ratios are calculated as (power of low band)/ (power of high band). As the denominator increases, which is reflected by increasing the amplitude of the higher band, band ratios decrease."
   ]
  },
  {
   "cell_type": "markdown",
   "metadata": {},
   "source": [
    "## Aperiodic component and amplitude varied analysis\n",
    "\n",
    "In this section we will see how varying the aperiodic component and amplitude affects band ratios. We will use heat-maps to visualize how the aforementioned parameters affect band ratios."
   ]
  },
  {
   "cell_type": "code",
   "execution_count": 6,
   "metadata": {},
   "outputs": [],
   "source": [
    "# Load Data\n",
    "apc_amp_dat = np.load(\"../dat/APC_AMP_DEMO.npy\")"
   ]
  },
  {
   "cell_type": "code",
   "execution_count": 7,
   "metadata": {},
   "outputs": [],
   "source": [
    "# calculate ratios\n",
    "apc_amp_ratios = []\n",
    "\n",
    "# Calculates ratio when high band is stationary and low band modulates amplitude\n",
    "for apc in apc_amp_dat:\n",
    "    freqs = apc[1]\n",
    "    \n",
    "    for amp_psd in apc[2]:\n",
    "        curr_ratio = calc_band_ratio(freqs, amp_psd, THETA_BAND, BETA_BAND)\n",
    "        apc_amp_ratios.append(curr_ratio)\n"
   ]
  },
  {
   "cell_type": "markdown",
   "metadata": {},
   "source": [
    "The following cells will set up a list of aperiodic conponents and amplitudes to be used to make a table of corresponding ratio values"
   ]
  },
  {
   "cell_type": "code",
   "execution_count": 9,
   "metadata": {},
   "outputs": [],
   "source": [
    "p_apcs = []\n",
    "for apc in APCS:\n",
    "    for amp in AMPS:\n",
    "        p_apcs.append(apc)"
   ]
  },
  {
   "cell_type": "code",
   "execution_count": 10,
   "metadata": {},
   "outputs": [],
   "source": [
    "p_amps = []\n",
    "amp_modulo_val = len(AMPS)\n",
    "\n",
    "for ind, amp in enumerate(apc_amp_ratios):\n",
    "    p_amps.append(round(AMPS[ind % amp_modulo_val],1))  "
   ]
  },
  {
   "cell_type": "code",
   "execution_count": 11,
   "metadata": {
    "scrolled": true
   },
   "outputs": [],
   "source": [
    "data = np.array([p_apcs, p_amps, apc_amp_ratios]).T.tolist()\n",
    "df = pd.DataFrame(data, columns=[\"Aperiodic Component\", \"Amplitude\", \"Band Ratio\"])\n",
    "\n",
    "df_pivot = df.pivot(\"Aperiodic Component\", \"Amplitude\", \"Band Ratio\")\n"
   ]
  },
  {
   "cell_type": "code",
   "execution_count": 13,
   "metadata": {},
   "outputs": [
    {
     "data": {
      "text/plain": [
       "<matplotlib.axes._subplots.AxesSubplot at 0x26b3a85f208>"
      ]
     },
     "execution_count": 13,
     "metadata": {},
     "output_type": "execute_result"
    },
    {
     "data": {
      "image/png": "[encoded data removed]",
      "text/plain": [
       "<Figure size 432x288 with 2 Axes>"
      ]
     },
     "metadata": {},
     "output_type": "display_data"
    }
   ],
   "source": [
    "sb.heatmap(df_pivot)"
   ]
  },
  {
   "cell_type": "markdown",
   "metadata": {},
   "source": [
    "Here we see that low amplitude and high aperiodic values lead to higher ratio values, this is consistent with our isolated amplitude simulation findings."
   ]
  },
  {
   "cell_type": "code",
   "execution_count": null,
   "metadata": {},
   "outputs": [],
   "source": []
  }
 ],
 "metadata": {
  "kernelspec": {
   "display_name": "Python 3",
   "language": "python",
   "name": "python3"
  },
  "language_info": {
   "codemirror_mode": {
    "name": "ipython",
    "version": 3
   },
   "file_extension": ".py",
   "mimetype": "text/x-python",
   "name": "python",
   "nbconvert_exporter": "python",
   "pygments_lexer": "ipython3",
   "version": "3.6.5"
  }
 },
 "nbformat": 4,
 "nbformat_minor": 2
}
