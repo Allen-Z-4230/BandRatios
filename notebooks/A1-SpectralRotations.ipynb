{
 "cells": [
  {
   "cell_type": "markdown",
   "metadata": {},
   "source": [
    "# Rotating Power Spectra\n",
    "\n",
    "This notebook explores the effect of band ratios when power spectrum are rotated around a given frequency."
   ]
  },
  {
   "cell_type": "code",
   "execution_count": 1,
   "metadata": {},
   "outputs": [],
   "source": [
    "%matplotlib inline\n",
    "\n",
    "import numpy as np\n",
    "import pandas as pd\n",
    "import seaborn as sns\n",
    "import matplotlib.pyplot as plt\n",
    "\n",
    "from fooof.sim import *\n",
    "from fooof.plts import plot_spectra"
   ]
  },
  {
   "cell_type": "code",
   "execution_count": 2,
   "metadata": {},
   "outputs": [],
   "source": [
    "# Import custom project code\n",
    "import sys\n",
    "sys.path.append('../bratios')\n",
    "from ratios import *\n",
    "from paths import DATA_PATHS as dp"
   ]
  },
  {
   "cell_type": "markdown",
   "metadata": {},
   "source": [
    "### Rotating Power Spectra\n",
    "\n",
    "Here we will explore the affects that rotating the power spectrum around a given frequency has on resulting band ratio values. \n",
    "\n",
    "We have two free parameters to set: the frequency where we rotate, and the amount of rotation."
   ]
  },
  {
   "cell_type": "code",
   "execution_count": 3,
   "metadata": {},
   "outputs": [],
   "source": [
    "# Calculate power spectra which varying rotational frequency and rotation amount\n",
    "fs, ps = gen_power_spectrum(FREQ_RANGE, AP_DEF, ROT_OSC)\n",
    "output = np.zeros(shape=(len(ROTS), len(DELS), len(fs)))\n",
    "\n",
    "rot_freq_step = Stepper(ROT_FREQS[0], ROT_FREQS[1], ROT_INC)\n",
    "\n",
    "for rot_ind, rot_val in enumerate(rot_freq_step):\n",
    "    delta_step = Stepper(DEL_RANGE[0], DEL_RANGE[1], DEL_INC)\n",
    "    for del_ind, del_val, in enumerate(delta_step):\n",
    "        output[rot_ind, del_ind, :] = rotate_spectrum(fs, ps, del_val, rot_val)\n",
    "\n",
    "# Save out simulated rotation data\n",
    "np.save(dp.make_file_path(dp.demo, 'rotation', 'npy'), output)"
   ]
  },
  {
   "cell_type": "code",
   "execution_count": 4,
   "metadata": {},
   "outputs": [],
   "source": [
    "# Reload saved out rotation data\n",
    "impt = np.load(dp.make_file_path(dp.demo, 'rotation', 'npy'))\n",
    "# [rotations, deltas, freqs]"
   ]
  },
  {
   "cell_type": "code",
   "execution_count": 5,
   "metadata": {},
   "outputs": [],
   "source": [
    "# Calculate Theta/Beta ratio for rotational power spectra.\n",
    "ratios = np.zeros(shape =(len(impt), len(impt[0])) )\n",
    "for rot_ind, rot_val in enumerate(impt):\n",
    "    \n",
    "    for del_ind, del_val in enumerate(impt[0]):\n",
    "        psd = impt[rot_ind, del_ind,:]\n",
    "        ratios[rot_ind, del_ind] = calc_band_ratio(fs, psd, THETA_BAND, BETA_BAND)"
   ]
  },
  {
   "cell_type": "code",
   "execution_count": 6,
   "metadata": {},
   "outputs": [
    {
     "data": {
      "image/png": "[encoded data removed]",
      "text/plain": [
       "<Figure size 432x288 with 2 Axes>"
      ]
     },
     "metadata": {
      "needs_background": "light"
     },
     "output_type": "display_data"
    }
   ],
   "source": [
    "sns.heatmap(ratios)\n",
    "plt.xlabel(\"Rotation Modulation\");\n",
    "plt.ylabel(\"Rotating Frequency\");"
   ]
  },
  {
   "cell_type": "markdown",
   "metadata": {},
   "source": [
    "In the plot above, we can see that there is a significant effect to rotating power spectra, as ratio measures change as we move along the x-axis. This is analogous to simulating different aperiodic exponents. \n",
    "\n",
    "However, we also see that the frequency at which the rotation occurs has no impact, as there is no variation along the y-axis. "
   ]
  }
 ],
 "metadata": {
  "kernelspec": {
   "display_name": "Python 3",
   "language": "python",
   "name": "python3"
  },
  "language_info": {
   "codemirror_mode": {
    "name": "ipython",
    "version": 3
   },
   "file_extension": ".py",
   "mimetype": "text/x-python",
   "name": "python",
   "nbconvert_exporter": "python",
   "pygments_lexer": "ipython3",
   "version": "3.7.3"
  }
 },
 "nbformat": 4,
 "nbformat_minor": 2
}
