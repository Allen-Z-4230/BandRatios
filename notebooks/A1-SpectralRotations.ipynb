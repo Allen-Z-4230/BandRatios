{
 "cells": [
  {
   "cell_type": "markdown",
   "metadata": {},
   "source": [
    "# Rotation exploration"
   ]
  },
  {
   "cell_type": "markdown",
   "metadata": {},
   "source": [
    "This notebook explores the effect of band ratios when power spectrum are rotated around a given frequency."
   ]
  },
  {
   "cell_type": "code",
   "execution_count": 1,
   "metadata": {},
   "outputs": [],
   "source": [
    "%matplotlib inline\n",
    "import sys\n",
    "sys.path.append('../bratios')\n",
    "\n",
    "import matplotlib.pyplot as plt\n",
    "import numpy as np\n",
    "import pandas as pd\n",
    "import seaborn as sns\n",
    "\n",
    "from fooof.sim import *\n",
    "from fooof import FOOOF, FOOOFGroup\n",
    "from fooof.plts import plot_spectra\n",
    "\n",
    "from ratios import *"
   ]
  },
  {
   "cell_type": "markdown",
   "metadata": {},
   "source": [
    "Consider a power spectrum. Here we will explore the affects that rotating the power spectrum around a given frequency has on resulting band ratio values. We have two free parameters to set: the frequency where we rotate, and the amount of rotation."
   ]
  },
  {
   "cell_type": "code",
   "execution_count": 4,
   "metadata": {},
   "outputs": [],
   "source": [
    "# Calculate power spectra which varying rotational frequency and rotation amount\n",
    "fs, ps = gen_power_spectrum(FREQ_RANGE, AP_DEF, ROT_OSC)\n",
    "output = np.zeros(shape=(len(ROTS), len(DELS), len(fs)))\n",
    "\n",
    "rot_freq_step = Stepper(ROT_FREQS[0], ROT_FREQS[1], ROT_INC)\n",
    "\n",
    "for rot_ind, rot_val in enumerate(rot_freq_step):\n",
    "    delta_step = Stepper(DEL_RANGE[0], DEL_RANGE[1], DEL_INC)\n",
    "    for del_ind, del_val, in enumerate(delta_step):\n",
    "        output[rot_ind, del_ind, :] = rotate_spectrum(fs, ps, del_val, rot_val)\n",
    "\n",
    "np.save('../dat/Demo/rotation', output)"
   ]
  },
  {
   "cell_type": "code",
   "execution_count": 5,
   "metadata": {},
   "outputs": [],
   "source": [
    "impt = np.load(\"../dat/Demo/rotation.npy\")\n",
    "# [rotations, deltas, freqs]"
   ]
  },
  {
   "cell_type": "code",
   "execution_count": 6,
   "metadata": {},
   "outputs": [],
   "source": [
    "# Calculate Theta/Beta ratio for rotational power spectra.\n",
    "ratios = np.zeros(shape =(len(impt), len(impt[0])) )\n",
    "for rot_ind, rot_val in enumerate(impt):\n",
    "    \n",
    "    for del_ind, del_val in enumerate(impt[0]):\n",
    "        psd = impt[rot_ind, del_ind,:]\n",
    "        ratios[rot_ind, del_ind] = calc_band_ratio(fs, psd, THETA_BAND, BETA_BAND)"
   ]
  },
  {
   "cell_type": "code",
   "execution_count": 7,
   "metadata": {},
   "outputs": [
    {
     "data": {
      "text/plain": [
       "Text(33.0, 0.5, 'rotating frequency')"
      ]
     },
     "execution_count": 7,
     "metadata": {},
     "output_type": "execute_result"
    },
    {
     "data": {
      "image/png": "[encoded data removed]",
      "text/plain": [
       "<Figure size 432x288 with 2 Axes>"
      ]
     },
     "metadata": {
      "needs_background": "light"
     },
     "output_type": "display_data"
    }
   ],
   "source": [
    "sns.heatmap(ratios)\n",
    "plt.xlabel(\"rotation modulation\")\n",
    "plt.ylabel(\"rotating frequency\")"
   ]
  },
  {
   "cell_type": "markdown",
   "metadata": {},
   "source": [
    "Notice that ratio measures are completely not affected rotational amount"
   ]
  },
  {
   "cell_type": "markdown",
   "metadata": {},
   "source": [
    "In the next notebook we will bring in a human EEG dataset from the ChildMind Institute and analye their ratios by parameterizing their power spectra."
   ]
  },
  {
   "cell_type": "code",
   "execution_count": null,
   "metadata": {},
   "outputs": [],
   "source": []
  }
 ],
 "metadata": {
  "kernelspec": {
   "display_name": "Python 3",
   "language": "python",
   "name": "python3"
  },
  "language_info": {
   "codemirror_mode": {
    "name": "ipython",
    "version": 3
   },
   "file_extension": ".py",
   "mimetype": "text/x-python",
   "name": "python",
   "nbconvert_exporter": "python",
   "pygments_lexer": "ipython3",
   "version": "3.7.3"
  }
 },
 "nbformat": 4,
 "nbformat_minor": 2
}
