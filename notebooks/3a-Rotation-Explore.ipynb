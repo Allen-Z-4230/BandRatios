{
 "cells": [
  {
   "cell_type": "markdown",
   "metadata": {},
   "source": [
    "# Rotation exploration"
   ]
  },
  {
   "cell_type": "markdown",
   "metadata": {},
   "source": [
    "This notebook explores the effect of band ratios when power spectrum are rotated around a given frequency."
   ]
  },
  {
   "cell_type": "code",
   "execution_count": 1,
   "metadata": {},
   "outputs": [],
   "source": [
    "%matplotlib inline\n",
    "import matplotlib.pyplot as plt\n",
    "import numpy as np\n",
    "import pandas as pd\n",
    "import seaborn as sns\n",
    "\n",
    "from fooof.synth import *\n",
    "from fooof import FOOOF, FOOOFGroup\n",
    "from fooof.plts import plot_spectra\n",
    "\n",
    "from ratios import *"
   ]
  },
  {
   "cell_type": "code",
   "execution_count": 2,
   "metadata": {},
   "outputs": [],
   "source": [
    "# Way to generate Data as outlined in out meeting on Friday\n",
    "fs, ps = gen_power_spectrum(FREQ_RANGE, AP_DEF, ROT_OSC)\n",
    "output = np.zeros(shape=(len(ROTS), len(DELS), len(fs)))\n",
    "\n",
    "rot_freq_step = Stepper(ROT_FREQS[0], ROT_FREQS[1], ROT_INC)\n",
    "\n",
    "for rot_ind, rot_val in enumerate(rot_freq_step):\n",
    "    delta_step = Stepper(DEL_RANGE[0], DEL_RANGE[1], DEL_INC)\n",
    "    for del_ind, del_val, in enumerate(delta_step):\n",
    "        output[rot_ind, del_ind, :] = rotate_spectrum(fs, ps, del_val, rot_val)\n",
    "\n",
    "np.save(ROT_DEL_PATH, output)"
   ]
  },
  {
   "cell_type": "code",
   "execution_count": 3,
   "metadata": {},
   "outputs": [],
   "source": [
    "impt = np.load(ROT_DEL_PATH+\".npy\")\n",
    "# [rotations, deltas, freqs]"
   ]
  },
  {
   "cell_type": "code",
   "execution_count": 4,
   "metadata": {},
   "outputs": [],
   "source": [
    "ratios = np.zeros(shape =(len(impt), len(impt[0])) )\n",
    "for rot_ind, rot_val in enumerate(impt):\n",
    "    \n",
    "    for del_ind, del_val in enumerate(impt[0]):\n",
    "        psd = impt[rot_ind, del_ind,:]\n",
    "        ratios[rot_ind, del_ind] = calc_band_ratio(fs, psd, THETA_BAND, BETA_BAND)"
   ]
  },
  {
   "cell_type": "code",
   "execution_count": 5,
   "metadata": {},
   "outputs": [
    {
     "data": {
      "text/plain": [
       "<matplotlib.axes._subplots.AxesSubplot at 0x202f0ae9a90>"
      ]
     },
     "execution_count": 5,
     "metadata": {},
     "output_type": "execute_result"
    },
    {
     "data": {
      "image/png": "[encoded data removed]",
      "text/plain": [
       "<Figure size 432x288 with 2 Axes>"
      ]
     },
     "metadata": {},
     "output_type": "display_data"
    }
   ],
   "source": [
    "sns.heatmap(ratios)"
   ]
  },
  {
   "cell_type": "markdown",
   "metadata": {},
   "source": [
    "Notice that ratio measures are completely not affected rotational amount"
   ]
  },
  {
   "cell_type": "code",
   "execution_count": null,
   "metadata": {},
   "outputs": [],
   "source": []
  }
 ],
 "metadata": {
  "kernelspec": {
   "display_name": "Python 3",
   "language": "python",
   "name": "python3"
  },
  "language_info": {
   "codemirror_mode": {
    "name": "ipython",
    "version": 3
   },
   "file_extension": ".py",
   "mimetype": "text/x-python",
   "name": "python",
   "nbconvert_exporter": "python",
   "pygments_lexer": "ipython3",
   "version": "3.6.5"
  }
 },
 "nbformat": 4,
 "nbformat_minor": 2
}
