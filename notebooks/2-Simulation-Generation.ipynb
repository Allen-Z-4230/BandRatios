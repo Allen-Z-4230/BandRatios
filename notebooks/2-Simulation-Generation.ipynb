{
 "cells": [
  {
   "cell_type": "markdown",
   "metadata": {},
   "source": [
    "## Simulation Generation"
   ]
  },
  {
   "cell_type": "markdown",
   "metadata": {},
   "source": [
    "This notebook will run a sript to generate PSDs with varying slopes and oscillatory parameters in isolation (Central Freuency, Amplitude, Band Width). Settings for data generation can be found in ./gen_data.py"
   ]
  },
  {
   "cell_type": "code",
   "execution_count": 1,
   "metadata": {},
   "outputs": [],
   "source": [
    "# Set matplotlib for plotting in the notebook\n",
    "%matplotlib inline\n",
    "import matplotlib.pyplot as plt\n",
    "\n",
    "import numpy as np\n",
    "\n",
    "from fooof.synth import *\n",
    "from fooof import FOOOFGroup\n",
    "from utils.analysis import *"
   ]
  },
  {
   "cell_type": "markdown",
   "metadata": {},
   "source": [
    "### Generates Simulation Data"
   ]
  },
  {
   "cell_type": "code",
   "execution_count": 3,
   "metadata": {},
   "outputs": [],
   "source": [
    "%run \"gen_data.py\""
   ]
  },
  {
   "cell_type": "markdown",
   "metadata": {},
   "source": [
    "Now we will conduct smoke tests to ensure that our data was actually generated."
   ]
  },
  {
   "cell_type": "markdown",
   "metadata": {},
   "source": [
    "### Center Frequency"
   ]
  },
  {
   "cell_type": "code",
   "execution_count": null,
   "metadata": {},
   "outputs": [],
   "source": [
    "cf_low = np.load(\"./dat/cf_data_low.npy\")\n",
    "\n",
    "fg = FOOOFGroup()\n",
    "fg.add_data(cf_low[0],cf_low[1])\n",
    "fg.fit()\n",
    "\n",
    "for i in [0,5,10,15,20]:\n",
    "    fg.get_fooof(i).plot()"
   ]
  },
  {
   "cell_type": "code",
   "execution_count": null,
   "metadata": {},
   "outputs": [],
   "source": [
    "cf_high = np.load(\"./dat/cf_data_high.npy\")\n",
    "\n",
    "fg = FOOOFGroup()\n",
    "fg.add_data(cf_high[0],cf_high[1])\n",
    "fg.fit()\n",
    "\n",
    "for i in [0,5,10,15,20]:\n",
    "    fg.get_fooof(i).plot()"
   ]
  },
  {
   "cell_type": "markdown",
   "metadata": {},
   "source": [
    "### Amplitude"
   ]
  },
  {
   "cell_type": "code",
   "execution_count": null,
   "metadata": {},
   "outputs": [],
   "source": [
    "amp_low = np.load(\"./dat/amp_data_low.npy\")\n",
    "\n",
    "fg = FOOOFGroup()\n",
    "fg.add_data(amp_low[0],amp_low[1])\n",
    "fg.fit()\n",
    "\n",
    "for i in [0,2,4,6,8]:\n",
    "    fg.get_fooof(i).plot()"
   ]
  },
  {
   "cell_type": "code",
   "execution_count": null,
   "metadata": {},
   "outputs": [],
   "source": [
    "amp_high = np.load(\"./dat/amp_data_high.npy\")\n",
    "\n",
    "fg = FOOOFGroup()\n",
    "fg.add_data(amp_high[0],amp_high[1])\n",
    "fg.fit()\n",
    "\n",
    "for i in [0,1,2,3,4]:\n",
    "    fg.get_fooof(i).plot()"
   ]
  },
  {
   "cell_type": "markdown",
   "metadata": {},
   "source": [
    "### Band width"
   ]
  },
  {
   "cell_type": "code",
   "execution_count": null,
   "metadata": {},
   "outputs": [],
   "source": [
    "bw_low = np.load(\"./dat/bw_data_low.npy\")\n",
    "\n",
    "fg = FOOOFGroup()\n",
    "fg.add_data(bw_low[0],bw_low[1])\n",
    "fg.fit()\n",
    "\n",
    "for i in [0,1,2,3,4]:\n",
    "    fg.get_fooof(i).plot()"
   ]
  },
  {
   "cell_type": "code",
   "execution_count": null,
   "metadata": {},
   "outputs": [],
   "source": [
    "bw_high = np.load(\"./dat/bw_data_high.npy\")\n",
    "\n",
    "fg = FOOOFGroup()\n",
    "fg.add_data(bw_high[0],bw_high[1])\n",
    "fg.fit()\n",
    "\n",
    "for i in [0,1,2,3,4]:\n",
    "    fg.get_fooof(i).plot()"
   ]
  },
  {
   "cell_type": "markdown",
   "metadata": {},
   "source": [
    "### Power law exponent change (In context of neural power spectra)"
   ]
  },
  {
   "cell_type": "code",
   "execution_count": null,
   "metadata": {},
   "outputs": [],
   "source": [
    "slope = np.load(\"./dat/slope_data.npy\")\n",
    "\n",
    "fg = FOOOFGroup()\n",
    "fg.add_data(slope[0],slope[1])\n",
    "fg.fit()\n",
    "\n",
    "for i in [0,2,4,6,8,10]:\n",
    "    fg.get_fooof(i)"
   ]
  },
  {
   "cell_type": "code",
   "execution_count": null,
   "metadata": {},
   "outputs": [],
   "source": []
  }
 ],
 "metadata": {
  "kernelspec": {
   "display_name": "Python 3",
   "language": "python",
   "name": "python3"
  },
  "language_info": {
   "codemirror_mode": {
    "name": "ipython",
    "version": 3
   },
   "file_extension": ".py",
   "mimetype": "text/x-python",
   "name": "python",
   "nbconvert_exporter": "python",
   "pygments_lexer": "ipython3",
   "version": "3.6.5"
  }
 },
 "nbformat": 4,
 "nbformat_minor": 2
}
