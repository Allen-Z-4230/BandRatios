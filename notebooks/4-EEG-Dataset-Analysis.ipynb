{
 "cells": [
  {
   "cell_type": "code",
   "execution_count": 23,
   "metadata": {},
   "outputs": [],
   "source": [
    "%matplotlib inline\n",
    "import matplotlib.pyplot as plt\n",
    "import pandas as pd\n",
    "import numpy as np\n",
    "from numpy.linalg import LinAlgError\n",
    "\n",
    "from fooof import FOOOF, FOOOFGroup\n",
    "from fooof.analysis import *\n",
    "from fooof.synth import *\n",
    "\n",
    "from utils.ratios import *\n",
    "from utils.analysis import *"
   ]
  },
  {
   "cell_type": "code",
   "execution_count": 2,
   "metadata": {},
   "outputs": [],
   "source": [
    "THETA_BAND = [4,8]\n",
    "BETA_BAND = [15,25]"
   ]
  },
  {
   "cell_type": "code",
   "execution_count": 4,
   "metadata": {
    "scrolled": true
   },
   "outputs": [],
   "source": [
    "# Open CSV\n",
    "data = pd.read_csv(\"./dat/MIPDB_PublicFile.csv\")"
   ]
  },
  {
   "cell_type": "markdown",
   "metadata": {},
   "source": [
    "## Young Age"
   ]
  },
  {
   "cell_type": "code",
   "execution_count": 5,
   "metadata": {},
   "outputs": [],
   "source": [
    "young = data[(data['Age'] >= 10) & (data['Age'] <= 13)]\n",
    "\n",
    "#Extract ID's to open their corresponding files\n",
    "young_IDs = young.ID.values\n",
    "\n",
    "#Open Eyes closed data for all IDs\n",
    "problem_files = []\n",
    "missing_files = []\n",
    "young_params = []\n",
    "young_tb_ratios = []\n",
    "\n",
    "for filename in young_IDs:\n",
    "    try:\n",
    "        # Construct FOOOFGroup model on psd\n",
    "        curr = np.load('./dat/psds/'+ filename + '_ec_psds.npz')\n",
    "        fg = FOOOFGroup(verbose=False,)\n",
    "        fg.add_data(curr['arr_0'], curr['arr_1'][0])\n",
    "        fg.fit()\n",
    "        \n",
    "        # Following ratio is only for one block\n",
    "        young_tb_ratios.append(calc_band_ratio(curr['arr_0'],curr['arr_1'][0], THETA_BAND, BETA_BAND))\n",
    "        \n",
    "        # Append params to respective array\n",
    "        young_params.append(fg.get_all_data('background_params'))\n",
    "        young_params.append(fg.get_all_data('peak_params'))\n",
    "        \n",
    "    except FileNotFoundError:\n",
    "        missing_files.append(filename)\n",
    "    except ValueError:\n",
    "        problem_files.append(filename)\n",
    "    except LinAlgError:\n",
    "        problem_files.append(filename)"
   ]
  },
  {
   "cell_type": "code",
   "execution_count": 22,
   "metadata": {},
   "outputs": [
    {
     "data": {
      "text/plain": [
       "11"
      ]
     },
     "execution_count": 22,
     "metadata": {},
     "output_type": "execute_result"
    }
   ],
   "source": [
    "#test = np.load('./dat/psds/'+ filename + '_ec_psds.npz')\n",
    "#test['arr_1'][0][0]\n",
    "len(old_tb_ratios)"
   ]
  },
  {
   "cell_type": "code",
   "execution_count": 12,
   "metadata": {},
   "outputs": [],
   "source": [
    "young_master = []\n",
    "# aggregates the parameters for young people\n",
    "for i in range(0,63,2):\n",
    "    bgs = young_params[i].tolist()\n",
    "    gausses = young_params[i+1].tolist()\n",
    "    \n",
    "    bgs_df = pd.DataFrame({\"Background\" : bgs})\n",
    "    gausses_df = pd.DataFrame({\"Gaussians\" : gausses})\n",
    "    \n",
    "    cur = [bgs_df,gausses_df]\n",
    "    young_master.append(cur)"
   ]
  },
  {
   "cell_type": "code",
   "execution_count": null,
   "metadata": {},
   "outputs": [],
   "source": [
    "you"
   ]
  },
  {
   "cell_type": "markdown",
   "metadata": {},
   "source": [
    "## Old Age"
   ]
  },
  {
   "cell_type": "code",
   "execution_count": 13,
   "metadata": {},
   "outputs": [],
   "source": [
    "old = data[(data['Age'] >= 25)]\n",
    "\n",
    "#Extract ID's to open their corresponding files\n",
    "old_IDs = old.ID.values\n",
    "\n",
    "#Open Eyes closed data for all IDs\n",
    "problem_files_old = []\n",
    "missing_files_old = []\n",
    "old_params = []\n",
    "old_tb_ratios = []\n",
    "for filename in old_IDs:\n",
    "    try:\n",
    "        curr = np.load('./dat/psds/'+ filename + '_ec_psds.npz')\n",
    "        fg = FOOOFGroup(verbose=False)\n",
    "        fg.add_data(curr['arr_0'], curr['arr_1'][0])\n",
    "        fg.fit()\n",
    "        \n",
    "        # Following ratio is only for one block\n",
    "        old_tb_ratios.append(calc_band_ratio(curr['arr_0'], curr['arr_1'][0], THETA_BAND, BETA_BAND))\n",
    "        \n",
    "        old_params.append(fg.get_all_data('background_params'))\n",
    "        old_params.append(fg.get_all_data('peak_params'))\n",
    "        \n",
    "    except FileNotFoundError:\n",
    "        missing_files_old.append(filename)\n",
    "    except ValueError:\n",
    "        problem_files_old.append(filename)\n",
    "    except LinAlgError:\n",
    "        problem_files_old.append(filename)"
   ]
  },
  {
   "cell_type": "code",
   "execution_count": 14,
   "metadata": {},
   "outputs": [],
   "source": [
    "old_master = []\n",
    "for i in range(0,7,2):\n",
    "    bgs = old_params[i].tolist()\n",
    "    gausses = old_params[i+1].tolist()\n",
    "    \n",
    "    bgs_df = pd.DataFrame({\"Background\" : bgs})\n",
    "    gausses_df = pd.DataFrame({\"Gaussians\" : gausses})\n",
    "    \n",
    "    cur = [bgs_df, gausses_df]\n",
    "    old_master.append(cur)"
   ]
  },
  {
   "cell_type": "markdown",
   "metadata": {},
   "source": [
    "## Differences in BG params  "
   ]
  },
  {
   "cell_type": "code",
   "execution_count": 155,
   "metadata": {},
   "outputs": [],
   "source": [
    "#young_master\n",
    "y_bg_1 = 0\n",
    "y_bg_2 = 0\n",
    "count = 0\n",
    "\n",
    "for i in young_master:\n",
    "    y_bg_1 += i[0].values[0][0][0]\n",
    "    y_bg_2 += i[0].values[0][0][1]\n",
    "    count+=1\n",
    "young_bg_1 = y_bg_1/(count+1)\n",
    "young_bg_2 = y_bg_2/(count+1)\n",
    "\n",
    "young_bg = [young_bg_1,young_bg_2]"
   ]
  },
  {
   "cell_type": "code",
   "execution_count": 156,
   "metadata": {},
   "outputs": [],
   "source": [
    "o_bg_1 = 0\n",
    "o_bg_2 = 0\n",
    "count = 0\n",
    "\n",
    "for i in old_master:\n",
    "    o_bg_1 += i[0].values[0][0][0]\n",
    "    o_bg_2 += i[0].values[0][0][1]\n",
    "    count+=1\n",
    "old_bg_1 = o_bg_1/(count+1)\n",
    "old_bg_2 = o_bg_2/(count+1)\n",
    "\n",
    "old_bg = [old_bg_1,old_bg_2]"
   ]
  },
  {
   "cell_type": "code",
   "execution_count": 164,
   "metadata": {},
   "outputs": [
    {
     "name": "stdout",
     "output_type": "stream",
     "text": [
      "background param 1 difference: 0.8852820763497281\n",
      "background param 2 difference: 0.7435350192201011\n"
     ]
    }
   ],
   "source": [
    "print(\"background param 1 difference:\",abs(old_bg[0] - young_bg[0]))\n",
    "print(\"background param 2 difference:\",abs(old_bg[1] - young_bg[1]))"
   ]
  },
  {
   "cell_type": "markdown",
   "metadata": {},
   "source": [
    "## Differences in BandRatio Measures"
   ]
  },
  {
   "cell_type": "code",
   "execution_count": 20,
   "metadata": {},
   "outputs": [
    {
     "name": "stdout",
     "output_type": "stream",
     "text": [
      "Average young Theta/Beta: 8.189531639873604\n",
      "Average old Theta/Beta: 4.1547301345251855\n",
      "Difference in average Theta/Beta ratio 4.034801505348418\n"
     ]
    }
   ],
   "source": [
    "diff_tb_ratio = np.abs(np.mean(young_tb_ratios) - np.mean(old_tb_ratios))\n",
    "print(\"Average young Theta/Beta:\", np.mean(young_tb_ratios))\n",
    "print(\"Average old Theta/Beta:\", np.mean(old_tb_ratios))\n",
    "print(\"Difference in average Theta/Beta ratio\", diff_tb_ratio)"
   ]
  },
  {
   "cell_type": "code",
   "execution_count": null,
   "metadata": {},
   "outputs": [],
   "source": []
  }
 ],
 "metadata": {
  "kernelspec": {
   "display_name": "Python 3",
   "language": "python",
   "name": "python3"
  },
  "language_info": {
   "codemirror_mode": {
    "name": "ipython",
    "version": 3
   },
   "file_extension": ".py",
   "mimetype": "text/x-python",
   "name": "python",
   "nbconvert_exporter": "python",
   "pygments_lexer": "ipython3",
   "version": "3.6.5"
  }
 },
 "nbformat": 4,
 "nbformat_minor": 2
}
