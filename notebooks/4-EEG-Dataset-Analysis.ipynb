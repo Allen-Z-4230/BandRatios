{
 "cells": [
  {
   "cell_type": "markdown",
   "metadata": {},
   "source": [
    "# EEG ChildMind Dataset Analysis"
   ]
  },
  {
   "cell_type": "markdown",
   "metadata": {},
   "source": [
    "This notebook takes data from ChildMind and finds correlations between neural spectral parameters ratio measures and age.\n"
   ]
  },
  {
   "cell_type": "code",
   "execution_count": 1,
   "metadata": {},
   "outputs": [],
   "source": [
    "%matplotlib inline\n",
    "import matplotlib.pyplot as plt\n",
    "from matplotlib import cm, colors, colorbar, rcParams\n",
    "import pandas as pd\n",
    "import numpy as np\n",
    "from numpy.linalg import LinAlgError\n",
    "from scipy.stats import pearsonr, spearmanr\n",
    "import csv\n",
    "import mne\n",
    "import seaborn as sns\n",
    "sns.set_context('poster')\n",
    "pd.set_option('display.max_columns', 500)\n",
    "\n",
    "from fooof import FOOOF, FOOOFGroup\n",
    "from fooof.analysis import *\n",
    "from fooof.synth import *\n",
    "from fooof.data import FOOOFResults\n",
    "from fooof.funcs import average_fg\n",
    "from fooof.bands import Bands\n",
    "\n",
    "from ratios import *\n",
    "from analysis import *\n",
    "from settings import *"
   ]
  },
  {
   "cell_type": "markdown",
   "metadata": {},
   "source": [
    "## Import Data\n",
    "\n",
    "Here we import power spectra and select channel clusters"
   ]
  },
  {
   "cell_type": "code",
   "execution_count": 2,
   "metadata": {},
   "outputs": [],
   "source": [
    "# Open Power spectrum\n",
    "data = pd.read_csv(\"../dat/MIPDB_PublicFile.csv\")"
   ]
  },
  {
   "cell_type": "code",
   "execution_count": 3,
   "metadata": {
    "scrolled": true
   },
   "outputs": [],
   "source": [
    "# Read in list of channel names that are kept in reduced 111 montage\n",
    "with open('../dat/chans111.csv', 'r') as csv_file:\n",
    "    reader = csv.reader(csv_file)\n",
    "    ch_labels = list(reader)[0]\n",
    "    \n",
    "# Read montage, reduced to 111 channel selection\n",
    "montage = mne.channels.read_montage('GSN-HydroCel-129', ch_names=ch_labels)"
   ]
  },
  {
   "cell_type": "code",
   "execution_count": 4,
   "metadata": {},
   "outputs": [],
   "source": [
    "all_chans = mne.pick_channels(montage.ch_names,[])"
   ]
  },
  {
   "cell_type": "code",
   "execution_count": 5,
   "metadata": {},
   "outputs": [],
   "source": [
    "# Define a channel cluster of interest\n",
    "ch_cluster_parietal = ['E71', 'E76', 'E70', 'E75', 'E83']\n",
    "ch_cluster_central = ['E7','E106', 'E31', 'Cz', 'E80']\n",
    "ch_cluster_frontal = ['E15', 'E18', 'E16', 'E10', 'E11']\n",
    "\n",
    "# Get the indices of the channels of interest\n",
    "ch_inds_parietal = mne.pick_channels(montage.ch_names, ch_cluster_parietal)\n",
    "ch_inds_central = mne.pick_channels(montage.ch_names, ch_cluster_central)\n",
    "ch_inds_frontal = mne.pick_channels(montage.ch_names, ch_cluster_frontal)"
   ]
  },
  {
   "cell_type": "code",
   "execution_count": 6,
   "metadata": {},
   "outputs": [],
   "source": [
    "fron = np.zeros(111)\n",
    "cen = np.zeros(111)\n",
    "par = np.zeros(111)\n",
    "fron[ch_inds_frontal] = 1\n",
    "cen[ch_inds_central] = 1\n",
    "par[ch_inds_parietal] = 1"
   ]
  },
  {
   "cell_type": "code",
   "execution_count": 60,
   "metadata": {},
   "outputs": [
    {
     "data": {
      "text/plain": [
       "<Figure size 720x576 with 0 Axes>"
      ]
     },
     "metadata": {},
     "output_type": "display_data"
    },
    {
     "data": {
      "image/png": "[encoded data removed]",
      "text/plain": [
       "<Figure size 432x288 with 1 Axes>"
      ]
     },
     "metadata": {},
     "output_type": "display_data"
    }
   ],
   "source": [
    "# Create the info structure needed by MNE\n",
    "from matplotlib.pyplot import figure\n",
    "#import marplotlib as mpl\n",
    "rcParams['figure.figsize'] = 6, 4\n",
    "figure(num=None, figsize=(10, 8))\n",
    "plt.tight_layout()\n",
    "info = mne.create_info(ch_labels, 500, 'eeg', montage)\n",
    "\n",
    "# Create the MNE Raw data object\n",
    "raw = mne.io.RawArray(np.zeros([111, 1]), info, verbose=False)\n",
    "\n",
    "fig,ax = plt.subplots()\n",
    "\n",
    "\n",
    "#ax.set_title(\"Frontal Region\")\n",
    "# ax.set_label([\"E15, E18, E16, E10, E11\"])\n",
    "# mne.viz.plot_topomap(fron, raw.info, cmap=cm.viridis, contours=0, axes=ax)\n",
    "\n",
    "# ax.set_title(\"Central Region\")\n",
    "# mne.viz.plot_topomap(cen, raw.info, cmap=cm.viridis, contours=0, axes=ax)\n",
    "\n",
    "# ax.set_title(\"Parietal Region\")\n",
    "mne.viz.plot_topomap(par, raw.info, cmap=cm.viridis, contours=0, axes=ax)\n",
    "\n",
    "fig.savefig('../figures/parietal_topo.png', dpi=700);"
   ]
  },
  {
   "cell_type": "code",
   "execution_count": 20,
   "metadata": {},
   "outputs": [
    {
     "data": {
      "text/plain": [
       "array([0., 0., 0., 0., 0., 0., 0., 0., 0., 1., 1., 0., 0., 0., 1., 1., 1.,\n",
       "       0., 0., 0., 0., 0., 0., 0., 0., 0., 0., 0., 0., 0., 0., 0., 0., 0.,\n",
       "       0., 0., 0., 0., 0., 0., 0., 0., 0., 0., 0., 0., 0., 0., 0., 0., 0.,\n",
       "       0., 0., 0., 0., 0., 0., 0., 0., 0., 0., 0., 0., 0., 0., 0., 0., 0.,\n",
       "       0., 0., 0., 0., 0., 0., 0., 0., 0., 0., 0., 0., 0., 0., 0., 0., 0.,\n",
       "       0., 0., 0., 0., 0., 0., 0., 0., 0., 0., 0., 0., 0., 0., 0., 0., 0.,\n",
       "       0., 0., 0., 0., 0., 0., 0., 0., 0.])"
      ]
     },
     "execution_count": 20,
     "metadata": {},
     "output_type": "execute_result"
    }
   ],
   "source": [
    "fron"
   ]
  },
  {
   "cell_type": "markdown",
   "metadata": {},
   "source": [
    "# Correlation between Parameters and Theta Beta Ratio"
   ]
  },
  {
   "cell_type": "code",
   "execution_count": 6,
   "metadata": {
    "scrolled": false
   },
   "outputs": [
    {
     "name": "stdout",
     "output_type": "stream",
     "text": [
      "FileNotFound or ValueError:  A00052593\n",
      "FileNotFound or ValueError:  A00053398\n",
      "IndexError:  A00053480\n",
      "FileNotFound or ValueError:  A00054122\n",
      "IndexError:  A00054239\n",
      "FileNotFound or ValueError:  A00054359\n",
      "FileNotFound or ValueError:  A00054469\n",
      "FileNotFound or ValueError:  A00054488\n",
      "FileNotFound or ValueError:  A00054666\n",
      "FileNotFound or ValueError:  A00054836\n",
      "FileNotFound or ValueError:  A00054866\n",
      "FileNotFound or ValueError:  A00055623\n",
      "FileNotFound or ValueError:  A00055628\n",
      "FileNotFound or ValueError:  A00055801\n",
      "FileNotFound or ValueError:  A00055923\n",
      "FileNotFound or ValueError:  A00056116\n",
      "FileNotFound or ValueError:  A00056158\n",
      "LinAlgError:  A00056428\n",
      "FileNotFound or ValueError:  A00056640\n",
      "FileNotFound or ValueError:  A00056716\n",
      "FileNotFound or ValueError:  A00056733\n",
      "FileNotFound or ValueError:  A00056913\n",
      "FileNotFound or ValueError:  A00056990\n",
      "FileNotFound or ValueError:  A00057135\n",
      "FileNotFound or ValueError:  A00062029\n",
      "FileNotFound or ValueError:  A00062055\n",
      "FileNotFound or ValueError:  A00062125\n",
      "FileNotFound or ValueError:  A00062219\n",
      "FileNotFound or ValueError:  A00062408\n",
      "FileNotFound or ValueError:  A00063558\n"
     ]
    },
    {
     "data": {
      "text/html": [
       "<div>\n",
       "<style scoped>\n",
       "    .dataframe tbody tr th:only-of-type {\n",
       "        vertical-align: middle;\n",
       "    }\n",
       "\n",
       "    .dataframe tbody tr th {\n",
       "        vertical-align: top;\n",
       "    }\n",
       "\n",
       "    .dataframe thead th {\n",
       "        text-align: right;\n",
       "    }\n",
       "</style>\n",
       "<table border=\"1\" class=\"dataframe\">\n",
       "  <thead>\n",
       "    <tr style=\"text-align: right;\">\n",
       "      <th></th>\n",
       "      <th>ABR</th>\n",
       "      <th>Age</th>\n",
       "      <th>Alpha_BW</th>\n",
       "      <th>Alpha_CF</th>\n",
       "      <th>Alpha_PW</th>\n",
       "      <th>Beta_BW</th>\n",
       "      <th>Beta_CF</th>\n",
       "      <th>Beta_PW</th>\n",
       "      <th>Chan_ID</th>\n",
       "      <th>Exp</th>\n",
       "      <th>Off</th>\n",
       "      <th>Subj_ID</th>\n",
       "      <th>TAR</th>\n",
       "      <th>TBR</th>\n",
       "      <th>Theta_BW</th>\n",
       "      <th>Theta_CF</th>\n",
       "      <th>Theta_PW</th>\n",
       "    </tr>\n",
       "  </thead>\n",
       "  <tbody>\n",
       "    <tr>\n",
       "      <th>0</th>\n",
       "      <td>14.927507</td>\n",
       "      <td>10.0</td>\n",
       "      <td>2.576849</td>\n",
       "      <td>10.435396</td>\n",
       "      <td>0.632860</td>\n",
       "      <td>0.651490</td>\n",
       "      <td>21.504787</td>\n",
       "      <td>0.438832</td>\n",
       "      <td>0.0</td>\n",
       "      <td>1.860829</td>\n",
       "      <td>1.198277</td>\n",
       "      <td>A00051826</td>\n",
       "      <td>1.650478</td>\n",
       "      <td>14.927507</td>\n",
       "      <td>2.465400</td>\n",
       "      <td>7.168822</td>\n",
       "      <td>0.620085</td>\n",
       "    </tr>\n",
       "    <tr>\n",
       "      <th>1</th>\n",
       "      <td>16.475258</td>\n",
       "      <td>10.0</td>\n",
       "      <td>2.487412</td>\n",
       "      <td>10.419192</td>\n",
       "      <td>0.437804</td>\n",
       "      <td>0.816660</td>\n",
       "      <td>21.546040</td>\n",
       "      <td>0.419847</td>\n",
       "      <td>1.0</td>\n",
       "      <td>1.920281</td>\n",
       "      <td>1.666018</td>\n",
       "      <td>A00051826</td>\n",
       "      <td>2.220317</td>\n",
       "      <td>16.475258</td>\n",
       "      <td>2.423398</td>\n",
       "      <td>7.288344</td>\n",
       "      <td>0.636498</td>\n",
       "    </tr>\n",
       "    <tr>\n",
       "      <th>2</th>\n",
       "      <td>16.790004</td>\n",
       "      <td>10.0</td>\n",
       "      <td>3.221616</td>\n",
       "      <td>10.123551</td>\n",
       "      <td>0.563381</td>\n",
       "      <td>1.600415</td>\n",
       "      <td>23.907194</td>\n",
       "      <td>0.434605</td>\n",
       "      <td>2.0</td>\n",
       "      <td>1.924418</td>\n",
       "      <td>1.434980</td>\n",
       "      <td>A00051826</td>\n",
       "      <td>2.066784</td>\n",
       "      <td>16.790004</td>\n",
       "      <td>0.500000</td>\n",
       "      <td>7.747992</td>\n",
       "      <td>0.578458</td>\n",
       "    </tr>\n",
       "    <tr>\n",
       "      <th>3</th>\n",
       "      <td>16.768082</td>\n",
       "      <td>10.0</td>\n",
       "      <td>3.119242</td>\n",
       "      <td>10.098946</td>\n",
       "      <td>0.542737</td>\n",
       "      <td>1.178912</td>\n",
       "      <td>23.735743</td>\n",
       "      <td>0.323136</td>\n",
       "      <td>3.0</td>\n",
       "      <td>1.992965</td>\n",
       "      <td>1.534520</td>\n",
       "      <td>A00051826</td>\n",
       "      <td>2.016178</td>\n",
       "      <td>16.768082</td>\n",
       "      <td>1.427005</td>\n",
       "      <td>6.481169</td>\n",
       "      <td>0.464667</td>\n",
       "    </tr>\n",
       "    <tr>\n",
       "      <th>4</th>\n",
       "      <td>21.750502</td>\n",
       "      <td>10.0</td>\n",
       "      <td>0.500000</td>\n",
       "      <td>10.267526</td>\n",
       "      <td>0.659122</td>\n",
       "      <td>0.500000</td>\n",
       "      <td>23.683487</td>\n",
       "      <td>0.266571</td>\n",
       "      <td>4.0</td>\n",
       "      <td>2.022430</td>\n",
       "      <td>1.588774</td>\n",
       "      <td>A00051826</td>\n",
       "      <td>2.289902</td>\n",
       "      <td>21.750502</td>\n",
       "      <td>1.597491</td>\n",
       "      <td>6.847909</td>\n",
       "      <td>0.537066</td>\n",
       "    </tr>\n",
       "    <tr>\n",
       "      <th>5</th>\n",
       "      <td>20.606952</td>\n",
       "      <td>10.0</td>\n",
       "      <td>3.093522</td>\n",
       "      <td>10.269264</td>\n",
       "      <td>0.606551</td>\n",
       "      <td>0.926288</td>\n",
       "      <td>15.122875</td>\n",
       "      <td>0.262554</td>\n",
       "      <td>5.0</td>\n",
       "      <td>2.049553</td>\n",
       "      <td>1.686557</td>\n",
       "      <td>A00051826</td>\n",
       "      <td>2.040675</td>\n",
       "      <td>20.606952</td>\n",
       "      <td>1.651050</td>\n",
       "      <td>6.615213</td>\n",
       "      <td>0.486021</td>\n",
       "    </tr>\n",
       "    <tr>\n",
       "      <th>6</th>\n",
       "      <td>23.949520</td>\n",
       "      <td>10.0</td>\n",
       "      <td>2.962543</td>\n",
       "      <td>10.158780</td>\n",
       "      <td>0.620734</td>\n",
       "      <td>0.907721</td>\n",
       "      <td>15.065078</td>\n",
       "      <td>0.259223</td>\n",
       "      <td>6.0</td>\n",
       "      <td>2.007281</td>\n",
       "      <td>1.527516</td>\n",
       "      <td>A00051826</td>\n",
       "      <td>2.304348</td>\n",
       "      <td>23.949520</td>\n",
       "      <td>1.327306</td>\n",
       "      <td>6.849875</td>\n",
       "      <td>0.638814</td>\n",
       "    </tr>\n",
       "    <tr>\n",
       "      <th>7</th>\n",
       "      <td>13.983302</td>\n",
       "      <td>10.0</td>\n",
       "      <td>3.117171</td>\n",
       "      <td>10.276872</td>\n",
       "      <td>0.646379</td>\n",
       "      <td>0.706157</td>\n",
       "      <td>21.511848</td>\n",
       "      <td>0.455105</td>\n",
       "      <td>7.0</td>\n",
       "      <td>1.861614</td>\n",
       "      <td>1.236429</td>\n",
       "      <td>A00051826</td>\n",
       "      <td>1.635796</td>\n",
       "      <td>13.983302</td>\n",
       "      <td>2.155361</td>\n",
       "      <td>6.774232</td>\n",
       "      <td>0.581870</td>\n",
       "    </tr>\n",
       "    <tr>\n",
       "      <th>8</th>\n",
       "      <td>16.899240</td>\n",
       "      <td>10.0</td>\n",
       "      <td>2.813007</td>\n",
       "      <td>10.048198</td>\n",
       "      <td>0.533521</td>\n",
       "      <td>0.500000</td>\n",
       "      <td>23.673429</td>\n",
       "      <td>0.329134</td>\n",
       "      <td>8.0</td>\n",
       "      <td>1.875105</td>\n",
       "      <td>1.479176</td>\n",
       "      <td>A00051826</td>\n",
       "      <td>2.099608</td>\n",
       "      <td>16.899240</td>\n",
       "      <td>1.566126</td>\n",
       "      <td>6.831617</td>\n",
       "      <td>0.507819</td>\n",
       "    </tr>\n",
       "    <tr>\n",
       "      <th>9</th>\n",
       "      <td>16.394786</td>\n",
       "      <td>10.0</td>\n",
       "      <td>2.903103</td>\n",
       "      <td>10.223956</td>\n",
       "      <td>0.519875</td>\n",
       "      <td>1.080035</td>\n",
       "      <td>23.768848</td>\n",
       "      <td>0.294196</td>\n",
       "      <td>9.0</td>\n",
       "      <td>1.890382</td>\n",
       "      <td>1.446523</td>\n",
       "      <td>A00051826</td>\n",
       "      <td>2.038738</td>\n",
       "      <td>16.394786</td>\n",
       "      <td>2.077368</td>\n",
       "      <td>6.705398</td>\n",
       "      <td>0.415047</td>\n",
       "    </tr>\n",
       "    <tr>\n",
       "      <th>10</th>\n",
       "      <td>18.830086</td>\n",
       "      <td>10.0</td>\n",
       "      <td>3.471907</td>\n",
       "      <td>10.125188</td>\n",
       "      <td>0.545707</td>\n",
       "      <td>0.668666</td>\n",
       "      <td>23.658145</td>\n",
       "      <td>0.305698</td>\n",
       "      <td>10.0</td>\n",
       "      <td>2.011964</td>\n",
       "      <td>1.599325</td>\n",
       "      <td>A00051826</td>\n",
       "      <td>2.070602</td>\n",
       "      <td>18.830086</td>\n",
       "      <td>1.267978</td>\n",
       "      <td>6.498809</td>\n",
       "      <td>0.496359</td>\n",
       "    </tr>\n",
       "    <tr>\n",
       "      <th>11</th>\n",
       "      <td>18.845245</td>\n",
       "      <td>10.0</td>\n",
       "      <td>3.323495</td>\n",
       "      <td>10.135469</td>\n",
       "      <td>0.581192</td>\n",
       "      <td>1.182786</td>\n",
       "      <td>17.085812</td>\n",
       "      <td>0.248832</td>\n",
       "      <td>11.0</td>\n",
       "      <td>1.966854</td>\n",
       "      <td>1.597909</td>\n",
       "      <td>A00051826</td>\n",
       "      <td>2.066533</td>\n",
       "      <td>18.845245</td>\n",
       "      <td>1.154335</td>\n",
       "      <td>6.644149</td>\n",
       "      <td>0.511247</td>\n",
       "    </tr>\n",
       "    <tr>\n",
       "      <th>12</th>\n",
       "      <td>22.217624</td>\n",
       "      <td>10.0</td>\n",
       "      <td>0.500000</td>\n",
       "      <td>10.263276</td>\n",
       "      <td>0.624401</td>\n",
       "      <td>0.856231</td>\n",
       "      <td>17.127734</td>\n",
       "      <td>0.250924</td>\n",
       "      <td>12.0</td>\n",
       "      <td>1.900196</td>\n",
       "      <td>1.512701</td>\n",
       "      <td>A00051826</td>\n",
       "      <td>2.470791</td>\n",
       "      <td>22.217624</td>\n",
       "      <td>1.258714</td>\n",
       "      <td>6.965976</td>\n",
       "      <td>0.691081</td>\n",
       "    </tr>\n",
       "    <tr>\n",
       "      <th>13</th>\n",
       "      <td>18.772357</td>\n",
       "      <td>10.0</td>\n",
       "      <td>0.500000</td>\n",
       "      <td>10.303035</td>\n",
       "      <td>0.664544</td>\n",
       "      <td>0.613164</td>\n",
       "      <td>23.636588</td>\n",
       "      <td>0.288201</td>\n",
       "      <td>13.0</td>\n",
       "      <td>1.929237</td>\n",
       "      <td>1.478353</td>\n",
       "      <td>A00051826</td>\n",
       "      <td>2.048406</td>\n",
       "      <td>18.772357</td>\n",
       "      <td>2.794533</td>\n",
       "      <td>7.087993</td>\n",
       "      <td>0.437059</td>\n",
       "    </tr>\n",
       "    <tr>\n",
       "      <th>14</th>\n",
       "      <td>20.091865</td>\n",
       "      <td>10.0</td>\n",
       "      <td>0.522180</td>\n",
       "      <td>10.269006</td>\n",
       "      <td>0.691387</td>\n",
       "      <td>0.500000</td>\n",
       "      <td>23.670491</td>\n",
       "      <td>0.252786</td>\n",
       "      <td>14.0</td>\n",
       "      <td>1.919162</td>\n",
       "      <td>1.429220</td>\n",
       "      <td>A00051826</td>\n",
       "      <td>2.131514</td>\n",
       "      <td>20.091865</td>\n",
       "      <td>1.116099</td>\n",
       "      <td>6.505457</td>\n",
       "      <td>0.514761</td>\n",
       "    </tr>\n",
       "    <tr>\n",
       "      <th>15</th>\n",
       "      <td>19.899660</td>\n",
       "      <td>10.0</td>\n",
       "      <td>0.500000</td>\n",
       "      <td>10.278641</td>\n",
       "      <td>0.686847</td>\n",
       "      <td>0.819117</td>\n",
       "      <td>15.107265</td>\n",
       "      <td>0.255884</td>\n",
       "      <td>15.0</td>\n",
       "      <td>1.925636</td>\n",
       "      <td>1.554949</td>\n",
       "      <td>A00051826</td>\n",
       "      <td>2.219964</td>\n",
       "      <td>19.899660</td>\n",
       "      <td>1.391460</td>\n",
       "      <td>6.779124</td>\n",
       "      <td>0.545793</td>\n",
       "    </tr>\n",
       "    <tr>\n",
       "      <th>16</th>\n",
       "      <td>18.814449</td>\n",
       "      <td>10.0</td>\n",
       "      <td>2.863109</td>\n",
       "      <td>10.295359</td>\n",
       "      <td>0.609020</td>\n",
       "      <td>NaN</td>\n",
       "      <td>NaN</td>\n",
       "      <td>NaN</td>\n",
       "      <td>16.0</td>\n",
       "      <td>2.033986</td>\n",
       "      <td>1.511581</td>\n",
       "      <td>A00051826</td>\n",
       "      <td>1.999490</td>\n",
       "      <td>18.814449</td>\n",
       "      <td>1.206753</td>\n",
       "      <td>6.470913</td>\n",
       "      <td>0.530702</td>\n",
       "    </tr>\n",
       "    <tr>\n",
       "      <th>17</th>\n",
       "      <td>21.281875</td>\n",
       "      <td>10.0</td>\n",
       "      <td>3.431837</td>\n",
       "      <td>10.213107</td>\n",
       "      <td>0.585395</td>\n",
       "      <td>0.626373</td>\n",
       "      <td>15.159721</td>\n",
       "      <td>0.268873</td>\n",
       "      <td>17.0</td>\n",
       "      <td>1.933761</td>\n",
       "      <td>1.513527</td>\n",
       "      <td>A00051826</td>\n",
       "      <td>2.224037</td>\n",
       "      <td>21.281875</td>\n",
       "      <td>1.249041</td>\n",
       "      <td>6.767706</td>\n",
       "      <td>0.583722</td>\n",
       "    </tr>\n",
       "    <tr>\n",
       "      <th>18</th>\n",
       "      <td>18.068187</td>\n",
       "      <td>10.0</td>\n",
       "      <td>3.224094</td>\n",
       "      <td>10.024697</td>\n",
       "      <td>0.502634</td>\n",
       "      <td>0.840533</td>\n",
       "      <td>17.175571</td>\n",
       "      <td>0.232366</td>\n",
       "      <td>18.0</td>\n",
       "      <td>1.865994</td>\n",
       "      <td>1.586297</td>\n",
       "      <td>A00051826</td>\n",
       "      <td>2.291564</td>\n",
       "      <td>18.068187</td>\n",
       "      <td>1.018098</td>\n",
       "      <td>6.819033</td>\n",
       "      <td>0.606798</td>\n",
       "    </tr>\n",
       "    <tr>\n",
       "      <th>19</th>\n",
       "      <td>21.130815</td>\n",
       "      <td>10.0</td>\n",
       "      <td>1.709603</td>\n",
       "      <td>10.074040</td>\n",
       "      <td>0.657142</td>\n",
       "      <td>0.500000</td>\n",
       "      <td>23.667329</td>\n",
       "      <td>0.214686</td>\n",
       "      <td>19.0</td>\n",
       "      <td>1.898826</td>\n",
       "      <td>1.517814</td>\n",
       "      <td>A00051826</td>\n",
       "      <td>2.284541</td>\n",
       "      <td>21.130815</td>\n",
       "      <td>1.906520</td>\n",
       "      <td>7.069935</td>\n",
       "      <td>0.542858</td>\n",
       "    </tr>\n",
       "    <tr>\n",
       "      <th>20</th>\n",
       "      <td>20.506058</td>\n",
       "      <td>10.0</td>\n",
       "      <td>3.121327</td>\n",
       "      <td>10.242180</td>\n",
       "      <td>0.589392</td>\n",
       "      <td>0.500000</td>\n",
       "      <td>23.689385</td>\n",
       "      <td>0.219693</td>\n",
       "      <td>20.0</td>\n",
       "      <td>1.952310</td>\n",
       "      <td>1.628288</td>\n",
       "      <td>A00051826</td>\n",
       "      <td>2.096161</td>\n",
       "      <td>20.506058</td>\n",
       "      <td>1.351585</td>\n",
       "      <td>6.815426</td>\n",
       "      <td>0.543908</td>\n",
       "    </tr>\n",
       "    <tr>\n",
       "      <th>21</th>\n",
       "      <td>17.777800</td>\n",
       "      <td>10.0</td>\n",
       "      <td>3.431127</td>\n",
       "      <td>10.177294</td>\n",
       "      <td>0.527111</td>\n",
       "      <td>1.148856</td>\n",
       "      <td>20.568024</td>\n",
       "      <td>0.252437</td>\n",
       "      <td>21.0</td>\n",
       "      <td>1.843098</td>\n",
       "      <td>1.507140</td>\n",
       "      <td>A00051826</td>\n",
       "      <td>2.257455</td>\n",
       "      <td>17.777800</td>\n",
       "      <td>1.032488</td>\n",
       "      <td>6.807348</td>\n",
       "      <td>0.612084</td>\n",
       "    </tr>\n",
       "    <tr>\n",
       "      <th>22</th>\n",
       "      <td>17.031472</td>\n",
       "      <td>10.0</td>\n",
       "      <td>2.966866</td>\n",
       "      <td>10.167443</td>\n",
       "      <td>0.552694</td>\n",
       "      <td>1.116968</td>\n",
       "      <td>17.080721</td>\n",
       "      <td>0.290521</td>\n",
       "      <td>22.0</td>\n",
       "      <td>1.859152</td>\n",
       "      <td>1.509128</td>\n",
       "      <td>A00051826</td>\n",
       "      <td>2.163146</td>\n",
       "      <td>17.031472</td>\n",
       "      <td>1.043562</td>\n",
       "      <td>6.757545</td>\n",
       "      <td>0.583200</td>\n",
       "    </tr>\n",
       "    <tr>\n",
       "      <th>23</th>\n",
       "      <td>20.707220</td>\n",
       "      <td>10.0</td>\n",
       "      <td>1.816437</td>\n",
       "      <td>9.965687</td>\n",
       "      <td>0.641921</td>\n",
       "      <td>0.789890</td>\n",
       "      <td>20.651155</td>\n",
       "      <td>0.213307</td>\n",
       "      <td>23.0</td>\n",
       "      <td>1.854172</td>\n",
       "      <td>1.493891</td>\n",
       "      <td>A00051826</td>\n",
       "      <td>2.383978</td>\n",
       "      <td>20.707220</td>\n",
       "      <td>1.507980</td>\n",
       "      <td>7.059398</td>\n",
       "      <td>0.602614</td>\n",
       "    </tr>\n",
       "    <tr>\n",
       "      <th>24</th>\n",
       "      <td>18.007316</td>\n",
       "      <td>10.0</td>\n",
       "      <td>2.733849</td>\n",
       "      <td>9.970407</td>\n",
       "      <td>0.520583</td>\n",
       "      <td>0.858501</td>\n",
       "      <td>20.621857</td>\n",
       "      <td>0.237735</td>\n",
       "      <td>24.0</td>\n",
       "      <td>1.790693</td>\n",
       "      <td>1.493496</td>\n",
       "      <td>A00051826</td>\n",
       "      <td>2.358303</td>\n",
       "      <td>18.007316</td>\n",
       "      <td>1.129904</td>\n",
       "      <td>6.871637</td>\n",
       "      <td>0.596533</td>\n",
       "    </tr>\n",
       "    <tr>\n",
       "      <th>25</th>\n",
       "      <td>17.456430</td>\n",
       "      <td>10.0</td>\n",
       "      <td>1.145473</td>\n",
       "      <td>10.090817</td>\n",
       "      <td>0.660149</td>\n",
       "      <td>0.692608</td>\n",
       "      <td>23.947857</td>\n",
       "      <td>0.259613</td>\n",
       "      <td>25.0</td>\n",
       "      <td>1.847667</td>\n",
       "      <td>1.451577</td>\n",
       "      <td>A00051826</td>\n",
       "      <td>2.264932</td>\n",
       "      <td>17.456430</td>\n",
       "      <td>1.218114</td>\n",
       "      <td>7.000902</td>\n",
       "      <td>0.626183</td>\n",
       "    </tr>\n",
       "    <tr>\n",
       "      <th>26</th>\n",
       "      <td>17.526009</td>\n",
       "      <td>10.0</td>\n",
       "      <td>3.405372</td>\n",
       "      <td>10.120097</td>\n",
       "      <td>0.487407</td>\n",
       "      <td>0.944854</td>\n",
       "      <td>17.268993</td>\n",
       "      <td>0.259181</td>\n",
       "      <td>26.0</td>\n",
       "      <td>1.829060</td>\n",
       "      <td>1.526615</td>\n",
       "      <td>A00051826</td>\n",
       "      <td>2.413523</td>\n",
       "      <td>17.526009</td>\n",
       "      <td>1.044641</td>\n",
       "      <td>6.897489</td>\n",
       "      <td>0.688610</td>\n",
       "    </tr>\n",
       "    <tr>\n",
       "      <th>27</th>\n",
       "      <td>19.608436</td>\n",
       "      <td>10.0</td>\n",
       "      <td>3.594196</td>\n",
       "      <td>10.241462</td>\n",
       "      <td>0.548102</td>\n",
       "      <td>0.500009</td>\n",
       "      <td>23.830300</td>\n",
       "      <td>0.259232</td>\n",
       "      <td>27.0</td>\n",
       "      <td>1.849018</td>\n",
       "      <td>1.508968</td>\n",
       "      <td>A00051826</td>\n",
       "      <td>2.287267</td>\n",
       "      <td>19.608436</td>\n",
       "      <td>1.068959</td>\n",
       "      <td>6.930468</td>\n",
       "      <td>0.703792</td>\n",
       "    </tr>\n",
       "    <tr>\n",
       "      <th>28</th>\n",
       "      <td>21.824312</td>\n",
       "      <td>10.0</td>\n",
       "      <td>3.220687</td>\n",
       "      <td>9.944499</td>\n",
       "      <td>0.511185</td>\n",
       "      <td>0.818669</td>\n",
       "      <td>17.135140</td>\n",
       "      <td>0.269915</td>\n",
       "      <td>28.0</td>\n",
       "      <td>1.813036</td>\n",
       "      <td>1.413627</td>\n",
       "      <td>A00051826</td>\n",
       "      <td>2.644312</td>\n",
       "      <td>21.824312</td>\n",
       "      <td>1.191376</td>\n",
       "      <td>6.986757</td>\n",
       "      <td>0.767350</td>\n",
       "    </tr>\n",
       "    <tr>\n",
       "      <th>29</th>\n",
       "      <td>28.133034</td>\n",
       "      <td>10.0</td>\n",
       "      <td>2.659135</td>\n",
       "      <td>10.164220</td>\n",
       "      <td>0.587650</td>\n",
       "      <td>NaN</td>\n",
       "      <td>NaN</td>\n",
       "      <td>NaN</td>\n",
       "      <td>29.0</td>\n",
       "      <td>1.991581</td>\n",
       "      <td>1.288542</td>\n",
       "      <td>A00051826</td>\n",
       "      <td>2.515458</td>\n",
       "      <td>28.133034</td>\n",
       "      <td>1.560289</td>\n",
       "      <td>6.994165</td>\n",
       "      <td>0.697869</td>\n",
       "    </tr>\n",
       "    <tr>\n",
       "      <th>...</th>\n",
       "      <td>...</td>\n",
       "      <td>...</td>\n",
       "      <td>...</td>\n",
       "      <td>...</td>\n",
       "      <td>...</td>\n",
       "      <td>...</td>\n",
       "      <td>...</td>\n",
       "      <td>...</td>\n",
       "      <td>...</td>\n",
       "      <td>...</td>\n",
       "      <td>...</td>\n",
       "      <td>...</td>\n",
       "      <td>...</td>\n",
       "      <td>...</td>\n",
       "      <td>...</td>\n",
       "      <td>...</td>\n",
       "      <td>...</td>\n",
       "    </tr>\n",
       "    <tr>\n",
       "      <th>10654</th>\n",
       "      <td>3.643622</td>\n",
       "      <td>33.0</td>\n",
       "      <td>1.323623</td>\n",
       "      <td>10.376776</td>\n",
       "      <td>1.421631</td>\n",
       "      <td>0.500000</td>\n",
       "      <td>17.800275</td>\n",
       "      <td>0.640394</td>\n",
       "      <td>81.0</td>\n",
       "      <td>1.354439</td>\n",
       "      <td>0.666975</td>\n",
       "      <td>A00063377</td>\n",
       "      <td>0.245875</td>\n",
       "      <td>3.643622</td>\n",
       "      <td>NaN</td>\n",
       "      <td>NaN</td>\n",
       "      <td>NaN</td>\n",
       "    </tr>\n",
       "    <tr>\n",
       "      <th>10655</th>\n",
       "      <td>3.053851</td>\n",
       "      <td>33.0</td>\n",
       "      <td>3.482851</td>\n",
       "      <td>9.853759</td>\n",
       "      <td>1.608259</td>\n",
       "      <td>8.401185</td>\n",
       "      <td>17.800180</td>\n",
       "      <td>0.651026</td>\n",
       "      <td>82.0</td>\n",
       "      <td>1.208187</td>\n",
       "      <td>0.213414</td>\n",
       "      <td>A00063377</td>\n",
       "      <td>0.168220</td>\n",
       "      <td>3.053851</td>\n",
       "      <td>NaN</td>\n",
       "      <td>NaN</td>\n",
       "      <td>NaN</td>\n",
       "    </tr>\n",
       "    <tr>\n",
       "      <th>10656</th>\n",
       "      <td>3.929465</td>\n",
       "      <td>33.0</td>\n",
       "      <td>2.358230</td>\n",
       "      <td>10.359903</td>\n",
       "      <td>0.994120</td>\n",
       "      <td>1.338189</td>\n",
       "      <td>16.379673</td>\n",
       "      <td>0.568021</td>\n",
       "      <td>83.0</td>\n",
       "      <td>1.471444</td>\n",
       "      <td>0.027731</td>\n",
       "      <td>A00063377</td>\n",
       "      <td>0.578370</td>\n",
       "      <td>3.929465</td>\n",
       "      <td>0.592485</td>\n",
       "      <td>7.772659</td>\n",
       "      <td>0.566107</td>\n",
       "    </tr>\n",
       "    <tr>\n",
       "      <th>10657</th>\n",
       "      <td>3.832063</td>\n",
       "      <td>33.0</td>\n",
       "      <td>3.549222</td>\n",
       "      <td>9.814151</td>\n",
       "      <td>1.487683</td>\n",
       "      <td>0.637533</td>\n",
       "      <td>19.449828</td>\n",
       "      <td>0.795628</td>\n",
       "      <td>84.0</td>\n",
       "      <td>1.370693</td>\n",
       "      <td>0.781782</td>\n",
       "      <td>A00063377</td>\n",
       "      <td>0.228314</td>\n",
       "      <td>3.832063</td>\n",
       "      <td>NaN</td>\n",
       "      <td>NaN</td>\n",
       "      <td>NaN</td>\n",
       "    </tr>\n",
       "    <tr>\n",
       "      <th>10658</th>\n",
       "      <td>3.432426</td>\n",
       "      <td>33.0</td>\n",
       "      <td>1.393699</td>\n",
       "      <td>10.354699</td>\n",
       "      <td>1.469534</td>\n",
       "      <td>0.500000</td>\n",
       "      <td>17.805530</td>\n",
       "      <td>0.663017</td>\n",
       "      <td>85.0</td>\n",
       "      <td>1.325462</td>\n",
       "      <td>0.571994</td>\n",
       "      <td>A00063377</td>\n",
       "      <td>0.223494</td>\n",
       "      <td>3.432426</td>\n",
       "      <td>NaN</td>\n",
       "      <td>NaN</td>\n",
       "      <td>NaN</td>\n",
       "    </tr>\n",
       "    <tr>\n",
       "      <th>10659</th>\n",
       "      <td>3.498281</td>\n",
       "      <td>33.0</td>\n",
       "      <td>2.841604</td>\n",
       "      <td>10.045997</td>\n",
       "      <td>1.323543</td>\n",
       "      <td>0.500000</td>\n",
       "      <td>17.818780</td>\n",
       "      <td>0.626269</td>\n",
       "      <td>86.0</td>\n",
       "      <td>1.316519</td>\n",
       "      <td>0.393235</td>\n",
       "      <td>A00063377</td>\n",
       "      <td>0.242345</td>\n",
       "      <td>3.498281</td>\n",
       "      <td>NaN</td>\n",
       "      <td>NaN</td>\n",
       "      <td>NaN</td>\n",
       "    </tr>\n",
       "    <tr>\n",
       "      <th>10660</th>\n",
       "      <td>2.957663</td>\n",
       "      <td>33.0</td>\n",
       "      <td>1.768997</td>\n",
       "      <td>10.183025</td>\n",
       "      <td>1.162189</td>\n",
       "      <td>0.551795</td>\n",
       "      <td>17.866042</td>\n",
       "      <td>0.475302</td>\n",
       "      <td>87.0</td>\n",
       "      <td>1.188511</td>\n",
       "      <td>0.051788</td>\n",
       "      <td>A00063377</td>\n",
       "      <td>0.278268</td>\n",
       "      <td>2.957663</td>\n",
       "      <td>NaN</td>\n",
       "      <td>NaN</td>\n",
       "      <td>NaN</td>\n",
       "    </tr>\n",
       "    <tr>\n",
       "      <th>10661</th>\n",
       "      <td>3.805488</td>\n",
       "      <td>33.0</td>\n",
       "      <td>3.473707</td>\n",
       "      <td>9.761770</td>\n",
       "      <td>1.473145</td>\n",
       "      <td>7.805419</td>\n",
       "      <td>18.137170</td>\n",
       "      <td>0.646700</td>\n",
       "      <td>88.0</td>\n",
       "      <td>1.377502</td>\n",
       "      <td>0.546236</td>\n",
       "      <td>A00063377</td>\n",
       "      <td>0.229580</td>\n",
       "      <td>3.805488</td>\n",
       "      <td>NaN</td>\n",
       "      <td>NaN</td>\n",
       "      <td>NaN</td>\n",
       "    </tr>\n",
       "    <tr>\n",
       "      <th>10662</th>\n",
       "      <td>3.297898</td>\n",
       "      <td>33.0</td>\n",
       "      <td>3.405219</td>\n",
       "      <td>9.863632</td>\n",
       "      <td>1.491059</td>\n",
       "      <td>8.456098</td>\n",
       "      <td>17.680824</td>\n",
       "      <td>0.604490</td>\n",
       "      <td>89.0</td>\n",
       "      <td>1.303030</td>\n",
       "      <td>0.464406</td>\n",
       "      <td>A00063377</td>\n",
       "      <td>0.202456</td>\n",
       "      <td>3.297898</td>\n",
       "      <td>NaN</td>\n",
       "      <td>NaN</td>\n",
       "      <td>NaN</td>\n",
       "    </tr>\n",
       "    <tr>\n",
       "      <th>10663</th>\n",
       "      <td>3.295753</td>\n",
       "      <td>33.0</td>\n",
       "      <td>2.438564</td>\n",
       "      <td>10.118079</td>\n",
       "      <td>0.947042</td>\n",
       "      <td>0.500000</td>\n",
       "      <td>17.788140</td>\n",
       "      <td>0.449430</td>\n",
       "      <td>90.0</td>\n",
       "      <td>1.238696</td>\n",
       "      <td>0.284557</td>\n",
       "      <td>A00063377</td>\n",
       "      <td>0.387896</td>\n",
       "      <td>3.295753</td>\n",
       "      <td>NaN</td>\n",
       "      <td>NaN</td>\n",
       "      <td>NaN</td>\n",
       "    </tr>\n",
       "    <tr>\n",
       "      <th>10664</th>\n",
       "      <td>2.941569</td>\n",
       "      <td>33.0</td>\n",
       "      <td>1.956905</td>\n",
       "      <td>10.457804</td>\n",
       "      <td>0.867273</td>\n",
       "      <td>0.549145</td>\n",
       "      <td>17.866667</td>\n",
       "      <td>0.314998</td>\n",
       "      <td>91.0</td>\n",
       "      <td>1.150466</td>\n",
       "      <td>-0.093986</td>\n",
       "      <td>A00063377</td>\n",
       "      <td>0.442431</td>\n",
       "      <td>2.941569</td>\n",
       "      <td>NaN</td>\n",
       "      <td>NaN</td>\n",
       "      <td>NaN</td>\n",
       "    </tr>\n",
       "    <tr>\n",
       "      <th>10665</th>\n",
       "      <td>4.613455</td>\n",
       "      <td>33.0</td>\n",
       "      <td>2.261150</td>\n",
       "      <td>10.606097</td>\n",
       "      <td>1.169771</td>\n",
       "      <td>2.149478</td>\n",
       "      <td>19.134108</td>\n",
       "      <td>0.651747</td>\n",
       "      <td>92.0</td>\n",
       "      <td>1.381263</td>\n",
       "      <td>-0.080851</td>\n",
       "      <td>A00063377</td>\n",
       "      <td>0.603229</td>\n",
       "      <td>4.613455</td>\n",
       "      <td>2.294652</td>\n",
       "      <td>7.589160</td>\n",
       "      <td>0.663620</td>\n",
       "    </tr>\n",
       "    <tr>\n",
       "      <th>10666</th>\n",
       "      <td>4.628386</td>\n",
       "      <td>33.0</td>\n",
       "      <td>2.419310</td>\n",
       "      <td>10.473419</td>\n",
       "      <td>1.184191</td>\n",
       "      <td>0.500000</td>\n",
       "      <td>19.562258</td>\n",
       "      <td>0.726867</td>\n",
       "      <td>93.0</td>\n",
       "      <td>1.463058</td>\n",
       "      <td>0.124253</td>\n",
       "      <td>A00063377</td>\n",
       "      <td>0.523689</td>\n",
       "      <td>4.628386</td>\n",
       "      <td>1.454940</td>\n",
       "      <td>7.873432</td>\n",
       "      <td>0.839736</td>\n",
       "    </tr>\n",
       "    <tr>\n",
       "      <th>10667</th>\n",
       "      <td>5.631133</td>\n",
       "      <td>33.0</td>\n",
       "      <td>2.484557</td>\n",
       "      <td>10.345268</td>\n",
       "      <td>1.132907</td>\n",
       "      <td>0.500000</td>\n",
       "      <td>19.640940</td>\n",
       "      <td>0.688496</td>\n",
       "      <td>94.0</td>\n",
       "      <td>1.418947</td>\n",
       "      <td>0.243097</td>\n",
       "      <td>A00063377</td>\n",
       "      <td>0.570941</td>\n",
       "      <td>5.631133</td>\n",
       "      <td>1.332955</td>\n",
       "      <td>7.959677</td>\n",
       "      <td>0.851171</td>\n",
       "    </tr>\n",
       "    <tr>\n",
       "      <th>10668</th>\n",
       "      <td>4.072067</td>\n",
       "      <td>33.0</td>\n",
       "      <td>1.703916</td>\n",
       "      <td>8.681275</td>\n",
       "      <td>1.285743</td>\n",
       "      <td>8.244385</td>\n",
       "      <td>18.020930</td>\n",
       "      <td>0.612683</td>\n",
       "      <td>95.0</td>\n",
       "      <td>1.290195</td>\n",
       "      <td>0.006923</td>\n",
       "      <td>A00063377</td>\n",
       "      <td>0.284028</td>\n",
       "      <td>4.072067</td>\n",
       "      <td>0.937445</td>\n",
       "      <td>6.268691</td>\n",
       "      <td>0.480390</td>\n",
       "    </tr>\n",
       "    <tr>\n",
       "      <th>10669</th>\n",
       "      <td>3.850327</td>\n",
       "      <td>33.0</td>\n",
       "      <td>1.378566</td>\n",
       "      <td>11.085062</td>\n",
       "      <td>1.215961</td>\n",
       "      <td>8.197860</td>\n",
       "      <td>16.819363</td>\n",
       "      <td>0.559681</td>\n",
       "      <td>96.0</td>\n",
       "      <td>1.315980</td>\n",
       "      <td>-0.216365</td>\n",
       "      <td>A00063377</td>\n",
       "      <td>0.353971</td>\n",
       "      <td>3.850327</td>\n",
       "      <td>NaN</td>\n",
       "      <td>NaN</td>\n",
       "      <td>NaN</td>\n",
       "    </tr>\n",
       "    <tr>\n",
       "      <th>10670</th>\n",
       "      <td>4.214590</td>\n",
       "      <td>33.0</td>\n",
       "      <td>1.643078</td>\n",
       "      <td>10.814661</td>\n",
       "      <td>1.097262</td>\n",
       "      <td>7.894840</td>\n",
       "      <td>16.610126</td>\n",
       "      <td>0.501811</td>\n",
       "      <td>97.0</td>\n",
       "      <td>1.463676</td>\n",
       "      <td>0.008679</td>\n",
       "      <td>A00063377</td>\n",
       "      <td>0.493857</td>\n",
       "      <td>4.214590</td>\n",
       "      <td>NaN</td>\n",
       "      <td>NaN</td>\n",
       "      <td>NaN</td>\n",
       "    </tr>\n",
       "    <tr>\n",
       "      <th>10671</th>\n",
       "      <td>4.615591</td>\n",
       "      <td>33.0</td>\n",
       "      <td>1.012305</td>\n",
       "      <td>10.843952</td>\n",
       "      <td>1.248426</td>\n",
       "      <td>0.970400</td>\n",
       "      <td>26.813033</td>\n",
       "      <td>0.552946</td>\n",
       "      <td>98.0</td>\n",
       "      <td>1.272117</td>\n",
       "      <td>0.015607</td>\n",
       "      <td>A00063377</td>\n",
       "      <td>0.511950</td>\n",
       "      <td>4.615591</td>\n",
       "      <td>NaN</td>\n",
       "      <td>NaN</td>\n",
       "      <td>NaN</td>\n",
       "    </tr>\n",
       "    <tr>\n",
       "      <th>10672</th>\n",
       "      <td>4.877912</td>\n",
       "      <td>33.0</td>\n",
       "      <td>1.954490</td>\n",
       "      <td>10.648116</td>\n",
       "      <td>1.143706</td>\n",
       "      <td>1.103830</td>\n",
       "      <td>23.608885</td>\n",
       "      <td>0.470975</td>\n",
       "      <td>99.0</td>\n",
       "      <td>1.318797</td>\n",
       "      <td>0.310978</td>\n",
       "      <td>A00063377</td>\n",
       "      <td>0.374678</td>\n",
       "      <td>4.877912</td>\n",
       "      <td>NaN</td>\n",
       "      <td>NaN</td>\n",
       "      <td>NaN</td>\n",
       "    </tr>\n",
       "    <tr>\n",
       "      <th>10673</th>\n",
       "      <td>3.623688</td>\n",
       "      <td>33.0</td>\n",
       "      <td>0.667122</td>\n",
       "      <td>8.824333</td>\n",
       "      <td>1.287141</td>\n",
       "      <td>0.759455</td>\n",
       "      <td>17.750626</td>\n",
       "      <td>0.385093</td>\n",
       "      <td>100.0</td>\n",
       "      <td>1.129464</td>\n",
       "      <td>0.090092</td>\n",
       "      <td>A00063377</td>\n",
       "      <td>0.253693</td>\n",
       "      <td>3.623688</td>\n",
       "      <td>NaN</td>\n",
       "      <td>NaN</td>\n",
       "      <td>NaN</td>\n",
       "    </tr>\n",
       "    <tr>\n",
       "      <th>10674</th>\n",
       "      <td>4.078541</td>\n",
       "      <td>33.0</td>\n",
       "      <td>1.795119</td>\n",
       "      <td>8.868418</td>\n",
       "      <td>1.522708</td>\n",
       "      <td>9.829854</td>\n",
       "      <td>17.819082</td>\n",
       "      <td>0.558758</td>\n",
       "      <td>101.0</td>\n",
       "      <td>1.277477</td>\n",
       "      <td>-0.044823</td>\n",
       "      <td>A00063377</td>\n",
       "      <td>0.247457</td>\n",
       "      <td>4.078541</td>\n",
       "      <td>0.872926</td>\n",
       "      <td>6.313456</td>\n",
       "      <td>0.475904</td>\n",
       "    </tr>\n",
       "    <tr>\n",
       "      <th>10675</th>\n",
       "      <td>3.787930</td>\n",
       "      <td>33.0</td>\n",
       "      <td>3.510565</td>\n",
       "      <td>9.643672</td>\n",
       "      <td>1.556731</td>\n",
       "      <td>11.909439</td>\n",
       "      <td>19.660661</td>\n",
       "      <td>0.615960</td>\n",
       "      <td>102.0</td>\n",
       "      <td>1.233228</td>\n",
       "      <td>-0.168139</td>\n",
       "      <td>A00063377</td>\n",
       "      <td>0.220073</td>\n",
       "      <td>3.787930</td>\n",
       "      <td>NaN</td>\n",
       "      <td>NaN</td>\n",
       "      <td>NaN</td>\n",
       "    </tr>\n",
       "    <tr>\n",
       "      <th>10676</th>\n",
       "      <td>4.374584</td>\n",
       "      <td>33.0</td>\n",
       "      <td>1.036793</td>\n",
       "      <td>10.835975</td>\n",
       "      <td>1.348474</td>\n",
       "      <td>1.194359</td>\n",
       "      <td>26.775543</td>\n",
       "      <td>0.546798</td>\n",
       "      <td>103.0</td>\n",
       "      <td>1.252953</td>\n",
       "      <td>0.132196</td>\n",
       "      <td>A00063377</td>\n",
       "      <td>0.273656</td>\n",
       "      <td>4.374584</td>\n",
       "      <td>NaN</td>\n",
       "      <td>NaN</td>\n",
       "      <td>NaN</td>\n",
       "    </tr>\n",
       "    <tr>\n",
       "      <th>10677</th>\n",
       "      <td>4.790086</td>\n",
       "      <td>33.0</td>\n",
       "      <td>2.887812</td>\n",
       "      <td>10.240694</td>\n",
       "      <td>1.388813</td>\n",
       "      <td>10.225931</td>\n",
       "      <td>20.052480</td>\n",
       "      <td>0.644479</td>\n",
       "      <td>104.0</td>\n",
       "      <td>1.466519</td>\n",
       "      <td>0.508339</td>\n",
       "      <td>A00063377</td>\n",
       "      <td>0.323969</td>\n",
       "      <td>4.790086</td>\n",
       "      <td>2.174906</td>\n",
       "      <td>7.956676</td>\n",
       "      <td>0.982813</td>\n",
       "    </tr>\n",
       "    <tr>\n",
       "      <th>10678</th>\n",
       "      <td>3.547591</td>\n",
       "      <td>33.0</td>\n",
       "      <td>0.679934</td>\n",
       "      <td>8.831577</td>\n",
       "      <td>1.170036</td>\n",
       "      <td>1.296008</td>\n",
       "      <td>17.788104</td>\n",
       "      <td>0.336289</td>\n",
       "      <td>105.0</td>\n",
       "      <td>1.140610</td>\n",
       "      <td>0.256837</td>\n",
       "      <td>A00063377</td>\n",
       "      <td>0.302017</td>\n",
       "      <td>3.547591</td>\n",
       "      <td>NaN</td>\n",
       "      <td>NaN</td>\n",
       "      <td>NaN</td>\n",
       "    </tr>\n",
       "    <tr>\n",
       "      <th>10679</th>\n",
       "      <td>3.558882</td>\n",
       "      <td>33.0</td>\n",
       "      <td>1.743943</td>\n",
       "      <td>8.976889</td>\n",
       "      <td>1.272633</td>\n",
       "      <td>1.404338</td>\n",
       "      <td>17.709906</td>\n",
       "      <td>0.438981</td>\n",
       "      <td>106.0</td>\n",
       "      <td>1.136899</td>\n",
       "      <td>0.078493</td>\n",
       "      <td>A00063377</td>\n",
       "      <td>0.225865</td>\n",
       "      <td>3.558882</td>\n",
       "      <td>0.500000</td>\n",
       "      <td>6.376296</td>\n",
       "      <td>0.201507</td>\n",
       "    </tr>\n",
       "    <tr>\n",
       "      <th>10680</th>\n",
       "      <td>3.671929</td>\n",
       "      <td>33.0</td>\n",
       "      <td>2.271184</td>\n",
       "      <td>8.946235</td>\n",
       "      <td>1.495903</td>\n",
       "      <td>0.921512</td>\n",
       "      <td>17.684100</td>\n",
       "      <td>0.673460</td>\n",
       "      <td>107.0</td>\n",
       "      <td>1.187967</td>\n",
       "      <td>-0.141999</td>\n",
       "      <td>A00063377</td>\n",
       "      <td>0.191260</td>\n",
       "      <td>3.671929</td>\n",
       "      <td>NaN</td>\n",
       "      <td>NaN</td>\n",
       "      <td>NaN</td>\n",
       "    </tr>\n",
       "    <tr>\n",
       "      <th>10681</th>\n",
       "      <td>3.842820</td>\n",
       "      <td>33.0</td>\n",
       "      <td>1.355355</td>\n",
       "      <td>10.579712</td>\n",
       "      <td>1.414725</td>\n",
       "      <td>0.845856</td>\n",
       "      <td>17.691757</td>\n",
       "      <td>0.607536</td>\n",
       "      <td>108.0</td>\n",
       "      <td>1.347163</td>\n",
       "      <td>0.405579</td>\n",
       "      <td>A00063377</td>\n",
       "      <td>0.231394</td>\n",
       "      <td>3.842820</td>\n",
       "      <td>NaN</td>\n",
       "      <td>NaN</td>\n",
       "      <td>NaN</td>\n",
       "    </tr>\n",
       "    <tr>\n",
       "      <th>10682</th>\n",
       "      <td>4.659009</td>\n",
       "      <td>33.0</td>\n",
       "      <td>0.898416</td>\n",
       "      <td>10.646108</td>\n",
       "      <td>1.587596</td>\n",
       "      <td>3.372870</td>\n",
       "      <td>23.653893</td>\n",
       "      <td>0.603648</td>\n",
       "      <td>109.0</td>\n",
       "      <td>1.433525</td>\n",
       "      <td>0.414887</td>\n",
       "      <td>A00063377</td>\n",
       "      <td>0.257937</td>\n",
       "      <td>4.659009</td>\n",
       "      <td>NaN</td>\n",
       "      <td>NaN</td>\n",
       "      <td>NaN</td>\n",
       "    </tr>\n",
       "    <tr>\n",
       "      <th>10683</th>\n",
       "      <td>5.173191</td>\n",
       "      <td>33.0</td>\n",
       "      <td>2.360419</td>\n",
       "      <td>9.178808</td>\n",
       "      <td>1.360591</td>\n",
       "      <td>10.127774</td>\n",
       "      <td>18.244793</td>\n",
       "      <td>0.522909</td>\n",
       "      <td>110.0</td>\n",
       "      <td>1.421919</td>\n",
       "      <td>-0.196302</td>\n",
       "      <td>A00063377</td>\n",
       "      <td>0.350648</td>\n",
       "      <td>5.173191</td>\n",
       "      <td>0.859615</td>\n",
       "      <td>6.209299</td>\n",
       "      <td>0.424712</td>\n",
       "    </tr>\n",
       "  </tbody>\n",
       "</table>\n",
       "<p>10684 rows × 17 columns</p>\n",
       "</div>"
      ],
      "text/plain": [
       "             ABR   Age  Alpha_BW   Alpha_CF  Alpha_PW    Beta_BW    Beta_CF  \\\n",
       "0      14.927507  10.0  2.576849  10.435396  0.632860   0.651490  21.504787   \n",
       "1      16.475258  10.0  2.487412  10.419192  0.437804   0.816660  21.546040   \n",
       "2      16.790004  10.0  3.221616  10.123551  0.563381   1.600415  23.907194   \n",
       "3      16.768082  10.0  3.119242  10.098946  0.542737   1.178912  23.735743   \n",
       "4      21.750502  10.0  0.500000  10.267526  0.659122   0.500000  23.683487   \n",
       "5      20.606952  10.0  3.093522  10.269264  0.606551   0.926288  15.122875   \n",
       "6      23.949520  10.0  2.962543  10.158780  0.620734   0.907721  15.065078   \n",
       "7      13.983302  10.0  3.117171  10.276872  0.646379   0.706157  21.511848   \n",
       "8      16.899240  10.0  2.813007  10.048198  0.533521   0.500000  23.673429   \n",
       "9      16.394786  10.0  2.903103  10.223956  0.519875   1.080035  23.768848   \n",
       "10     18.830086  10.0  3.471907  10.125188  0.545707   0.668666  23.658145   \n",
       "11     18.845245  10.0  3.323495  10.135469  0.581192   1.182786  17.085812   \n",
       "12     22.217624  10.0  0.500000  10.263276  0.624401   0.856231  17.127734   \n",
       "13     18.772357  10.0  0.500000  10.303035  0.664544   0.613164  23.636588   \n",
       "14     20.091865  10.0  0.522180  10.269006  0.691387   0.500000  23.670491   \n",
       "15     19.899660  10.0  0.500000  10.278641  0.686847   0.819117  15.107265   \n",
       "16     18.814449  10.0  2.863109  10.295359  0.609020        NaN        NaN   \n",
       "17     21.281875  10.0  3.431837  10.213107  0.585395   0.626373  15.159721   \n",
       "18     18.068187  10.0  3.224094  10.024697  0.502634   0.840533  17.175571   \n",
       "19     21.130815  10.0  1.709603  10.074040  0.657142   0.500000  23.667329   \n",
       "20     20.506058  10.0  3.121327  10.242180  0.589392   0.500000  23.689385   \n",
       "21     17.777800  10.0  3.431127  10.177294  0.527111   1.148856  20.568024   \n",
       "22     17.031472  10.0  2.966866  10.167443  0.552694   1.116968  17.080721   \n",
       "23     20.707220  10.0  1.816437   9.965687  0.641921   0.789890  20.651155   \n",
       "24     18.007316  10.0  2.733849   9.970407  0.520583   0.858501  20.621857   \n",
       "25     17.456430  10.0  1.145473  10.090817  0.660149   0.692608  23.947857   \n",
       "26     17.526009  10.0  3.405372  10.120097  0.487407   0.944854  17.268993   \n",
       "27     19.608436  10.0  3.594196  10.241462  0.548102   0.500009  23.830300   \n",
       "28     21.824312  10.0  3.220687   9.944499  0.511185   0.818669  17.135140   \n",
       "29     28.133034  10.0  2.659135  10.164220  0.587650        NaN        NaN   \n",
       "...          ...   ...       ...        ...       ...        ...        ...   \n",
       "10654   3.643622  33.0  1.323623  10.376776  1.421631   0.500000  17.800275   \n",
       "10655   3.053851  33.0  3.482851   9.853759  1.608259   8.401185  17.800180   \n",
       "10656   3.929465  33.0  2.358230  10.359903  0.994120   1.338189  16.379673   \n",
       "10657   3.832063  33.0  3.549222   9.814151  1.487683   0.637533  19.449828   \n",
       "10658   3.432426  33.0  1.393699  10.354699  1.469534   0.500000  17.805530   \n",
       "10659   3.498281  33.0  2.841604  10.045997  1.323543   0.500000  17.818780   \n",
       "10660   2.957663  33.0  1.768997  10.183025  1.162189   0.551795  17.866042   \n",
       "10661   3.805488  33.0  3.473707   9.761770  1.473145   7.805419  18.137170   \n",
       "10662   3.297898  33.0  3.405219   9.863632  1.491059   8.456098  17.680824   \n",
       "10663   3.295753  33.0  2.438564  10.118079  0.947042   0.500000  17.788140   \n",
       "10664   2.941569  33.0  1.956905  10.457804  0.867273   0.549145  17.866667   \n",
       "10665   4.613455  33.0  2.261150  10.606097  1.169771   2.149478  19.134108   \n",
       "10666   4.628386  33.0  2.419310  10.473419  1.184191   0.500000  19.562258   \n",
       "10667   5.631133  33.0  2.484557  10.345268  1.132907   0.500000  19.640940   \n",
       "10668   4.072067  33.0  1.703916   8.681275  1.285743   8.244385  18.020930   \n",
       "10669   3.850327  33.0  1.378566  11.085062  1.215961   8.197860  16.819363   \n",
       "10670   4.214590  33.0  1.643078  10.814661  1.097262   7.894840  16.610126   \n",
       "10671   4.615591  33.0  1.012305  10.843952  1.248426   0.970400  26.813033   \n",
       "10672   4.877912  33.0  1.954490  10.648116  1.143706   1.103830  23.608885   \n",
       "10673   3.623688  33.0  0.667122   8.824333  1.287141   0.759455  17.750626   \n",
       "10674   4.078541  33.0  1.795119   8.868418  1.522708   9.829854  17.819082   \n",
       "10675   3.787930  33.0  3.510565   9.643672  1.556731  11.909439  19.660661   \n",
       "10676   4.374584  33.0  1.036793  10.835975  1.348474   1.194359  26.775543   \n",
       "10677   4.790086  33.0  2.887812  10.240694  1.388813  10.225931  20.052480   \n",
       "10678   3.547591  33.0  0.679934   8.831577  1.170036   1.296008  17.788104   \n",
       "10679   3.558882  33.0  1.743943   8.976889  1.272633   1.404338  17.709906   \n",
       "10680   3.671929  33.0  2.271184   8.946235  1.495903   0.921512  17.684100   \n",
       "10681   3.842820  33.0  1.355355  10.579712  1.414725   0.845856  17.691757   \n",
       "10682   4.659009  33.0  0.898416  10.646108  1.587596   3.372870  23.653893   \n",
       "10683   5.173191  33.0  2.360419   9.178808  1.360591  10.127774  18.244793   \n",
       "\n",
       "        Beta_PW  Chan_ID       Exp       Off    Subj_ID       TAR        TBR  \\\n",
       "0      0.438832      0.0  1.860829  1.198277  A00051826  1.650478  14.927507   \n",
       "1      0.419847      1.0  1.920281  1.666018  A00051826  2.220317  16.475258   \n",
       "2      0.434605      2.0  1.924418  1.434980  A00051826  2.066784  16.790004   \n",
       "3      0.323136      3.0  1.992965  1.534520  A00051826  2.016178  16.768082   \n",
       "4      0.266571      4.0  2.022430  1.588774  A00051826  2.289902  21.750502   \n",
       "5      0.262554      5.0  2.049553  1.686557  A00051826  2.040675  20.606952   \n",
       "6      0.259223      6.0  2.007281  1.527516  A00051826  2.304348  23.949520   \n",
       "7      0.455105      7.0  1.861614  1.236429  A00051826  1.635796  13.983302   \n",
       "8      0.329134      8.0  1.875105  1.479176  A00051826  2.099608  16.899240   \n",
       "9      0.294196      9.0  1.890382  1.446523  A00051826  2.038738  16.394786   \n",
       "10     0.305698     10.0  2.011964  1.599325  A00051826  2.070602  18.830086   \n",
       "11     0.248832     11.0  1.966854  1.597909  A00051826  2.066533  18.845245   \n",
       "12     0.250924     12.0  1.900196  1.512701  A00051826  2.470791  22.217624   \n",
       "13     0.288201     13.0  1.929237  1.478353  A00051826  2.048406  18.772357   \n",
       "14     0.252786     14.0  1.919162  1.429220  A00051826  2.131514  20.091865   \n",
       "15     0.255884     15.0  1.925636  1.554949  A00051826  2.219964  19.899660   \n",
       "16          NaN     16.0  2.033986  1.511581  A00051826  1.999490  18.814449   \n",
       "17     0.268873     17.0  1.933761  1.513527  A00051826  2.224037  21.281875   \n",
       "18     0.232366     18.0  1.865994  1.586297  A00051826  2.291564  18.068187   \n",
       "19     0.214686     19.0  1.898826  1.517814  A00051826  2.284541  21.130815   \n",
       "20     0.219693     20.0  1.952310  1.628288  A00051826  2.096161  20.506058   \n",
       "21     0.252437     21.0  1.843098  1.507140  A00051826  2.257455  17.777800   \n",
       "22     0.290521     22.0  1.859152  1.509128  A00051826  2.163146  17.031472   \n",
       "23     0.213307     23.0  1.854172  1.493891  A00051826  2.383978  20.707220   \n",
       "24     0.237735     24.0  1.790693  1.493496  A00051826  2.358303  18.007316   \n",
       "25     0.259613     25.0  1.847667  1.451577  A00051826  2.264932  17.456430   \n",
       "26     0.259181     26.0  1.829060  1.526615  A00051826  2.413523  17.526009   \n",
       "27     0.259232     27.0  1.849018  1.508968  A00051826  2.287267  19.608436   \n",
       "28     0.269915     28.0  1.813036  1.413627  A00051826  2.644312  21.824312   \n",
       "29          NaN     29.0  1.991581  1.288542  A00051826  2.515458  28.133034   \n",
       "...         ...      ...       ...       ...        ...       ...        ...   \n",
       "10654  0.640394     81.0  1.354439  0.666975  A00063377  0.245875   3.643622   \n",
       "10655  0.651026     82.0  1.208187  0.213414  A00063377  0.168220   3.053851   \n",
       "10656  0.568021     83.0  1.471444  0.027731  A00063377  0.578370   3.929465   \n",
       "10657  0.795628     84.0  1.370693  0.781782  A00063377  0.228314   3.832063   \n",
       "10658  0.663017     85.0  1.325462  0.571994  A00063377  0.223494   3.432426   \n",
       "10659  0.626269     86.0  1.316519  0.393235  A00063377  0.242345   3.498281   \n",
       "10660  0.475302     87.0  1.188511  0.051788  A00063377  0.278268   2.957663   \n",
       "10661  0.646700     88.0  1.377502  0.546236  A00063377  0.229580   3.805488   \n",
       "10662  0.604490     89.0  1.303030  0.464406  A00063377  0.202456   3.297898   \n",
       "10663  0.449430     90.0  1.238696  0.284557  A00063377  0.387896   3.295753   \n",
       "10664  0.314998     91.0  1.150466 -0.093986  A00063377  0.442431   2.941569   \n",
       "10665  0.651747     92.0  1.381263 -0.080851  A00063377  0.603229   4.613455   \n",
       "10666  0.726867     93.0  1.463058  0.124253  A00063377  0.523689   4.628386   \n",
       "10667  0.688496     94.0  1.418947  0.243097  A00063377  0.570941   5.631133   \n",
       "10668  0.612683     95.0  1.290195  0.006923  A00063377  0.284028   4.072067   \n",
       "10669  0.559681     96.0  1.315980 -0.216365  A00063377  0.353971   3.850327   \n",
       "10670  0.501811     97.0  1.463676  0.008679  A00063377  0.493857   4.214590   \n",
       "10671  0.552946     98.0  1.272117  0.015607  A00063377  0.511950   4.615591   \n",
       "10672  0.470975     99.0  1.318797  0.310978  A00063377  0.374678   4.877912   \n",
       "10673  0.385093    100.0  1.129464  0.090092  A00063377  0.253693   3.623688   \n",
       "10674  0.558758    101.0  1.277477 -0.044823  A00063377  0.247457   4.078541   \n",
       "10675  0.615960    102.0  1.233228 -0.168139  A00063377  0.220073   3.787930   \n",
       "10676  0.546798    103.0  1.252953  0.132196  A00063377  0.273656   4.374584   \n",
       "10677  0.644479    104.0  1.466519  0.508339  A00063377  0.323969   4.790086   \n",
       "10678  0.336289    105.0  1.140610  0.256837  A00063377  0.302017   3.547591   \n",
       "10679  0.438981    106.0  1.136899  0.078493  A00063377  0.225865   3.558882   \n",
       "10680  0.673460    107.0  1.187967 -0.141999  A00063377  0.191260   3.671929   \n",
       "10681  0.607536    108.0  1.347163  0.405579  A00063377  0.231394   3.842820   \n",
       "10682  0.603648    109.0  1.433525  0.414887  A00063377  0.257937   4.659009   \n",
       "10683  0.522909    110.0  1.421919 -0.196302  A00063377  0.350648   5.173191   \n",
       "\n",
       "       Theta_BW  Theta_CF  Theta_PW  \n",
       "0      2.465400  7.168822  0.620085  \n",
       "1      2.423398  7.288344  0.636498  \n",
       "2      0.500000  7.747992  0.578458  \n",
       "3      1.427005  6.481169  0.464667  \n",
       "4      1.597491  6.847909  0.537066  \n",
       "5      1.651050  6.615213  0.486021  \n",
       "6      1.327306  6.849875  0.638814  \n",
       "7      2.155361  6.774232  0.581870  \n",
       "8      1.566126  6.831617  0.507819  \n",
       "9      2.077368  6.705398  0.415047  \n",
       "10     1.267978  6.498809  0.496359  \n",
       "11     1.154335  6.644149  0.511247  \n",
       "12     1.258714  6.965976  0.691081  \n",
       "13     2.794533  7.087993  0.437059  \n",
       "14     1.116099  6.505457  0.514761  \n",
       "15     1.391460  6.779124  0.545793  \n",
       "16     1.206753  6.470913  0.530702  \n",
       "17     1.249041  6.767706  0.583722  \n",
       "18     1.018098  6.819033  0.606798  \n",
       "19     1.906520  7.069935  0.542858  \n",
       "20     1.351585  6.815426  0.543908  \n",
       "21     1.032488  6.807348  0.612084  \n",
       "22     1.043562  6.757545  0.583200  \n",
       "23     1.507980  7.059398  0.602614  \n",
       "24     1.129904  6.871637  0.596533  \n",
       "25     1.218114  7.000902  0.626183  \n",
       "26     1.044641  6.897489  0.688610  \n",
       "27     1.068959  6.930468  0.703792  \n",
       "28     1.191376  6.986757  0.767350  \n",
       "29     1.560289  6.994165  0.697869  \n",
       "...         ...       ...       ...  \n",
       "10654       NaN       NaN       NaN  \n",
       "10655       NaN       NaN       NaN  \n",
       "10656  0.592485  7.772659  0.566107  \n",
       "10657       NaN       NaN       NaN  \n",
       "10658       NaN       NaN       NaN  \n",
       "10659       NaN       NaN       NaN  \n",
       "10660       NaN       NaN       NaN  \n",
       "10661       NaN       NaN       NaN  \n",
       "10662       NaN       NaN       NaN  \n",
       "10663       NaN       NaN       NaN  \n",
       "10664       NaN       NaN       NaN  \n",
       "10665  2.294652  7.589160  0.663620  \n",
       "10666  1.454940  7.873432  0.839736  \n",
       "10667  1.332955  7.959677  0.851171  \n",
       "10668  0.937445  6.268691  0.480390  \n",
       "10669       NaN       NaN       NaN  \n",
       "10670       NaN       NaN       NaN  \n",
       "10671       NaN       NaN       NaN  \n",
       "10672       NaN       NaN       NaN  \n",
       "10673       NaN       NaN       NaN  \n",
       "10674  0.872926  6.313456  0.475904  \n",
       "10675       NaN       NaN       NaN  \n",
       "10676       NaN       NaN       NaN  \n",
       "10677  2.174906  7.956676  0.982813  \n",
       "10678       NaN       NaN       NaN  \n",
       "10679  0.500000  6.376296  0.201507  \n",
       "10680       NaN       NaN       NaN  \n",
       "10681       NaN       NaN       NaN  \n",
       "10682       NaN       NaN       NaN  \n",
       "10683  0.859615  6.209299  0.424712  \n",
       "\n",
       "[10684 rows x 17 columns]"
      ]
     },
     "execution_count": 6,
     "metadata": {},
     "output_type": "execute_result"
    }
   ],
   "source": [
    "df = get_all_data(data, all_chans)\n",
    "df.to_csv(\"../dat/child_mind_data\")\n",
    "df"
   ]
  },
  {
   "cell_type": "code",
   "execution_count": 9,
   "metadata": {},
   "outputs": [
    {
     "data": {
      "text/plain": [
       "97"
      ]
     },
     "execution_count": 9,
     "metadata": {},
     "output_type": "execute_result"
    }
   ],
   "source": [
    "len(df.Subj_ID.unique())"
   ]
  },
  {
   "cell_type": "code",
   "execution_count": 53,
   "metadata": {},
   "outputs": [],
   "source": [
    "sns.heatmap?"
   ]
  },
  {
   "cell_type": "code",
   "execution_count": 7,
   "metadata": {
    "scrolled": true
   },
   "outputs": [],
   "source": [
    "df = pd.read_csv(\"../dat/child_mind_data\")"
   ]
  },
  {
   "cell_type": "code",
   "execution_count": 8,
   "metadata": {},
   "outputs": [],
   "source": [
    "ages = df[\"Age\"]\n",
    "subs = df.Subj_ID"
   ]
  },
  {
   "cell_type": "markdown",
   "metadata": {},
   "source": [
    "# All Channels"
   ]
  },
  {
   "cell_type": "markdown",
   "metadata": {},
   "source": [
    "### TBR:"
   ]
  },
  {
   "cell_type": "markdown",
   "metadata": {},
   "source": [
    "### Global"
   ]
  },
  {
   "cell_type": "code",
   "execution_count": 9,
   "metadata": {},
   "outputs": [
    {
     "name": "stdout",
     "output_type": "stream",
     "text": [
      "SpearmanrResult(correlation=-0.010486193085193732, pvalue=0.47268733756185755)\n",
      "SpearmanrResult(correlation=-0.08412540922672725, pvalue=9.209100975779661e-18)\n",
      "SpearmanrResult(correlation=0.3530616823631805, pvalue=8.531685635839347e-138)\n",
      "SpearmanrResult(correlation=-0.2550372798950505, pvalue=9.561665489959044e-154)\n",
      "SpearmanrResult(correlation=0.2264730110771764, pvalue=1.2234849674201136e-55)\n",
      "SpearmanrResult(correlation=-0.1152939026308864, pvalue=4.831251619175502e-32)\n",
      "SpearmanrResult(correlation=0.7284222555134583, pvalue=0.0)\n",
      "SpearmanrResult(correlation=0.6730206898089981, pvalue=0.0)\n",
      "SpearmanrResult(correlation=-0.6089315099546881, pvalue=0.0)\n"
     ]
    },
    {
     "data": {
      "image/png": "[encoded data removed]",
      "text/plain": [
       "<Figure size 432x288 with 2 Axes>"
      ]
     },
     "metadata": {},
     "output_type": "display_data"
    },
    {
     "name": "stdout",
     "output_type": "stream",
     "text": [
      "The corr of TBR to Exp is 0.73\n",
      "The corr of TBR to Off is 0.67\n",
      "The corr of TBR to Age is -0.61\n"
     ]
    },
    {
     "data": {
      "text/plain": [
       "<Figure size 432x288 with 0 Axes>"
      ]
     },
     "metadata": {},
     "output_type": "display_data"
    }
   ],
   "source": [
    "tbr_per, tbr_ap = param_ratio_corr(df, \"TBR\", all_chans, func=nan_corr_spearman)\n",
    "plot_param_ratio_corr(tbr_per, y_labels=[\"Theta\",\"Beta\"],save_fig=True, file_name=\"TBR_corrs\")\n",
    "print_aperiodic_correlation(\"TBR\", tbr_ap)"
   ]
  },
  {
   "cell_type": "markdown",
   "metadata": {},
   "source": [
    "### Frontal"
   ]
  },
  {
   "cell_type": "code",
   "execution_count": 10,
   "metadata": {},
   "outputs": [
    {
     "name": "stdout",
     "output_type": "stream",
     "text": [
      "SpearmanrResult(correlation=0.026537403075265326, pvalue=0.699494415794208)\n",
      "SpearmanrResult(correlation=-0.07664352112384894, pvalue=0.09663649271896395)\n",
      "SpearmanrResult(correlation=0.41812649424038256, pvalue=1.8258465014196318e-10)\n",
      "SpearmanrResult(correlation=-0.32689492168568157, pvalue=3.427048433555829e-13)\n",
      "SpearmanrResult(correlation=0.16438772249354452, pvalue=0.01607981197277514)\n",
      "SpearmanrResult(correlation=-0.12406209496500632, pvalue=0.007023475825915103)\n",
      "SpearmanrResult(correlation=0.7123548301930058, pvalue=2.7105688814659762e-76)\n",
      "SpearmanrResult(correlation=0.6547698162506036, pvalue=1.0492076011873656e-60)\n",
      "SpearmanrResult(correlation=-0.5704264478434629, pvalue=3.3000472047927283e-43)\n"
     ]
    },
    {
     "data": {
      "image/png": "[encoded data removed]",
      "text/plain": [
       "<Figure size 432x288 with 2 Axes>"
      ]
     },
     "metadata": {},
     "output_type": "display_data"
    },
    {
     "name": "stdout",
     "output_type": "stream",
     "text": [
      "The corr of TBR to Exp is 0.71\n",
      "The corr of TBR to Off is 0.65\n",
      "The corr of TBR to Age is -0.57\n"
     ]
    },
    {
     "data": {
      "text/plain": [
       "<Figure size 432x288 with 0 Axes>"
      ]
     },
     "metadata": {},
     "output_type": "display_data"
    }
   ],
   "source": [
    "tbr_per, tbr_ap = param_ratio_corr(df, \"TBR\", ch_inds_frontal, func=nan_corr_spearman)\n",
    "plot_param_ratio_corr(tbr_per, y_labels=[\"Theta\",\"Beta\"],save_fig=True, file_name=\"TBR_corrs\")\n",
    "print_aperiodic_correlation(\"TBR\", tbr_ap)"
   ]
  },
  {
   "cell_type": "markdown",
   "metadata": {},
   "source": [
    "### Central"
   ]
  },
  {
   "cell_type": "code",
   "execution_count": 11,
   "metadata": {},
   "outputs": [
    {
     "name": "stdout",
     "output_type": "stream",
     "text": [
      "SpearmanrResult(correlation=-0.10506875544904609, pvalue=0.11604190409565704)\n",
      "SpearmanrResult(correlation=-0.11630541433418815, pvalue=0.012847631817849894)\n",
      "SpearmanrResult(correlation=0.3123019384745049, pvalue=1.7661116682993922e-06)\n",
      "SpearmanrResult(correlation=-0.15259715440551158, pvalue=0.0010663657815791)\n",
      "SpearmanrResult(correlation=0.2393037828155758, pvalue=0.00029195395804684)\n",
      "SpearmanrResult(correlation=-0.13829546765586742, pvalue=0.0030508198431254286)\n",
      "SpearmanrResult(correlation=0.7871623778262782, pvalue=1.3359844146248706e-102)\n",
      "SpearmanrResult(correlation=0.7289061084704237, pvalue=7.5250488094932e-81)\n",
      "SpearmanrResult(correlation=-0.6430942260735631, pvalue=1.7367703702374113e-57)\n"
     ]
    },
    {
     "data": {
      "image/png": "[encoded data removed]",
      "text/plain": [
       "<Figure size 432x288 with 2 Axes>"
      ]
     },
     "metadata": {},
     "output_type": "display_data"
    },
    {
     "name": "stdout",
     "output_type": "stream",
     "text": [
      "The corr of TBR to Exp is 0.79\n",
      "The corr of TBR to Off is 0.73\n",
      "The corr of TBR to Age is -0.64\n"
     ]
    },
    {
     "data": {
      "text/plain": [
       "<Figure size 432x288 with 0 Axes>"
      ]
     },
     "metadata": {},
     "output_type": "display_data"
    }
   ],
   "source": [
    "tbr_per, tbr_ap = param_ratio_corr(df, \"TBR\", ch_inds_central, func=nan_corr_spearman)\n",
    "plot_param_ratio_corr(tbr_per, y_labels=[\"Theta\",\"Beta\"],save_fig=True, file_name=\"TBR_corrs\")\n",
    "print_aperiodic_correlation(\"TBR\", tbr_ap)"
   ]
  },
  {
   "cell_type": "markdown",
   "metadata": {},
   "source": [
    "### Parietal"
   ]
  },
  {
   "cell_type": "code",
   "execution_count": 12,
   "metadata": {},
   "outputs": [
    {
     "name": "stdout",
     "output_type": "stream",
     "text": [
      "SpearmanrResult(correlation=0.08497771479309094, pvalue=0.24372879963133426)\n",
      "SpearmanrResult(correlation=-0.10340524354395912, pvalue=0.024973306072937847)\n",
      "SpearmanrResult(correlation=0.3823581641713359, pvalue=5.211196491032835e-08)\n",
      "SpearmanrResult(correlation=-0.35112176518911653, pvalue=4.40036051326251e-15)\n",
      "SpearmanrResult(correlation=0.16786018183745507, pvalue=0.02061430284026363)\n",
      "SpearmanrResult(correlation=-0.22995855708581273, pvalue=4.6600714809116796e-07)\n",
      "SpearmanrResult(correlation=0.73808458370045, pvalue=1.024662051611738e-83)\n",
      "SpearmanrResult(correlation=0.7349207244823109, pvalue=1.1739089289789453e-82)\n",
      "SpearmanrResult(correlation=-0.6299785602500033, pvalue=1.901110886797472e-54)\n"
     ]
    },
    {
     "data": {
      "image/png": "[encoded data removed]",
      "text/plain": [
       "<Figure size 432x288 with 2 Axes>"
      ]
     },
     "metadata": {},
     "output_type": "display_data"
    },
    {
     "name": "stdout",
     "output_type": "stream",
     "text": [
      "The corr of TBR to Exp is 0.74\n",
      "The corr of TBR to Off is 0.73\n",
      "The corr of TBR to Age is -0.63\n"
     ]
    },
    {
     "data": {
      "text/plain": [
       "<Figure size 432x288 with 0 Axes>"
      ]
     },
     "metadata": {},
     "output_type": "display_data"
    }
   ],
   "source": [
    "tbr_per, tbr_ap = param_ratio_corr(df, \"TBR\", ch_inds_parietal, func=nan_corr_spearman)\n",
    "plot_param_ratio_corr(tbr_per, y_labels=[\"Theta\",\"Beta\"], save_fig=True, file_name=\"TBR_corrs\")\n",
    "print_aperiodic_correlation(\"TBR\", tbr_ap)"
   ]
  },
  {
   "cell_type": "markdown",
   "metadata": {},
   "source": [
    "### TAR"
   ]
  },
  {
   "cell_type": "markdown",
   "metadata": {},
   "source": [
    "### Global"
   ]
  },
  {
   "cell_type": "code",
   "execution_count": 13,
   "metadata": {},
   "outputs": [
    {
     "name": "stdout",
     "output_type": "stream",
     "text": [
      "SpearmanrResult(correlation=-0.30848405210170265, pvalue=5.424493330385859e-104)\n",
      "SpearmanrResult(correlation=-0.15321692161821468, pvalue=1.780477067599699e-55)\n",
      "SpearmanrResult(correlation=-0.1835511070726774, pvalue=7.88907553254602e-37)\n",
      "SpearmanrResult(correlation=-0.8937999814196274, pvalue=0.0)\n",
      "SpearmanrResult(correlation=-0.006333730097578707, pvalue=0.664478921201644)\n",
      "SpearmanrResult(correlation=-0.1988107378173101, pvalue=6.992287298970602e-93)\n",
      "SpearmanrResult(correlation=0.15784972573852782, pvalue=1.4454128484509228e-60)\n",
      "SpearmanrResult(correlation=0.13842843888327577, pvalue=7.317922091001838e-47)\n",
      "SpearmanrResult(correlation=-0.3128364612419722, pvalue=3.111147788583773e-241)\n"
     ]
    },
    {
     "data": {
      "image/png": "[encoded data removed]",
      "text/plain": [
       "<Figure size 432x288 with 2 Axes>"
      ]
     },
     "metadata": {},
     "output_type": "display_data"
    },
    {
     "name": "stdout",
     "output_type": "stream",
     "text": [
      "The corr of TAR to Exp is 0.16\n",
      "The corr of TAR to Off is 0.14\n",
      "The corr of TAR to Age is -0.31\n"
     ]
    },
    {
     "data": {
      "text/plain": [
       "<Figure size 432x288 with 0 Axes>"
      ]
     },
     "metadata": {},
     "output_type": "display_data"
    }
   ],
   "source": [
    "tar_per, tar_ap = param_ratio_corr(df, \"TAR\", all_chans, func=nan_corr_spearman)\n",
    "plot_param_ratio_corr(tar_per, y_labels=[\"Theta\",\"Alpha\"],save_fig=True, file_name=\"TAR_corrs\")\n",
    "print_aperiodic_correlation(\"TAR\", tar_ap)"
   ]
  },
  {
   "cell_type": "markdown",
   "metadata": {},
   "source": [
    "### Frontal"
   ]
  },
  {
   "cell_type": "code",
   "execution_count": 14,
   "metadata": {},
   "outputs": [
    {
     "name": "stdout",
     "output_type": "stream",
     "text": [
      "SpearmanrResult(correlation=-0.4636022175216043, pvalue=8.422765096794262e-13)\n",
      "SpearmanrResult(correlation=-0.12979168556383586, pvalue=0.005060729138703546)\n",
      "SpearmanrResult(correlation=-0.23317221302166402, pvalue=0.0005848219912163295)\n",
      "SpearmanrResult(correlation=-0.8950257081067664, pvalue=1.8426751392496986e-164)\n",
      "SpearmanrResult(correlation=-0.0017046164311011172, pvalue=0.9802221828030346)\n",
      "SpearmanrResult(correlation=-0.24698994194733312, pvalue=6.83187132491443e-08)\n",
      "SpearmanrResult(correlation=0.19848142994034904, pvalue=1.0641588237105898e-05)\n",
      "SpearmanrResult(correlation=0.2366374354815467, pvalue=1.3419221936657404e-07)\n",
      "SpearmanrResult(correlation=-0.3339043374381472, pvalue=4.2751940700770107e-14)\n"
     ]
    },
    {
     "data": {
      "image/png": "[encoded data removed]",
      "text/plain": [
       "<Figure size 432x288 with 2 Axes>"
      ]
     },
     "metadata": {},
     "output_type": "display_data"
    },
    {
     "name": "stdout",
     "output_type": "stream",
     "text": [
      "The corr of TAR to Exp is 0.20\n",
      "The corr of TAR to Off is 0.24\n",
      "The corr of TAR to Age is -0.33\n"
     ]
    },
    {
     "data": {
      "text/plain": [
       "<Figure size 432x288 with 0 Axes>"
      ]
     },
     "metadata": {},
     "output_type": "display_data"
    }
   ],
   "source": [
    "tar_per, tar_ap = param_ratio_corr(df, \"TAR\", ch_inds_frontal, func=nan_corr_spearman)\n",
    "plot_param_ratio_corr(tar_per, y_labels=[\"Theta\",\"Alpha\"],save_fig=True, file_name=\"TAR_corrs\")\n",
    "print_aperiodic_correlation(\"TAR\", tar_ap)"
   ]
  },
  {
   "cell_type": "markdown",
   "metadata": {},
   "source": [
    "### Central"
   ]
  },
  {
   "cell_type": "code",
   "execution_count": 15,
   "metadata": {},
   "outputs": [
    {
     "name": "stdout",
     "output_type": "stream",
     "text": [
      "SpearmanrResult(correlation=-0.26974839272215534, pvalue=4.1324366298198126e-05)\n",
      "SpearmanrResult(correlation=-0.07764886869930836, pvalue=0.09267666587933947)\n",
      "SpearmanrResult(correlation=-0.12096291613990731, pvalue=0.07014189950157446)\n",
      "SpearmanrResult(correlation=-0.8810670863058339, pvalue=2.8352708727118368e-154)\n",
      "SpearmanrResult(correlation=0.08369387766569719, pvalue=0.21107639518379848)\n",
      "SpearmanrResult(correlation=-0.2551180448007403, pvalue=2.0328674587657494e-08)\n",
      "SpearmanrResult(correlation=0.2145619646138318, pvalue=2.04540465988157e-06)\n",
      "SpearmanrResult(correlation=0.2937983626780307, pvalue=4.9532665214883735e-11)\n",
      "SpearmanrResult(correlation=-0.3483127223314698, pvalue=3.635136386407677e-15)\n"
     ]
    },
    {
     "data": {
      "image/png": "[encoded data removed]",
      "text/plain": [
       "<Figure size 432x288 with 2 Axes>"
      ]
     },
     "metadata": {},
     "output_type": "display_data"
    },
    {
     "name": "stdout",
     "output_type": "stream",
     "text": [
      "The corr of TAR to Exp is 0.21\n",
      "The corr of TAR to Off is 0.29\n",
      "The corr of TAR to Age is -0.35\n"
     ]
    },
    {
     "data": {
      "text/plain": [
       "<Figure size 432x288 with 0 Axes>"
      ]
     },
     "metadata": {},
     "output_type": "display_data"
    }
   ],
   "source": [
    "tar_per, tar_ap = param_ratio_corr(df, \"TAR\", ch_inds_central, func=nan_corr_spearman)\n",
    "plot_param_ratio_corr(tar_per, y_labels=[\"Theta\",\"Alpha\"],save_fig=True, file_name=\"TAR_corrs\")\n",
    "print_aperiodic_correlation(\"TAR\", tar_ap)"
   ]
  },
  {
   "cell_type": "markdown",
   "metadata": {},
   "source": [
    "### Parietal"
   ]
  },
  {
   "cell_type": "code",
   "execution_count": 16,
   "metadata": {},
   "outputs": [
    {
     "name": "stdout",
     "output_type": "stream",
     "text": [
      "SpearmanrResult(correlation=-0.45068780152825355, pvalue=6.80484896619611e-11)\n",
      "SpearmanrResult(correlation=-0.241065116076084, pvalue=1.1828572849059552e-07)\n",
      "SpearmanrResult(correlation=-0.2636005371194129, pvalue=0.00023811686684219971)\n",
      "SpearmanrResult(correlation=-0.894491238305682, pvalue=4.441097326124519e-166)\n",
      "SpearmanrResult(correlation=-0.09115941767451813, pvalue=0.21098551882449945)\n",
      "SpearmanrResult(correlation=-0.14540760843896247, pvalue=0.0015553077581978991)\n",
      "SpearmanrResult(correlation=0.17700478300687067, pvalue=9.671214731021577e-05)\n",
      "SpearmanrResult(correlation=0.19112821670232943, pvalue=2.4932031839329893e-05)\n",
      "SpearmanrResult(correlation=-0.3678553423839701, pvalue=7.933376240672311e-17)\n"
     ]
    },
    {
     "data": {
      "image/png": "[encoded data removed]",
      "text/plain": [
       "<Figure size 432x288 with 2 Axes>"
      ]
     },
     "metadata": {},
     "output_type": "display_data"
    },
    {
     "name": "stdout",
     "output_type": "stream",
     "text": [
      "The corr of TAR to Exp is 0.18\n",
      "The corr of TAR to Off is 0.19\n",
      "The corr of TAR to Age is -0.37\n"
     ]
    },
    {
     "data": {
      "text/plain": [
       "<Figure size 432x288 with 0 Axes>"
      ]
     },
     "metadata": {},
     "output_type": "display_data"
    }
   ],
   "source": [
    "tar_per, tar_ap = param_ratio_corr(df, \"TAR\", ch_inds_parietal, func=nan_corr_spearman)\n",
    "plot_param_ratio_corr(tar_per, y_labels=[\"Theta\",\"Alpha\"],save_fig=True, file_name=\"TAR_corrs\")\n",
    "print_aperiodic_correlation(\"TAR\", tar_ap)"
   ]
  },
  {
   "cell_type": "markdown",
   "metadata": {},
   "source": [
    "# ABR"
   ]
  },
  {
   "cell_type": "markdown",
   "metadata": {},
   "source": [
    "### Global"
   ]
  },
  {
   "cell_type": "code",
   "execution_count": 17,
   "metadata": {},
   "outputs": [
    {
     "name": "stdout",
     "output_type": "stream",
     "text": [
      "SpearmanrResult(correlation=-0.26442608075376944, pvalue=2.272494483416143e-165)\n",
      "SpearmanrResult(correlation=-0.08412540922672725, pvalue=9.209100975779661e-18)\n",
      "SpearmanrResult(correlation=0.0018067572817925632, pvalue=0.8540750579070814)\n",
      "SpearmanrResult(correlation=-0.2550372798950505, pvalue=9.561665489959044e-154)\n",
      "SpearmanrResult(correlation=0.00876276566922399, pvalue=0.3723742688808912)\n",
      "SpearmanrResult(correlation=-0.1152939026308864, pvalue=4.831251619175502e-32)\n",
      "SpearmanrResult(correlation=0.7284222555134583, pvalue=0.0)\n",
      "SpearmanrResult(correlation=0.6730206898089981, pvalue=0.0)\n",
      "SpearmanrResult(correlation=-0.6089315099546881, pvalue=0.0)\n"
     ]
    },
    {
     "data": {
      "image/png": "[encoded data removed]",
      "text/plain": [
       "<Figure size 432x288 with 2 Axes>"
      ]
     },
     "metadata": {},
     "output_type": "display_data"
    },
    {
     "name": "stdout",
     "output_type": "stream",
     "text": [
      "The corr of ABR to Exp is 0.73\n",
      "The corr of ABR to Off is 0.67\n",
      "The corr of ABR to Age is -0.61\n"
     ]
    },
    {
     "data": {
      "text/plain": [
       "<Figure size 432x288 with 0 Axes>"
      ]
     },
     "metadata": {},
     "output_type": "display_data"
    }
   ],
   "source": [
    "abr_per, abr_ap = param_ratio_corr(df, \"ABR\", all_chans, func=nan_corr_spearman)\n",
    "plot_param_ratio_corr(abr_per, y_labels=[\"Alpha\",\"Beta\"],save_fig=True, file_name=\"ABR_corrs\")\n",
    "print_aperiodic_correlation(\"ABR\", abr_ap)"
   ]
  },
  {
   "cell_type": "markdown",
   "metadata": {},
   "source": [
    "### Frontal"
   ]
  },
  {
   "cell_type": "code",
   "execution_count": 18,
   "metadata": {},
   "outputs": [
    {
     "name": "stdout",
     "output_type": "stream",
     "text": [
      "SpearmanrResult(correlation=-0.26281908367427803, pvalue=8.736635161650534e-09)\n",
      "SpearmanrResult(correlation=-0.07664352112384894, pvalue=0.09663649271896395)\n",
      "SpearmanrResult(correlation=0.010555958695164395, pvalue=0.820407515992206)\n",
      "SpearmanrResult(correlation=-0.32689492168568157, pvalue=3.427048433555829e-13)\n",
      "SpearmanrResult(correlation=0.005940270394123491, pvalue=0.8983456251057095)\n",
      "SpearmanrResult(correlation=-0.12406209496500632, pvalue=0.007023475825915103)\n",
      "SpearmanrResult(correlation=0.7123548301930058, pvalue=2.7105688814659762e-76)\n",
      "SpearmanrResult(correlation=0.6547698162506036, pvalue=1.0492076011873656e-60)\n",
      "SpearmanrResult(correlation=-0.5704264478434629, pvalue=3.3000472047927283e-43)\n"
     ]
    },
    {
     "data": {
      "image/png": "[encoded data removed]",
      "text/plain": [
       "<Figure size 432x288 with 2 Axes>"
      ]
     },
     "metadata": {},
     "output_type": "display_data"
    },
    {
     "name": "stdout",
     "output_type": "stream",
     "text": [
      "The corr of ABR to Exp is 0.71\n",
      "The corr of ABR to Off is 0.65\n",
      "The corr of ABR to Age is -0.57\n"
     ]
    },
    {
     "data": {
      "text/plain": [
       "<Figure size 432x288 with 0 Axes>"
      ]
     },
     "metadata": {},
     "output_type": "display_data"
    }
   ],
   "source": [
    "abr_per, abr_ap = param_ratio_corr(df, \"ABR\", ch_inds_frontal, func=nan_corr_spearman)\n",
    "plot_param_ratio_corr(abr_per, y_labels=[\"Alpha\",\"Beta\"],save_fig=True, file_name=\"ABR_corrs\")\n",
    "print_aperiodic_correlation(\"ABR\", abr_ap)"
   ]
  },
  {
   "cell_type": "markdown",
   "metadata": {},
   "source": [
    "### Central"
   ]
  },
  {
   "cell_type": "code",
   "execution_count": 19,
   "metadata": {},
   "outputs": [
    {
     "name": "stdout",
     "output_type": "stream",
     "text": [
      "SpearmanrResult(correlation=-0.18116813373744606, pvalue=7.818207899798797e-05)\n",
      "SpearmanrResult(correlation=-0.11630541433418815, pvalue=0.012847631817849894)\n",
      "SpearmanrResult(correlation=0.053521157690917386, pvalue=0.2468430256504205)\n",
      "SpearmanrResult(correlation=-0.15259715440551158, pvalue=0.0010663657815791)\n",
      "SpearmanrResult(correlation=-0.03567884537249162, pvalue=0.44030104352685284)\n",
      "SpearmanrResult(correlation=-0.13829546765586742, pvalue=0.0030508198431254286)\n",
      "SpearmanrResult(correlation=0.7871623778262782, pvalue=1.3359844146248706e-102)\n",
      "SpearmanrResult(correlation=0.7289061084704237, pvalue=7.5250488094932e-81)\n",
      "SpearmanrResult(correlation=-0.6430942260735631, pvalue=1.7367703702374113e-57)\n"
     ]
    },
    {
     "data": {
      "image/png": "[encoded data removed]",
      "text/plain": [
       "<Figure size 432x288 with 2 Axes>"
      ]
     },
     "metadata": {},
     "output_type": "display_data"
    },
    {
     "name": "stdout",
     "output_type": "stream",
     "text": [
      "The corr of ABR to Exp is 0.79\n",
      "The corr of ABR to Off is 0.73\n",
      "The corr of ABR to Age is -0.64\n"
     ]
    },
    {
     "data": {
      "text/plain": [
       "<Figure size 432x288 with 0 Axes>"
      ]
     },
     "metadata": {},
     "output_type": "display_data"
    }
   ],
   "source": [
    "abr_per, abr_ap = param_ratio_corr(df, \"ABR\", ch_inds_central, func=nan_corr_spearman)\n",
    "plot_param_ratio_corr(abr_per, y_labels=[\"Alpha\",\"Beta\"],save_fig=True, file_name=\"ABR_corrs\")\n",
    "print_aperiodic_correlation(\"ABR\", abr_ap)"
   ]
  },
  {
   "cell_type": "markdown",
   "metadata": {},
   "source": [
    "### Parietal"
   ]
  },
  {
   "cell_type": "code",
   "execution_count": 20,
   "metadata": {},
   "outputs": [
    {
     "data": {
      "text/plain": [
       "array([ 0.78716238,  0.72890611, -0.64309423])"
      ]
     },
     "execution_count": 20,
     "metadata": {},
     "output_type": "execute_result"
    }
   ],
   "source": [
    "abr_ap"
   ]
  },
  {
   "cell_type": "code",
   "execution_count": 21,
   "metadata": {},
   "outputs": [
    {
     "data": {
      "text/plain": [
       "array([ 0.73808458,  0.73492072, -0.62997856])"
      ]
     },
     "execution_count": 21,
     "metadata": {},
     "output_type": "execute_result"
    }
   ],
   "source": [
    "tbr_ap"
   ]
  },
  {
   "cell_type": "code",
   "execution_count": 22,
   "metadata": {},
   "outputs": [
    {
     "name": "stdout",
     "output_type": "stream",
     "text": [
      "SpearmanrResult(correlation=-0.34538176363983, pvalue=1.2154857158825953e-14)\n",
      "SpearmanrResult(correlation=-0.10340524354395912, pvalue=0.024973306072937847)\n",
      "SpearmanrResult(correlation=-0.04877262777327322, pvalue=0.29082854261909313)\n",
      "SpearmanrResult(correlation=-0.35112176518911653, pvalue=4.40036051326251e-15)\n",
      "SpearmanrResult(correlation=0.037734375545075693, pvalue=0.4139018225570993)\n",
      "SpearmanrResult(correlation=-0.22995855708581273, pvalue=4.6600714809116796e-07)\n",
      "SpearmanrResult(correlation=0.73808458370045, pvalue=1.024662051611738e-83)\n",
      "SpearmanrResult(correlation=0.7349207244823109, pvalue=1.1739089289789453e-82)\n",
      "SpearmanrResult(correlation=-0.6299785602500033, pvalue=1.901110886797472e-54)\n"
     ]
    },
    {
     "data": {
      "image/png": "[encoded data removed]",
      "text/plain": [
       "<Figure size 432x288 with 2 Axes>"
      ]
     },
     "metadata": {},
     "output_type": "display_data"
    },
    {
     "name": "stdout",
     "output_type": "stream",
     "text": [
      "The corr of ABR to Exp is 0.74\n",
      "The corr of ABR to Off is 0.73\n",
      "The corr of ABR to Age is -0.63\n"
     ]
    },
    {
     "data": {
      "text/plain": [
       "<Figure size 432x288 with 0 Axes>"
      ]
     },
     "metadata": {},
     "output_type": "display_data"
    }
   ],
   "source": [
    "abr_per, abr_ap = param_ratio_corr(df, \"ABR\", ch_inds_parietal, func=nan_corr_spearman)\n",
    "plot_param_ratio_corr(abr_per, y_labels=[\"Alpha\",\"Beta\"],save_fig=True, file_name=\"ABR_corrs\")\n",
    "print_aperiodic_correlation(\"ABR\", abr_ap)"
   ]
  },
  {
   "cell_type": "markdown",
   "metadata": {},
   "source": [
    "# Correlation between Ratios and Peak Parameters"
   ]
  },
  {
   "cell_type": "markdown",
   "metadata": {},
   "source": [
    "# Single Channel\n",
    "Here we will use Cz (index 94) across all participants"
   ]
  },
  {
   "cell_type": "code",
   "execution_count": 23,
   "metadata": {},
   "outputs": [],
   "source": [
    "# Data Settings\n",
    "cur_channel = \"94\"\n",
    "cur_ratio = 'TAR'"
   ]
  },
  {
   "cell_type": "code",
   "execution_count": 24,
   "metadata": {},
   "outputs": [
    {
     "name": "stderr",
     "output_type": "stream",
     "text": [
      "C:\\Users\\julio\\Anaconda3\\lib\\site-packages\\pandas\\core\\ops.py:1649: FutureWarning: elementwise comparison failed; returning scalar instead, but in the future will perform elementwise comparison\n",
      "  result = method(y)\n"
     ]
    }
   ],
   "source": [
    "#DataFrame which only has Cz channels\n",
    "df_ch = df.loc[df['Chan_ID'] == cur_channel]\n",
    "\n",
    "cz_exp = df.Exp.values.astype(float)\n",
    "cz_age = df.Age.values.astype(float)\n",
    "cz_ratio = df[cur_ratio].values.astype(float)"
   ]
  },
  {
   "cell_type": "markdown",
   "metadata": {},
   "source": [
    "### CZ: Exp to Age"
   ]
  },
  {
   "cell_type": "code",
   "execution_count": 43,
   "metadata": {},
   "outputs": [
    {
     "name": "stdout",
     "output_type": "stream",
     "text": [
      "The corr of TAR to EXP at Cz is 0.50, 0.01\n"
     ]
    }
   ],
   "source": [
    "print(\"The corr of {} to {} at {} is {:1.2f}, {:1.2f}\".format('TAR', 'EXP', 'Cz', 0.500000000001, 0.01))"
   ]
  },
  {
   "cell_type": "code",
   "execution_count": 34,
   "metadata": {},
   "outputs": [
    {
     "name": "stdout",
     "output_type": "stream",
     "text": [
      "Cz exp->age pear: (-0.5733730602654656, 0.0)\n",
      "Cz exp->age spear: SpearmanrResult(correlation=-0.6360477217326502, pvalue=0.0)\n"
     ]
    }
   ],
   "source": [
    "cz_exp_age_p = pearsonr(cz_exp, cz_age)\n",
    "cz_exp_age_s = spearmanr(cz_exp, cz_age)\n",
    "\n",
    "print(\"Cz exp->age pear:\", cz_exp_age_p)\n",
    "print(\"Cz exp->age spear:\", cz_exp_age_s)"
   ]
  },
  {
   "cell_type": "markdown",
   "metadata": {},
   "source": [
    "### CZ: TBR to Age"
   ]
  },
  {
   "cell_type": "code",
   "execution_count": 35,
   "metadata": {},
   "outputs": [
    {
     "name": "stdout",
     "output_type": "stream",
     "text": [
      "Cz tbr->age pear: (-0.2062977954036027, 4.920804533483743e-103)\n",
      "Cz tbr->age spear: SpearmanrResult(correlation=-0.3128364612419722, pvalue=3.111147788583773e-241)\n"
     ]
    }
   ],
   "source": [
    "cz_tar_age_p = pearsonr(cz_tar, cz_age)\n",
    "cz_tar_age_s = spearmanr(cz_tar, cz_age)\n",
    "\n",
    "print(\"Cz tbr->age pear:\", cz_tar_age_p)\n",
    "print(\"Cz tbr->age spear:\", cz_tar_age_s)"
   ]
  },
  {
   "cell_type": "code",
   "execution_count": 6,
   "metadata": {},
   "outputs": [
    {
     "ename": "NameError",
     "evalue": "name 'get_real_params' is not defined",
     "output_type": "error",
     "traceback": [
      "\u001b[1;31m---------------------------------------------------------------------------\u001b[0m",
      "\u001b[1;31mNameError\u001b[0m                                 Traceback (most recent call last)",
      "\u001b[1;32m<ipython-input-6-df30cd9669a6>\u001b[0m in \u001b[0;36m<module>\u001b[1;34m()\u001b[0m\n\u001b[1;32m----> 1\u001b[1;33m \u001b[0mall_age_parietal\u001b[0m \u001b[1;33m=\u001b[0m \u001b[0mget_real_params\u001b[0m\u001b[1;33m(\u001b[0m\u001b[0mdata\u001b[0m\u001b[1;33m,\u001b[0m \u001b[0mch_inds_parietal\u001b[0m\u001b[1;33m)\u001b[0m\u001b[1;33m\u001b[0m\u001b[0m\n\u001b[0m\u001b[0;32m      2\u001b[0m \u001b[0mall_age_central\u001b[0m \u001b[1;33m=\u001b[0m \u001b[0mget_real_params\u001b[0m\u001b[1;33m(\u001b[0m\u001b[0mdata\u001b[0m\u001b[1;33m,\u001b[0m \u001b[0mch_inds_central\u001b[0m\u001b[1;33m)\u001b[0m\u001b[1;33m\u001b[0m\u001b[0m\n\u001b[0;32m      3\u001b[0m \u001b[0mall_age_frontal\u001b[0m \u001b[1;33m=\u001b[0m \u001b[0mget_real_params\u001b[0m\u001b[1;33m(\u001b[0m\u001b[0mdata\u001b[0m\u001b[1;33m,\u001b[0m \u001b[0mch_inds_frontal\u001b[0m\u001b[1;33m)\u001b[0m\u001b[1;33m\u001b[0m\u001b[0m\n\u001b[0;32m      4\u001b[0m \u001b[1;33m\u001b[0m\u001b[0m\n\u001b[0;32m      5\u001b[0m \u001b[1;31m###################\u001b[0m\u001b[1;33m\u001b[0m\u001b[1;33m\u001b[0m\u001b[0m\n",
      "\u001b[1;31mNameError\u001b[0m: name 'get_real_params' is not defined"
     ]
    }
   ],
   "source": [
    "all_age_parietal = get_real_params(data, ch_inds_parietal)\n",
    "all_age_central = get_real_params(data, ch_inds_central)\n",
    "all_age_frontal = get_real_params(data, ch_inds_frontal)\n",
    "\n",
    "###################\n",
    "\n",
    "all_age_parietal_tb_ratio = all_age_parietal[0][0]\n",
    "all_age_parietal_apc = all_age_parietal[0][1]\n",
    "\n",
    "all_age_central_tb_ratio = all_age_central[0][0]\n",
    "all_age_central_apc = all_age_central[0][1]\n",
    "\n",
    "all_age_frontal_tb_ratio = all_age_frontal[0][0]\n",
    "all_age_frontal_apc = all_age_frontal[0][1]\n",
    "\n",
    "###################\n",
    "\n",
    "all_age_parietal_pearson = pearsonr(all_age_parietal_apc, all_age_parietal_tb_ratio)\n",
    "all_age_parietal_spearman = spearmanr(all_age_parietal_apc, all_age_parietal_tb_ratio)\n",
    "\n",
    "all_age_central_pearson = pearsonr(all_age_central_apc, all_age_central_tb_ratio)\n",
    "all_age_central_spearman = spearmanr(all_age_central_apc, all_age_central_tb_ratio)\n",
    "\n",
    "all_age_frontal_pearson = pearsonr(all_age_frontal_apc, all_age_frontal_tb_ratio)\n",
    "all_age_frontal_spearman = spearmanr(all_age_frontal_apc, all_age_frontal_tb_ratio)"
   ]
  },
  {
   "cell_type": "markdown",
   "metadata": {},
   "source": [
    "# Peak param correlations below"
   ]
  },
  {
   "cell_type": "code",
   "execution_count": 5,
   "metadata": {},
   "outputs": [
    {
     "ename": "NameError",
     "evalue": "name 'ch_inds_parietal' is not defined",
     "output_type": "error",
     "traceback": [
      "\u001b[1;31m---------------------------------------------------------------------------\u001b[0m",
      "\u001b[1;31mNameError\u001b[0m                                 Traceback (most recent call last)",
      "\u001b[1;32m<ipython-input-5-9c0f8a10d25c>\u001b[0m in \u001b[0;36m<module>\u001b[1;34m()\u001b[0m\n\u001b[1;32m----> 1\u001b[1;33m \u001b[0mall_age_parietal_fg\u001b[0m \u001b[1;33m=\u001b[0m \u001b[0mget_real_fg\u001b[0m\u001b[1;33m(\u001b[0m\u001b[0mdata\u001b[0m\u001b[1;33m,\u001b[0m \u001b[0mch_inds_parietal\u001b[0m\u001b[1;33m)\u001b[0m\u001b[1;33m\u001b[0m\u001b[0m\n\u001b[0m\u001b[0;32m      2\u001b[0m \u001b[0mall_age_central_fg\u001b[0m \u001b[1;33m=\u001b[0m \u001b[0mget_real_fg\u001b[0m\u001b[1;33m(\u001b[0m\u001b[0mdata\u001b[0m\u001b[1;33m,\u001b[0m \u001b[0mch_inds_central\u001b[0m\u001b[1;33m)\u001b[0m\u001b[1;33m\u001b[0m\u001b[0m\n\u001b[0;32m      3\u001b[0m \u001b[0mall_age_frontal_fg\u001b[0m \u001b[1;33m=\u001b[0m \u001b[0mget_real_fg\u001b[0m\u001b[1;33m(\u001b[0m\u001b[0mdata\u001b[0m\u001b[1;33m,\u001b[0m \u001b[0mch_inds_frontal\u001b[0m\u001b[1;33m)\u001b[0m\u001b[1;33m\u001b[0m\u001b[0m\n",
      "\u001b[1;31mNameError\u001b[0m: name 'ch_inds_parietal' is not defined"
     ]
    }
   ],
   "source": [
    "all_age_parietal_fg = get_real_fg(data, ch_inds_parietal)\n",
    "all_age_central_fg = get_real_fg(data, ch_inds_central)\n",
    "all_age_frontal_fg = get_real_fg(data, ch_inds_frontal)"
   ]
  },
  {
   "cell_type": "code",
   "execution_count": null,
   "metadata": {},
   "outputs": [],
   "source": [
    "for ind, val in enumerate(all_age_parietal_fg[0]):\n",
    "    theta_cf_parietal.append(all_age_parietal_fg[0][ind].peak_params_[0][0])\n",
    "    beta_cf_parietal.append(all_age_parietal_fg[0][ind].peak_params_[1][0])\n",
    "    theta_amp_parietal.append(all_age_parietal_fg[0][ind].peak_params_[0][1])\n",
    "    beta_amp_parietal.append(all_age_parietal_fg[0][ind].peak_params_[1][1])\n",
    "    theta_bw_parietal.append(all_age_parietal_fg[0][ind].peak_params_[0][2])\n",
    "    beta_bw_parietal.append(all_age_parietal_fg[0][ind].peak_params_[1][2])\n",
    "    \n",
    "    theta_cf_central.append(all_age_central_fg[0][ind].peak_params_[0][0])\n",
    "    beta_cf_central.append(all_age_central_fg[0][ind].peak_params_[1][0])\n",
    "    theta_amp_central.append(all_age_central_fg[0][ind].peak_params_[0][1])\n",
    "    beta_amp_central.append(all_age_central_fg[0][ind].peak_params_[1][1])\n",
    "    theta_bw_central.append(all_age_central_fg[0][ind].peak_params_[0][2])\n",
    "    beta_bw_central.append(all_age_central_fg[0][ind].peak_params_[1][2])\n",
    "    \n",
    "    theta_cf_frontal.append(all_age_frontal_fg[0][ind].peak_params_[0][0])\n",
    "    beta_cf_frontal.append(all_age_frontal_fg[0][ind].peak_params_[1][0])\n",
    "    theta_amp_frontal.append(all_age_frontal_fg[0][ind].peak_params_[0][1])\n",
    "    beta_amp_frontal.append(all_age_frontal_fg[0][ind].peak_params_[1][1])\n",
    "    theta_bw_frontal.append(all_age_frontal_fg[0][ind].peak_params_[0][2])\n",
    "    beta_bw_frontal.append(all_age_frontal_fg[0][ind].peak_params_[1][2])\n",
    "avg_tb_ratios = all_age_parietal_fg[1]"
   ]
  },
  {
   "cell_type": "code",
   "execution_count": 106,
   "metadata": {},
   "outputs": [],
   "source": [
    "# Theta CF Parietal\n",
    "parietal_t_cf_pear = nan_corr_p(theta_cf_parietal, avg_tb_ratios)\n",
    "parietal_t_cf_spear = nan_corr_s(theta_cf_parietal, avg_tb_ratios)\n",
    "\n",
    "# Beta CF Parietal\n",
    "parietal_b_cf_pear = nan_corr_p(beta_cf_parietal, avg_tb_ratios)\n",
    "parietal_b_cf_spear = nan_corr_s(beta_cf_parietal, avg_tb_ratios)\n",
    "\n",
    "#Theta amp parietal\n",
    "parietal_t_amp_pear = nan_corr_p(theta_amp_parietal, avg_tb_ratios)\n",
    "parietal_t_amp_spear = nan_corr_s(theta_amp_parietal, avg_tb_ratios)\n",
    "\n",
    "# beta amp parietal\n",
    "parietal_b_amp_pear = nan_corr_p(beta_amp_parietal, avg_tb_ratios)\n",
    "parietal_b_amp_spear = nan_corr_s(beta_amp_parietal, avg_tb_ratios)\n",
    "\n",
    "#theta bw parietal\n",
    "parietal_t_bw_pear = nan_corr_p(theta_bw_parietal, avg_tb_ratios)\n",
    "parietal_t_bw_spear = nan_corr_s(theta_bw_parietal, avg_tb_ratios)\n",
    "\n",
    "#beta bw parietal\n",
    "parietal_b_bw_pear = nan_corr_p(beta_bw_parietal, avg_tb_ratios)\n",
    "parietal_b_bw_spear = nan_corr_s(beta_bw_parietal, avg_tb_ratios)\n",
    "\n",
    "################################################\n",
    "\n",
    "# Theta CF central\n",
    "central_t_cf_pear = nan_corr_p(theta_cf_central, avg_tb_ratios)\n",
    "central_t_cf_spear = nan_corr_s(theta_cf_central, avg_tb_ratios)\n",
    "\n",
    "# Beta CF Parietal\n",
    "central_b_cf_pear = nan_corr_p(beta_cf_central, avg_tb_ratios)\n",
    "central_b_cf_spear = nan_corr_s(beta_cf_central, avg_tb_ratios)\n",
    "\n",
    "#Theta amp parietal\n",
    "central_t_amp_pear = nan_corr_p(theta_amp_central, avg_tb_ratios)\n",
    "central_t_amp_spear = nan_corr_s(theta_amp_central, avg_tb_ratios)\n",
    "\n",
    "# beta amp parietal\n",
    "central_b_amp_pear = nan_corr_p(beta_amp_central, avg_tb_ratios)\n",
    "central_b_amp_spear = nan_corr_s(beta_amp_central, avg_tb_ratios)\n",
    "\n",
    "#theta bw parietal\n",
    "central_t_bw_pear = nan_corr_p(theta_bw_central, avg_tb_ratios)\n",
    "central_t_bw_spear = nan_corr_s(theta_bw_central, avg_tb_ratios)\n",
    "\n",
    "#beta bw parietal\n",
    "central_b_bw_pear = nan_corr_p(beta_bw_central, avg_tb_ratios)\n",
    "central_b_bw_spear = nan_corr_s(beta_bw_central, avg_tb_ratios)\n",
    "\n",
    "################################################\n",
    "# Theta CF central\n",
    "frontal_t_cf_pear = nan_corr_p(theta_cf_frontal, avg_tb_ratios)\n",
    "frontal_t_cf_spear = nan_corr_s(theta_cf_frontal, avg_tb_ratios)\n",
    "\n",
    "# Beta CF Parietal\n",
    "frontal_b_cf_pear = nan_corr_p(beta_cf_frontal, avg_tb_ratios)\n",
    "frontal_b_cf_spear = nan_corr_s(beta_cf_frontal, avg_tb_ratios)\n",
    "\n",
    "#Theta amp parietal\n",
    "frontal_t_amp_pear = nan_corr_p(theta_amp_frontal, avg_tb_ratios)\n",
    "frontal_t_amp_spear = nan_corr_s(theta_amp_frontal, avg_tb_ratios)\n",
    "\n",
    "# beta amp parietal\n",
    "frontal_b_amp_pear = nan_corr_p(beta_amp_frontal, avg_tb_ratios)\n",
    "frontal_b_amp_spear = nan_corr_s(beta_amp_frontal, avg_tb_ratios)\n",
    "\n",
    "#theta bw parietal\n",
    "frontal_t_bw_pear = nan_corr_p(theta_bw_frontal, avg_tb_ratios)\n",
    "frontal_t_bw_spear = nan_corr_s(theta_bw_frontal, avg_tb_ratios)\n",
    "\n",
    "#beta bw parietal\n",
    "frontal_b_bw_pear = nan_corr_p(beta_bw_frontal, avg_tb_ratios)\n",
    "frontal_b_bw_spear = nan_corr_s(beta_bw_frontal, avg_tb_ratios)"
   ]
  },
  {
   "cell_type": "code",
   "execution_count": 140,
   "metadata": {},
   "outputs": [
    {
     "name": "stdout",
     "output_type": "stream",
     "text": [
      "central theta cf spearman:  SpearmanrResult(correlation=-0.0002908483921142149, pvalue=0.9979835636736129)\n",
      "central theta amp spearman:  SpearmanrResult(correlation=0.2869409071940717, pvalue=0.010862745523717)\n",
      "central theta bw spearman:  SpearmanrResult(correlation=0.25806904209266446, pvalue=0.022536902721927647)\n",
      "central beta cf spearman:  SpearmanrResult(correlation=0.03506995581737849, pvalue=0.7330837766115756)\n",
      "central beta amp spearman:  SpearmanrResult(correlation=-0.27132863454660217, pvalue=0.0071825001951504736)\n",
      "central beta bw spearman:  SpearmanrResult(correlation=-0.1242837559303342, pvalue=0.22517042716138022)\n"
     ]
    }
   ],
   "source": [
    "print(\"central theta cf spearman: \" ,central_t_cf_spear)\n",
    "print(\"central theta amp spearman: \" ,central_t_amp_spear)\n",
    "print(\"central theta bw spearman: \" ,central_t_bw_spear)\n",
    "\n",
    "print(\"central beta cf spearman: \" ,central_b_cf_spear)\n",
    "print(\"central beta amp spearman: \" ,central_b_amp_spear)\n",
    "print(\"central beta bw spearman: \" ,central_b_bw_spear)\n",
    "theta_data = [central_t_cf_spear[0],central_t_amp_spear[0], central_t_bw_spear[0]]\n",
    "beta_data = [central_b_cf_spear[0],central_b_amp_spear[0], central_b_bw_spear[0]]\n",
    "heats = np.array([theta_data, beta_data])"
   ]
  },
  {
   "cell_type": "code",
   "execution_count": 188,
   "metadata": {},
   "outputs": [
    {
     "data": {
      "image/png": "[encoded data removed]",
      "text/plain": [
       "<Figure size 432x288 with 2 Axes>"
      ]
     },
     "metadata": {},
     "output_type": "display_data"
    }
   ],
   "source": [
    "\n",
    "fig, ax = plt.subplots()\n",
    "\n",
    "\n",
    "# We want to show all ticks...\n",
    "\n",
    "# ... and label them with the respective list entries\n",
    "\n",
    "ax.set_yticklabels([\"theta\", \"beta\"])\n",
    "\n",
    "sns.set(font_scale=1.5)\n",
    "\n",
    "sns.heatmap(heats, vmin=-.5,vmax=.5,annot=True, cmap= \"seismic\", xticklabels=[\"CF\", \"PW\", \"BW\"], yticklabels=[\"Theta\",\"Beta\"], alpha=.75)\n",
    "plt.xticks(rotation=30)\n",
    "plt.tight_layout()\n",
    "plt.savefig(\"../figures/spectral_features_corr_to_TBR.png\", dpi=700)"
   ]
  },
  {
   "cell_type": "markdown",
   "metadata": {},
   "source": [
    "## Aperiodic stuff below"
   ]
  },
  {
   "cell_type": "code",
   "execution_count": 39,
   "metadata": {},
   "outputs": [],
   "source": [
    "# Exponenent\n",
    "\n",
    "\n",
    "# Peak Params\n",
    "#fm_parietal = avg_fg(all_age_parietal_fg[0])\n",
    "#fm_central = avg_fg(all_age_central_fg[0])\n",
    "#fm_frontal = avg_fg(all_age_frontal_fg[0])"
   ]
  },
  {
   "cell_type": "code",
   "execution_count": null,
   "metadata": {},
   "outputs": [],
   "source": [
    "\n",
    "\n",
    "print(\"All subjects parietal pearson: \", all_age_parietal_pearson)\n",
    "print(\"All subjects parietal spearman: \", all_age_parietal_spearman)\n",
    "print(\" \")\n",
    "\n",
    "print(\"All subjects central pearson: \", all_age_central_pearson)\n",
    "print(\"All subjects central spearman: \", all_age_central_spearman)\n",
    "print(\" \")\n",
    "\n",
    "print(\"All subjects frontal pearson: \", all_age_frontal_pearson)\n",
    "print(\"All subjects frontal spearman: \", all_age_frontal_spearman)\n",
    "print(\" \")"
   ]
  },
  {
   "cell_type": "markdown",
   "metadata": {},
   "source": [
    "## Predicting age from exponent"
   ]
  },
  {
   "cell_type": "code",
   "execution_count": 45,
   "metadata": {},
   "outputs": [
    {
     "name": "stdout",
     "output_type": "stream",
     "text": [
      "parietal exponent correlates to age (pearson):  (-0.6346683381968523, 4.876675414400836e-56)\n",
      "parietal exponent correlates to age (spearman):  SpearmanrResult(correlation=-0.6872611745253143, pvalue=4.704989892502931e-69)\n",
      "\n",
      "frontal exponent correlates to age (pearson):  (-0.5763808342149647, 2.7991407815194255e-44)\n",
      "frontal exponent correlates to age (spearman):  SpearmanrResult(correlation=-0.6682322088698998, pvalue=4.8991535403989085e-64)\n",
      "\n",
      "central exponent correlates to age (pearson):  (-0.5224239758370124, 2.5732584232546035e-35)\n",
      "central exponent correlates to age (spearman):  SpearmanrResult(correlation=-0.6214873474536138, pvalue=3.6765509885372348e-53)\n"
     ]
    }
   ],
   "source": [
    "all_age_parietal_exp_age_p = pearsonr(all_age_parietal_apc, all_age_parietal[0][3])\n",
    "all_age_parietal_exp_age_s = spearmanr(all_age_parietal_apc, all_age_parietal[0][3])\n",
    "\n",
    "all_age_frontal_exp_age_p = pearsonr(all_age_frontal_apc, all_age_frontal[0][3])\n",
    "all_age_frontal_exp_age_s = spearmanr(all_age_frontal_apc, all_age_frontal[0][3])\n",
    "\n",
    "all_age_central_exp_age_p = pearsonr(all_age_central_apc, all_age_central[0][3])\n",
    "all_age_central_exp_age_s = spearmanr(all_age_central_apc, all_age_central[0][3])\n",
    "\n",
    "print(\"parietal exponent correlates to age (pearson): \", all_age_parietal_exp_age_p)\n",
    "print(\"parietal exponent correlates to age (spearman): \", all_age_parietal_exp_age_s)\n",
    "print()\n",
    "\n",
    "print(\"frontal exponent correlates to age (pearson): \", all_age_frontal_exp_age_p)\n",
    "print(\"frontal exponent correlates to age (spearman): \", all_age_frontal_exp_age_s)\n",
    "print()\n",
    "\n",
    "print(\"central exponent correlates to age (pearson): \", all_age_central_exp_age_p)\n",
    "print(\"central exponent correlates to age (spearman): \", all_age_central_exp_age_s)"
   ]
  },
  {
   "cell_type": "markdown",
   "metadata": {},
   "source": [
    "## Predicting Age from TBR"
   ]
  },
  {
   "cell_type": "code",
   "execution_count": 47,
   "metadata": {},
   "outputs": [
    {
     "name": "stdout",
     "output_type": "stream",
     "text": [
      "parietal exponent correlates to age (pearson):  (-0.4670253733105622, 1.206598334508968e-27)\n",
      "parietal exponent correlates to age (spearman):  SpearmanrResult(correlation=-0.6367548776477613, pvalue=1.6586917847631905e-56)\n",
      "\n",
      "frontal exponent correlates to age (pearson):  (-0.4465835155636714, 3.7701086519872125e-25)\n",
      "frontal exponent correlates to age (spearman):  SpearmanrResult(correlation=-0.5833603215560321, pvalue=1.454751633682585e-45)\n",
      "\n",
      "central exponent correlates to age (pearson):  (-0.48649966838431596, 3.4930650277180965e-30)\n",
      "central exponent correlates to age (spearman):  SpearmanrResult(correlation=-0.6507169948479196, pvalue=9.782106424394115e-60)\n"
     ]
    }
   ],
   "source": [
    "all_age_parietal_tbr_age_p = pearsonr(all_age_parietal_tb_ratio, all_age_parietal[0][3])\n",
    "all_age_parietal_tbr_age_s = spearmanr(all_age_parietal_tb_ratio, all_age_parietal[0][3])\n",
    "\n",
    "all_age_frontal_tbr_age_p = pearsonr(all_age_frontal_tb_ratio, all_age_frontal[0][3])\n",
    "all_age_frontal_tbr_age_s = spearmanr(all_age_frontal_tb_ratio, all_age_frontal[0][3])\n",
    "\n",
    "all_age_central_tbr_age_p = pearsonr(all_age_central_tb_ratio, all_age_central[0][3])\n",
    "all_age_central_tbr_age_s = spearmanr(all_age_central_tb_ratio, all_age_central[0][3])\n",
    "\n",
    "print(\"parietal exponent correlates to age (pearson): \", all_age_parietal_tbr_age_p)\n",
    "print(\"parietal exponent correlates to age (spearman): \", all_age_parietal_tbr_age_s)\n",
    "print()\n",
    "\n",
    "print(\"frontal exponent correlates to age (pearson): \", all_age_frontal_tbr_age_p)\n",
    "print(\"frontal exponent correlates to age (spearman): \", all_age_frontal_tbr_age_s)\n",
    "print()\n",
    "\n",
    "print(\"central exponent correlates to age (pearson): \", all_age_central_tbr_age_p)\n",
    "print(\"central exponent correlates to age (spearman): \", all_age_central_tbr_age_s)"
   ]
  },
  {
   "cell_type": "code",
   "execution_count": null,
   "metadata": {},
   "outputs": [],
   "source": [
    "plt.scatter(df[\"ABR\"],df[\"Alpha_PW\"])\n",
    "pd.plotting.scatter_matrix(df[['TAR', 'Alpha_CF', 'Alpha_PW', 'Alpha_BW']]);"
   ]
  }
 ],
 "metadata": {
  "kernelspec": {
   "display_name": "Python 3",
   "language": "python",
   "name": "python3"
  },
  "language_info": {
   "codemirror_mode": {
    "name": "ipython",
    "version": 3
   },
   "file_extension": ".py",
   "mimetype": "text/x-python",
   "name": "python",
   "nbconvert_exporter": "python",
   "pygments_lexer": "ipython3",
   "version": "3.6.5"
  }
 },
 "nbformat": 4,
 "nbformat_minor": 2
}
