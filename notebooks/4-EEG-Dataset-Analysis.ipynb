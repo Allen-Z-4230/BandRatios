{
 "cells": [
  {
   "cell_type": "markdown",
   "metadata": {},
   "source": [
    "# EEG ChildMind Dataset Analysis"
   ]
  },
  {
   "cell_type": "markdown",
   "metadata": {},
   "source": [
    "This notebook takes data from ChildMind and finds correlations between neural spectral parameters ratio measures and age.\n"
   ]
  },
  {
   "cell_type": "code",
   "execution_count": 5,
   "metadata": {},
   "outputs": [],
   "source": [
    "%matplotlib inline\n",
    "import matplotlib.pyplot as plt\n",
    "import pandas as pd\n",
    "import numpy as np\n",
    "from numpy.linalg import LinAlgError\n",
    "from scipy.stats import pearsonr, spearmanr\n",
    "import csv\n",
    "import mne\n",
    "import seaborn as sns\n",
    "sns.set_context('poster')\n",
    "pd.set_option('display.max_columns', 500)\n",
    "\n",
    "from fooof import FOOOF, FOOOFGroup\n",
    "from fooof.analysis import *\n",
    "from fooof.synth import *\n",
    "from fooof.data import FOOOFResults\n",
    "from fooof.funcs import average_fg\n",
    "from fooof.bands import Bands\n",
    "\n",
    "from ratios import *\n",
    "from analysis import *\n",
    "from settings import *"
   ]
  },
  {
   "cell_type": "markdown",
   "metadata": {},
   "source": [
    "## Import Data\n",
    "\n",
    "Here we import power spectra and select channel clusters"
   ]
  },
  {
   "cell_type": "code",
   "execution_count": 6,
   "metadata": {},
   "outputs": [],
   "source": [
    "# Open Power spectrum\n",
    "data = pd.read_csv(\"../dat/MIPDB_PublicFile.csv\")"
   ]
  },
  {
   "cell_type": "code",
   "execution_count": 7,
   "metadata": {
    "scrolled": true
   },
   "outputs": [],
   "source": [
    "# Read in list of channel names that are kept in reduced 111 montage\n",
    "with open('../dat/chans111.csv', 'r') as csv_file:\n",
    "    reader = csv.reader(csv_file)\n",
    "    ch_labels = list(reader)[0]\n",
    "    \n",
    "# Read montage, reduced to 111 channel selection\n",
    "montage = mne.channels.read_montage('GSN-HydroCel-129', ch_names=ch_labels)"
   ]
  },
  {
   "cell_type": "code",
   "execution_count": 8,
   "metadata": {},
   "outputs": [],
   "source": [
    "all_chans = mne.pick_channels(montage.ch_names,[])"
   ]
  },
  {
   "cell_type": "code",
   "execution_count": 9,
   "metadata": {},
   "outputs": [],
   "source": [
    "# Define a channel cluster of interest\n",
    "ch_cluster_parietal = ['E71', 'E76', 'E70', 'E75', 'E83']\n",
    "ch_cluster_central = ['E7','E106', 'E31', 'Cz', 'E80']\n",
    "ch_cluster_frontal = ['E15', 'E18', 'E16', 'E10', 'E11']\n",
    "\n",
    "# Get the indices of the channels of interest\n",
    "ch_inds_parietal = mne.pick_channels(montage.ch_names, ch_cluster_parietal)\n",
    "ch_inds_central = mne.pick_channels(montage.ch_names, ch_cluster_central)\n",
    "ch_inds_frontal = mne.pick_channels(montage.ch_names, ch_cluster_frontal)"
   ]
  },
  {
   "cell_type": "markdown",
   "metadata": {},
   "source": [
    "# Correlation between Parameters and Theta Beta Ratio"
   ]
  },
  {
   "cell_type": "code",
   "execution_count": 6,
   "metadata": {
    "scrolled": true
   },
   "outputs": [
    {
     "ename": "KeyboardInterrupt",
     "evalue": "",
     "output_type": "error",
     "traceback": [
      "\u001b[1;31m---------------------------------------------------------------------------\u001b[0m",
      "\u001b[1;31mKeyboardInterrupt\u001b[0m                         Traceback (most recent call last)",
      "\u001b[1;32m<ipython-input-6-8c83f8a3d1bc>\u001b[0m in \u001b[0;36m<module>\u001b[1;34m()\u001b[0m\n\u001b[1;32m----> 1\u001b[1;33m \u001b[0mdf\u001b[0m \u001b[1;33m=\u001b[0m \u001b[0mget_all_data\u001b[0m\u001b[1;33m(\u001b[0m\u001b[0mdata\u001b[0m\u001b[1;33m,\u001b[0m \u001b[0mall_chans\u001b[0m\u001b[1;33m)\u001b[0m\u001b[1;33m\u001b[0m\u001b[0m\n\u001b[0m\u001b[0;32m      2\u001b[0m \u001b[0mdf\u001b[0m\u001b[1;33m.\u001b[0m\u001b[0mto_csv\u001b[0m\u001b[1;33m(\u001b[0m\u001b[1;34m\"../dat/child_mind_data\"\u001b[0m\u001b[1;33m)\u001b[0m\u001b[1;33m\u001b[0m\u001b[0m\n\u001b[0;32m      3\u001b[0m \u001b[0mdf\u001b[0m\u001b[1;33m\u001b[0m\u001b[0m\n",
      "\u001b[1;32m~\\BandRatios\\bratios\\analysis.py\u001b[0m in \u001b[0;36mget_all_data\u001b[1;34m(df, chs, block)\u001b[0m\n\u001b[0;32m    210\u001b[0m                 \u001b[0mcurr_row\u001b[0m \u001b[1;33m=\u001b[0m \u001b[0mpd\u001b[0m\u001b[1;33m.\u001b[0m\u001b[0mSeries\u001b[0m\u001b[1;33m(\u001b[0m\u001b[0mcurr_row\u001b[0m\u001b[1;33m)\u001b[0m\u001b[1;33m\u001b[0m\u001b[0m\n\u001b[0;32m    211\u001b[0m \u001b[1;33m\u001b[0m\u001b[0m\n\u001b[1;32m--> 212\u001b[1;33m                 \u001b[0mres\u001b[0m \u001b[1;33m=\u001b[0m \u001b[0mres\u001b[0m\u001b[1;33m.\u001b[0m\u001b[0mappend\u001b[0m\u001b[1;33m(\u001b[0m\u001b[0mcurr_row\u001b[0m\u001b[1;33m,\u001b[0m\u001b[0mignore_index\u001b[0m\u001b[1;33m=\u001b[0m\u001b[1;32mTrue\u001b[0m\u001b[1;33m)\u001b[0m\u001b[1;33m\u001b[0m\u001b[0m\n\u001b[0m\u001b[0;32m    213\u001b[0m \u001b[1;33m\u001b[0m\u001b[0m\n\u001b[0;32m    214\u001b[0m         \u001b[1;32mexcept\u001b[0m \u001b[0mFileNotFoundError\u001b[0m \u001b[1;32mor\u001b[0m \u001b[0mValueError\u001b[0m\u001b[1;33m:\u001b[0m\u001b[1;33m\u001b[0m\u001b[0m\n",
      "\u001b[1;32m~\\Anaconda3\\lib\\site-packages\\pandas\\core\\frame.py\u001b[0m in \u001b[0;36mappend\u001b[1;34m(self, other, ignore_index, verify_integrity, sort)\u001b[0m\n\u001b[0;32m   6184\u001b[0m                               \u001b[0mindex\u001b[0m\u001b[1;33m=\u001b[0m\u001b[0mindex\u001b[0m\u001b[1;33m,\u001b[0m\u001b[1;33m\u001b[0m\u001b[0m\n\u001b[0;32m   6185\u001b[0m                               columns=combined_columns)\n\u001b[1;32m-> 6186\u001b[1;33m             \u001b[0mother\u001b[0m \u001b[1;33m=\u001b[0m \u001b[0mother\u001b[0m\u001b[1;33m.\u001b[0m\u001b[0m_convert\u001b[0m\u001b[1;33m(\u001b[0m\u001b[0mdatetime\u001b[0m\u001b[1;33m=\u001b[0m\u001b[1;32mTrue\u001b[0m\u001b[1;33m,\u001b[0m \u001b[0mtimedelta\u001b[0m\u001b[1;33m=\u001b[0m\u001b[1;32mTrue\u001b[0m\u001b[1;33m)\u001b[0m\u001b[1;33m\u001b[0m\u001b[0m\n\u001b[0m\u001b[0;32m   6187\u001b[0m             \u001b[1;32mif\u001b[0m \u001b[1;32mnot\u001b[0m \u001b[0mself\u001b[0m\u001b[1;33m.\u001b[0m\u001b[0mcolumns\u001b[0m\u001b[1;33m.\u001b[0m\u001b[0mequals\u001b[0m\u001b[1;33m(\u001b[0m\u001b[0mcombined_columns\u001b[0m\u001b[1;33m)\u001b[0m\u001b[1;33m:\u001b[0m\u001b[1;33m\u001b[0m\u001b[0m\n\u001b[0;32m   6188\u001b[0m                 \u001b[0mself\u001b[0m \u001b[1;33m=\u001b[0m \u001b[0mself\u001b[0m\u001b[1;33m.\u001b[0m\u001b[0mreindex\u001b[0m\u001b[1;33m(\u001b[0m\u001b[0mcolumns\u001b[0m\u001b[1;33m=\u001b[0m\u001b[0mcombined_columns\u001b[0m\u001b[1;33m)\u001b[0m\u001b[1;33m\u001b[0m\u001b[0m\n",
      "\u001b[1;32m~\\Anaconda3\\lib\\site-packages\\pandas\\core\\generic.py\u001b[0m in \u001b[0;36m_convert\u001b[1;34m(self, datetime, numeric, timedelta, coerce, copy)\u001b[0m\n\u001b[0;32m   5148\u001b[0m             self._data.convert(datetime=datetime, numeric=numeric,\n\u001b[0;32m   5149\u001b[0m                                \u001b[0mtimedelta\u001b[0m\u001b[1;33m=\u001b[0m\u001b[0mtimedelta\u001b[0m\u001b[1;33m,\u001b[0m \u001b[0mcoerce\u001b[0m\u001b[1;33m=\u001b[0m\u001b[0mcoerce\u001b[0m\u001b[1;33m,\u001b[0m\u001b[1;33m\u001b[0m\u001b[0m\n\u001b[1;32m-> 5150\u001b[1;33m                                copy=copy)).__finalize__(self)\n\u001b[0m\u001b[0;32m   5151\u001b[0m \u001b[1;33m\u001b[0m\u001b[0m\n\u001b[0;32m   5152\u001b[0m     def convert_objects(self, convert_dates=True, convert_numeric=False,\n",
      "\u001b[1;32m~\\Anaconda3\\lib\\site-packages\\pandas\\core\\internals.py\u001b[0m in \u001b[0;36mconvert\u001b[1;34m(self, **kwargs)\u001b[0m\n\u001b[0;32m   3715\u001b[0m \u001b[1;33m\u001b[0m\u001b[0m\n\u001b[0;32m   3716\u001b[0m     \u001b[1;32mdef\u001b[0m \u001b[0mconvert\u001b[0m\u001b[1;33m(\u001b[0m\u001b[0mself\u001b[0m\u001b[1;33m,\u001b[0m \u001b[1;33m**\u001b[0m\u001b[0mkwargs\u001b[0m\u001b[1;33m)\u001b[0m\u001b[1;33m:\u001b[0m\u001b[1;33m\u001b[0m\u001b[0m\n\u001b[1;32m-> 3717\u001b[1;33m         \u001b[1;32mreturn\u001b[0m \u001b[0mself\u001b[0m\u001b[1;33m.\u001b[0m\u001b[0mapply\u001b[0m\u001b[1;33m(\u001b[0m\u001b[1;34m'convert'\u001b[0m\u001b[1;33m,\u001b[0m \u001b[1;33m**\u001b[0m\u001b[0mkwargs\u001b[0m\u001b[1;33m)\u001b[0m\u001b[1;33m\u001b[0m\u001b[0m\n\u001b[0m\u001b[0;32m   3718\u001b[0m \u001b[1;33m\u001b[0m\u001b[0m\n\u001b[0;32m   3719\u001b[0m     \u001b[1;32mdef\u001b[0m \u001b[0mreplace\u001b[0m\u001b[1;33m(\u001b[0m\u001b[0mself\u001b[0m\u001b[1;33m,\u001b[0m \u001b[1;33m**\u001b[0m\u001b[0mkwargs\u001b[0m\u001b[1;33m)\u001b[0m\u001b[1;33m:\u001b[0m\u001b[1;33m\u001b[0m\u001b[0m\n",
      "\u001b[1;32m~\\Anaconda3\\lib\\site-packages\\pandas\\core\\internals.py\u001b[0m in \u001b[0;36mapply\u001b[1;34m(self, f, axes, filter, do_integrity_check, consolidate, **kwargs)\u001b[0m\n\u001b[0;32m   3585\u001b[0m             \u001b[1;32mreturn\u001b[0m \u001b[0mself\u001b[0m\u001b[1;33m.\u001b[0m\u001b[0mmake_empty\u001b[0m\u001b[1;33m(\u001b[0m\u001b[0maxes\u001b[0m \u001b[1;32mor\u001b[0m \u001b[0mself\u001b[0m\u001b[1;33m.\u001b[0m\u001b[0maxes\u001b[0m\u001b[1;33m)\u001b[0m\u001b[1;33m\u001b[0m\u001b[0m\n\u001b[0;32m   3586\u001b[0m         bm = self.__class__(result_blocks, axes or self.axes,\n\u001b[1;32m-> 3587\u001b[1;33m                             do_integrity_check=do_integrity_check)\n\u001b[0m\u001b[0;32m   3588\u001b[0m         \u001b[0mbm\u001b[0m\u001b[1;33m.\u001b[0m\u001b[0m_consolidate_inplace\u001b[0m\u001b[1;33m(\u001b[0m\u001b[1;33m)\u001b[0m\u001b[1;33m\u001b[0m\u001b[0m\n\u001b[0;32m   3589\u001b[0m         \u001b[1;32mreturn\u001b[0m \u001b[0mbm\u001b[0m\u001b[1;33m\u001b[0m\u001b[0m\n",
      "\u001b[1;32m~\\Anaconda3\\lib\\site-packages\\pandas\\core\\internals.py\u001b[0m in \u001b[0;36m__init__\u001b[1;34m(self, blocks, axes, do_integrity_check)\u001b[0m\n\u001b[0;32m   3284\u001b[0m         \u001b[0mself\u001b[0m\u001b[1;33m.\u001b[0m\u001b[0m_consolidate_check\u001b[0m\u001b[1;33m(\u001b[0m\u001b[1;33m)\u001b[0m\u001b[1;33m\u001b[0m\u001b[0m\n\u001b[0;32m   3285\u001b[0m \u001b[1;33m\u001b[0m\u001b[0m\n\u001b[1;32m-> 3286\u001b[1;33m         \u001b[0mself\u001b[0m\u001b[1;33m.\u001b[0m\u001b[0m_rebuild_blknos_and_blklocs\u001b[0m\u001b[1;33m(\u001b[0m\u001b[1;33m)\u001b[0m\u001b[1;33m\u001b[0m\u001b[0m\n\u001b[0m\u001b[0;32m   3287\u001b[0m \u001b[1;33m\u001b[0m\u001b[0m\n\u001b[0;32m   3288\u001b[0m     \u001b[1;32mdef\u001b[0m \u001b[0mmake_empty\u001b[0m\u001b[1;33m(\u001b[0m\u001b[0mself\u001b[0m\u001b[1;33m,\u001b[0m \u001b[0maxes\u001b[0m\u001b[1;33m=\u001b[0m\u001b[1;32mNone\u001b[0m\u001b[1;33m)\u001b[0m\u001b[1;33m:\u001b[0m\u001b[1;33m\u001b[0m\u001b[0m\n",
      "\u001b[1;32m~\\Anaconda3\\lib\\site-packages\\pandas\\core\\internals.py\u001b[0m in \u001b[0;36m_rebuild_blknos_and_blklocs\u001b[1;34m(self)\u001b[0m\n\u001b[0;32m   3373\u001b[0m             \u001b[0mrl\u001b[0m \u001b[1;33m=\u001b[0m \u001b[0mblk\u001b[0m\u001b[1;33m.\u001b[0m\u001b[0mmgr_locs\u001b[0m\u001b[1;33m\u001b[0m\u001b[0m\n\u001b[0;32m   3374\u001b[0m             \u001b[0mnew_blknos\u001b[0m\u001b[1;33m[\u001b[0m\u001b[0mrl\u001b[0m\u001b[1;33m.\u001b[0m\u001b[0mindexer\u001b[0m\u001b[1;33m]\u001b[0m \u001b[1;33m=\u001b[0m \u001b[0mblkno\u001b[0m\u001b[1;33m\u001b[0m\u001b[0m\n\u001b[1;32m-> 3375\u001b[1;33m             \u001b[0mnew_blklocs\u001b[0m\u001b[1;33m[\u001b[0m\u001b[0mrl\u001b[0m\u001b[1;33m.\u001b[0m\u001b[0mindexer\u001b[0m\u001b[1;33m]\u001b[0m \u001b[1;33m=\u001b[0m \u001b[0mnp\u001b[0m\u001b[1;33m.\u001b[0m\u001b[0marange\u001b[0m\u001b[1;33m(\u001b[0m\u001b[0mlen\u001b[0m\u001b[1;33m(\u001b[0m\u001b[0mrl\u001b[0m\u001b[1;33m)\u001b[0m\u001b[1;33m)\u001b[0m\u001b[1;33m\u001b[0m\u001b[0m\n\u001b[0m\u001b[0;32m   3376\u001b[0m \u001b[1;33m\u001b[0m\u001b[0m\n\u001b[0;32m   3377\u001b[0m         \u001b[1;32mif\u001b[0m \u001b[1;33m(\u001b[0m\u001b[0mnew_blknos\u001b[0m \u001b[1;33m==\u001b[0m \u001b[1;33m-\u001b[0m\u001b[1;36m1\u001b[0m\u001b[1;33m)\u001b[0m\u001b[1;33m.\u001b[0m\u001b[0many\u001b[0m\u001b[1;33m(\u001b[0m\u001b[1;33m)\u001b[0m\u001b[1;33m:\u001b[0m\u001b[1;33m\u001b[0m\u001b[0m\n",
      "\u001b[1;31mKeyboardInterrupt\u001b[0m: "
     ]
    }
   ],
   "source": [
    "df = get_all_data(data, all_chans)\n",
    "df.to_csv(\"../dat/child_mind_data\")\n",
    "df"
   ]
  },
  {
   "cell_type": "code",
   "execution_count": 10,
   "metadata": {
    "scrolled": true
   },
   "outputs": [],
   "source": [
    "df = pd.read_csv(\"../dat/child_mind_data\")\n"
   ]
  },
  {
   "cell_type": "markdown",
   "metadata": {},
   "source": [
    "# All Channels"
   ]
  },
  {
   "cell_type": "markdown",
   "metadata": {},
   "source": [
    "### All Channels: Exp to Age"
   ]
  },
  {
   "cell_type": "code",
   "execution_count": 11,
   "metadata": {},
   "outputs": [
    {
     "name": "stdout",
     "output_type": "stream",
     "text": [
      "All Channels exp->age pear: (-0.5733730602654656, 0.0)\n",
      "All Channels exp->age spear: SpearmanrResult(correlation=-0.6360477217326502, pvalue=0.0)\n"
     ]
    }
   ],
   "source": [
    "all_ch_exp_age_p = pearsonr(df.Exp,df.Age)\n",
    "all_ch_exp_age_s = spearmanr(df.Exp,df.Age)\n",
    "\n",
    "print(\"All Channels exp->age pear:\",all_ch_exp_age_p)\n",
    "print(\"All Channels exp->age spear:\",all_ch_exp_age_s)"
   ]
  },
  {
   "cell_type": "markdown",
   "metadata": {},
   "source": [
    "### All Channels: TBR to Age"
   ]
  },
  {
   "cell_type": "code",
   "execution_count": 12,
   "metadata": {},
   "outputs": [
    {
     "name": "stdout",
     "output_type": "stream",
     "text": [
      "All Channels tbr->age pear: (-0.45598816741837095, 0.0)\n",
      "All Channels tbr->age spear: SpearmanrResult(correlation=-0.6360477217326502, pvalue=0.0)\n"
     ]
    }
   ],
   "source": [
    "all_ch_tbr_age_p = pearsonr(df.TBR,df.Age)\n",
    "all_ch_tbr_age_s = spearmanr(df.Exp,df.Age)\n",
    "\n",
    "print(\"All Channels tbr->age pear:\",all_ch_tbr_age_p)\n",
    "print(\"All Channels tbr->age spear:\",all_ch_tbr_age_s)"
   ]
  },
  {
   "cell_type": "markdown",
   "metadata": {},
   "source": [
    "# Single Channel\n",
    "Here we will use Cz (index 94) across all participants"
   ]
  },
  {
   "cell_type": "code",
   "execution_count": 19,
   "metadata": {},
   "outputs": [
    {
     "data": {
      "text/plain": [
       "array([[ 0.03250524,  0.45373173,  0.15492166],\n",
       "       [-0.09428855, -0.21386784, -0.05667593]])"
      ]
     },
     "execution_count": 19,
     "metadata": {},
     "output_type": "execute_result"
    }
   ],
   "source": [
    "res = peak_param_ratio_corr(df, \"TBR\", all_chans, func=nan_corr_pearson)\n",
    "res"
   ]
  },
  {
   "cell_type": "code",
   "execution_count": 3,
   "metadata": {},
   "outputs": [
    {
     "ename": "NameError",
     "evalue": "name 'all_chans' is not defined",
     "output_type": "error",
     "traceback": [
      "\u001b[1;31m---------------------------------------------------------------------------\u001b[0m",
      "\u001b[1;31mNameError\u001b[0m                                 Traceback (most recent call last)",
      "\u001b[1;32m<ipython-input-3-3433d718ba39>\u001b[0m in \u001b[0;36m<module>\u001b[1;34m()\u001b[0m\n\u001b[0;32m      1\u001b[0m \u001b[1;31m# All channel Alpha_Beta and fooof params\u001b[0m\u001b[1;33m\u001b[0m\u001b[1;33m\u001b[0m\u001b[0m\n\u001b[1;32m----> 2\u001b[1;33m \u001b[1;32mdef\u001b[0m \u001b[0mratio_by_peak_params\u001b[0m\u001b[1;33m(\u001b[0m\u001b[0mratio\u001b[0m\u001b[1;33m,\u001b[0m \u001b[0mch\u001b[0m\u001b[1;33m=\u001b[0m\u001b[0mall_chans\u001b[0m\u001b[1;33m)\u001b[0m\u001b[1;33m:\u001b[0m\u001b[1;33m\u001b[0m\u001b[0m\n\u001b[0m\u001b[0;32m      3\u001b[0m     \u001b[0mparams\u001b[0m \u001b[1;33m=\u001b[0m \u001b[1;33m[\u001b[0m\u001b[1;34m\"Alpha_BW\"\u001b[0m\u001b[1;33m,\u001b[0m\u001b[1;34m\"Alpha_CF\"\u001b[0m\u001b[1;33m,\u001b[0m\u001b[1;34m\"Alpha_PW\"\u001b[0m\u001b[1;33m,\u001b[0m\u001b[1;34m\"Beta_BW\"\u001b[0m\u001b[1;33m,\u001b[0m \u001b[1;34m\"Beta_CF\"\u001b[0m\u001b[1;33m,\u001b[0m\u001b[1;34m\"Beta_PW\"\u001b[0m\u001b[1;33m,\u001b[0m\u001b[1;34m\"Theta_BW\"\u001b[0m\u001b[1;33m,\u001b[0m \u001b[1;34m\"Theta_CF\"\u001b[0m\u001b[1;33m,\u001b[0m\u001b[1;34m\"Theta_PW\"\u001b[0m\u001b[1;33m]\u001b[0m\u001b[1;33m\u001b[0m\u001b[0m\n\u001b[0;32m      4\u001b[0m \u001b[1;33m\u001b[0m\u001b[0m\n\u001b[0;32m      5\u001b[0m     \u001b[1;32mfor\u001b[0m \u001b[0mparam\u001b[0m \u001b[1;32min\u001b[0m \u001b[0mparams\u001b[0m\u001b[1;33m:\u001b[0m\u001b[1;33m\u001b[0m\u001b[0m\n",
      "\u001b[1;31mNameError\u001b[0m: name 'all_chans' is not defined"
     ]
    }
   ],
   "source": [
    "# All channel Alpha_Beta and fooof params\n",
    "def ratio_by_peak_params(ratio, ch=all_chans):\n",
    "    params = [\"Alpha_BW\",\"Alpha_CF\",\"Alpha_PW\",\"Beta_BW\", \"Beta_CF\",\"Beta_PW\",\"Theta_BW\", \"Theta_CF\",\"Theta_PW\"]\n",
    "    \n",
    "    for param in params:\n",
    "        \n",
    "        corr = nan_corr_spearman(df[ratio].values, df[param].values)\n",
    "\n",
    "        print(\"The corr of {} to {} at {} is {:1.2f}\".format(ratio, param, 'Cz', corr[1]))\n",
    "\n",
    "ratio_by_peak_params(\"ABR\")"
   ]
  },
  {
   "cell_type": "code",
   "execution_count": 4,
   "metadata": {},
   "outputs": [],
   "source": [
    "# Data Settings\n",
    "cur_channel = \"94\"\n",
    "cur_ratio = 'TAR'"
   ]
  },
  {
   "cell_type": "code",
   "execution_count": 39,
   "metadata": {},
   "outputs": [],
   "source": [
    "#DataFrame which only has Cz channels\n",
    "df_ch = df.loc[df['Chan_ID'] == cur_channel]\n",
    "\n",
    "cz_exp = df.Exp.values.astype(float)\n",
    "cz_age = df.Age.values.astype(float)\n",
    "cz_ratio = df[cur_ratio].values.astype(float)"
   ]
  },
  {
   "cell_type": "markdown",
   "metadata": {},
   "source": [
    "### CZ: Exp to Age"
   ]
  },
  {
   "cell_type": "code",
   "execution_count": 43,
   "metadata": {},
   "outputs": [
    {
     "name": "stdout",
     "output_type": "stream",
     "text": [
      "The corr of TAR to EXP at Cz is 0.50, 0.01\n"
     ]
    }
   ],
   "source": [
    "print(\"The corr of {} to {} at {} is {:1.2f}, {:1.2f}\".format('TAR', 'EXP', 'Cz', 0.500000000001, 0.01))"
   ]
  },
  {
   "cell_type": "code",
   "execution_count": 34,
   "metadata": {},
   "outputs": [
    {
     "name": "stdout",
     "output_type": "stream",
     "text": [
      "Cz exp->age pear: (-0.5733730602654656, 0.0)\n",
      "Cz exp->age spear: SpearmanrResult(correlation=-0.6360477217326502, pvalue=0.0)\n"
     ]
    }
   ],
   "source": [
    "cz_exp_age_p = pearsonr(cz_exp, cz_age)\n",
    "cz_exp_age_s = spearmanr(cz_exp, cz_age)\n",
    "\n",
    "print(\"Cz exp->age pear:\", cz_exp_age_p)\n",
    "print(\"Cz exp->age spear:\", cz_exp_age_s)"
   ]
  },
  {
   "cell_type": "markdown",
   "metadata": {},
   "source": [
    "### CZ: TBR to Age"
   ]
  },
  {
   "cell_type": "code",
   "execution_count": 35,
   "metadata": {},
   "outputs": [
    {
     "name": "stdout",
     "output_type": "stream",
     "text": [
      "Cz tbr->age pear: (-0.2062977954036027, 4.920804533483743e-103)\n",
      "Cz tbr->age spear: SpearmanrResult(correlation=-0.3128364612419722, pvalue=3.111147788583773e-241)\n"
     ]
    }
   ],
   "source": [
    "cz_tar_age_p = pearsonr(cz_tar, cz_age)\n",
    "cz_tar_age_s = spearmanr(cz_tar, cz_age)\n",
    "\n",
    "print(\"Cz tbr->age pear:\", cz_tar_age_p)\n",
    "print(\"Cz tbr->age spear:\", cz_tar_age_s)"
   ]
  },
  {
   "cell_type": "code",
   "execution_count": 6,
   "metadata": {},
   "outputs": [
    {
     "ename": "NameError",
     "evalue": "name 'get_real_params' is not defined",
     "output_type": "error",
     "traceback": [
      "\u001b[1;31m---------------------------------------------------------------------------\u001b[0m",
      "\u001b[1;31mNameError\u001b[0m                                 Traceback (most recent call last)",
      "\u001b[1;32m<ipython-input-6-df30cd9669a6>\u001b[0m in \u001b[0;36m<module>\u001b[1;34m()\u001b[0m\n\u001b[1;32m----> 1\u001b[1;33m \u001b[0mall_age_parietal\u001b[0m \u001b[1;33m=\u001b[0m \u001b[0mget_real_params\u001b[0m\u001b[1;33m(\u001b[0m\u001b[0mdata\u001b[0m\u001b[1;33m,\u001b[0m \u001b[0mch_inds_parietal\u001b[0m\u001b[1;33m)\u001b[0m\u001b[1;33m\u001b[0m\u001b[0m\n\u001b[0m\u001b[0;32m      2\u001b[0m \u001b[0mall_age_central\u001b[0m \u001b[1;33m=\u001b[0m \u001b[0mget_real_params\u001b[0m\u001b[1;33m(\u001b[0m\u001b[0mdata\u001b[0m\u001b[1;33m,\u001b[0m \u001b[0mch_inds_central\u001b[0m\u001b[1;33m)\u001b[0m\u001b[1;33m\u001b[0m\u001b[0m\n\u001b[0;32m      3\u001b[0m \u001b[0mall_age_frontal\u001b[0m \u001b[1;33m=\u001b[0m \u001b[0mget_real_params\u001b[0m\u001b[1;33m(\u001b[0m\u001b[0mdata\u001b[0m\u001b[1;33m,\u001b[0m \u001b[0mch_inds_frontal\u001b[0m\u001b[1;33m)\u001b[0m\u001b[1;33m\u001b[0m\u001b[0m\n\u001b[0;32m      4\u001b[0m \u001b[1;33m\u001b[0m\u001b[0m\n\u001b[0;32m      5\u001b[0m \u001b[1;31m###################\u001b[0m\u001b[1;33m\u001b[0m\u001b[1;33m\u001b[0m\u001b[0m\n",
      "\u001b[1;31mNameError\u001b[0m: name 'get_real_params' is not defined"
     ]
    }
   ],
   "source": [
    "all_age_parietal = get_real_params(data, ch_inds_parietal)\n",
    "all_age_central = get_real_params(data, ch_inds_central)\n",
    "all_age_frontal = get_real_params(data, ch_inds_frontal)\n",
    "\n",
    "###################\n",
    "\n",
    "all_age_parietal_tb_ratio = all_age_parietal[0][0]\n",
    "all_age_parietal_apc = all_age_parietal[0][1]\n",
    "\n",
    "all_age_central_tb_ratio = all_age_central[0][0]\n",
    "all_age_central_apc = all_age_central[0][1]\n",
    "\n",
    "all_age_frontal_tb_ratio = all_age_frontal[0][0]\n",
    "all_age_frontal_apc = all_age_frontal[0][1]\n",
    "\n",
    "###################\n",
    "\n",
    "all_age_parietal_pearson = pearsonr(all_age_parietal_apc, all_age_parietal_tb_ratio)\n",
    "all_age_parietal_spearman = spearmanr(all_age_parietal_apc, all_age_parietal_tb_ratio)\n",
    "\n",
    "all_age_central_pearson = pearsonr(all_age_central_apc, all_age_central_tb_ratio)\n",
    "all_age_central_spearman = spearmanr(all_age_central_apc, all_age_central_tb_ratio)\n",
    "\n",
    "all_age_frontal_pearson = pearsonr(all_age_frontal_apc, all_age_frontal_tb_ratio)\n",
    "all_age_frontal_spearman = spearmanr(all_age_frontal_apc, all_age_frontal_tb_ratio)"
   ]
  },
  {
   "cell_type": "markdown",
   "metadata": {},
   "source": [
    "# Peak param correlations below"
   ]
  },
  {
   "cell_type": "code",
   "execution_count": 5,
   "metadata": {},
   "outputs": [
    {
     "ename": "NameError",
     "evalue": "name 'ch_inds_parietal' is not defined",
     "output_type": "error",
     "traceback": [
      "\u001b[1;31m---------------------------------------------------------------------------\u001b[0m",
      "\u001b[1;31mNameError\u001b[0m                                 Traceback (most recent call last)",
      "\u001b[1;32m<ipython-input-5-9c0f8a10d25c>\u001b[0m in \u001b[0;36m<module>\u001b[1;34m()\u001b[0m\n\u001b[1;32m----> 1\u001b[1;33m \u001b[0mall_age_parietal_fg\u001b[0m \u001b[1;33m=\u001b[0m \u001b[0mget_real_fg\u001b[0m\u001b[1;33m(\u001b[0m\u001b[0mdata\u001b[0m\u001b[1;33m,\u001b[0m \u001b[0mch_inds_parietal\u001b[0m\u001b[1;33m)\u001b[0m\u001b[1;33m\u001b[0m\u001b[0m\n\u001b[0m\u001b[0;32m      2\u001b[0m \u001b[0mall_age_central_fg\u001b[0m \u001b[1;33m=\u001b[0m \u001b[0mget_real_fg\u001b[0m\u001b[1;33m(\u001b[0m\u001b[0mdata\u001b[0m\u001b[1;33m,\u001b[0m \u001b[0mch_inds_central\u001b[0m\u001b[1;33m)\u001b[0m\u001b[1;33m\u001b[0m\u001b[0m\n\u001b[0;32m      3\u001b[0m \u001b[0mall_age_frontal_fg\u001b[0m \u001b[1;33m=\u001b[0m \u001b[0mget_real_fg\u001b[0m\u001b[1;33m(\u001b[0m\u001b[0mdata\u001b[0m\u001b[1;33m,\u001b[0m \u001b[0mch_inds_frontal\u001b[0m\u001b[1;33m)\u001b[0m\u001b[1;33m\u001b[0m\u001b[0m\n",
      "\u001b[1;31mNameError\u001b[0m: name 'ch_inds_parietal' is not defined"
     ]
    }
   ],
   "source": [
    "all_age_parietal_fg = get_real_fg(data, ch_inds_parietal)\n",
    "all_age_central_fg = get_real_fg(data, ch_inds_central)\n",
    "all_age_frontal_fg = get_real_fg(data, ch_inds_frontal)"
   ]
  },
  {
   "cell_type": "code",
   "execution_count": null,
   "metadata": {},
   "outputs": [],
   "source": [
    "for ind, val in enumerate(all_age_parietal_fg[0]):\n",
    "    theta_cf_parietal.append(all_age_parietal_fg[0][ind].peak_params_[0][0])\n",
    "    beta_cf_parietal.append(all_age_parietal_fg[0][ind].peak_params_[1][0])\n",
    "    theta_amp_parietal.append(all_age_parietal_fg[0][ind].peak_params_[0][1])\n",
    "    beta_amp_parietal.append(all_age_parietal_fg[0][ind].peak_params_[1][1])\n",
    "    theta_bw_parietal.append(all_age_parietal_fg[0][ind].peak_params_[0][2])\n",
    "    beta_bw_parietal.append(all_age_parietal_fg[0][ind].peak_params_[1][2])\n",
    "    \n",
    "    theta_cf_central.append(all_age_central_fg[0][ind].peak_params_[0][0])\n",
    "    beta_cf_central.append(all_age_central_fg[0][ind].peak_params_[1][0])\n",
    "    theta_amp_central.append(all_age_central_fg[0][ind].peak_params_[0][1])\n",
    "    beta_amp_central.append(all_age_central_fg[0][ind].peak_params_[1][1])\n",
    "    theta_bw_central.append(all_age_central_fg[0][ind].peak_params_[0][2])\n",
    "    beta_bw_central.append(all_age_central_fg[0][ind].peak_params_[1][2])\n",
    "    \n",
    "    theta_cf_frontal.append(all_age_frontal_fg[0][ind].peak_params_[0][0])\n",
    "    beta_cf_frontal.append(all_age_frontal_fg[0][ind].peak_params_[1][0])\n",
    "    theta_amp_frontal.append(all_age_frontal_fg[0][ind].peak_params_[0][1])\n",
    "    beta_amp_frontal.append(all_age_frontal_fg[0][ind].peak_params_[1][1])\n",
    "    theta_bw_frontal.append(all_age_frontal_fg[0][ind].peak_params_[0][2])\n",
    "    beta_bw_frontal.append(all_age_frontal_fg[0][ind].peak_params_[1][2])\n",
    "avg_tb_ratios = all_age_parietal_fg[1]"
   ]
  },
  {
   "cell_type": "code",
   "execution_count": 106,
   "metadata": {},
   "outputs": [],
   "source": [
    "# Theta CF Parietal\n",
    "parietal_t_cf_pear = nan_corr_p(theta_cf_parietal, avg_tb_ratios)\n",
    "parietal_t_cf_spear = nan_corr_s(theta_cf_parietal, avg_tb_ratios)\n",
    "\n",
    "# Beta CF Parietal\n",
    "parietal_b_cf_pear = nan_corr_p(beta_cf_parietal, avg_tb_ratios)\n",
    "parietal_b_cf_spear = nan_corr_s(beta_cf_parietal, avg_tb_ratios)\n",
    "\n",
    "#Theta amp parietal\n",
    "parietal_t_amp_pear = nan_corr_p(theta_amp_parietal, avg_tb_ratios)\n",
    "parietal_t_amp_spear = nan_corr_s(theta_amp_parietal, avg_tb_ratios)\n",
    "\n",
    "# beta amp parietal\n",
    "parietal_b_amp_pear = nan_corr_p(beta_amp_parietal, avg_tb_ratios)\n",
    "parietal_b_amp_spear = nan_corr_s(beta_amp_parietal, avg_tb_ratios)\n",
    "\n",
    "#theta bw parietal\n",
    "parietal_t_bw_pear = nan_corr_p(theta_bw_parietal, avg_tb_ratios)\n",
    "parietal_t_bw_spear = nan_corr_s(theta_bw_parietal, avg_tb_ratios)\n",
    "\n",
    "#beta bw parietal\n",
    "parietal_b_bw_pear = nan_corr_p(beta_bw_parietal, avg_tb_ratios)\n",
    "parietal_b_bw_spear = nan_corr_s(beta_bw_parietal, avg_tb_ratios)\n",
    "\n",
    "################################################\n",
    "\n",
    "# Theta CF central\n",
    "central_t_cf_pear = nan_corr_p(theta_cf_central, avg_tb_ratios)\n",
    "central_t_cf_spear = nan_corr_s(theta_cf_central, avg_tb_ratios)\n",
    "\n",
    "# Beta CF Parietal\n",
    "central_b_cf_pear = nan_corr_p(beta_cf_central, avg_tb_ratios)\n",
    "central_b_cf_spear = nan_corr_s(beta_cf_central, avg_tb_ratios)\n",
    "\n",
    "#Theta amp parietal\n",
    "central_t_amp_pear = nan_corr_p(theta_amp_central, avg_tb_ratios)\n",
    "central_t_amp_spear = nan_corr_s(theta_amp_central, avg_tb_ratios)\n",
    "\n",
    "# beta amp parietal\n",
    "central_b_amp_pear = nan_corr_p(beta_amp_central, avg_tb_ratios)\n",
    "central_b_amp_spear = nan_corr_s(beta_amp_central, avg_tb_ratios)\n",
    "\n",
    "#theta bw parietal\n",
    "central_t_bw_pear = nan_corr_p(theta_bw_central, avg_tb_ratios)\n",
    "central_t_bw_spear = nan_corr_s(theta_bw_central, avg_tb_ratios)\n",
    "\n",
    "#beta bw parietal\n",
    "central_b_bw_pear = nan_corr_p(beta_bw_central, avg_tb_ratios)\n",
    "central_b_bw_spear = nan_corr_s(beta_bw_central, avg_tb_ratios)\n",
    "\n",
    "################################################\n",
    "# Theta CF central\n",
    "frontal_t_cf_pear = nan_corr_p(theta_cf_frontal, avg_tb_ratios)\n",
    "frontal_t_cf_spear = nan_corr_s(theta_cf_frontal, avg_tb_ratios)\n",
    "\n",
    "# Beta CF Parietal\n",
    "frontal_b_cf_pear = nan_corr_p(beta_cf_frontal, avg_tb_ratios)\n",
    "frontal_b_cf_spear = nan_corr_s(beta_cf_frontal, avg_tb_ratios)\n",
    "\n",
    "#Theta amp parietal\n",
    "frontal_t_amp_pear = nan_corr_p(theta_amp_frontal, avg_tb_ratios)\n",
    "frontal_t_amp_spear = nan_corr_s(theta_amp_frontal, avg_tb_ratios)\n",
    "\n",
    "# beta amp parietal\n",
    "frontal_b_amp_pear = nan_corr_p(beta_amp_frontal, avg_tb_ratios)\n",
    "frontal_b_amp_spear = nan_corr_s(beta_amp_frontal, avg_tb_ratios)\n",
    "\n",
    "#theta bw parietal\n",
    "frontal_t_bw_pear = nan_corr_p(theta_bw_frontal, avg_tb_ratios)\n",
    "frontal_t_bw_spear = nan_corr_s(theta_bw_frontal, avg_tb_ratios)\n",
    "\n",
    "#beta bw parietal\n",
    "frontal_b_bw_pear = nan_corr_p(beta_bw_frontal, avg_tb_ratios)\n",
    "frontal_b_bw_spear = nan_corr_s(beta_bw_frontal, avg_tb_ratios)"
   ]
  },
  {
   "cell_type": "code",
   "execution_count": 140,
   "metadata": {},
   "outputs": [
    {
     "name": "stdout",
     "output_type": "stream",
     "text": [
      "central theta cf spearman:  SpearmanrResult(correlation=-0.0002908483921142149, pvalue=0.9979835636736129)\n",
      "central theta amp spearman:  SpearmanrResult(correlation=0.2869409071940717, pvalue=0.010862745523717)\n",
      "central theta bw spearman:  SpearmanrResult(correlation=0.25806904209266446, pvalue=0.022536902721927647)\n",
      "central beta cf spearman:  SpearmanrResult(correlation=0.03506995581737849, pvalue=0.7330837766115756)\n",
      "central beta amp spearman:  SpearmanrResult(correlation=-0.27132863454660217, pvalue=0.0071825001951504736)\n",
      "central beta bw spearman:  SpearmanrResult(correlation=-0.1242837559303342, pvalue=0.22517042716138022)\n"
     ]
    }
   ],
   "source": [
    "print(\"central theta cf spearman: \" ,central_t_cf_spear)\n",
    "print(\"central theta amp spearman: \" ,central_t_amp_spear)\n",
    "print(\"central theta bw spearman: \" ,central_t_bw_spear)\n",
    "\n",
    "print(\"central beta cf spearman: \" ,central_b_cf_spear)\n",
    "print(\"central beta amp spearman: \" ,central_b_amp_spear)\n",
    "print(\"central beta bw spearman: \" ,central_b_bw_spear)\n",
    "theta_data = [central_t_cf_spear[0],central_t_amp_spear[0], central_t_bw_spear[0]]\n",
    "beta_data = [central_b_cf_spear[0],central_b_amp_spear[0], central_b_bw_spear[0]]\n",
    "heats = np.array([theta_data, beta_data])"
   ]
  },
  {
   "cell_type": "code",
   "execution_count": 188,
   "metadata": {},
   "outputs": [
    {
     "data": {
      "image/png": "[encoded data removed]",
      "text/plain": [
       "<Figure size 432x288 with 2 Axes>"
      ]
     },
     "metadata": {},
     "output_type": "display_data"
    }
   ],
   "source": [
    "\n",
    "fig, ax = plt.subplots()\n",
    "\n",
    "\n",
    "# We want to show all ticks...\n",
    "\n",
    "# ... and label them with the respective list entries\n",
    "\n",
    "ax.set_yticklabels([\"theta\", \"beta\"])\n",
    "\n",
    "sns.set(font_scale=1.5)\n",
    "\n",
    "sns.heatmap(heats, vmin=-.5,vmax=.5,annot=True, cmap= \"seismic\", xticklabels=[\"CF\", \"PW\", \"BW\"], yticklabels=[\"Theta\",\"Beta\"], alpha=.75)\n",
    "plt.xticks(rotation=30)\n",
    "plt.tight_layout()\n",
    "plt.savefig(\"../figures/spectral_features_corr_to_TBR.png\", dpi=700)"
   ]
  },
  {
   "cell_type": "markdown",
   "metadata": {},
   "source": [
    "## Aperiodic stuff below"
   ]
  },
  {
   "cell_type": "code",
   "execution_count": 39,
   "metadata": {},
   "outputs": [],
   "source": [
    "# Exponenent\n",
    "\n",
    "\n",
    "# Peak Params\n",
    "#fm_parietal = avg_fg(all_age_parietal_fg[0])\n",
    "#fm_central = avg_fg(all_age_central_fg[0])\n",
    "#fm_frontal = avg_fg(all_age_frontal_fg[0])"
   ]
  },
  {
   "cell_type": "code",
   "execution_count": null,
   "metadata": {},
   "outputs": [],
   "source": [
    "\n",
    "\n",
    "print(\"All subjects parietal pearson: \", all_age_parietal_pearson)\n",
    "print(\"All subjects parietal spearman: \", all_age_parietal_spearman)\n",
    "print(\" \")\n",
    "\n",
    "print(\"All subjects central pearson: \", all_age_central_pearson)\n",
    "print(\"All subjects central spearman: \", all_age_central_spearman)\n",
    "print(\" \")\n",
    "\n",
    "print(\"All subjects frontal pearson: \", all_age_frontal_pearson)\n",
    "print(\"All subjects frontal spearman: \", all_age_frontal_spearman)\n",
    "print(\" \")"
   ]
  },
  {
   "cell_type": "markdown",
   "metadata": {},
   "source": [
    "## Predicting age from exponent"
   ]
  },
  {
   "cell_type": "code",
   "execution_count": 45,
   "metadata": {},
   "outputs": [
    {
     "name": "stdout",
     "output_type": "stream",
     "text": [
      "parietal exponent correlates to age (pearson):  (-0.6346683381968523, 4.876675414400836e-56)\n",
      "parietal exponent correlates to age (spearman):  SpearmanrResult(correlation=-0.6872611745253143, pvalue=4.704989892502931e-69)\n",
      "\n",
      "frontal exponent correlates to age (pearson):  (-0.5763808342149647, 2.7991407815194255e-44)\n",
      "frontal exponent correlates to age (spearman):  SpearmanrResult(correlation=-0.6682322088698998, pvalue=4.8991535403989085e-64)\n",
      "\n",
      "central exponent correlates to age (pearson):  (-0.5224239758370124, 2.5732584232546035e-35)\n",
      "central exponent correlates to age (spearman):  SpearmanrResult(correlation=-0.6214873474536138, pvalue=3.6765509885372348e-53)\n"
     ]
    }
   ],
   "source": [
    "all_age_parietal_exp_age_p = pearsonr(all_age_parietal_apc, all_age_parietal[0][3])\n",
    "all_age_parietal_exp_age_s = spearmanr(all_age_parietal_apc, all_age_parietal[0][3])\n",
    "\n",
    "all_age_frontal_exp_age_p = pearsonr(all_age_frontal_apc, all_age_frontal[0][3])\n",
    "all_age_frontal_exp_age_s = spearmanr(all_age_frontal_apc, all_age_frontal[0][3])\n",
    "\n",
    "all_age_central_exp_age_p = pearsonr(all_age_central_apc, all_age_central[0][3])\n",
    "all_age_central_exp_age_s = spearmanr(all_age_central_apc, all_age_central[0][3])\n",
    "\n",
    "print(\"parietal exponent correlates to age (pearson): \", all_age_parietal_exp_age_p)\n",
    "print(\"parietal exponent correlates to age (spearman): \", all_age_parietal_exp_age_s)\n",
    "print()\n",
    "\n",
    "print(\"frontal exponent correlates to age (pearson): \", all_age_frontal_exp_age_p)\n",
    "print(\"frontal exponent correlates to age (spearman): \", all_age_frontal_exp_age_s)\n",
    "print()\n",
    "\n",
    "print(\"central exponent correlates to age (pearson): \", all_age_central_exp_age_p)\n",
    "print(\"central exponent correlates to age (spearman): \", all_age_central_exp_age_s)"
   ]
  },
  {
   "cell_type": "markdown",
   "metadata": {},
   "source": [
    "## Predicting Age from TBR"
   ]
  },
  {
   "cell_type": "code",
   "execution_count": 47,
   "metadata": {},
   "outputs": [
    {
     "name": "stdout",
     "output_type": "stream",
     "text": [
      "parietal exponent correlates to age (pearson):  (-0.4670253733105622, 1.206598334508968e-27)\n",
      "parietal exponent correlates to age (spearman):  SpearmanrResult(correlation=-0.6367548776477613, pvalue=1.6586917847631905e-56)\n",
      "\n",
      "frontal exponent correlates to age (pearson):  (-0.4465835155636714, 3.7701086519872125e-25)\n",
      "frontal exponent correlates to age (spearman):  SpearmanrResult(correlation=-0.5833603215560321, pvalue=1.454751633682585e-45)\n",
      "\n",
      "central exponent correlates to age (pearson):  (-0.48649966838431596, 3.4930650277180965e-30)\n",
      "central exponent correlates to age (spearman):  SpearmanrResult(correlation=-0.6507169948479196, pvalue=9.782106424394115e-60)\n"
     ]
    }
   ],
   "source": [
    "all_age_parietal_tbr_age_p = pearsonr(all_age_parietal_tb_ratio, all_age_parietal[0][3])\n",
    "all_age_parietal_tbr_age_s = spearmanr(all_age_parietal_tb_ratio, all_age_parietal[0][3])\n",
    "\n",
    "all_age_frontal_tbr_age_p = pearsonr(all_age_frontal_tb_ratio, all_age_frontal[0][3])\n",
    "all_age_frontal_tbr_age_s = spearmanr(all_age_frontal_tb_ratio, all_age_frontal[0][3])\n",
    "\n",
    "all_age_central_tbr_age_p = pearsonr(all_age_central_tb_ratio, all_age_central[0][3])\n",
    "all_age_central_tbr_age_s = spearmanr(all_age_central_tb_ratio, all_age_central[0][3])\n",
    "\n",
    "print(\"parietal exponent correlates to age (pearson): \", all_age_parietal_tbr_age_p)\n",
    "print(\"parietal exponent correlates to age (spearman): \", all_age_parietal_tbr_age_s)\n",
    "print()\n",
    "\n",
    "print(\"frontal exponent correlates to age (pearson): \", all_age_frontal_tbr_age_p)\n",
    "print(\"frontal exponent correlates to age (spearman): \", all_age_frontal_tbr_age_s)\n",
    "print()\n",
    "\n",
    "print(\"central exponent correlates to age (pearson): \", all_age_central_tbr_age_p)\n",
    "print(\"central exponent correlates to age (spearman): \", all_age_central_tbr_age_s)"
   ]
  }
 ],
 "metadata": {
  "kernelspec": {
   "display_name": "Python 3",
   "language": "python",
   "name": "python3"
  },
  "language_info": {
   "codemirror_mode": {
    "name": "ipython",
    "version": 3
   },
   "file_extension": ".py",
   "mimetype": "text/x-python",
   "name": "python",
   "nbconvert_exporter": "python",
   "pygments_lexer": "ipython3",
   "version": "3.6.5"
  }
 },
 "nbformat": 4,
 "nbformat_minor": 2
}
