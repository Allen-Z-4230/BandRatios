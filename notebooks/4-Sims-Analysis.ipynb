{
 "cells": [
  {
   "cell_type": "markdown",
   "metadata": {},
   "source": [
    "# Analyzing Simulated Power Spectra\n",
    "\n",
    "In this notebook will go over analyzing the simulated power spectra.\n",
    "\n",
    "Note that this script covers how the simulated power spectra are analyzed, and plots some of the outputs. \n",
    "\n",
    "To re-run the actual analyses of the simulated data, use the scripts available in `/scripts`."
   ]
  },
  {
   "cell_type": "code",
   "execution_count": 1,
   "metadata": {},
   "outputs": [],
   "source": [
    "%matplotlib inline\n",
    "\n",
    "import pandas as pd\n",
    "import numpy as np\n",
    "import matplotlib.pyplot as plt\n",
    "import seaborn as sns"
   ]
  },
  {
   "cell_type": "code",
   "execution_count": 2,
   "metadata": {},
   "outputs": [],
   "source": [
    "# Import custom project code\n",
    "import sys\n",
    "sys.path.append('../bratios')\n",
    "from ratios import *\n",
    "from settings import *\n",
    "from paths import DATA_PATHS as dp\n",
    "from paths import FIGS_PATHS as fp"
   ]
  },
  {
   "cell_type": "markdown",
   "metadata": {},
   "source": [
    "## Analyze results from single parameter simulations\n",
    "\n",
    "First we will start by analyzing the set of single parameter variation simulations that we generated in the prior notebook.\n",
    "\n",
    "Recall that this data is a set of power spectra that vary across the power of the higher oscillation band."
   ]
  },
  {
   "cell_type": "code",
   "execution_count": 3,
   "metadata": {},
   "outputs": [],
   "source": [
    "# Load data from the prior notebook\n",
    "pw_dat = np.load(dp.make_file_path(dp.demo, 'PW_DEMO', 'npy'))"
   ]
  },
  {
   "cell_type": "code",
   "execution_count": 4,
   "metadata": {},
   "outputs": [],
   "source": [
    "# First we will extract the power values for each higher oscillation in the simulated spectra\n",
    "pw_syns = []\n",
    "for val in pw_dat[2]:\n",
    "    pw_syns.append(val.gaussian_params[1][1])"
   ]
  },
  {
   "cell_type": "code",
   "execution_count": 5,
   "metadata": {},
   "outputs": [],
   "source": [
    "# Calculate band ratios\n",
    "pw_ratios = []\n",
    "for pw in pw_dat[1]:\n",
    "    pw_ratios.append(calc_band_ratio(pw_dat[0], pw, THETA_BAND, BETA_BAND))"
   ]
  },
  {
   "cell_type": "code",
   "execution_count": 6,
   "metadata": {},
   "outputs": [],
   "source": [
    "# Collect measures together into a dataframe\n",
    "pw_cols = np.array([pw_ratios, pw_syns]).T.tolist()\n",
    "df_pw = pd.DataFrame(pw_cols, columns=[\"band_ratio\", \"power\"])"
   ]
  },
  {
   "cell_type": "code",
   "execution_count": 7,
   "metadata": {},
   "outputs": [
    {
     "data": {
      "image/png": "[encoded data removed]",
      "text/plain": [
       "<Figure size 432x288 with 1 Axes>"
      ]
     },
     "metadata": {
      "needs_background": "light"
     },
     "output_type": "display_data"
    }
   ],
   "source": [
    "# Plot the calculated band ratio measures across the change in power\n",
    "plt.plot(df_pw.power, df_pw.band_ratio, color='r', linewidth=3)\n",
    "plt.xlabel(\"Power\", {'fontsize' : 14})\n",
    "plt.ylabel(\"Band Ratio\", {'fontsize' : 14});"
   ]
  },
  {
   "cell_type": "markdown",
   "metadata": {},
   "source": [
    "Recall that we varied the power of the higher band. Here we see that as power increases, the band ratio value decreases. This is consistent with expectation since band ratios are calculated as avg(low-band power)/ (high-band power). As the denominator increases, which is reflected by increasing the power of the higher band, band ratios decrease."
   ]
  },
  {
   "cell_type": "markdown",
   "metadata": {},
   "source": [
    "#### Plots for all single parameter simulations\n",
    "\n",
    "The main analysis of all the different single parameter simulations is run by an external script. \n",
    "\n",
    "All the figures from those analyses are available in the `figures` folder. "
   ]
  },
  {
   "cell_type": "code",
   "execution_count": 8,
   "metadata": {},
   "outputs": [
    {
     "name": "stdout",
     "output_type": "stream",
     "text": [
      "Files in the sims_single directory:\n",
      "     aperiodic_ABR.pdf\n",
      "     aperiodic_ABR.svg\n",
      "     aperiodic_TAR.pdf\n",
      "     aperiodic_TAR.svg\n",
      "     aperiodic_TBR.pdf\n",
      "     aperiodic_TBR.svg\n",
      "     periodic_ABR.pdf\n",
      "     periodic_ABR.svg\n",
      "     periodic_TAR.pdf\n",
      "     periodic_TAR.svg\n",
      "     periodic_TBR.pdf\n",
      "     periodic_TBR.svg\n"
     ]
    }
   ],
   "source": [
    "# Check all the figures available for single parameter simualations\n",
    "fp.list_files('sims_single')"
   ]
  },
  {
   "cell_type": "markdown",
   "metadata": {},
   "source": [
    "## Analyze results from interacting parameter simulations\n",
    "\n",
    "In this next section, let's analyze some of the data from the interacting parameters simulations.\n",
    "\n",
    "Recall in the prior notebook we simulated some test data with varying aperiodic exponent and oscillation power. \n",
    "\n",
    "Here let's examine how band ratio measures are affected when these two parameters change together."
   ]
  },
  {
   "cell_type": "code",
   "execution_count": 9,
   "metadata": {},
   "outputs": [],
   "source": [
    "# Load the simulated data from the prior notebooks\n",
    "exp_pw_dat = np.load(dp.make_file_path(dp.demo, 'EXP_PW_DEMO', 'npy'))"
   ]
  },
  {
   "cell_type": "code",
   "execution_count": 10,
   "metadata": {},
   "outputs": [],
   "source": [
    "# Here, we will step across the data, calculate band ratio measures, and collect the outputs \n",
    "data = []\n",
    "for param in exp_pw_dat:\n",
    "    \n",
    "    inner_list = []\n",
    "    freqs = param[1]\n",
    "\n",
    "    for psd in param[2]:\n",
    "    \n",
    "        curr_ratio = calc_band_ratio(freqs, psd, THETA_BAND, BETA_BAND)\n",
    "        inner_list.append(curr_ratio)\n",
    "\n",
    "    data.append(inner_list)\n",
    "    \n",
    "data = np.array(data)"
   ]
  },
  {
   "cell_type": "markdown",
   "metadata": {},
   "source": [
    "Now that we've collected the band ratio measures, let's plot the data. \n",
    "\n",
    "Since we are plotting across two dimensions (two parameters that vary), we'll use a heatmap."
   ]
  },
  {
   "cell_type": "code",
   "execution_count": 11,
   "metadata": {},
   "outputs": [
    {
     "data": {
      "image/png": "[encoded data removed]",
      "text/plain": [
       "<Figure size 432x288 with 2 Axes>"
      ]
     },
     "metadata": {
      "needs_background": "light"
     },
     "output_type": "display_data"
    }
   ],
   "source": [
    "# Plot the calculate band ratio measures\n",
    "ax = sns.heatmap(data, xticklabels=PWS, yticklabels=EXPS)\n",
    "\n",
    "# Plot aesthetics\n",
    "ax.invert_yaxis()\n",
    "plt.xlabel(\"Power\", {'fontsize' : 14})\n",
    "plt.ylabel(\"Exponent\", {'fontsize' : 14});"
   ]
  },
  {
   "cell_type": "markdown",
   "metadata": {},
   "source": [
    "In the above plot, we see that changing exponent and/or power does change the measured band ratio value.\n",
    "\n",
    "However, one thing that we might notice as well, that is also known about band ratio values, is that this plot has a skewed distribution, with a small number of values with a very high value. This makes it hard to see the pattern across the other values. \n",
    "\n",
    "To deal with this, next we'll plot the same data in log spacing."
   ]
  },
  {
   "cell_type": "markdown",
   "metadata": {},
   "source": [
    "## Plotting interacting parameters with logged ratios"
   ]
  },
  {
   "cell_type": "code",
   "execution_count": 12,
   "metadata": {},
   "outputs": [
    {
     "data": {
      "image/png": "[encoded data removed]",
      "text/plain": [
       "<Figure size 432x288 with 2 Axes>"
      ]
     },
     "metadata": {
      "needs_background": "light"
     },
     "output_type": "display_data"
    }
   ],
   "source": [
    "# Replot the data in log\n",
    "logged_data =np.log10(data)\n",
    "ax = sns.heatmap(logged_data, xticklabels=PWS, yticklabels=EXPS)\n",
    "\n",
    "# Plot aesthetics\n",
    "ax.invert_yaxis()\n",
    "plt.xlabel(\"Power\", {'fontsize' : 14})\n",
    "plt.ylabel(\"Exponent\", {'fontsize' : 14});"
   ]
  },
  {
   "cell_type": "markdown",
   "metadata": {},
   "source": [
    "Consistent with the single parameter simulation we ran above, we can see that increasing power of the higher oscillation decreases measured band ratio, as expected. Looking up the y-axis, we can also see that increasing exponent value also impacts band ratio measures - in fact this looks like exponent has an even bigger effect. If you look across diagonal values, you can see how ratios change as both parameters change together. "
   ]
  },
  {
   "cell_type": "markdown",
   "metadata": {},
   "source": [
    "#### Plots for all interacting parameter simulations\n",
    "\n",
    "The main analysis of all the different interacting parameter simulations is run by an external script. \n",
    "\n",
    "All the figures from those analyses are available in the `figures` folder. "
   ]
  },
  {
   "cell_type": "code",
   "execution_count": 13,
   "metadata": {},
   "outputs": [
    {
     "name": "stdout",
     "output_type": "stream",
     "text": [
      "Files in the sims_interacting directory:\n",
      "     exp_highbw_data.pdf\n",
      "     exp_highcf_data.pdf\n",
      "     exp_highpw_data.pdf\n",
      "     exp_lowbw_data.pdf\n",
      "     exp_lowcf_data.pdf\n",
      "     exp_lowpw_data.pdf\n",
      "     highcf_highbw_data.pdf\n",
      "     highcf_highpw_data.pdf\n",
      "     highcf_lowbw_data.pdf\n",
      "     highcf_lowpw_data.pdf\n",
      "     highpw_highbw_data.pdf\n",
      "     highpw_lowbw_data.pdf\n",
      "     lowbw_highbw_data.pdf\n",
      "     lowcf_highbw_data.pdf\n",
      "     lowcf_highcf_data.pdf\n",
      "     lowcf_highpw_data.pdf\n",
      "     lowcf_lowbw_data.pdf\n",
      "     lowcf_lowpw_data.pdf\n",
      "     lowpw_highbw_data.pdf\n",
      "     lowpw_highpw_data.pdf\n",
      "     lowpw_lowbw_data.pdf\n"
     ]
    }
   ],
   "source": [
    "# Check all the figures available for single parameter simualations\n",
    "fp.list_files('sims_interacting')"
   ]
  }
 ],
 "metadata": {
  "kernelspec": {
   "display_name": "Python 3",
   "language": "python",
   "name": "python3"
  },
  "language_info": {
   "codemirror_mode": {
    "name": "ipython",
    "version": 3
   },
   "file_extension": ".py",
   "mimetype": "text/x-python",
   "name": "python",
   "nbconvert_exporter": "python",
   "pygments_lexer": "ipython3",
   "version": "3.7.3"
  }
 },
 "nbformat": 4,
 "nbformat_minor": 2
}
