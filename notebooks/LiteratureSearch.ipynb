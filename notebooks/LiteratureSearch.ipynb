{
 "cells": [
  {
   "cell_type": "markdown",
   "metadata": {},
   "source": [
    "# Band Ratios: Literature Search\n",
    "\n",
    "Explore the prevalence of band-ratio measures in the literature.\n",
    "\n",
    "Terms checked but don't seem to return anything relevant:\n",
    "- delta gamma ratio, gamma theta ratio,\n",
    "\n",
    "Terms to maybe add:\n",
    "- ['spectral ratio', 'spectral ratios'] (Note: hard to limit this to relevant papers)"
   ]
  },
  {
   "cell_type": "code",
   "execution_count": 25,
   "metadata": {},
   "outputs": [],
   "source": [
    "from lisc.count import Count"
   ]
  },
  {
   "cell_type": "code",
   "execution_count": 26,
   "metadata": {},
   "outputs": [],
   "source": [
    "# Initialize counts object\n",
    "counts = Count()"
   ]
  },
  {
   "cell_type": "code",
   "execution_count": null,
   "metadata": {},
   "outputs": [],
   "source": [
    "counts.sc"
   ]
  },
  {
   "cell_type": "code",
   "execution_count": 30,
   "metadata": {},
   "outputs": [],
   "source": [
    "# Settings\n",
    "db = 'pubmed'\n",
    "#db = 'PMC'"
   ]
  },
  {
   "cell_type": "code",
   "execution_count": 75,
   "metadata": {},
   "outputs": [],
   "source": [
    "# Possible general search terms\n",
    "#   \"ratio of power\" EEG \n",
    "#   \"power ratio\" EEG"
   ]
  },
  {
   "cell_type": "code",
   "execution_count": 83,
   "metadata": {},
   "outputs": [],
   "source": [
    "# Set terms list\n",
    "br_terms = [['delta theta ratio', 'theta delta ratio'],\n",
    "            ['delta alpha ratio', 'alpha delta ratio'],\n",
    "            ['delta beta ratio', 'beta delta ratio'],\n",
    "            ['theta alpha ratio', 'alpha theta ratio'],\n",
    "            ['theta beta ratio', 'beta theta ratio'],\n",
    "            'theta gamma ratio',\n",
    "            ['alpha beta ratio', 'beta alpha ratio'],\n",
    "            ['alpha frequency power ratio', 'alpha3/alpha2']\n",
    "           ]\n",
    "\n",
    "br_exclusions = [[], [], [], [], [], [], ['protein', 'cancer', 'radiation']]"
   ]
  },
  {
   "cell_type": "code",
   "execution_count": 84,
   "metadata": {},
   "outputs": [
    {
     "name": "stdout",
     "output_type": "stream",
     "text": [
      "Unloading previous terms words.\n",
      "Unloading previous exclusion words.\n"
     ]
    }
   ],
   "source": [
    "# Set terms to object\n",
    "counts.set_terms(br_terms)\n",
    "counts.set_exclusions(br_exclusions)"
   ]
  },
  {
   "cell_type": "code",
   "execution_count": 85,
   "metadata": {},
   "outputs": [
    {
     "name": "stdout",
     "output_type": "stream",
     "text": [
      "List of exclusion words used: \n",
      "\n",
      "delta theta ratio\t : \n",
      "delta alpha ratio\t : \n",
      "delta beta ratio\t : \n",
      "theta alpha ratio\t : \n",
      "theta beta ratio\t : \n",
      "theta gamma ratio\t : \n",
      "alpha beta ratio\t : protein, cancer, radiation\n"
     ]
    }
   ],
   "source": [
    "#counts.terms['A'].check_terms()\n",
    "counts.terms['A'].check_exclusions()"
   ]
  },
  {
   "cell_type": "code",
   "execution_count": 86,
   "metadata": {},
   "outputs": [],
   "source": [
    "#\n",
    "counts.run_scrape(db=db)"
   ]
  },
  {
   "cell_type": "code",
   "execution_count": 88,
   "metadata": {},
   "outputs": [
    {
     "name": "stdout",
     "output_type": "stream",
     "text": [
      "delta theta ratio -        3\n",
      "delta alpha ratio -       14\n",
      "delta beta ratio -        5\n",
      "theta alpha ratio -       32\n",
      "theta beta ratio -       92\n",
      "theta gamma ratio -        8\n",
      "alpha beta ratio -      229\n"
     ]
    }
   ],
   "source": [
    "counts.check_counts()"
   ]
  },
  {
   "cell_type": "markdown",
   "metadata": {},
   "source": [
    "Note: is a current issue that the # or returns for 'alpha beta ratio' is not as expected given tests of what the search term should be. "
   ]
  },
  {
   "cell_type": "code",
   "execution_count": 89,
   "metadata": {},
   "outputs": [
    {
     "name": "stdout",
     "output_type": "stream",
     "text": [
      "List of terms used: \n",
      "\n",
      "delta theta ratio\n",
      "delta alpha ratio\n",
      "delta beta ratio\n",
      "theta alpha ratio\n",
      "theta beta ratio\n",
      "theta gamma ratio\n",
      "alpha beta ratio\n"
     ]
    }
   ],
   "source": [
    "counts.terms['A'].check_terms()"
   ]
  },
  {
   "cell_type": "code",
   "execution_count": 96,
   "metadata": {},
   "outputs": [],
   "source": [
    "qq = counts.terms['A']"
   ]
  },
  {
   "cell_type": "code",
   "execution_count": 99,
   "metadata": {},
   "outputs": [],
   "source": [
    "counts.run_scrape??"
   ]
  },
  {
   "cell_type": "code",
   "execution_count": null,
   "metadata": {},
   "outputs": [],
   "source": []
  }
 ],
 "metadata": {
  "kernelspec": {
   "display_name": "Python 3",
   "language": "python",
   "name": "python3"
  },
  "language_info": {
   "codemirror_mode": {
    "name": "ipython",
    "version": 3
   },
   "file_extension": ".py",
   "mimetype": "text/x-python",
   "name": "python",
   "nbconvert_exporter": "python",
   "pygments_lexer": "ipython3",
   "version": "3.7.1"
  }
 },
 "nbformat": 4,
 "nbformat_minor": 2
}
