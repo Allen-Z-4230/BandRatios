{
 "cells": [
  {
   "cell_type": "markdown",
   "metadata": {},
   "source": [
    "# Band Ratios: Literature Search\n",
    "\n",
    "Here we will explore the prevalence of band-ratio measures in the literature.\n",
    "\n",
    "To do so, we will use [LISC](https://github.com/lisc-tools/lisc), a Python module for collecting and analyzing scientific literature. \n",
    "\n",
    "For more information on what LISC is and how it works, check out the LISC [documentation](https://lisc-tools.github.io/lisc/).\n",
    "\n",
    "To explore the prevalence and use cases of band ratio measures, we will collect information from the Pubmed database on the number of papers that include terms of interest, as well as the number of papers including terms of interest co-ocurring with specified association terms.\n",
    "\n",
    "Note that collecting literature data in this way will be an under-estimate of the use of band-ratio measures.\n",
    "\n",
    "This is since the search approach used here only returns articles for which terms of interest appear in the title and/or abstract, returning only the most relevant papers. Many more papers are likely to mention and apply ratio measures. "
   ]
  },
  {
   "cell_type": "code",
   "execution_count": 1,
   "metadata": {},
   "outputs": [],
   "source": [
    "import numpy as np\n",
    "import matplotlib.pyplot as plt\n",
    "\n",
    "import seaborn as sns\n",
    "sns.set_context('talk')"
   ]
  },
  {
   "cell_type": "code",
   "execution_count": 2,
   "metadata": {},
   "outputs": [],
   "source": [
    "# Import LISC code\n",
    "from lisc import Counts\n",
    "from lisc.plts.counts import plot_matrix\n",
    "from lisc.plts.utils import get_cmap"
   ]
  },
  {
   "cell_type": "code",
   "execution_count": 3,
   "metadata": {},
   "outputs": [],
   "source": [
    "# Initialize counts object\n",
    "counts = Counts()"
   ]
  },
  {
   "cell_type": "code",
   "execution_count": 4,
   "metadata": {},
   "outputs": [],
   "source": [
    "# Settings for literature collection\n",
    "db = 'pubmed'"
   ]
  },
  {
   "cell_type": "markdown",
   "metadata": {},
   "source": [
    "### Define Ratio Terms\n",
    "\n",
    "First, we will define a list of search terms to search for band ratio measures of interest. \n",
    "\n",
    "The following ratios were not included, as they do not return enough papers in our restricted title / abstract search:\n",
    "- delta gamma ratio\n",
    "- alpha gamma ratio"
   ]
  },
  {
   "cell_type": "code",
   "execution_count": 5,
   "metadata": {},
   "outputs": [],
   "source": [
    "# Set terms list\n",
    "br_terms = [['delta theta ratio', 'delta/theta ratio', 'theta delta ratio'],\n",
    "            ['delta alpha ratio', 'delta/alpha', 'alpha delta ratio'],\n",
    "            ['delta beta ratio', 'beta delta ratio'],\n",
    "            ['theta alpha ratio', 'theta/alpha ratio', 'alpha theta ratio'],\n",
    "            ['theta beta ratio', 'theta/beta ratio', 'beta theta ratio'],\n",
    "            ['theta gamma ratio', 'theta/gamma ratio'],\n",
    "            ['alpha beta ratio', 'beta alpha ratio', 'alpha/beta ratio']\n",
    "           ]\n",
    "\n",
    "# Set exclusion terms\n",
    "#   Only ABR has specific inclusions, to restrict to relevant papers\n",
    "#   This is because there is a lot of synonymous use of the term 'alpha beta ratio'\n",
    "br_inclusions = [[], [], [], [], [], [], ['EEG', 'electroencephalography']]\n",
    "\n",
    "# Check that the search terms and exclusions line up\n",
    "assert len(br_terms) == len(br_inclusions)"
   ]
  },
  {
   "cell_type": "markdown",
   "metadata": {},
   "source": [
    "### Define Association Terms\n",
    "\n",
    "We will also define a set of association terms, so that we can explore what ratio measures are used for in the literature."
   ]
  },
  {
   "cell_type": "code",
   "execution_count": 6,
   "metadata": {},
   "outputs": [],
   "source": [
    "assoc_terms = [\n",
    "    ['ADHD', 'attention deficit hyperactivity disorder'],\n",
    "    ['executive function', 'attentional control', 'cognitive control'],\n",
    "    ['neurofeedback'],\n",
    "    ['sleep', 'polysomnography'], \n",
    "    ['stroke', 'ischemia', 'brain injury', 'coma'], \n",
    "    ['learning', 'memory', 'cognitive impairment', 'dementia']\n",
    "]"
   ]
  },
  {
   "cell_type": "code",
   "execution_count": 7,
   "metadata": {},
   "outputs": [],
   "source": [
    "# Add band-ratio terms to object\n",
    "counts.add_terms(br_terms)\n",
    "counts.add_terms(br_inclusions, term_type='inclusions')"
   ]
  },
  {
   "cell_type": "code",
   "execution_count": 8,
   "metadata": {},
   "outputs": [],
   "source": [
    "# Add association terms to object\n",
    "counts.add_terms(assoc_terms, dim='B')"
   ]
  },
  {
   "cell_type": "code",
   "execution_count": 9,
   "metadata": {},
   "outputs": [
    {
     "name": "stdout",
     "output_type": "stream",
     "text": [
      "List of terms used: \n",
      "\n",
      "delta theta ratio  : delta theta ratio, delta/theta ratio, theta delta ratio\n",
      "delta alpha ratio  : delta alpha ratio, delta/alpha, alpha delta ratio\n",
      "delta beta ratio   : delta beta ratio, beta delta ratio\n",
      "theta alpha ratio  : theta alpha ratio, theta/alpha ratio, alpha theta ratio\n",
      "theta beta ratio   : theta beta ratio, theta/beta ratio, beta theta ratio\n",
      "theta gamma ratio  : theta gamma ratio, theta/gamma ratio\n",
      "alpha beta ratio   : alpha beta ratio, beta alpha ratio, alpha/beta ratio\n"
     ]
    }
   ],
   "source": [
    "# Check terms\n",
    "counts.terms['A'].check_terms()"
   ]
  },
  {
   "cell_type": "code",
   "execution_count": 10,
   "metadata": {},
   "outputs": [
    {
     "name": "stdout",
     "output_type": "stream",
     "text": [
      "List of terms used: \n",
      "\n",
      "ADHD                : ADHD, attention deficit hyperactivity disorder\n",
      "executive function  : executive function, attentional control, cognitive control\n",
      "neurofeedback       : neurofeedback\n",
      "sleep               : sleep, polysomnography\n",
      "stroke              : stroke, ischemia, brain injury, coma\n",
      "learning            : learning, memory, cognitive impairment, dementia\n"
     ]
    }
   ],
   "source": [
    "# Check terms\n",
    "counts.terms['B'].check_terms()"
   ]
  },
  {
   "cell_type": "code",
   "execution_count": 11,
   "metadata": {},
   "outputs": [],
   "source": [
    "# Run the data collection\n",
    "counts.run_collection(db=db)"
   ]
  },
  {
   "cell_type": "code",
   "execution_count": 12,
   "metadata": {
    "scrolled": true
   },
   "outputs": [
    {
     "name": "stdout",
     "output_type": "stream",
     "text": [
      "The number of documents found for each search term is:\n",
      "  'delta theta ratio'   -    13\n",
      "  'delta alpha ratio'   -    73\n",
      "  'delta beta ratio'    -    15\n",
      "  'theta alpha ratio'   -    55\n",
      "  'theta beta ratio'    -   102\n",
      "  'theta gamma ratio'   -     8\n",
      "  'alpha beta ratio'    -    20\n"
     ]
    }
   ],
   "source": [
    "# Check how many papers were found for each ratio search term\n",
    "counts.check_counts()"
   ]
  },
  {
   "cell_type": "code",
   "execution_count": 13,
   "metadata": {},
   "outputs": [],
   "source": [
    "# Since different ratios have different numbers of results, we will normalize the association results\n",
    "counts.compute_score('normalize', dim='A')"
   ]
  },
  {
   "cell_type": "code",
   "execution_count": 17,
   "metadata": {},
   "outputs": [],
   "source": [
    "# Set adapted versions of the labels to use as plot labels\n",
    "ratio_labels = ['delta / theta', 'delta / alpha ', 'delta / beta ', 'theta / alpha',\n",
    "                'theta / beta', 'theta / gamma', 'alpha / beta']\n",
    "assoc_labels = ['ADHD', 'attention', 'neurofeedback', 'sleep', 'stroke', 'learning']"
   ]
  },
  {
   "cell_type": "code",
   "execution_count": 18,
   "metadata": {},
   "outputs": [
    {
     "data": {
      "image/png": "[encoded data removed]",
      "text/plain": [
       "<Figure size 720x576 with 2 Axes>"
      ]
     },
     "metadata": {
      "needs_background": "light"
     },
     "output_type": "display_data"
    }
   ],
   "source": [
    "# Plot the associations of band ratio measures in the literature\n",
    "fig, ax = plt.subplots(figsize=(10, 8))\n",
    "plot_matrix(counts.score, assoc_labels, ratio_labels, cmap='blue', square=True, ax=ax)\n",
    "plt.xticks(rotation=45, horizontalalignment='right');\n",
    "plt.savefig(\"../figures/OverviewFigs/LISC-Associations.pdf\")"
   ]
  },
  {
   "cell_type": "code",
   "execution_count": 19,
   "metadata": {},
   "outputs": [
    {
     "data": {
      "image/png": "[encoded data removed]",
      "text/plain": [
       "<Figure size 180x540 with 1 Axes>"
      ]
     },
     "metadata": {},
     "output_type": "display_data"
    }
   ],
   "source": [
    "# Plot the number of papers found per ratio measure\n",
    "\n",
    "dat = np.expand_dims(counts.terms['A'].counts, 1)\n",
    "\n",
    "fig, ax = plt.subplots(figsize=(2.5, 7.5))\n",
    "sns.heatmap(dat,\n",
    "            cmap=get_cmap('blue'),\n",
    "            xticklabels=[],\n",
    "            yticklabels=[],\n",
    "            annot=True, annot_kws={\"size\": 18}, cbar=False, fmt='d', square=True);\n",
    "plt.savefig(\"../figures/OverviewFigs/LISC-Ratios.pdf\")"
   ]
  }
 ],
 "metadata": {
  "kernelspec": {
   "display_name": "Python 3",
   "language": "python",
   "name": "python3"
  },
  "language_info": {
   "codemirror_mode": {
    "name": "ipython",
    "version": 3
   },
   "file_extension": ".py",
   "mimetype": "text/x-python",
   "name": "python",
   "nbconvert_exporter": "python",
   "pygments_lexer": "ipython3",
   "version": "3.7.3"
  }
 },
 "nbformat": 4,
 "nbformat_minor": 2
}
