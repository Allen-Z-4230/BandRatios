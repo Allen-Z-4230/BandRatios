{
 "cells": [
  {
   "cell_type": "markdown",
   "metadata": {},
   "source": [
    "# Data Audits\n",
    "\n",
    "This notebook is used to check and describe the data used in this project. "
   ]
  },
  {
   "cell_type": "code",
   "execution_count": 1,
   "metadata": {},
   "outputs": [],
   "source": [
    "import pandas as pd\n",
    "import matplotlib.pyplot as plt\n",
    "\n",
    "# Import custom project code\n",
    "import sys\n",
    "sys.path.append('../bratios')\n",
    "from paths import DATA_PATHS as dp"
   ]
  },
  {
   "cell_type": "markdown",
   "metadata": {},
   "source": [
    "### Load Data"
   ]
  },
  {
   "cell_type": "code",
   "execution_count": 2,
   "metadata": {},
   "outputs": [],
   "source": [
    "# Read datafile with dataset information\n",
    "data_info = pd.read_csv(dp.make_file_path(dp.eeg_meta, 'MIPDB_PublicFile', 'csv'))\n",
    "\n",
    "# Load the dataframe of processed data\n",
    "df = pd.read_csv(dp.make_file_path(dp.eeg_outputs, 'spectral_measures_dataframe', 'csv'))"
   ]
  },
  {
   "cell_type": "markdown",
   "metadata": {},
   "source": [
    "### Check Data Descriptions"
   ]
  },
  {
   "cell_type": "code",
   "execution_count": 3,
   "metadata": {},
   "outputs": [
    {
     "name": "stdout",
     "output_type": "stream",
     "text": [
      "Total number of subjects: \t 126\n"
     ]
    }
   ],
   "source": [
    "# Check how many subjects are in the total dataset \n",
    "n_total = len(data_info['ID'].values)\n",
    "print('Total number of subjects: \\t', n_total)"
   ]
  },
  {
   "cell_type": "code",
   "execution_count": 4,
   "metadata": {},
   "outputs": [
    {
     "data": {
      "text/html": [
       "<div>\n",
       "<style scoped>\n",
       "    .dataframe tbody tr th:only-of-type {\n",
       "        vertical-align: middle;\n",
       "    }\n",
       "\n",
       "    .dataframe tbody tr th {\n",
       "        vertical-align: top;\n",
       "    }\n",
       "\n",
       "    .dataframe thead th {\n",
       "        text-align: right;\n",
       "    }\n",
       "</style>\n",
       "<table border=\"1\" class=\"dataframe\">\n",
       "  <thead>\n",
       "    <tr style=\"text-align: right;\">\n",
       "      <th></th>\n",
       "      <th>Age</th>\n",
       "    </tr>\n",
       "  </thead>\n",
       "  <tbody>\n",
       "    <tr>\n",
       "      <th>count</th>\n",
       "      <td>126.000000</td>\n",
       "    </tr>\n",
       "    <tr>\n",
       "      <th>mean</th>\n",
       "      <td>15.777778</td>\n",
       "    </tr>\n",
       "    <tr>\n",
       "      <th>std</th>\n",
       "      <td>8.030829</td>\n",
       "    </tr>\n",
       "    <tr>\n",
       "      <th>min</th>\n",
       "      <td>6.000000</td>\n",
       "    </tr>\n",
       "    <tr>\n",
       "      <th>25%</th>\n",
       "      <td>10.000000</td>\n",
       "    </tr>\n",
       "    <tr>\n",
       "      <th>50%</th>\n",
       "      <td>13.000000</td>\n",
       "    </tr>\n",
       "    <tr>\n",
       "      <th>75%</th>\n",
       "      <td>18.000000</td>\n",
       "    </tr>\n",
       "    <tr>\n",
       "      <th>max</th>\n",
       "      <td>44.000000</td>\n",
       "    </tr>\n",
       "  </tbody>\n",
       "</table>\n",
       "</div>"
      ],
      "text/plain": [
       "              Age\n",
       "count  126.000000\n",
       "mean    15.777778\n",
       "std      8.030829\n",
       "min      6.000000\n",
       "25%     10.000000\n",
       "50%     13.000000\n",
       "75%     18.000000\n",
       "max     44.000000"
      ]
     },
     "execution_count": 4,
     "metadata": {},
     "output_type": "execute_result"
    }
   ],
   "source": [
    "# Check descriptive information for participants ages\n",
    "data_info[['Age']].describe()"
   ]
  },
  {
   "cell_type": "code",
   "execution_count": 5,
   "metadata": {},
   "outputs": [
    {
     "data": {
      "text/plain": [
       "1    69\n",
       "2    57\n",
       "Name: Sex, dtype: int64"
      ]
     },
     "execution_count": 5,
     "metadata": {},
     "output_type": "execute_result"
    }
   ],
   "source": [
    "# Check descriptive information for participants reported sex\n",
    "#   Note that is male is coded as 1 and female is coded as 2\n",
    "data_info['Sex'].value_counts()"
   ]
  },
  {
   "cell_type": "markdown",
   "metadata": {},
   "source": [
    "### Check Subjects"
   ]
  },
  {
   "cell_type": "code",
   "execution_count": 6,
   "metadata": {},
   "outputs": [
    {
     "name": "stdout",
     "output_type": "stream",
     "text": [
      "Number of included subjects: \t 111\n"
     ]
    }
   ],
   "source": [
    "# Check how many subjects we have included\n",
    "n_included = len(set(df['Subj_ID'].values))\n",
    "print('Number of included subjects: \\t', n_included)"
   ]
  },
  {
   "cell_type": "code",
   "execution_count": 7,
   "metadata": {},
   "outputs": [
    {
     "name": "stdout",
     "output_type": "stream",
     "text": [
      "Number of dropped subjects: \t 15\n"
     ]
    }
   ],
   "source": [
    "# Check how many subjects not included in our analysis\n",
    "n_dropped = n_total - n_included\n",
    "print('Number of dropped subjects: \\t', n_dropped)"
   ]
  },
  {
   "cell_type": "code",
   "execution_count": 8,
   "metadata": {},
   "outputs": [
    {
     "name": "stdout",
     "output_type": "stream",
     "text": [
      "Number of subjects without resting state data: \t 9\n"
     ]
    }
   ],
   "source": [
    "# Check how many subject do not have resting state data available\n",
    "n_missing_data = sum(data_info.EEG_resting == 0)\n",
    "print('Number of subjects without resting state data: \\t', n_missing_data)"
   ]
  },
  {
   "cell_type": "code",
   "execution_count": 9,
   "metadata": {},
   "outputs": [
    {
     "name": "stdout",
     "output_type": "stream",
     "text": [
      "{'A00054122', 'A00055923', 'A00056158', 'A00056733', 'A00057135', 'A00056640', 'A00052593', 'A00055801', 'A00056990'}\n"
     ]
    }
   ],
   "source": [
    "# Check the IDs of the subjects missing EEG data\n",
    "missing_data_ids = set(data_info.ID[data_info.EEG_resting == 0].values)\n",
    "print(missing_data_ids)"
   ]
  },
  {
   "cell_type": "code",
   "execution_count": 10,
   "metadata": {},
   "outputs": [],
   "source": [
    "# Get the list of IDs of subjects we didn't use\n",
    "dropped_ids = set(data_info.ID.values) - set(df.Subj_ID.values)"
   ]
  },
  {
   "cell_type": "code",
   "execution_count": 11,
   "metadata": {
    "scrolled": true
   },
   "outputs": [],
   "source": [
    "# Remove IDs that are listed as having no data\n",
    "not_used_ids = dropped_ids - missing_data_ids"
   ]
  },
  {
   "cell_type": "code",
   "execution_count": 12,
   "metadata": {},
   "outputs": [
    {
     "name": "stdout",
     "output_type": "stream",
     "text": [
      "{'A00054488', 'A00056716', 'A00062219', 'A00054866', 'A00055623', 'A00055628'}\n"
     ]
    }
   ],
   "source": [
    "# Check the remaining subjects not included\n",
    "print(not_used_ids)"
   ]
  },
  {
   "cell_type": "markdown",
   "metadata": {},
   "source": [
    "### Dropped Subjects\n",
    "\n",
    "Reasons subjects were not included:\n",
    "- Missing resting state (001) files: 'A00055628'\n",
    "    - This subject had no files marked as resting state, despite what was indicated in the README    \n",
    "- Insufficient events: 'A00062219', 'A00055623', 'A00056716', 'A00054866', 'A00054488'\n",
    "    - These subjects did not have enough resting state events in the events file\n",
    "    - Threshold was >1 resting segment of both EO and EC\n",
    "\n",
    "Note: 1 subject ('A00056733') who was indicated as not having resting state data, did still have files marked as resting (001). However, the event structure was wrong (seems to be a mis-labeled file). This subject was not used. "
   ]
  },
  {
   "cell_type": "markdown",
   "metadata": {},
   "source": [
    "## Check FOOOF Model Fits"
   ]
  },
  {
   "cell_type": "code",
   "execution_count": 13,
   "metadata": {},
   "outputs": [],
   "source": [
    "# Collect a dataframe of the FOOOF model fit metrics\n",
    "fit_metrics = df[['fit_error', 'fit_r2', 'fit_n_peaks']]"
   ]
  },
  {
   "cell_type": "code",
   "execution_count": 14,
   "metadata": {},
   "outputs": [
    {
     "data": {
      "text/html": [
       "<div>\n",
       "<style scoped>\n",
       "    .dataframe tbody tr th:only-of-type {\n",
       "        vertical-align: middle;\n",
       "    }\n",
       "\n",
       "    .dataframe tbody tr th {\n",
       "        vertical-align: top;\n",
       "    }\n",
       "\n",
       "    .dataframe thead th {\n",
       "        text-align: right;\n",
       "    }\n",
       "</style>\n",
       "<table border=\"1\" class=\"dataframe\">\n",
       "  <thead>\n",
       "    <tr style=\"text-align: right;\">\n",
       "      <th></th>\n",
       "      <th>fit_error</th>\n",
       "      <th>fit_r2</th>\n",
       "      <th>fit_n_peaks</th>\n",
       "    </tr>\n",
       "  </thead>\n",
       "  <tbody>\n",
       "    <tr>\n",
       "      <th>count</th>\n",
       "      <td>12321.000000</td>\n",
       "      <td>12321.000000</td>\n",
       "      <td>12321.000000</td>\n",
       "    </tr>\n",
       "    <tr>\n",
       "      <th>mean</th>\n",
       "      <td>0.072135</td>\n",
       "      <td>0.973239</td>\n",
       "      <td>5.650678</td>\n",
       "    </tr>\n",
       "    <tr>\n",
       "      <th>std</th>\n",
       "      <td>0.014074</td>\n",
       "      <td>0.029509</td>\n",
       "      <td>1.688014</td>\n",
       "    </tr>\n",
       "    <tr>\n",
       "      <th>min</th>\n",
       "      <td>0.039322</td>\n",
       "      <td>0.438997</td>\n",
       "      <td>1.000000</td>\n",
       "    </tr>\n",
       "    <tr>\n",
       "      <th>25%</th>\n",
       "      <td>0.062379</td>\n",
       "      <td>0.971836</td>\n",
       "      <td>4.000000</td>\n",
       "    </tr>\n",
       "    <tr>\n",
       "      <th>50%</th>\n",
       "      <td>0.070136</td>\n",
       "      <td>0.980374</td>\n",
       "      <td>6.000000</td>\n",
       "    </tr>\n",
       "    <tr>\n",
       "      <th>75%</th>\n",
       "      <td>0.079510</td>\n",
       "      <td>0.985271</td>\n",
       "      <td>7.000000</td>\n",
       "    </tr>\n",
       "    <tr>\n",
       "      <th>max</th>\n",
       "      <td>0.176990</td>\n",
       "      <td>0.995547</td>\n",
       "      <td>8.000000</td>\n",
       "    </tr>\n",
       "  </tbody>\n",
       "</table>\n",
       "</div>"
      ],
      "text/plain": [
       "          fit_error        fit_r2   fit_n_peaks\n",
       "count  12321.000000  12321.000000  12321.000000\n",
       "mean       0.072135      0.973239      5.650678\n",
       "std        0.014074      0.029509      1.688014\n",
       "min        0.039322      0.438997      1.000000\n",
       "25%        0.062379      0.971836      4.000000\n",
       "50%        0.070136      0.980374      6.000000\n",
       "75%        0.079510      0.985271      7.000000\n",
       "max        0.176990      0.995547      8.000000"
      ]
     },
     "execution_count": 14,
     "metadata": {},
     "output_type": "execute_result"
    }
   ],
   "source": [
    "# Check descriptive statistics of the FOOOF model fits\n",
    "fit_metrics.describe()"
   ]
  },
  {
   "cell_type": "code",
   "execution_count": 15,
   "metadata": {},
   "outputs": [
    {
     "data": {
      "image/png": "[encoded data removed]",
      "text/plain": [
       "<Figure size 1080x288 with 3 Axes>"
      ]
     },
     "metadata": {
      "needs_background": "light"
     },
     "output_type": "display_data"
    }
   ],
   "source": [
    "# Plot the distributions of the model fit metrics\n",
    "fig, axes = plt.subplots(1, 3, figsize=(15, 4))\n",
    "axes[0].hist(df.fit_error.values, bins=50);\n",
    "axes[0].set_title('Fit Error', {'fontsize' : 20});\n",
    "axes[1].hist(df.fit_r2.values, bins=50);\n",
    "axes[1].set_title('Fit R-squared', {'fontsize' : 20});\n",
    "axes[2].hist(df.fit_n_peaks.values, bins=8);\n",
    "axes[2].set_title('Number of Fit Peaks', {'fontsize' : 20});"
   ]
  }
 ],
 "metadata": {
  "kernelspec": {
   "display_name": "Python 3",
   "language": "python",
   "name": "python3"
  },
  "language_info": {
   "codemirror_mode": {
    "name": "ipython",
    "version": 3
   },
   "file_extension": ".py",
   "mimetype": "text/x-python",
   "name": "python",
   "nbconvert_exporter": "python",
   "pygments_lexer": "ipython3",
   "version": "3.7.3"
  }
 },
 "nbformat": 4,
 "nbformat_minor": 2
}
