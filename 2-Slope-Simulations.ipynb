{
 "cells": [
  {
   "cell_type": "markdown",
   "metadata": {},
   "source": [
    "## Simulation Generation"
   ]
  },
  {
   "cell_type": "markdown",
   "metadata": {},
   "source": [
    "This notebook will run simlations of PSDs with varying slopes and oscillation parameters and save the output into files in ./dat/ "
   ]
  },
  {
   "cell_type": "code",
   "execution_count": 2,
   "metadata": {},
   "outputs": [],
   "source": [
    "# Set matplotlib for plotting in the notebook\n",
    "%matplotlib inline\n",
    "import matplotlib.pyplot as plt\n",
    "import numpy as np\n",
    "\n",
    "from fooof import FOOOF\n",
    "from fooof import FOOOFGroup\n",
    "from fooof.analysis import *\n",
    "from fooof.utils import trim_spectrum\n",
    "from fooof.synth import gen_group_power_spectra, param_sampler, gen_power_spectrum\n",
    "\n",
    "from utils.ratios import *"
   ]
  },
  {
   "cell_type": "code",
   "execution_count": 3,
   "metadata": {},
   "outputs": [],
   "source": [
    "theta_band = [4,8]\n",
    "beta_band = [15,30]\n",
    "n_trials = 100\n",
    "freq_range = [1,50]"
   ]
  },
  {
   "cell_type": "markdown",
   "metadata": {},
   "source": [
    "### Varying Slope Generation  \n",
    "\n",
    "The following cell will generate ratios from PSDs with slopes 0 to 5 in increments of .25"
   ]
  },
  {
   "cell_type": "markdown",
   "metadata": {},
   "source": [
    "***ASSUMPTIONS:***\n",
    "\n",
    "Offset = 0 <br>\n",
    "Theta CF = 6 <br>\n",
    "Beta CF = 20 <br>\n",
    "Amp = .5 <br>\n",
    "BW = 1"
   ]
  },
  {
   "cell_type": "code",
   "execution_count": 3,
   "metadata": {},
   "outputs": [],
   "source": [
    "# Gathers ratio data from slope 0 to 5\n",
    "# Offset is assumed 0\n",
    "res = []\n",
    "i = 1\n",
    "#iterates through various slopes\n",
    "while(i*.25 < 5):\n",
    "    bg = [0,i*.25]\n",
    "        \n",
    "    #100 trails for each treatment and control sim\n",
    "    freq, power, _ = gen_group_power_spectra(n_trials, freq_range, bg,gen_sample_slope(), nlvs=np.random.uniform(.005,.02)) \n",
    "    fg = FOOOFGroup(peak_width_limits=[1,8], min_peak_amplitude=0.05, max_n_peaks=3)\n",
    "    fg.fit(freq, power)\n",
    "    res.append(get_group_ratios(fg, theta_band, beta_band))\n",
    "    i+=1\n",
    "np.save('./dat/slope_data',res)"
   ]
  },
  {
   "cell_type": "markdown",
   "metadata": {},
   "source": [
    "We should now have the data from the simulation saved into ./dat directory. The data is in the form of [slope][ratio_method][trial] later during analysis we will take the average of all the trials and end up with [slope][ratio_method]"
   ]
  },
  {
   "cell_type": "markdown",
   "metadata": {},
   "source": [
    "### Varying Center Frequency\n",
    "This function will shift the CF of a band of interest throughout the whole band in increments of .1 while keeping the other band centered at the middle of its respective band.\n",
    "\n",
    "ASSUMPTIONS:\n",
    "\n",
    "slope = 1 <br>\n",
    "offset = 0 <br>\n",
    "Amp = .5 <br>\n",
    "BW = 1"
   ]
  },
  {
   "cell_type": "code",
   "execution_count": null,
   "metadata": {},
   "outputs": [],
   "source": [
    "def gen_varying_CF(freqs, psd, low_band, high_band, stationary):\n",
    "    \n",
    "    if(stationary = 'low'):\n",
    "        stat = low_band\n",
    "    else: \n",
    "        stat = high_band\n",
    "    res = []\n",
    "    "
   ]
  }
 ],
 "metadata": {
  "kernelspec": {
   "display_name": "Python 3",
   "language": "python",
   "name": "python3"
  },
  "language_info": {
   "codemirror_mode": {
    "name": "ipython",
    "version": 3
   },
   "file_extension": ".py",
   "mimetype": "text/x-python",
   "name": "python",
   "nbconvert_exporter": "python",
   "pygments_lexer": "ipython3",
   "version": "3.6.5"
  }
 },
 "nbformat": 4,
 "nbformat_minor": 2
}
