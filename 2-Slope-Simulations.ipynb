{
 "cells": [
  {
   "cell_type": "markdown",
   "metadata": {},
   "source": [
    "## Simulation Generation"
   ]
  },
  {
   "cell_type": "markdown",
   "metadata": {},
   "source": [
    "This notebook will run simlations of PSDs with varying slopes and oscillation parameters and save the output into files in ./dat/ "
   ]
  },
  {
   "cell_type": "code",
   "execution_count": 1,
   "metadata": {},
   "outputs": [],
   "source": [
    "# Set matplotlib for plotting in the notebook\n",
    "%matplotlib inline\n",
    "import matplotlib.pyplot as plt\n",
    "import numpy as np\n",
    "\n",
    "from fooof import FOOOF, FOOOFGroup\n",
    "from fooof.analysis import *\n",
    "from fooof.utils import trim_spectrum\n",
    "from fooof.synth import gen_group_power_spectra, param_sampler, gen_power_spectrum\n",
    "\n",
    "from utils.ratios import *\n",
    "from utils.sims import *"
   ]
  },
  {
   "cell_type": "code",
   "execution_count": 2,
   "metadata": {},
   "outputs": [],
   "source": [
    "theta_band = [4,8]\n",
    "beta_band = [15,30]\n",
    "n_trials = 100\n",
    "freq_range = [1,50]"
   ]
  },
  {
   "cell_type": "markdown",
   "metadata": {},
   "source": [
    "### Varying Slope Generation  \n",
    "\n",
    "The following cell will generate ratios from PSDs with slopes 0 to 5 in increments of .25"
   ]
  },
  {
   "cell_type": "markdown",
   "metadata": {},
   "source": [
    "***ASSUMPTIONS:***\n",
    "\n",
    "Offset = 0 <br>\n",
    "Theta CF = 6 <br>\n",
    "Beta CF = 20 <br>\n",
    "Amp = .5 <br>\n",
    "BW = 1"
   ]
  },
  {
   "cell_type": "code",
   "execution_count": 3,
   "metadata": {},
   "outputs": [],
   "source": [
    "# Gathers ratio data from slope 0 to 5\n",
    "# Offset is assumed 0\n",
    "res = []\n",
    "i = 1\n",
    "#iterates through various slopes\n",
    "while(i*.25 < 5):\n",
    "    bg = [0,i*.25]\n",
    "        \n",
    "    #100 trails for each treatment and control sim\n",
    "    freq, power, _ = gen_group_power_spectra(n_trials, freq_range, bg,gen_sample_slope(), nlvs=np.random.uniform(.005,.02)) \n",
    "    fg = FOOOFGroup(peak_width_limits=[1,8], min_peak_amplitude=0.05, max_n_peaks=3)\n",
    "    fg.fit(freq, power)\n",
    "    res.append(get_group_ratios(fg, theta_band, beta_band))\n",
    "    i+=1\n",
    "np.save('./dat/slope_data',res)"
   ]
  },
  {
   "cell_type": "markdown",
   "metadata": {},
   "source": [
    "We should now have the data from the simulation saved into ./dat directory. The data is in the form of [slope][ratio_method][trial] later during analysis we will take the average of all the trials and end up with [slope][ratio_method]"
   ]
  },
  {
   "cell_type": "markdown",
   "metadata": {},
   "source": [
    "### Varying Center Frequency\n",
    "This function will shift the CF of a band of interest throughout the whole band in increments of .1 while keeping the other band stationed at the middle of its respective band.\n",
    "\n",
    "***ASSUMPTIONS:***\n",
    "\n",
    "slope = 1 <br>\n",
    "offset = 0 <br>\n",
    "Amp = .5 <br>\n",
    "BW = 1"
   ]
  },
  {
   "cell_type": "code",
   "execution_count": 3,
   "metadata": {},
   "outputs": [],
   "source": [
    "gen_varying_cf(theta_band, beta_band, 'low', \"cf29th test\")"
   ]
  },
  {
   "cell_type": "code",
   "execution_count": 4,
   "metadata": {},
   "outputs": [
    {
     "data": {
      "text/plain": [
       "array([[[0.38154602, 0.38393743, 0.38506661, ..., 0.38689506,\n",
       "         0.37982821, 0.38039106],\n",
       "        [       nan,        nan, 1.02091599, ..., 0.94186067,\n",
       "                nan,        nan],\n",
       "        [0.11077143, 0.1114657 , 0.11179353, ..., 0.11232437,\n",
       "         0.11027271, 0.11043611]],\n",
       "\n",
       "       [[0.38194044, 0.38647832, 0.38526649, ..., 0.38286835,\n",
       "         0.38081997, 0.38091532],\n",
       "        [0.98382853, 0.98061426, 0.98422836, ..., 0.98872431,\n",
       "         0.99342503, 0.99525728],\n",
       "        [0.11088593, 0.11220338, 0.11185156, ..., 0.11115533,\n",
       "         0.11056064, 0.11058832]],\n",
       "\n",
       "       [[0.38886198, 0.38535157, 0.38336669, ..., 0.38524501,\n",
       "         0.39078169, 0.38509788],\n",
       "        [1.00249286, 0.98435804, 0.99731446, ..., 0.99731742,\n",
       "         1.04235506, 0.97045693],\n",
       "        [0.11289541, 0.11187626, 0.11130001, ..., 0.11184533,\n",
       "         0.11345275, 0.11180261]],\n",
       "\n",
       "       ...,\n",
       "\n",
       "       [[0.38898583, 0.3846136 , 0.38330743, ..., 0.38749721,\n",
       "         0.38473013, 0.38668828],\n",
       "        [1.0072599 , 1.01413669, 1.03922476, ..., 1.00304242,\n",
       "         0.99888066, 1.0029768 ],\n",
       "        [0.11293137, 0.11166201, 0.1112828 , ..., 0.11249919,\n",
       "         0.11169584, 0.11226434]],\n",
       "\n",
       "       [[0.38368061, 0.38402608, 0.3808565 , ..., 0.38404122,\n",
       "         0.38715812, 0.3899114 ],\n",
       "        [0.98960999, 1.11554372, 1.055446  , ..., 1.0388685 ,\n",
       "         0.99528082, 0.9918829 ],\n",
       "        [0.11139114, 0.11149144, 0.11057124, ..., 0.11149584,\n",
       "         0.11240075, 0.11320009]],\n",
       "\n",
       "       [[0.38342631, 0.38133345, 0.38626089, ..., 0.3877317 ,\n",
       "         0.38829484, 0.38482165],\n",
       "        [0.9745396 , 0.98562793, 0.98535895, ..., 1.00387695,\n",
       "         1.01074071, 0.93404379],\n",
       "        [0.11131732, 0.11070971, 0.11214026, ..., 0.11256727,\n",
       "         0.11273076, 0.11172241]]])"
      ]
     },
     "execution_count": 4,
     "metadata": {},
     "output_type": "execute_result"
    }
   ],
   "source": [
    "data = np.load(\"dat/cf29th test.npy\")\n",
    "data"
   ]
  },
  {
   "cell_type": "markdown",
   "metadata": {},
   "source": [
    "### Varying Amplitude\n",
    "\n",
    "This function will run band ratios across PSDs with varying amplitudes, from 0 to 1.5\n",
    "\n",
    "***ASSUMPTIONS:***\n",
    "\n",
    "slope = 1<br>\n",
    "offset = 0 <br>\n",
    "CF = center of bands <br>\n",
    "Amp = varies | Stationary -> .5\n",
    "BW = 1"
   ]
  },
  {
   "cell_type": "code",
   "execution_count": 3,
   "metadata": {},
   "outputs": [],
   "source": [
    "gen_varying_amp(theta_band, beta_band, 'low', \"amp29th test\")"
   ]
  },
  {
   "cell_type": "code",
   "execution_count": 4,
   "metadata": {},
   "outputs": [
    {
     "data": {
      "text/plain": [
       "array([[[0.37523995, 0.37432811, 0.37252132, ..., 0.37187072,\n",
       "         0.37432554, 0.37518011],\n",
       "        [4.21042846, 4.75616011, 4.88570116, ..., 5.23894002,\n",
       "         5.49454172, 4.61519107],\n",
       "        [0.10894063, 0.1086759 , 0.10815135, ..., 0.10796247,\n",
       "         0.10867516, 0.10892326]],\n",
       "\n",
       "       [[0.37854894, 0.38452593, 0.37763414, ..., 0.37559887,\n",
       "         0.37871104, 0.38335322],\n",
       "        [2.34678435, 2.41979984, 2.40565139, ..., 2.51487611,\n",
       "         2.58889355, 2.65002895],\n",
       "        [0.10990131, 0.11163656, 0.10963572, ..., 0.10904483,\n",
       "         0.10994837, 0.1112961 ]],\n",
       "\n",
       "       [[0.38045301, 0.38263484, 0.38159842, ..., 0.38090369,\n",
       "         0.38291526, 0.38374001],\n",
       "        [1.70199968, 1.71217569, 1.58975009, ..., 1.65702427,\n",
       "         1.71082457, 1.6963658 ],\n",
       "        [0.1104541 , 0.11108754, 0.11078664, ..., 0.11058494,\n",
       "         0.11116895, 0.11140839]],\n",
       "\n",
       "       ...,\n",
       "\n",
       "       [[0.43451756, 0.43518519, 0.42891755, ..., 0.4327433 ,\n",
       "         0.42930895, 0.42589228],\n",
       "        [0.39537222, 0.41480559, 0.41892809, ..., 0.41012474,\n",
       "         0.40929112, 0.41174978],\n",
       "        [0.12615026, 0.12634409, 0.12452445, ..., 0.12563515,\n",
       "         0.12463808, 0.12364615]],\n",
       "\n",
       "       [[0.43843354, 0.43575724, 0.43744008, ..., 0.43872897,\n",
       "         0.43540436, 0.43257692],\n",
       "        [0.37875068, 0.3718151 , 0.37831198, ..., 0.37191234,\n",
       "         0.38613199, 0.38211487],\n",
       "        [0.12728716, 0.12651017, 0.12699873, ..., 0.12737293,\n",
       "         0.12640772, 0.12558685]],\n",
       "\n",
       "       [[0.44370331, 0.44622388, 0.44549084, ..., 0.44307977,\n",
       "         0.44401715, 0.44309334],\n",
       "        [0.34490699, 0.34769405, 0.35275812, ..., 0.35216977,\n",
       "         0.35782755, 0.34979362],\n",
       "        [0.12881709, 0.12954887, 0.12933605, ..., 0.12863606,\n",
       "         0.1289082 , 0.12864   ]]])"
      ]
     },
     "execution_count": 4,
     "metadata": {},
     "output_type": "execute_result"
    }
   ],
   "source": [
    "data = np.load(\"dat/amp29th test.npy\")\n",
    "data"
   ]
  },
  {
   "cell_type": "markdown",
   "metadata": {},
   "source": [
    "### Varying BandWidth\n",
    "\n",
    "This function will run band ratios across PSDs with varying Band Widths, from .2 to 1.2\n",
    "\n",
    "***ASSUMPTIONS:***\n",
    "\n",
    "slope = 1<br>\n",
    "offset = 0 <br>\n",
    "CF = center of bands <br>\n",
    "Amp = .5\n",
    "BW = varies | stationary band -> 1"
   ]
  },
  {
   "cell_type": "code",
   "execution_count": 6,
   "metadata": {},
   "outputs": [],
   "source": [
    "gen_varying_amp(theta_band, beta_band, 'low', \"bw29th test\")"
   ]
  },
  {
   "cell_type": "code",
   "execution_count": 7,
   "metadata": {},
   "outputs": [
    {
     "data": {
      "text/plain": [
       "array([[[0.37523995, 0.37432811, 0.37252132, ..., 0.37187072,\n",
       "         0.37432554, 0.37518011],\n",
       "        [4.21042846, 4.75616011, 4.88570116, ..., 5.23894002,\n",
       "         5.49454172, 4.61519107],\n",
       "        [0.10894063, 0.1086759 , 0.10815135, ..., 0.10796247,\n",
       "         0.10867516, 0.10892326]],\n",
       "\n",
       "       [[0.37854894, 0.38452593, 0.37763414, ..., 0.37559887,\n",
       "         0.37871104, 0.38335322],\n",
       "        [2.34678435, 2.41979984, 2.40565139, ..., 2.51487611,\n",
       "         2.58889355, 2.65002895],\n",
       "        [0.10990131, 0.11163656, 0.10963572, ..., 0.10904483,\n",
       "         0.10994837, 0.1112961 ]],\n",
       "\n",
       "       [[0.38045301, 0.38263484, 0.38159842, ..., 0.38090369,\n",
       "         0.38291526, 0.38374001],\n",
       "        [1.70199968, 1.71217569, 1.58975009, ..., 1.65702427,\n",
       "         1.71082457, 1.6963658 ],\n",
       "        [0.1104541 , 0.11108754, 0.11078664, ..., 0.11058494,\n",
       "         0.11116895, 0.11140839]],\n",
       "\n",
       "       ...,\n",
       "\n",
       "       [[0.43451756, 0.43518519, 0.42891755, ..., 0.4327433 ,\n",
       "         0.42930895, 0.42589228],\n",
       "        [0.39537222, 0.41480559, 0.41892809, ..., 0.41012474,\n",
       "         0.40929112, 0.41174978],\n",
       "        [0.12615026, 0.12634409, 0.12452445, ..., 0.12563515,\n",
       "         0.12463808, 0.12364615]],\n",
       "\n",
       "       [[0.43843354, 0.43575724, 0.43744008, ..., 0.43872897,\n",
       "         0.43540436, 0.43257692],\n",
       "        [0.37875068, 0.3718151 , 0.37831198, ..., 0.37191234,\n",
       "         0.38613199, 0.38211487],\n",
       "        [0.12728716, 0.12651017, 0.12699873, ..., 0.12737293,\n",
       "         0.12640772, 0.12558685]],\n",
       "\n",
       "       [[0.44370331, 0.44622388, 0.44549084, ..., 0.44307977,\n",
       "         0.44401715, 0.44309334],\n",
       "        [0.34490699, 0.34769405, 0.35275812, ..., 0.35216977,\n",
       "         0.35782755, 0.34979362],\n",
       "        [0.12881709, 0.12954887, 0.12933605, ..., 0.12863606,\n",
       "         0.1289082 , 0.12864   ]]])"
      ]
     },
     "execution_count": 7,
     "metadata": {},
     "output_type": "execute_result"
    }
   ],
   "source": [
    "data = np.load(\"dat/amp29th test.npy\")\n",
    "data"
   ]
  },
  {
   "cell_type": "code",
   "execution_count": null,
   "metadata": {},
   "outputs": [],
   "source": []
  }
 ],
 "metadata": {
  "kernelspec": {
   "display_name": "Python 3",
   "language": "python",
   "name": "python3"
  },
  "language_info": {
   "codemirror_mode": {
    "name": "ipython",
    "version": 3
   },
   "file_extension": ".py",
   "mimetype": "text/x-python",
   "name": "python",
   "nbconvert_exporter": "python",
   "pygments_lexer": "ipython3",
   "version": "3.6.5"
  }
 },
 "nbformat": 4,
 "nbformat_minor": 2
}
