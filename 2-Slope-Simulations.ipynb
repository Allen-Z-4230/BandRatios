{
 "cells": [
  {
   "cell_type": "markdown",
   "metadata": {},
   "source": [
    "## Purpose"
   ]
  },
  {
   "cell_type": "markdown",
   "metadata": {},
   "source": [
    "This notebook will run simlations of PSDs with varying slopes and save the output into a file in ./dat/ "
   ]
  },
  {
   "cell_type": "code",
   "execution_count": 1,
   "metadata": {},
   "outputs": [],
   "source": [
    "# Set matplotlib for plotting in the notebook\n",
    "%matplotlib inline\n",
    "import matplotlib.pyplot as plt\n",
    "import numpy as np\n",
    "\n",
    "from fooof import FOOOF\n",
    "from fooof import FOOOFGroup\n",
    "from fooof.analysis import *\n",
    "from fooof.utils import trim_spectrum\n",
    "from fooof.synth import gen_group_power_spectra, param_sampler, gen_power_spectrum\n",
    "\n",
    "from utils.ratios import *"
   ]
  },
  {
   "cell_type": "markdown",
   "metadata": {},
   "source": [
    "The following cell will generate ratios from PSDs with slopes 0 to 5 in increments of .25. We will use numpy save and numpy load to save the results into a .nyp file."
   ]
  },
  {
   "cell_type": "code",
   "execution_count": 3,
   "metadata": {},
   "outputs": [],
   "source": [
    "# Gathers ratio data from slope 0 to 5\n",
    "# Offset is assumed 0\n",
    "res = []\n",
    "i = 1\n",
    "while(i*.25 < 5):\n",
    "    bg = [0,i*.25]\n",
    "        \n",
    "    #100 trails for each treatment and control sim\n",
    "    freq, power, _ = gen_group_power_spectra(100, [1,50], bg,gen_sample(), nlvs=np.random.uniform(.005,.02)) \n",
    "    fg = FOOOFGroup(peak_width_limits=[1,8], min_peak_amplitude=0.05, max_n_peaks=3)\n",
    "    fg.fit(freq, power)\n",
    "    res.append(get_group_ratios(fg,[4,8],[15,30]))\n",
    "    i+=1\n",
    "np.save('./dat/slope_data',res)\n",
    "    "
   ]
  },
  {
   "cell_type": "markdown",
   "metadata": {},
   "source": [
    "We should now have the data from the simulation saved into ./dat directory. The next cell opens that newly created data."
   ]
  },
  {
   "cell_type": "code",
   "execution_count": 5,
   "metadata": {},
   "outputs": [
    {
     "name": "stdout",
     "output_type": "stream",
     "text": [
      "19\n",
      "3\n",
      "100\n"
     ]
    }
   ],
   "source": [
    "data = np.load('./dat/slope_data.npy')\n",
    "print(len(data))\n",
    "print(len(data[0]))\n",
    "print(len(data[0][0]))"
   ]
  },
  {
   "cell_type": "markdown",
   "metadata": {},
   "source": [
    "np.save() should have saved our 3d-array into './dat/slope_data.npy'\n",
    "\n",
    "The outter most level will be the simulations we ran, 5 in this case. One level deeper is different ratio calculations - we have 3. Lastly, the lowest level in the 3D array are the individual trials which we set to 100."
   ]
  },
  {
   "cell_type": "code",
   "execution_count": null,
   "metadata": {},
   "outputs": [],
   "source": []
  }
 ],
 "metadata": {
  "kernelspec": {
   "display_name": "Python 3",
   "language": "python",
   "name": "python3"
  },
  "language_info": {
   "codemirror_mode": {
    "name": "ipython",
    "version": 3
   },
   "file_extension": ".py",
   "mimetype": "text/x-python",
   "name": "python",
   "nbconvert_exporter": "python",
   "pygments_lexer": "ipython3",
   "version": "3.6.5"
  }
 },
 "nbformat": 4,
 "nbformat_minor": 2
}
